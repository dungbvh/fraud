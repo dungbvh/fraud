{
  "nbformat": 4,
  "nbformat_minor": 0,
  "metadata": {
    "interpreter": {
      "hash": "2cb9608e90e54293ad7322d5681b08aa98ebcef52a3e9e9a44ee3c1d0ea13b9d"
    },
    "kernelspec": {
      "display_name": "Python 3.6.10 64-bit ('basicenv': conda)",
      "name": "python3"
    },
    "language_info": {
      "name": "python",
      "version": ""
    },
    "colab": {
      "name": "RandomForestModelData06Resample.ipynb",
      "provenance": [],
      "collapsed_sections": [
        "M8C1f9PAxtjU",
        "4xUo50jb0f7Q",
        "gMMXhBAwhLVJ",
        "zoSgzlUf7V7n",
        "V1JbpGP67f4K"
      ]
    }
  },
  "cells": [
    {
      "cell_type": "markdown",
      "metadata": {
        "id": "M8C1f9PAxtjU"
      },
      "source": [
        "# 1. Install & import lib"
      ]
    },
    {
      "cell_type": "code",
      "metadata": {
        "colab": {
          "base_uri": "https://localhost:8080/"
        },
        "id": "7h5p7asfmBQ5",
        "collapsed": true,
        "outputId": "da613e5a-a2a5-4b30-98fc-a437f0fd71b4"
      },
      "source": [
        "!pip install imblearn scikit-plot mlflow\n",
        "!pip install eli5 shap "
      ],
      "execution_count": null,
      "outputs": [
        {
          "output_type": "stream",
          "text": [
            "Requirement already satisfied: imblearn in /usr/local/lib/python3.7/dist-packages (0.0)\n",
            "Requirement already satisfied: scikit-plot in /usr/local/lib/python3.7/dist-packages (0.3.7)\n",
            "Requirement already satisfied: mlflow in /usr/local/lib/python3.7/dist-packages (1.19.0)\n",
            "Requirement already satisfied: imbalanced-learn in /usr/local/lib/python3.7/dist-packages (from imblearn) (0.4.3)\n",
            "Requirement already satisfied: scipy>=0.9 in /usr/local/lib/python3.7/dist-packages (from scikit-plot) (1.4.1)\n",
            "Requirement already satisfied: matplotlib>=1.4.0 in /usr/local/lib/python3.7/dist-packages (from scikit-plot) (3.2.2)\n",
            "Requirement already satisfied: scikit-learn>=0.18 in /usr/local/lib/python3.7/dist-packages (from scikit-plot) (0.22.2.post1)\n",
            "Requirement already satisfied: joblib>=0.10 in /usr/local/lib/python3.7/dist-packages (from scikit-plot) (1.0.1)\n",
            "Requirement already satisfied: gitpython>=2.1.0 in /usr/local/lib/python3.7/dist-packages (from mlflow) (3.1.18)\n",
            "Requirement already satisfied: sqlalchemy in /usr/local/lib/python3.7/dist-packages (from mlflow) (1.4.20)\n",
            "Requirement already satisfied: alembic<=1.4.1 in /usr/local/lib/python3.7/dist-packages (from mlflow) (1.4.1)\n",
            "Requirement already satisfied: Flask in /usr/local/lib/python3.7/dist-packages (from mlflow) (1.1.4)\n",
            "Requirement already satisfied: entrypoints in /usr/local/lib/python3.7/dist-packages (from mlflow) (0.3)\n",
            "Requirement already satisfied: click>=7.0 in /usr/local/lib/python3.7/dist-packages (from mlflow) (7.1.2)\n",
            "Requirement already satisfied: querystring-parser in /usr/local/lib/python3.7/dist-packages (from mlflow) (1.2.4)\n",
            "Requirement already satisfied: numpy in /usr/local/lib/python3.7/dist-packages (from mlflow) (1.19.5)\n",
            "Requirement already satisfied: gunicorn; platform_system != \"Windows\" in /usr/local/lib/python3.7/dist-packages (from mlflow) (20.1.0)\n",
            "Requirement already satisfied: databricks-cli>=0.8.7 in /usr/local/lib/python3.7/dist-packages (from mlflow) (0.14.3)\n",
            "Requirement already satisfied: docker>=4.0.0 in /usr/local/lib/python3.7/dist-packages (from mlflow) (5.0.0)\n",
            "Requirement already satisfied: sqlparse>=0.3.1 in /usr/local/lib/python3.7/dist-packages (from mlflow) (0.4.1)\n",
            "Requirement already satisfied: pandas in /usr/local/lib/python3.7/dist-packages (from mlflow) (1.1.5)\n",
            "Requirement already satisfied: packaging in /usr/local/lib/python3.7/dist-packages (from mlflow) (21.0)\n",
            "Requirement already satisfied: pytz in /usr/local/lib/python3.7/dist-packages (from mlflow) (2018.9)\n",
            "Requirement already satisfied: prometheus-flask-exporter in /usr/local/lib/python3.7/dist-packages (from mlflow) (0.18.2)\n",
            "Requirement already satisfied: requests>=2.17.3 in /usr/local/lib/python3.7/dist-packages (from mlflow) (2.23.0)\n",
            "Requirement already satisfied: cloudpickle in /usr/local/lib/python3.7/dist-packages (from mlflow) (1.3.0)\n",
            "Requirement already satisfied: protobuf>=3.7.0 in /usr/local/lib/python3.7/dist-packages (from mlflow) (3.17.3)\n",
            "Requirement already satisfied: pyyaml>=5.1 in /usr/local/lib/python3.7/dist-packages (from mlflow) (5.4.1)\n",
            "Requirement already satisfied: cycler>=0.10 in /usr/local/lib/python3.7/dist-packages (from matplotlib>=1.4.0->scikit-plot) (0.10.0)\n",
            "Requirement already satisfied: python-dateutil>=2.1 in /usr/local/lib/python3.7/dist-packages (from matplotlib>=1.4.0->scikit-plot) (2.8.1)\n",
            "Requirement already satisfied: kiwisolver>=1.0.1 in /usr/local/lib/python3.7/dist-packages (from matplotlib>=1.4.0->scikit-plot) (1.3.1)\n",
            "Requirement already satisfied: pyparsing!=2.0.4,!=2.1.2,!=2.1.6,>=2.0.1 in /usr/local/lib/python3.7/dist-packages (from matplotlib>=1.4.0->scikit-plot) (2.4.7)\n",
            "Requirement already satisfied: typing-extensions>=3.7.4.0; python_version < \"3.8\" in /usr/local/lib/python3.7/dist-packages (from gitpython>=2.1.0->mlflow) (3.7.4.3)\n",
            "Requirement already satisfied: gitdb<5,>=4.0.1 in /usr/local/lib/python3.7/dist-packages (from gitpython>=2.1.0->mlflow) (4.0.7)\n",
            "Requirement already satisfied: greenlet!=0.4.17; python_version >= \"3\" in /usr/local/lib/python3.7/dist-packages (from sqlalchemy->mlflow) (1.1.0)\n",
            "Requirement already satisfied: importlib-metadata; python_version < \"3.8\" in /usr/local/lib/python3.7/dist-packages (from sqlalchemy->mlflow) (4.6.1)\n",
            "Requirement already satisfied: python-editor>=0.3 in /usr/local/lib/python3.7/dist-packages (from alembic<=1.4.1->mlflow) (1.0.4)\n",
            "Requirement already satisfied: Mako in /usr/local/lib/python3.7/dist-packages (from alembic<=1.4.1->mlflow) (1.1.4)\n",
            "Requirement already satisfied: itsdangerous<2.0,>=0.24 in /usr/local/lib/python3.7/dist-packages (from Flask->mlflow) (1.1.0)\n",
            "Requirement already satisfied: Werkzeug<2.0,>=0.15 in /usr/local/lib/python3.7/dist-packages (from Flask->mlflow) (1.0.1)\n",
            "Requirement already satisfied: Jinja2<3.0,>=2.10.1 in /usr/local/lib/python3.7/dist-packages (from Flask->mlflow) (2.11.3)\n",
            "Requirement already satisfied: six in /usr/local/lib/python3.7/dist-packages (from querystring-parser->mlflow) (1.15.0)\n",
            "Requirement already satisfied: setuptools>=3.0 in /usr/local/lib/python3.7/dist-packages (from gunicorn; platform_system != \"Windows\"->mlflow) (57.0.0)\n",
            "Requirement already satisfied: tabulate>=0.7.7 in /usr/local/lib/python3.7/dist-packages (from databricks-cli>=0.8.7->mlflow) (0.8.9)\n",
            "Requirement already satisfied: websocket-client>=0.32.0 in /usr/local/lib/python3.7/dist-packages (from docker>=4.0.0->mlflow) (1.1.0)\n",
            "Requirement already satisfied: prometheus-client in /usr/local/lib/python3.7/dist-packages (from prometheus-flask-exporter->mlflow) (0.11.0)\n",
            "Requirement already satisfied: certifi>=2017.4.17 in /usr/local/lib/python3.7/dist-packages (from requests>=2.17.3->mlflow) (2021.5.30)\n",
            "Requirement already satisfied: idna<3,>=2.5 in /usr/local/lib/python3.7/dist-packages (from requests>=2.17.3->mlflow) (2.10)\n",
            "Requirement already satisfied: chardet<4,>=3.0.2 in /usr/local/lib/python3.7/dist-packages (from requests>=2.17.3->mlflow) (3.0.4)\n",
            "Requirement already satisfied: urllib3!=1.25.0,!=1.25.1,<1.26,>=1.21.1 in /usr/local/lib/python3.7/dist-packages (from requests>=2.17.3->mlflow) (1.24.3)\n",
            "Requirement already satisfied: smmap<5,>=3.0.1 in /usr/local/lib/python3.7/dist-packages (from gitdb<5,>=4.0.1->gitpython>=2.1.0->mlflow) (4.0.0)\n",
            "Requirement already satisfied: zipp>=0.5 in /usr/local/lib/python3.7/dist-packages (from importlib-metadata; python_version < \"3.8\"->sqlalchemy->mlflow) (3.5.0)\n",
            "Requirement already satisfied: MarkupSafe>=0.9.2 in /usr/local/lib/python3.7/dist-packages (from Mako->alembic<=1.4.1->mlflow) (2.0.1)\n"
          ],
          "name": "stdout"
        }
      ]
    },
    {
      "cell_type": "code",
      "metadata": {
        "id": "Aivf7WW9hLU_"
      },
      "source": [
        "from IPython.core.interactiveshell import InteractiveShell\n",
        "InteractiveShell.ast_node_interactivity = \"all\""
      ],
      "execution_count": null,
      "outputs": []
    },
    {
      "cell_type": "code",
      "metadata": {
        "id": "jnhpJDTphLVD",
        "colab": {
          "base_uri": "https://localhost:8080/"
        },
        "outputId": "95d21a35-5509-4725-a341-c0e1c9e665f9"
      },
      "source": [
        "import numpy as np\n",
        "import pandas as pd\n",
        "import matplotlib.pyplot as plt\n",
        "import pickle\n",
        "import random\n",
        "\n",
        "import joblib\n",
        "import time, os\n",
        "os.environ['TZ'] = 'Asia/Ho_Chi_Minh'\n",
        "time.tzset()\n",
        "\n",
        "%load_ext autoreload\n",
        "%autoreload 2\n",
        "%matplotlib inline"
      ],
      "execution_count": null,
      "outputs": [
        {
          "output_type": "stream",
          "text": [
            "The autoreload extension is already loaded. To reload it, use:\n",
            "  %reload_ext autoreload\n"
          ],
          "name": "stdout"
        }
      ]
    },
    {
      "cell_type": "code",
      "metadata": {
        "id": "xIw_gsJYhLVF"
      },
      "source": [
        "from imblearn.over_sampling import RandomOverSampler\n",
        "from imblearn.over_sampling import SMOTE, ADASYN\n",
        "from imblearn.under_sampling import RandomUnderSampler\n",
        "from imblearn.pipeline import Pipeline \n",
        "\n",
        "from sklearn.model_selection import train_test_split\n",
        "from sklearn.compose import ColumnTransformer, make_column_selector\n",
        "from sklearn.impute import SimpleImputer\n",
        "\n",
        "from sklearn.linear_model import LogisticRegression\n",
        "from sklearn.tree import DecisionTreeClassifier\n",
        "from sklearn.decomposition import PCA\n",
        "from sklearn.dummy import DummyClassifier\n",
        "from sklearn.ensemble import RandomForestClassifier\n",
        "\n",
        "from collections import Counter\n",
        "\n",
        "\n",
        "from sklearn.metrics import accuracy_score\n",
        "from sklearn.metrics import confusion_matrix\n",
        "from sklearn.metrics import accuracy_score\n",
        "from sklearn.metrics import f1_score\n",
        "from sklearn.metrics import recall_score\n",
        "from sklearn.metrics import precision_score\n",
        "from sklearn.metrics import classification_report\n",
        "from sklearn.utils import resample\n",
        "\n",
        "# from scikitplot.metrics import plot_roc\n",
        "# from scikitplot.metrics import plot_precision_recall\n",
        "# from scikitplot.metrics import plot_cumulative_gain\n",
        "# from scikitplot.metrics import plot_lift_curve\n",
        "import warnings\n",
        "warnings.filterwarnings('ignore')"
      ],
      "execution_count": null,
      "outputs": []
    },
    {
      "cell_type": "code",
      "metadata": {
        "id": "9U8Piz89aLoA"
      },
      "source": [
        "import shap\n",
        "import eli5\n",
        "from eli5.sklearn import PermutationImportance"
      ],
      "execution_count": null,
      "outputs": []
    },
    {
      "cell_type": "code",
      "metadata": {
        "colab": {
          "base_uri": "https://localhost:8080/",
          "height": 36
        },
        "id": "vZTJUd8gGjXP",
        "outputId": "a2244033-5f07-406d-b5f2-cb0800f63402"
      },
      "source": [
        "import sklearn\n",
        "sklearn.__version__"
      ],
      "execution_count": null,
      "outputs": [
        {
          "output_type": "execute_result",
          "data": {
            "application/vnd.google.colaboratory.intrinsic+json": {
              "type": "string"
            },
            "text/plain": [
              "'0.22.2.post1'"
            ]
          },
          "metadata": {
            "tags": []
          },
          "execution_count": 21
        }
      ]
    },
    {
      "cell_type": "markdown",
      "metadata": {
        "id": "HUVZiRvKx4Fi"
      },
      "source": [
        "# 2. Data understanding & Data preparation"
      ]
    },
    {
      "cell_type": "code",
      "metadata": {
        "colab": {
          "base_uri": "https://localhost:8080/"
        },
        "id": "fM3FKK0cbdp9",
        "outputId": "34905eee-ab6e-4bbe-9420-35f35de937a0"
      },
      "source": [
        "from google.colab import drive\n",
        "drive.mount(\"/content/drive\")\n",
        "!ls \"/content/drive/My Drive/\""
      ],
      "execution_count": null,
      "outputs": [
        {
          "output_type": "stream",
          "text": [
            "Drive already mounted at /content/drive; to attempt to forcibly remount, call drive.mount(\"/content/drive\", force_remount=True).\n",
            " all_650.csv\t      Cust_1_report.html  'Mo ta bang.gsheet'\n",
            " BIDV\t\t      Cust_2_report.html   remove_outliers.csv\n",
            " BOOK\t\t      Cust_3_report.html   results_650.csv\n",
            " cluster_v650.csv     Cust_4_report.html   salary_before_norm.csv\n",
            "'Colab Notebooks'     Cust_report.html\t   salary_start.csv\n",
            "'COMPUTER VISION'     FASTAI\t\t   Torrent\n",
            " Cust_0_report.html   KAGGLE\n"
          ],
          "name": "stdout"
        }
      ]
    },
    {
      "cell_type": "code",
      "metadata": {
        "id": "vMy31CLihLVF",
        "colab": {
          "base_uri": "https://localhost:8080/"
        },
        "outputId": "c5048748-fb09-4ac6-ab34-e8be06586e5d"
      },
      "source": [
        "\n",
        "MERCHANTDATA=pd.read_csv(r\"/content/drive/MyDrive/BIDV/CARD_FRAUD/data/trainning/data_thang6.csv\", error_bad_lines=False)\n",
        "#MERCHANT_COLUMNS=MERCHANTDATA.columns.values.tolist();\n",
        "MERCHANT_COLUMNS_PROPERTIES=pd.read_excel(r\"/content/drive/MyDrive/BIDV/CARD_FRAUD/data/column_description.xlsx\")\n",
        "df_fraud_06 = pd.read_csv(r\"/content/drive/MyDrive/BIDV/CARD_FRAUD/data/MERCHANT_KHONG.csv\")\n",
        "\n",
        "\n",
        "def get_list_columns():\n",
        "    feature_cad = MERCHANT_COLUMNS_PROPERTIES.copy()\n",
        "    feature_cad = feature_cad[(feature_cad[\"ORG_SOURCE\"].isin([\"CAD\", \"MIS_MRCH_DIM\", \"MIS_MR_CST_DIM\",\"MIS_CST_FCT\",\"MIS_MRCH_FCT\",\"EXT\"])) \n",
        "    & (feature_cad[\"USE_TO_MODEL\"] == \"Y\")\n",
        "    ]\n",
        "    return feature_cad[\"COLUMN_NAME\"].tolist()\n",
        "    \n",
        "\n",
        "def process_data_type(df):\n",
        "    #xy ly kieu du lieu la date\n",
        "    df[\"DAY_OPEN\"]=pd.to_datetime(df[\"DAY_OPEN\"])\n",
        "    df[\"DAY_CLOSE\"]=pd.to_datetime(df[\"DAY_CLOSE\"])\n",
        "    df[\"DAY_START\"] = pd.to_datetime(df[\"DAY_START\"])\n",
        "    df[\"DAY_SUBM\"] = pd.to_datetime(df[\"DAY_SUBM\"])\n",
        "\n",
        "    df[\"DAY_OPEN_YEAR\"]=df[\"DAY_OPEN\"].dt.year\n",
        "    df[\"DAY_OPEN_MONTH\"] = df[\"DAY_OPEN\"].dt.month\n",
        "    df[\"DAY_OPEN_DAY\"] = df[\"DAY_OPEN\"].dt.day\n",
        "\n",
        "    df[\"DAY_CLOSE_YEAR\"] = df[\"DAY_CLOSE\"].dt.year\n",
        "    df[\"DAY_CLOSE_MONTH\"] = df[\"DAY_CLOSE\"].dt.month\n",
        "    df[\"DAY_CLOSE_DAY\"] = df[\"DAY_CLOSE\"].dt.day\n",
        "\n",
        "    df[\"DAY_START_YEAR\"] = df[\"DAY_START\"].dt.year\n",
        "    df[\"DAY_START_MONTH\"] = df[\"DAY_START\"].dt.month\n",
        "    df[\"DAY_START_DAY\"] = df[\"DAY_START\"].dt.day\n",
        "\n",
        "    df[\"DAY_SUBM_YEAR\"] = df[\"DAY_SUBM\"].dt.year\n",
        "    df[\"DAY_SUBM_MONTH\"] = df[\"DAY_SUBM\"].dt.month\n",
        "    df[\"DAY_SUBM_DAY\"] = df[\"DAY_SUBM\"].dt.day\n",
        "\n",
        "\n",
        "\n",
        "    df=df.drop(\"DAY_CLOSE\",1)\n",
        "    df = df.drop(\"DAY_OPEN\",1)\n",
        "    df = df.drop(\"DAY_START\", 1)\n",
        "    df = df.drop(\"DAY_SUBM\", 1)\n",
        "\n",
        "    return df\n"
      ],
      "execution_count": null,
      "outputs": [
        {
          "output_type": "stream",
          "text": [
            "/usr/local/lib/python3.7/dist-packages/IPython/core/interactiveshell.py:2718: DtypeWarning: Columns (9,10,26,28,37) have mixed types.Specify dtype option on import or set low_memory=False.\n",
            "  interactivity=interactivity, compiler=compiler, result=result)\n"
          ],
          "name": "stderr"
        }
      ]
    },
    {
      "cell_type": "code",
      "metadata": {
        "colab": {
          "base_uri": "https://localhost:8080/"
        },
        "id": "5QYlioDehpZQ",
        "outputId": "7939b76e-0828-4c28-ad2e-c2cabff5229e"
      },
      "source": [
        "index_fraud = MERCHANTDATA['MERCHANT'].isin(df_fraud_06['MERCHANT'])\n",
        "df_fraud = MERCHANTDATA[index_fraud]\n",
        "df_fraud['MERCH_FR'] = 1 # FRAUD\n",
        "df_non_fraud = MERCHANTDATA[~index_fraud]\n",
        "df_non_fraud['MERCH_FR'] = 0\n",
        "\n",
        "df_org = df_non_fraud.append(df_fraud)\n",
        "\n",
        "df_fraud.shape \n",
        "df_non_fraud.shape\n",
        "df_org.shape\n",
        "MERCHANTDATA.shape"
      ],
      "execution_count": null,
      "outputs": [
        {
          "output_type": "stream",
          "text": [
            "/usr/local/lib/python3.7/dist-packages/ipykernel_launcher.py:3: SettingWithCopyWarning: \n",
            "A value is trying to be set on a copy of a slice from a DataFrame.\n",
            "Try using .loc[row_indexer,col_indexer] = value instead\n",
            "\n",
            "See the caveats in the documentation: https://pandas.pydata.org/pandas-docs/stable/user_guide/indexing.html#returning-a-view-versus-a-copy\n",
            "  This is separate from the ipykernel package so we can avoid doing imports until\n",
            "/usr/local/lib/python3.7/dist-packages/ipykernel_launcher.py:5: SettingWithCopyWarning: \n",
            "A value is trying to be set on a copy of a slice from a DataFrame.\n",
            "Try using .loc[row_indexer,col_indexer] = value instead\n",
            "\n",
            "See the caveats in the documentation: https://pandas.pydata.org/pandas-docs/stable/user_guide/indexing.html#returning-a-view-versus-a-copy\n",
            "  \"\"\"\n"
          ],
          "name": "stderr"
        },
        {
          "output_type": "execute_result",
          "data": {
            "text/plain": [
              "(752, 384)"
            ]
          },
          "metadata": {
            "tags": []
          },
          "execution_count": 24
        },
        {
          "output_type": "execute_result",
          "data": {
            "text/plain": [
              "(56710, 384)"
            ]
          },
          "metadata": {
            "tags": []
          },
          "execution_count": 24
        },
        {
          "output_type": "execute_result",
          "data": {
            "text/plain": [
              "(57462, 384)"
            ]
          },
          "metadata": {
            "tags": []
          },
          "execution_count": 24
        },
        {
          "output_type": "execute_result",
          "data": {
            "text/plain": [
              "(57462, 384)"
            ]
          },
          "metadata": {
            "tags": []
          },
          "execution_count": 24
        }
      ]
    },
    {
      "cell_type": "code",
      "metadata": {
        "id": "XXKeKIGyrxg9"
      },
      "source": [
        "list_col_name = get_list_columns()\n",
        "df = df_org[list_col_name].copy()\n",
        "df = process_data_type(df)\n"
      ],
      "execution_count": null,
      "outputs": []
    },
    {
      "cell_type": "code",
      "metadata": {
        "id": "bIZcPBa8hLVG",
        "colab": {
          "base_uri": "https://localhost:8080/"
        },
        "outputId": "7f58b2f9-0e13-4d81-e2cc-d531c6ad6174"
      },
      "source": [
        "numper_of_non_fr = 1500\n",
        "df_tmp = df[df.MERCH_FR == 0]\n",
        "\n",
        "df_sub = df_tmp.sample(numper_of_non_fr, random_state=42)\n",
        "df_sub = df_sub.append(df[df.MERCH_FR == 1], ignore_index = True)\n",
        "df_sub.shape"
      ],
      "execution_count": null,
      "outputs": [
        {
          "output_type": "execute_result",
          "data": {
            "text/plain": [
              "(2252, 292)"
            ]
          },
          "metadata": {
            "tags": []
          },
          "execution_count": 26
        }
      ]
    },
    {
      "cell_type": "code",
      "metadata": {
        "colab": {
          "base_uri": "https://localhost:8080/"
        },
        "id": "gHIINbr3wVm_",
        "outputId": "494e65e7-23ee-4f4a-87b3-c4250be3d8f0"
      },
      "source": [
        "df_sub.columns[df_sub.isna().any()]"
      ],
      "execution_count": null,
      "outputs": [
        {
          "output_type": "execute_result",
          "data": {
            "text/plain": [
              "Index(['NUM_OF_TERM'], dtype='object')"
            ]
          },
          "metadata": {
            "tags": []
          },
          "execution_count": 27
        }
      ]
    },
    {
      "cell_type": "code",
      "metadata": {
        "id": "N_f2FBCUu1Cs"
      },
      "source": [
        ""
      ],
      "execution_count": null,
      "outputs": []
    },
    {
      "cell_type": "code",
      "metadata": {
        "id": "Ubz2DcCT5vKx"
      },
      "source": [
        "# https://stackoverflow.com/questions/44342409/drop-column-based-on-most-frequent-value\n",
        "# type(df_raw[object_cols].apply(pd.Series.value_counts, normalize=True).max())\n",
        "# df_object.apply(pd.Series.value_counts, normalize=True)"
      ],
      "execution_count": null,
      "outputs": []
    },
    {
      "cell_type": "code",
      "metadata": {
        "id": "3f9NqNsfhLVH"
      },
      "source": [
        "# check dtype dataframe \n",
        "# dtype_include=object\n",
        "# num_cols = make_column_selector(dtype_include=np.number)\n",
        "object_cols = df_sub.select_dtypes(include='object').columns.to_list()\n",
        "num_cols = df_sub.select_dtypes(include='number').columns.to_list()\n",
        "# MERCH_FR: label\n",
        "rejected_cols = ['CST_AGE_SEG', 'CPLANSTYLS', 'DBA_CITY', 'DBA_CNTRY', 'FEE_CODE', 'MERCH_FR', 'MERCH_FR_TP']\n",
        "num_cols = [col for col in num_cols if col not in rejected_cols]\n",
        "cat_cols = [col for col in object_cols if col not in rejected_cols]\n",
        "cat_label_cols = ['CST_PERF_ST', 'CST_MKT_SEG']\n",
        "cat_onehot_cols = [f for f in cat_cols if f not in cat_label_cols]\n",
        "\n",
        "\n",
        "features = num_cols + cat_cols\n",
        "\n",
        "y = df_sub.MERCH_FR\n",
        "x_raw = df_sub[features].copy()\n",
        "x = x_raw\n",
        "#x = x_raw.drop('MERCH_FR', axis=1)\n",
        "\n",
        "# x = x[mst_features[\"Specs\"].values]"
      ],
      "execution_count": null,
      "outputs": []
    },
    {
      "cell_type": "code",
      "metadata": {
        "id": "Rs2nzwBHf5bT"
      },
      "source": [
        "# pd.DataFrame(num_cols, columns = ['num_feature']).to_csv(r\"/content/drive/MyDrive/BIDV/CARD_FRAUD/data/trainning/num_feature_model_06_20210716-101219.csv\")\n",
        "# pd.DataFrame(features, columns = ['feature']).to_csv(r\"/content/drive/MyDrive/BIDV/CARD_FRAUD/data/trainning/feature_model_06_20210716-101219.csv\")"
      ],
      "execution_count": null,
      "outputs": []
    },
    {
      "cell_type": "code",
      "metadata": {
        "colab": {
          "base_uri": "https://localhost:8080/"
        },
        "id": "7H5lMn5kY5X5",
        "outputId": "266f17a8-b933-4054-c8dc-86df291ac554"
      },
      "source": [
        "# cat_label_cols + cat_onehot_cols"
      ],
      "execution_count": null,
      "outputs": [
        {
          "output_type": "execute_result",
          "data": {
            "text/plain": [
              "['CST_PERF_ST',\n",
              " 'CST_MKT_SEG',\n",
              " 'CLOSE_RSN',\n",
              " 'CHIP_YN',\n",
              " 'COMM_FREQ',\n",
              " 'ELEC_IND',\n",
              " 'HO_MMSFCD',\n",
              " 'LINK_TYPE',\n",
              " 'MERCH_GRP',\n",
              " 'REC_TYPE',\n",
              " 'IS_MERGE_CIF',\n",
              " 'GND',\n",
              " 'CST_NATIONALITY',\n",
              " 'CST_TP',\n",
              " 'CST_DIMMAR_ST',\n",
              " 'INR_CR_RTG',\n",
              " 'IS_CST_FCT_MERG']"
            ]
          },
          "metadata": {
            "tags": []
          },
          "execution_count": 37
        }
      ]
    },
    {
      "cell_type": "code",
      "metadata": {
        "id": "z8aDlF8qhLVI"
      },
      "source": [
        "x_train, x_test, y_train, y_test = train_test_split(x, y, test_size=0.15, random_state=42, stratify=y)\n",
        "x_cv, y_cv = x_train, y_train # data for cross validation \n",
        "x_train, x_val, y_train, y_val = train_test_split(x_train, y_train, test_size=0.25, random_state=42, stratify=y_train)"
      ],
      "execution_count": null,
      "outputs": []
    },
    {
      "cell_type": "code",
      "metadata": {
        "id": "DcVyZY_1hLVI",
        "colab": {
          "base_uri": "https://localhost:8080/"
        },
        "outputId": "1d304490-1e8c-431f-9ff5-868c0eb1bc49"
      },
      "source": [
        "# 01. data sumary\n",
        "print(sorted(Counter(y_train).items()))\n",
        "print(sorted(Counter(y_val).items()))\n",
        "print(sorted(Counter(y_test).items()))\n",
        "print(sorted(Counter(y_cv).items()))"
      ],
      "execution_count": null,
      "outputs": [
        {
          "output_type": "stream",
          "text": [
            "[(0, 956), (1, 479)]\n",
            "[(0, 319), (1, 160)]\n",
            "[(0, 225), (1, 113)]\n",
            "[(0, 1275), (1, 639)]\n"
          ],
          "name": "stdout"
        }
      ]
    },
    {
      "cell_type": "code",
      "metadata": {
        "colab": {
          "base_uri": "https://localhost:8080/"
        },
        "id": "mnvBfWjs4BSy",
        "outputId": "ec315d1b-f486-4b83-83d2-bfee26fcc768"
      },
      "source": [
        "x_train.columns[x_train.isna().any()]\n",
        "x_val.columns[x_val.isna().any()]\n",
        "x_test.columns[x_test.isna().any()]"
      ],
      "execution_count": null,
      "outputs": [
        {
          "output_type": "execute_result",
          "data": {
            "text/plain": [
              "Index(['NUM_OF_TERM'], dtype='object')"
            ]
          },
          "metadata": {
            "tags": []
          },
          "execution_count": 40
        },
        {
          "output_type": "execute_result",
          "data": {
            "text/plain": [
              "Index(['NUM_OF_TERM'], dtype='object')"
            ]
          },
          "metadata": {
            "tags": []
          },
          "execution_count": 40
        },
        {
          "output_type": "execute_result",
          "data": {
            "text/plain": [
              "Index(['NUM_OF_TERM'], dtype='object')"
            ]
          },
          "metadata": {
            "tags": []
          },
          "execution_count": 40
        }
      ]
    },
    {
      "cell_type": "code",
      "metadata": {
        "colab": {
          "base_uri": "https://localhost:8080/"
        },
        "id": "NIPnKf0xCW1O",
        "outputId": "611e7582-7afe-49e4-d4ef-6d47fb7bf320"
      },
      "source": [
        "x_cv['NUM_OF_TERM'].isna().sum()/x_cv.shape[0]\n",
        "x_train['NUM_OF_TERM'].isna().sum()/x_train.shape[0]\n",
        "x_test['NUM_OF_TERM'].isna().sum()/x_test.shape[0]"
      ],
      "execution_count": null,
      "outputs": [
        {
          "output_type": "execute_result",
          "data": {
            "text/plain": [
              "0.109717868338558"
            ]
          },
          "metadata": {
            "tags": []
          },
          "execution_count": 41
        },
        {
          "output_type": "execute_result",
          "data": {
            "text/plain": [
              "0.10313588850174216"
            ]
          },
          "metadata": {
            "tags": []
          },
          "execution_count": 41
        },
        {
          "output_type": "execute_result",
          "data": {
            "text/plain": [
              "0.12130177514792899"
            ]
          },
          "metadata": {
            "tags": []
          },
          "execution_count": 41
        }
      ]
    },
    {
      "cell_type": "markdown",
      "metadata": {
        "id": "4xUo50jb0f7Q"
      },
      "source": [
        "# 3. Modeling"
      ]
    },
    {
      "cell_type": "markdown",
      "metadata": {
        "id": "gMMXhBAwhLVJ"
      },
      "source": [
        "## 3.1. Create pipepline with resample\n",
        "Thực hiện preprocessing data ở đây, rồi apply cho val set, thực hiện kiểm tra trên test set "
      ]
    },
    {
      "cell_type": "code",
      "metadata": {
        "collapsed": true,
        "id": "1nc7FTfU41E7",
        "colab": {
          "base_uri": "https://localhost:8080/"
        },
        "outputId": "feabcec8-2608-4863-dcab-6991ec881acf"
      },
      "source": [
        "from sklearn.preprocessing import MinMaxScaler, OrdinalEncoder, StandardScaler, OneHotEncoder\n",
        "from imblearn.pipeline import make_pipeline, Pipeline\n",
        "\n",
        "from sklearn.model_selection import cross_val_score\n",
        "from sklearn.model_selection import RepeatedStratifiedKFold\n",
        "from numpy import mean\n",
        "import mlflow\n",
        "import mlflow.sklearn\n",
        "\n",
        "numeric_features = num_cols\n",
        "numeric_transformer = Pipeline(steps=[\n",
        "    ('imputer', SimpleImputer(strategy='constant')),\n",
        "    ('scaler', StandardScaler() # ('scaler', MinMaxScaler()    \n",
        "    )])\n",
        "\n",
        "# cat_label_cols = ['CST_PERF_ST', 'CST_MKT_SEG']\n",
        "cat_ordinal_transformer = Pipeline(steps=[\n",
        "    ('imputer', SimpleImputer(strategy='constant', fill_value='missing_val')),\n",
        "    ('encoder', OrdinalEncoder() \n",
        "    )])\n",
        "\n",
        "# cat_onehot_cols = [f for f in cat_cols if f not in cat_label_cols]\n",
        "cat_onehot_transformer = Pipeline(steps=[\n",
        "    ('imputer', SimpleImputer(strategy='constant', fill_value='missing_val')),\n",
        "    ('encoder', OneHotEncoder(handle_unknown = 'ignore', sparse=False) \n",
        "    )])\n",
        "\n",
        "# over sampling \n",
        "oversample = SMOTE() # ADASYN()\n",
        "\n",
        "# modeling \n",
        "classifier = RandomForestClassifier()\n",
        "\n",
        "preprocessor = ColumnTransformer(\n",
        "    transformers=[\n",
        "                  ('num', numeric_transformer, numeric_features), \n",
        "                  #('cat_label', cat_ordinal_transformer, cat_label_cols)\n",
        "                  #('cat_onehot', cat_onehot_transformer, ['CLOSE_RSN','CHIP_YN']) # ['CLOSE_RSN', 'COMM_FREQ']\n",
        "                 ], remainder='drop')\n",
        "\n",
        "# Append classifier to preprocessing pipeline.\n",
        "# Now we have a full prediction pipeline.\n",
        "pipeline = Pipeline(steps=[('preprocessor', preprocessor),\n",
        "                      ('sampling', oversample),\n",
        "                      ('classifier', classifier)])\n",
        "\n",
        "cat_label_cols"
      ],
      "execution_count": null,
      "outputs": [
        {
          "output_type": "execute_result",
          "data": {
            "text/plain": [
              "['CST_PERF_ST', 'CST_MKT_SEG']"
            ]
          },
          "metadata": {
            "tags": []
          },
          "execution_count": 44
        }
      ]
    },
    {
      "cell_type": "code",
      "metadata": {
        "colab": {
          "base_uri": "https://localhost:8080/"
        },
        "collapsed": true,
        "id": "au7GXf645F4W",
        "outputId": "91243fd9-c4dd-41c7-caad-02bc12a55c76"
      },
      "source": [
        "preprocessor.fit(x_train)\n",
        "pipeline.fit(x_train, y_train)"
      ],
      "execution_count": null,
      "outputs": [
        {
          "output_type": "execute_result",
          "data": {
            "text/plain": [
              "ColumnTransformer(n_jobs=None, remainder='drop', sparse_threshold=0.3,\n",
              "                  transformer_weights=None,\n",
              "                  transformers=[('num',\n",
              "                                 Pipeline(memory=None,\n",
              "                                          steps=[('imputer',\n",
              "                                                  SimpleImputer(add_indicator=False,\n",
              "                                                                copy=True,\n",
              "                                                                fill_value=None,\n",
              "                                                                missing_values=nan,\n",
              "                                                                strategy='constant',\n",
              "                                                                verbose=0)),\n",
              "                                                 ('scaler',\n",
              "                                                  StandardScaler(copy=True,\n",
              "                                                                 with_mean=True,\n",
              "                                                                 with_std=True))],\n",
              "                                          verbose=False),\n",
              "                                 ['ME...\n",
              "                                  'FL_LIM2', 'FL_LIM3', 'FL_LIM4', 'GROSS_SALE',\n",
              "                                  'HO_RATE', 'LAST_V_DAY', 'LAST_VOUCH',\n",
              "                                  'LST_COM_DY', 'LST_DEP_DY', 'LST_PAY_DY',\n",
              "                                  'MP_IND', 'PAY_METHOD', 'PAYMT_DAYS',\n",
              "                                  'PRV_DEP_DY', 'TERM_FEE', 'TRAN_AVGE',\n",
              "                                  'VOUCH_USED', 'WEEK_COUNT', 'WEEKLY_DAY',\n",
              "                                  'NUM_OF_TERM', 'AVG_LBY_BAL_AMT_2YR_AGO',\n",
              "                                  'AVG_LBY_BAL_AMT_3YR_AGO',\n",
              "                                  'AVG_LBY_BAL_AMT_LAST_YR',\n",
              "                                  'TOT_NET_INCM_2YR_AGO', ...])],\n",
              "                  verbose=False)"
            ]
          },
          "metadata": {
            "tags": []
          },
          "execution_count": 45
        },
        {
          "output_type": "stream",
          "text": [
            "/usr/local/lib/python3.7/dist-packages/sklearn/utils/deprecation.py:87: FutureWarning: Function safe_indexing is deprecated; safe_indexing is deprecated in version 0.22 and will be removed in version 0.24.\n",
            "  warnings.warn(msg, category=FutureWarning)\n"
          ],
          "name": "stderr"
        },
        {
          "output_type": "execute_result",
          "data": {
            "text/plain": [
              "Pipeline(memory=None,\n",
              "         steps=[('preprocessor',\n",
              "                 ColumnTransformer(n_jobs=None, remainder='drop',\n",
              "                                   sparse_threshold=0.3,\n",
              "                                   transformer_weights=None,\n",
              "                                   transformers=[('num',\n",
              "                                                  Pipeline(memory=None,\n",
              "                                                           steps=[('imputer',\n",
              "                                                                   SimpleImputer(add_indicator=False,\n",
              "                                                                                 copy=True,\n",
              "                                                                                 fill_value=None,\n",
              "                                                                                 missing_values=nan,\n",
              "                                                                                 strategy='constant',\n",
              "                                                                                 verbose=0)),\n",
              "                                                                  ('scaler',\n",
              "                                                                   StandardScaler(copy=True,\n",
              "                                                                                  with_me...\n",
              "                 RandomForestClassifier(bootstrap=True, ccp_alpha=0.0,\n",
              "                                        class_weight=None, criterion='gini',\n",
              "                                        max_depth=None, max_features='auto',\n",
              "                                        max_leaf_nodes=None, max_samples=None,\n",
              "                                        min_impurity_decrease=0.0,\n",
              "                                        min_impurity_split=None,\n",
              "                                        min_samples_leaf=1, min_samples_split=2,\n",
              "                                        min_weight_fraction_leaf=0.0,\n",
              "                                        n_estimators=100, n_jobs=None,\n",
              "                                        oob_score=False, random_state=None,\n",
              "                                        verbose=0, warm_start=False))],\n",
              "         verbose=False)"
            ]
          },
          "metadata": {
            "tags": []
          },
          "execution_count": 45
        }
      ]
    },
    {
      "cell_type": "code",
      "metadata": {
        "colab": {
          "base_uri": "https://localhost:8080/",
          "height": 53
        },
        "collapsed": true,
        "id": "GrUbDSi886z5",
        "outputId": "77f3d822-f971-4cb2-a65f-8ba3505cc76a"
      },
      "source": [
        "'''\n",
        "cat_onehot_cols\n",
        "#x_train['COMM_FREQ'].describe()\n",
        "x_train['COMM_FREQ'].value_counts()\n",
        "x_train[cat_onehot_cols].describe()\n",
        "x_train['CLOSE_RSN'].value_counts()\n",
        "'''"
      ],
      "execution_count": null,
      "outputs": [
        {
          "output_type": "execute_result",
          "data": {
            "application/vnd.google.colaboratory.intrinsic+json": {
              "type": "string"
            },
            "text/plain": [
              "\"\\ncat_onehot_cols\\n#x_train['COMM_FREQ'].describe()\\nx_train['COMM_FREQ'].value_counts()\\nx_train[cat_onehot_cols].describe()\\nx_train['CLOSE_RSN'].value_counts()\\n\""
            ]
          },
          "metadata": {
            "tags": []
          },
          "execution_count": 46
        }
      ]
    },
    {
      "cell_type": "code",
      "metadata": {
        "colab": {
          "base_uri": "https://localhost:8080/",
          "height": 89
        },
        "id": "vzqyzgRdw4AI",
        "outputId": "c553c459-9684-4674-dd4b-a20096c25141"
      },
      "source": [
        "'''\n",
        "# cat_onehot_cols\n",
        "xx_train = x_train[['CLOSE_RSN', 'COMM_FREQ']].copy()\n",
        "imputer = SimpleImputer(strategy='constant', fill_value='missing')\n",
        "x_train_imputed = imputer.fit_transform(xx_train)\n",
        "pd.DataFrame(x_train_imputed,columns=xx_train.columns).head()\n",
        "# Encode training data\n",
        "encoder = OneHotEncoder(handle_unknown='ignore', sparse=False)\n",
        "#encoder = LabelEncoder()\n",
        "x_train_encoded = encoder.fit_transform(x_train_imputed)\n",
        "#x_train_encoded\n",
        "pd.DataFrame(x_train_encoded, columns=encoder.get_feature_names(xx_train.columns)).head()\n",
        "'''"
      ],
      "execution_count": null,
      "outputs": [
        {
          "output_type": "execute_result",
          "data": {
            "application/vnd.google.colaboratory.intrinsic+json": {
              "type": "string"
            },
            "text/plain": [
              "\"\\n# cat_onehot_cols\\nxx_train = x_train[['CLOSE_RSN', 'COMM_FREQ']].copy()\\nimputer = SimpleImputer(strategy='constant', fill_value='missing')\\nx_train_imputed = imputer.fit_transform(xx_train)\\npd.DataFrame(x_train_imputed,columns=xx_train.columns).head()\\n# Encode training data\\nencoder = OneHotEncoder(handle_unknown='ignore', sparse=False)\\n#encoder = LabelEncoder()\\nx_train_encoded = encoder.fit_transform(x_train_imputed)\\n#x_train_encoded\\npd.DataFrame(x_train_encoded, columns=encoder.get_feature_names(xx_train.columns)).head()\\n\""
            ]
          },
          "metadata": {
            "tags": []
          },
          "execution_count": 47
        }
      ]
    },
    {
      "cell_type": "markdown",
      "metadata": {
        "id": "zoSgzlUf7V7n"
      },
      "source": [
        "##3.2. Base_model"
      ]
    },
    {
      "cell_type": "code",
      "metadata": {
        "colab": {
          "base_uri": "https://localhost:8080/"
        },
        "id": "elrscYiCTPdC",
        "collapsed": true,
        "outputId": "dc691f31-7e93-42e8-da6f-037ad3544f17"
      },
      "source": [
        "from sklearn.metrics import classification_report\n",
        "pipeline.fit(x_train, y_train)\n",
        "print(classification_report(y_val, pipeline.predict(x_val)))"
      ],
      "execution_count": null,
      "outputs": [
        {
          "output_type": "stream",
          "text": [
            "/usr/local/lib/python3.7/dist-packages/sklearn/utils/deprecation.py:87: FutureWarning: Function safe_indexing is deprecated; safe_indexing is deprecated in version 0.22 and will be removed in version 0.24.\n",
            "  warnings.warn(msg, category=FutureWarning)\n"
          ],
          "name": "stderr"
        },
        {
          "output_type": "execute_result",
          "data": {
            "text/plain": [
              "Pipeline(memory=None,\n",
              "         steps=[('preprocessor',\n",
              "                 ColumnTransformer(n_jobs=None, remainder='drop',\n",
              "                                   sparse_threshold=0.3,\n",
              "                                   transformer_weights=None,\n",
              "                                   transformers=[('num',\n",
              "                                                  Pipeline(memory=None,\n",
              "                                                           steps=[('imputer',\n",
              "                                                                   SimpleImputer(add_indicator=False,\n",
              "                                                                                 copy=True,\n",
              "                                                                                 fill_value=None,\n",
              "                                                                                 missing_values=nan,\n",
              "                                                                                 strategy='constant',\n",
              "                                                                                 verbose=0)),\n",
              "                                                                  ('scaler',\n",
              "                                                                   StandardScaler(copy=True,\n",
              "                                                                                  with_me...\n",
              "                 RandomForestClassifier(bootstrap=True, ccp_alpha=0.0,\n",
              "                                        class_weight=None, criterion='gini',\n",
              "                                        max_depth=None, max_features='auto',\n",
              "                                        max_leaf_nodes=None, max_samples=None,\n",
              "                                        min_impurity_decrease=0.0,\n",
              "                                        min_impurity_split=None,\n",
              "                                        min_samples_leaf=1, min_samples_split=2,\n",
              "                                        min_weight_fraction_leaf=0.0,\n",
              "                                        n_estimators=100, n_jobs=None,\n",
              "                                        oob_score=False, random_state=None,\n",
              "                                        verbose=0, warm_start=False))],\n",
              "         verbose=False)"
            ]
          },
          "metadata": {
            "tags": []
          },
          "execution_count": 48
        },
        {
          "output_type": "stream",
          "text": [
            "              precision    recall  f1-score   support\n",
            "\n",
            "           0       0.98      0.97      0.98       319\n",
            "           1       0.94      0.97      0.95       160\n",
            "\n",
            "    accuracy                           0.97       479\n",
            "   macro avg       0.96      0.97      0.97       479\n",
            "weighted avg       0.97      0.97      0.97       479\n",
            "\n"
          ],
          "name": "stdout"
        }
      ]
    },
    {
      "cell_type": "markdown",
      "metadata": {
        "id": "V1JbpGP67f4K"
      },
      "source": [
        "##3.3. Random grid to search for best hyperparameters"
      ]
    },
    {
      "cell_type": "markdown",
      "metadata": {
        "id": "m82frWR49a4X"
      },
      "source": [
        "define parameter grid"
      ]
    },
    {
      "cell_type": "code",
      "metadata": {
        "id": "FP-k8_tcWoWQ",
        "colab": {
          "base_uri": "https://localhost:8080/"
        },
        "outputId": "87114d5a-cd52-4b4e-f932-132586d732db"
      },
      "source": [
        "from sklearn.model_selection import RandomizedSearchCV\n",
        "\n",
        "# Number of trees in random forest\n",
        "n_estimators = [int(x) for x in np.linspace(start = 200, stop = 2000, num = 10)]\n",
        "# Number of features to consider at every split\n",
        "max_features = ['auto', 'sqrt']\n",
        "# Maximum number of levels in tree\n",
        "max_depth = [int(x) for x in np.linspace(10, 110, num = 11)]\n",
        "max_depth.append(None)\n",
        "# Minimum number of samples required to split a node\n",
        "min_samples_split = [2, 5, 10]\n",
        "# Minimum number of samples required at each leaf node\n",
        "min_samples_leaf = [1, 2, 4]\n",
        "# Method of selecting samples for training each tree\n",
        "bootstrap = [True, False]\n",
        "# Create the random grid\n",
        "random_grid = {'classifier__n_estimators': n_estimators,\n",
        "               'classifier__max_features': max_features,\n",
        "               'classifier__max_depth': max_depth,\n",
        "               'classifier__min_samples_split': min_samples_split,\n",
        "               'classifier__min_samples_leaf': min_samples_leaf,               \n",
        "               'classifier__bootstrap': bootstrap}\n",
        "\n",
        "print(random_grid)"
      ],
      "execution_count": null,
      "outputs": [
        {
          "output_type": "stream",
          "text": [
            "{'classifier__n_estimators': [200, 400, 600, 800, 1000, 1200, 1400, 1600, 1800, 2000], 'classifier__max_features': ['auto', 'sqrt'], 'classifier__max_depth': [10, 20, 30, 40, 50, 60, 70, 80, 90, 100, 110, None], 'classifier__min_samples_split': [2, 5, 10], 'classifier__min_samples_leaf': [1, 2, 4], 'classifier__bootstrap': [True, False]}\n"
          ],
          "name": "stdout"
        }
      ]
    },
    {
      "cell_type": "code",
      "metadata": {
        "colab": {
          "base_uri": "https://localhost:8080/"
        },
        "id": "MJ_hQ2KLWo3R",
        "collapsed": true,
        "outputId": "018ca6a2-417a-4ae6-e05e-3c45d9162317"
      },
      "source": [
        "# Random search of parameters, using 3 fold cross validation, \n",
        "# search across 100 different combinations, and use all available cores\n",
        "cv = RepeatedStratifiedKFold(n_splits=5, n_repeats=3, random_state=42)\n",
        "rf_random = RandomizedSearchCV(estimator = pipeline, param_distributions = random_grid, \n",
        "                               n_iter = 20, cv = cv, verbose=2, random_state=42, n_jobs = -1)\n",
        "# Fit the random search model\n",
        "# rf_random.fit(x_train, y_train)\n",
        "rf_random.fit(x_cv, y_cv)"
      ],
      "execution_count": null,
      "outputs": [
        {
          "output_type": "stream",
          "text": [
            "Fitting 15 folds for each of 20 candidates, totalling 300 fits\n"
          ],
          "name": "stdout"
        },
        {
          "output_type": "stream",
          "text": [
            "[Parallel(n_jobs=-1)]: Using backend LokyBackend with 2 concurrent workers.\n",
            "[Parallel(n_jobs=-1)]: Done  37 tasks      | elapsed:  2.7min\n",
            "[Parallel(n_jobs=-1)]: Done 158 tasks      | elapsed: 21.6min\n",
            "[Parallel(n_jobs=-1)]: Done 300 out of 300 | elapsed: 45.9min finished\n",
            "/usr/local/lib/python3.7/dist-packages/sklearn/utils/deprecation.py:87: FutureWarning: Function safe_indexing is deprecated; safe_indexing is deprecated in version 0.22 and will be removed in version 0.24.\n",
            "  warnings.warn(msg, category=FutureWarning)\n"
          ],
          "name": "stderr"
        },
        {
          "output_type": "execute_result",
          "data": {
            "text/plain": [
              "RandomizedSearchCV(cv=RepeatedStratifiedKFold(n_repeats=3, n_splits=5, random_state=42),\n",
              "                   error_score=nan,\n",
              "                   estimator=Pipeline(memory=None,\n",
              "                                      steps=[('preprocessor',\n",
              "                                              ColumnTransformer(n_jobs=None,\n",
              "                                                                remainder='drop',\n",
              "                                                                sparse_threshold=0.3,\n",
              "                                                                transformer_weights=None,\n",
              "                                                                transformers=[('num',\n",
              "                                                                               Pipeline(memory=None,\n",
              "                                                                                        steps=[('imputer',\n",
              "                                                                                                SimpleImputer(add_indicator=False,\n",
              "                                                                                                              copy=Tr...\n",
              "                                        'classifier__max_depth': [10, 20, 30,\n",
              "                                                                  40, 50, 60,\n",
              "                                                                  70, 80, 90,\n",
              "                                                                  100, 110,\n",
              "                                                                  None],\n",
              "                                        'classifier__max_features': ['auto',\n",
              "                                                                     'sqrt'],\n",
              "                                        'classifier__min_samples_leaf': [1, 2,\n",
              "                                                                         4],\n",
              "                                        'classifier__min_samples_split': [2, 5,\n",
              "                                                                          10],\n",
              "                                        'classifier__n_estimators': [200, 400,\n",
              "                                                                     600, 800,\n",
              "                                                                     1000, 1200,\n",
              "                                                                     1400, 1600,\n",
              "                                                                     1800,\n",
              "                                                                     2000]},\n",
              "                   pre_dispatch='2*n_jobs', random_state=42, refit=True,\n",
              "                   return_train_score=False, scoring=None, verbose=2)"
            ]
          },
          "metadata": {
            "tags": []
          },
          "execution_count": 50
        }
      ]
    },
    {
      "cell_type": "code",
      "metadata": {
        "colab": {
          "base_uri": "https://localhost:8080/"
        },
        "id": "0D4CbU8uWqFB",
        "outputId": "8680f9a3-7243-4520-ef95-f6f3a6a5b9a9"
      },
      "source": [
        "rf_random.best_params_\n",
        "best_random = rf_random.best_estimator_\n",
        "best_random.fit(x_train, y_train)"
      ],
      "execution_count": null,
      "outputs": [
        {
          "output_type": "execute_result",
          "data": {
            "text/plain": [
              "{'classifier__bootstrap': False,\n",
              " 'classifier__max_depth': 20,\n",
              " 'classifier__max_features': 'auto',\n",
              " 'classifier__min_samples_leaf': 2,\n",
              " 'classifier__min_samples_split': 10,\n",
              " 'classifier__n_estimators': 400}"
            ]
          },
          "metadata": {
            "tags": []
          },
          "execution_count": 51
        },
        {
          "output_type": "stream",
          "text": [
            "/usr/local/lib/python3.7/dist-packages/sklearn/utils/deprecation.py:87: FutureWarning: Function safe_indexing is deprecated; safe_indexing is deprecated in version 0.22 and will be removed in version 0.24.\n",
            "  warnings.warn(msg, category=FutureWarning)\n"
          ],
          "name": "stderr"
        },
        {
          "output_type": "execute_result",
          "data": {
            "text/plain": [
              "Pipeline(memory=None,\n",
              "         steps=[('preprocessor',\n",
              "                 ColumnTransformer(n_jobs=None, remainder='drop',\n",
              "                                   sparse_threshold=0.3,\n",
              "                                   transformer_weights=None,\n",
              "                                   transformers=[('num',\n",
              "                                                  Pipeline(memory=None,\n",
              "                                                           steps=[('imputer',\n",
              "                                                                   SimpleImputer(add_indicator=False,\n",
              "                                                                                 copy=True,\n",
              "                                                                                 fill_value=None,\n",
              "                                                                                 missing_values=nan,\n",
              "                                                                                 strategy='constant',\n",
              "                                                                                 verbose=0)),\n",
              "                                                                  ('scaler',\n",
              "                                                                   StandardScaler(copy=True,\n",
              "                                                                                  with_me...\n",
              "                 RandomForestClassifier(bootstrap=False, ccp_alpha=0.0,\n",
              "                                        class_weight=None, criterion='gini',\n",
              "                                        max_depth=20, max_features='auto',\n",
              "                                        max_leaf_nodes=None, max_samples=None,\n",
              "                                        min_impurity_decrease=0.0,\n",
              "                                        min_impurity_split=None,\n",
              "                                        min_samples_leaf=2,\n",
              "                                        min_samples_split=10,\n",
              "                                        min_weight_fraction_leaf=0.0,\n",
              "                                        n_estimators=400, n_jobs=None,\n",
              "                                        oob_score=False, random_state=None,\n",
              "                                        verbose=0, warm_start=False))],\n",
              "         verbose=False)"
            ]
          },
          "metadata": {
            "tags": []
          },
          "execution_count": 51
        }
      ]
    },
    {
      "cell_type": "code",
      "metadata": {
        "colab": {
          "base_uri": "https://localhost:8080/"
        },
        "id": "s49DmwE9m2Hh",
        "outputId": "9f2df94c-f6d7-47b9-8943-eba811739ec1"
      },
      "source": [
        "print(classification_report(y_val, best_random.predict(x_val)))\n",
        "print(classification_report(y_test, best_random.predict(x_test)))"
      ],
      "execution_count": null,
      "outputs": [
        {
          "output_type": "stream",
          "text": [
            "              precision    recall  f1-score   support\n",
            "\n",
            "           0       0.98      0.97      0.97       319\n",
            "           1       0.93      0.96      0.95       160\n",
            "\n",
            "    accuracy                           0.96       479\n",
            "   macro avg       0.96      0.96      0.96       479\n",
            "weighted avg       0.97      0.96      0.96       479\n",
            "\n",
            "              precision    recall  f1-score   support\n",
            "\n",
            "           0       0.99      0.98      0.98       225\n",
            "           1       0.96      0.98      0.97       113\n",
            "\n",
            "    accuracy                           0.98       338\n",
            "   macro avg       0.97      0.98      0.98       338\n",
            "weighted avg       0.98      0.98      0.98       338\n",
            "\n"
          ],
          "name": "stdout"
        }
      ]
    },
    {
      "cell_type": "markdown",
      "metadata": {
        "id": "GdxtNc_Ivmf4"
      },
      "source": [
        "# 4. Check model: cross validation"
      ]
    },
    {
      "cell_type": "code",
      "metadata": {
        "id": "bBqV7pNp2-YC",
        "colab": {
          "base_uri": "https://localhost:8080/"
        },
        "outputId": "409a8fb3-ff1f-4f70-bb3d-8175aa59d748"
      },
      "source": [
        "# metrics\n",
        "from sklearn.metrics import SCORERS\n",
        "SCORERS.keys()"
      ],
      "execution_count": null,
      "outputs": [
        {
          "output_type": "execute_result",
          "data": {
            "text/plain": [
              "dict_keys(['explained_variance', 'r2', 'max_error', 'neg_median_absolute_error', 'neg_mean_absolute_error', 'neg_mean_squared_error', 'neg_mean_squared_log_error', 'neg_root_mean_squared_error', 'neg_mean_poisson_deviance', 'neg_mean_gamma_deviance', 'accuracy', 'roc_auc', 'roc_auc_ovr', 'roc_auc_ovo', 'roc_auc_ovr_weighted', 'roc_auc_ovo_weighted', 'balanced_accuracy', 'average_precision', 'neg_log_loss', 'neg_brier_score', 'adjusted_rand_score', 'homogeneity_score', 'completeness_score', 'v_measure_score', 'mutual_info_score', 'adjusted_mutual_info_score', 'normalized_mutual_info_score', 'fowlkes_mallows_score', 'precision', 'precision_macro', 'precision_micro', 'precision_samples', 'precision_weighted', 'recall', 'recall_macro', 'recall_micro', 'recall_samples', 'recall_weighted', 'f1', 'f1_macro', 'f1_micro', 'f1_samples', 'f1_weighted', 'jaccard', 'jaccard_macro', 'jaccard_micro', 'jaccard_samples', 'jaccard_weighted'])"
            ]
          },
          "metadata": {
            "tags": []
          },
          "execution_count": 53
        }
      ]
    },
    {
      "cell_type": "code",
      "metadata": {
        "id": "iQadPAlOvvQE"
      },
      "source": [
        "from sklearn.metrics import make_scorer, accuracy_score, precision_score, recall_score, f1_score\n",
        "from sklearn.model_selection import cross_val_score, RepeatedStratifiedKFold, cross_validate \n",
        "from numpy import mean\n",
        "\n",
        "scoring = {'accuracy' : make_scorer(accuracy_score), \n",
        "           'precision' : make_scorer(precision_score),\n",
        "           'recall' : make_scorer(recall_score), \n",
        "           'f1_score' : make_scorer(f1_score)}\n",
        "\n",
        "# evaluate pipeline\n",
        "cv = RepeatedStratifiedKFold(n_splits=5, n_repeats=3, random_state=42)\n",
        "scores = cross_validate(best_random, x_cv, y_cv, scoring=scoring, cv=cv, n_jobs=-1)\n",
        "# scores = cross_val_score(pipepline, x_train, y_train, scoring=scoring, cv=cv, n_jobs=-1)\n"
      ],
      "execution_count": null,
      "outputs": []
    },
    {
      "cell_type": "code",
      "metadata": {
        "colab": {
          "base_uri": "https://localhost:8080/"
        },
        "id": "rtt5hNWmJ25u",
        "outputId": "3737e00e-6a6c-47c1-bfdd-db552637ff6f"
      },
      "source": [
        "scores"
      ],
      "execution_count": null,
      "outputs": [
        {
          "output_type": "execute_result",
          "data": {
            "text/plain": [
              "{'fit_time': array([8.35593009, 8.593539  , 8.34101248, 8.2737267 , 8.77689004,\n",
              "        8.65393567, 8.00920105, 8.41577244, 8.53248096, 8.39873052,\n",
              "        7.95788503, 8.21473217, 7.9704864 , 7.86780667, 5.79173088]),\n",
              " 'score_time': array([0.10265732, 0.13095331, 0.13368225, 0.11193109, 0.10335445,\n",
              "        0.1035974 , 0.09929228, 0.11173844, 0.11066413, 0.09981036,\n",
              "        0.0993917 , 0.0965488 , 0.0963738 , 0.09623694, 0.05558062]),\n",
              " 'test_accuracy': array([0.95822454, 0.98172324, 0.9843342 , 0.96344648, 0.96596859,\n",
              "        0.97650131, 0.96866841, 0.97650131, 0.97127937, 0.96073298,\n",
              "        0.97650131, 0.98694517, 0.95039164, 0.96344648, 0.96858639]),\n",
              " 'test_f1_score': array([0.9379845 , 0.97276265, 0.97674419, 0.94656489, 0.94901961,\n",
              "        0.96498054, 0.95488722, 0.96414343, 0.95719844, 0.94208494,\n",
              "        0.96525097, 0.98054475, 0.92664093, 0.94615385, 0.953125  ]),\n",
              " 'test_precision': array([0.93076923, 0.96899225, 0.96923077, 0.92537313, 0.9453125 ,\n",
              "        0.96124031, 0.92028986, 0.98373984, 0.95348837, 0.92424242,\n",
              "        0.95419847, 0.97674419, 0.91603053, 0.93181818, 0.94573643]),\n",
              " 'test_recall': array([0.9453125 , 0.9765625 , 0.984375  , 0.96875   , 0.95275591,\n",
              "        0.96875   , 0.9921875 , 0.9453125 , 0.9609375 , 0.96062992,\n",
              "        0.9765625 , 0.984375  , 0.9375    , 0.9609375 , 0.96062992])}"
            ]
          },
          "metadata": {
            "tags": []
          },
          "execution_count": 55
        }
      ]
    },
    {
      "cell_type": "code",
      "metadata": {
        "colab": {
          "base_uri": "https://localhost:8080/"
        },
        "id": "h7O7j7poKPAO",
        "outputId": "84eb1afd-adea-48e3-8f35-4804e6412cc6"
      },
      "source": [
        "print(mean(scores['test_accuracy']))\n",
        "print(mean(scores['test_precision']))\n",
        "print(mean(scores['test_recall']))\n",
        "print(mean(scores['test_f1_score']))"
      ],
      "execution_count": null,
      "outputs": [
        {
          "output_type": "stream",
          "text": [
            "0.9702167603060253\n",
            "0.9471470993920658\n",
            "0.9650385498687665\n",
            "0.9558723920868956\n"
          ],
          "name": "stdout"
        }
      ]
    },
    {
      "cell_type": "code",
      "metadata": {
        "id": "P5n1BQkbKbLP"
      },
      "source": [
        ""
      ],
      "execution_count": null,
      "outputs": []
    },
    {
      "cell_type": "code",
      "metadata": {
        "colab": {
          "base_uri": "https://localhost:8080/"
        },
        "id": "k7q69x_6P7NP",
        "outputId": "a2134717-84d9-4846-caff-7c8e5f904334"
      },
      "source": [
        "timestr = time.strftime(\"%Y%m%d-%H%M%S\")\n",
        "path = '/content/drive/MyDrive/BIDV/CARD_FRAUD/model/'\n",
        "filename = path + 'finalized_model_06_'+timestr+'.sav'\n",
        "joblib.dump(best_random, filename)"
      ],
      "execution_count": null,
      "outputs": [
        {
          "output_type": "execute_result",
          "data": {
            "text/plain": [
              "['/content/drive/MyDrive/BIDV/CARD_FRAUD/model/finalized_model_06_20210716-101219.sav']"
            ]
          },
          "metadata": {
            "tags": []
          },
          "execution_count": 57
        }
      ]
    },
    {
      "cell_type": "markdown",
      "metadata": {
        "id": "fUFiOxTDLVgC"
      },
      "source": [
        "# 5. Check new data"
      ]
    },
    {
      "cell_type": "code",
      "metadata": {
        "id": "geNvlEs9LaFa"
      },
      "source": [
        "fraud_mids=pd.read_csv(r\"/content/drive/MyDrive/BIDV/CARD_FRAUD/data/test_real_data/FRAUD_07.csv\", error_bad_lines=False)\n",
        "fraud_data=pd.read_csv(r\"/content/drive/MyDrive/BIDV/CARD_FRAUD/data/test_real_data/data_1207.csv\", error_bad_lines=False)"
      ],
      "execution_count": null,
      "outputs": []
    },
    {
      "cell_type": "code",
      "metadata": {
        "colab": {
          "base_uri": "https://localhost:8080/"
        },
        "id": "p4j88FvTbFpl",
        "outputId": "49a49393-7e7e-4091-d5e1-b4439a0b53ab"
      },
      "source": [
        "index_fraud_mids = fraud_data['MERCHANT'].isin(fraud_mids['MID'])\n",
        "df_check = fraud_data[index_fraud_mids]\n",
        "df_check['MERCH_FR'] = 1\n",
        "df_check.shape"
      ],
      "execution_count": null,
      "outputs": [
        {
          "output_type": "execute_result",
          "data": {
            "text/plain": [
              "(216, 384)"
            ]
          },
          "metadata": {
            "tags": []
          },
          "execution_count": 74
        }
      ]
    },
    {
      "cell_type": "code",
      "metadata": {
        "id": "_ihnO4GnccZT"
      },
      "source": [
        "df_check = process_data_type(df_check[list_col_name])\n",
        "df_fraud_new = df_check[features].copy()"
      ],
      "execution_count": null,
      "outputs": []
    },
    {
      "cell_type": "code",
      "metadata": {
        "id": "MAuKgDfRd8pH"
      },
      "source": [
        "result = best_random.predict(df_fraud_new)"
      ],
      "execution_count": null,
      "outputs": []
    },
    {
      "cell_type": "code",
      "metadata": {
        "id": "k17ulcUMc-ac"
      },
      "source": [
        ""
      ],
      "execution_count": null,
      "outputs": []
    },
    {
      "cell_type": "code",
      "metadata": {
        "colab": {
          "base_uri": "https://localhost:8080/"
        },
        "id": "-zrjhWy0lNIl",
        "outputId": "5782b996-5b9f-445e-8c33-9c94c4529ef2"
      },
      "source": [
        "result.sum()/len(result)"
      ],
      "execution_count": null,
      "outputs": [
        {
          "output_type": "execute_result",
          "data": {
            "text/plain": [
              "0.9351851851851852"
            ]
          },
          "metadata": {
            "tags": []
          },
          "execution_count": 101
        }
      ]
    },
    {
      "cell_type": "code",
      "metadata": {
        "colab": {
          "base_uri": "https://localhost:8080/"
        },
        "id": "Xn58d0AAjh0L",
        "outputId": "3518f5c6-14d4-40e8-e3b3-b510a00b62fd"
      },
      "source": [
        "print(classification_report(df_check['MERCH_FR'], best_random.predict(df_fraud_new)))"
      ],
      "execution_count": null,
      "outputs": [
        {
          "output_type": "stream",
          "text": [
            "              precision    recall  f1-score   support\n",
            "\n",
            "           0       0.00      0.00      0.00         0\n",
            "           1       1.00      0.94      0.97       216\n",
            "\n",
            "    accuracy                           0.94       216\n",
            "   macro avg       0.50      0.47      0.48       216\n",
            "weighted avg       1.00      0.94      0.97       216\n",
            "\n"
          ],
          "name": "stdout"
        }
      ]
    },
    {
      "cell_type": "markdown",
      "metadata": {
        "id": "SVvPGHtiWl0D"
      },
      "source": [
        "# 6. Compare new data with training data\n",
        "may be compare with fraud data"
      ]
    },
    {
      "cell_type": "code",
      "metadata": {
        "colab": {
          "base_uri": "https://localhost:8080/"
        },
        "id": "7B4TDHEZWw-1",
        "outputId": "5a420531-53a7-4505-99fd-aa9a4b07f418"
      },
      "source": [
        "df_fraud = df_sub[df_sub.MERCH_FR == 1].copy()\n",
        "df_fraud.shape"
      ],
      "execution_count": null,
      "outputs": [
        {
          "output_type": "execute_result",
          "data": {
            "text/plain": [
              "(752, 292)"
            ]
          },
          "metadata": {
            "tags": []
          },
          "execution_count": 61
        }
      ]
    },
    {
      "cell_type": "code",
      "metadata": {
        "colab": {
          "base_uri": "https://localhost:8080/"
        },
        "id": "0n-INLMMYcQF",
        "outputId": "89ba158d-f1df-4520-c069-aee8191a213b"
      },
      "source": [
        "import matplotlib.pyplot as plt\n",
        "import seaborn as sns\n",
        "import scipy.stats as stats\n",
        "\n",
        "%matplotlib inline\n",
        "%load_ext autoreload\n",
        "%autoreload\n",
        "sns.set_style(\"darkgrid\")\n",
        "\n",
        "import warnings\n",
        "warnings.filterwarnings('ignore')"
      ],
      "execution_count": null,
      "outputs": [
        {
          "output_type": "stream",
          "text": [
            "The autoreload extension is already loaded. To reload it, use:\n",
            "  %reload_ext autoreload\n"
          ],
          "name": "stdout"
        }
      ]
    },
    {
      "cell_type": "code",
      "metadata": {
        "colab": {
          "base_uri": "https://localhost:8080/",
          "height": 89
        },
        "collapsed": true,
        "id": "tygPZOQ8WtEW",
        "outputId": "cd0eff1d-cf7e-4f6b-e24e-7c10d028191e"
      },
      "source": [
        "'''\n",
        "for col in num_cols:\n",
        "  print('------------------------------------------------------------')\n",
        "  print(col)\n",
        "\n",
        "  plt.figure(figsize=(16,4))\n",
        "\n",
        "  plt.subplot(141)\n",
        "  sns.distplot(df_fraud[col], label=\"skew: \" + str(np.round(df_fraud[col].skew(),2)))\n",
        "  plt.title('df_fraud')\n",
        "  plt.legend()\n",
        "\n",
        "  plt.subplot(142)\n",
        "  sns.distplot(df_data06[col], label=\"skew: \" + str(np.round(df_data06[col].skew(),2)))\n",
        "  plt.title('new_data_06')\n",
        "  plt.legend()\n",
        "\n",
        "  plt.subplot(143)\n",
        "  sns.boxplot(df_fraud[col])\n",
        "  plt.title('df_fraud')\n",
        "\n",
        "  plt.subplot(144)\n",
        "  sns.boxplot(df_data06[col])\n",
        "  plt.title('new_data_06')\n",
        "  plt.tight_layout()\n",
        "  plt.show()\n",
        "\n",
        "'''"
      ],
      "execution_count": null,
      "outputs": [
        {
          "output_type": "execute_result",
          "data": {
            "application/vnd.google.colaboratory.intrinsic+json": {
              "type": "string"
            },
            "text/plain": [
              "'\\nfor col in num_cols:\\n  print(\\'------------------------------------------------------------\\')\\n  print(col)\\n\\n  plt.figure(figsize=(16,4))\\n\\n  plt.subplot(141)\\n  sns.distplot(df_fraud[col], label=\"skew: \" + str(np.round(df_fraud[col].skew(),2)))\\n  plt.title(\\'df_fraud\\')\\n  plt.legend()\\n\\n  plt.subplot(142)\\n  sns.distplot(df_data06[col], label=\"skew: \" + str(np.round(df_data06[col].skew(),2)))\\n  plt.title(\\'new_data_06\\')\\n  plt.legend()\\n\\n  plt.subplot(143)\\n  sns.boxplot(df_fraud[col])\\n  plt.title(\\'df_fraud\\')\\n\\n  plt.subplot(144)\\n  sns.boxplot(df_data06[col])\\n  plt.title(\\'new_data_06\\')\\n  plt.tight_layout()\\n  plt.show()\\n\\n'"
            ]
          },
          "metadata": {
            "tags": []
          },
          "execution_count": 69
        }
      ]
    },
    {
      "cell_type": "code",
      "metadata": {
        "id": "Hh7yEwHoYUUs",
        "colab": {
          "base_uri": "https://localhost:8080/",
          "height": 283
        },
        "outputId": "1181ef27-b7bc-4dab-ff4b-4a83ca6cc0bd"
      },
      "source": [
        "sorted_idx = best_random['classifier'].feature_importances_.argsort()\n",
        "plt.barh(x_train.columns[sorted_idx[-20:-1]], best_random['classifier'].feature_importances_[sorted_idx[-20:-1]])"
      ],
      "execution_count": null,
      "outputs": [
        {
          "output_type": "execute_result",
          "data": {
            "text/plain": [
              "<BarContainer object of 19 artists>"
            ]
          },
          "metadata": {
            "tags": []
          },
          "execution_count": 64
        },
        {
          "output_type": "display_data",
          "data": {
            "image/png": "[encoded data removed]",
            "text/plain": [
              "<Figure size 432x288 with 1 Axes>"
            ]
          },
          "metadata": {
            "tags": []
          }
        }
      ]
    },
    {
      "cell_type": "code",
      "metadata": {
        "id": "sksggcrHJKVd"
      },
      "source": [
        "importances = best_random['classifier'].feature_importances_\n",
        "std = np.std([tree.feature_importances_ for tree in best_random['classifier'].estimators_], axis=0)"
      ],
      "execution_count": null,
      "outputs": []
    },
    {
      "cell_type": "code",
      "metadata": {
        "colab": {
          "base_uri": "https://localhost:8080/"
        },
        "id": "nUvU-KELWFbE",
        "outputId": "82ef5250-e43d-40f4-9d06-f3eb37b4457e"
      },
      "source": [
        "len(x_train.columns)"
      ],
      "execution_count": null,
      "outputs": [
        {
          "output_type": "execute_result",
          "data": {
            "text/plain": [
              "285"
            ]
          },
          "metadata": {
            "tags": []
          },
          "execution_count": 68
        }
      ]
    },
    {
      "cell_type": "code",
      "metadata": {
        "colab": {
          "base_uri": "https://localhost:8080/",
          "height": 366
        },
        "id": "wlrGvIQUKOlP",
        "outputId": "f97a0db4-365f-4495-fa6e-fef04d5aff09"
      },
      "source": [
        "forest_importances = pd.Series(importances, index=x_train.columns)\n",
        "\n",
        "fig, ax = plt.subplots()\n",
        "forest_importances.plot.bar(yerr=std, ax=ax)\n",
        "ax.set_title(\"Feature importances using MDI\")\n",
        "ax.set_ylabel(\"Mean decrease in impurity\")\n",
        "fig.tight_layout()"
      ],
      "execution_count": null,
      "outputs": [
        {
          "output_type": "error",
          "ename": "ValueError",
          "evalue": "ignored",
          "traceback": [
            "\u001b[0;31m---------------------------------------------------------------------------\u001b[0m",
            "\u001b[0;31mValueError\u001b[0m                                Traceback (most recent call last)",
            "\u001b[0;32m<ipython-input-66-521dddca6267>\u001b[0m in \u001b[0;36m<module>\u001b[0;34m()\u001b[0m\n\u001b[0;32m----> 1\u001b[0;31m \u001b[0mforest_importances\u001b[0m \u001b[0;34m=\u001b[0m \u001b[0mpd\u001b[0m\u001b[0;34m.\u001b[0m\u001b[0mSeries\u001b[0m\u001b[0;34m(\u001b[0m\u001b[0mimportances\u001b[0m\u001b[0;34m,\u001b[0m \u001b[0mindex\u001b[0m\u001b[0;34m=\u001b[0m\u001b[0mx_train\u001b[0m\u001b[0;34m.\u001b[0m\u001b[0mcolumns\u001b[0m\u001b[0;34m)\u001b[0m\u001b[0;34m\u001b[0m\u001b[0;34m\u001b[0m\u001b[0m\n\u001b[0m\u001b[1;32m      2\u001b[0m \u001b[0;34m\u001b[0m\u001b[0m\n\u001b[1;32m      3\u001b[0m \u001b[0mfig\u001b[0m\u001b[0;34m,\u001b[0m \u001b[0max\u001b[0m \u001b[0;34m=\u001b[0m \u001b[0mplt\u001b[0m\u001b[0;34m.\u001b[0m\u001b[0msubplots\u001b[0m\u001b[0;34m(\u001b[0m\u001b[0;34m)\u001b[0m\u001b[0;34m\u001b[0m\u001b[0;34m\u001b[0m\u001b[0m\n\u001b[1;32m      4\u001b[0m \u001b[0mforest_importances\u001b[0m\u001b[0;34m.\u001b[0m\u001b[0mplot\u001b[0m\u001b[0;34m.\u001b[0m\u001b[0mbar\u001b[0m\u001b[0;34m(\u001b[0m\u001b[0myerr\u001b[0m\u001b[0;34m=\u001b[0m\u001b[0mstd\u001b[0m\u001b[0;34m,\u001b[0m \u001b[0max\u001b[0m\u001b[0;34m=\u001b[0m\u001b[0max\u001b[0m\u001b[0;34m)\u001b[0m\u001b[0;34m\u001b[0m\u001b[0;34m\u001b[0m\u001b[0m\n\u001b[1;32m      5\u001b[0m \u001b[0max\u001b[0m\u001b[0;34m.\u001b[0m\u001b[0mset_title\u001b[0m\u001b[0;34m(\u001b[0m\u001b[0;34m\"Feature importances using MDI\"\u001b[0m\u001b[0;34m)\u001b[0m\u001b[0;34m\u001b[0m\u001b[0;34m\u001b[0m\u001b[0m\n",
            "\u001b[0;32m/usr/local/lib/python3.7/dist-packages/pandas/core/series.py\u001b[0m in \u001b[0;36m__init__\u001b[0;34m(self, data, index, dtype, name, copy, fastpath)\u001b[0m\n\u001b[1;32m    312\u001b[0m                     \u001b[0;32mif\u001b[0m \u001b[0mlen\u001b[0m\u001b[0;34m(\u001b[0m\u001b[0mindex\u001b[0m\u001b[0;34m)\u001b[0m \u001b[0;34m!=\u001b[0m \u001b[0mlen\u001b[0m\u001b[0;34m(\u001b[0m\u001b[0mdata\u001b[0m\u001b[0;34m)\u001b[0m\u001b[0;34m:\u001b[0m\u001b[0;34m\u001b[0m\u001b[0;34m\u001b[0m\u001b[0m\n\u001b[1;32m    313\u001b[0m                         raise ValueError(\n\u001b[0;32m--> 314\u001b[0;31m                             \u001b[0;34mf\"Length of passed values is {len(data)}, \"\u001b[0m\u001b[0;34m\u001b[0m\u001b[0;34m\u001b[0m\u001b[0m\n\u001b[0m\u001b[1;32m    315\u001b[0m                             \u001b[0;34mf\"index implies {len(index)}.\"\u001b[0m\u001b[0;34m\u001b[0m\u001b[0;34m\u001b[0m\u001b[0m\n\u001b[1;32m    316\u001b[0m                         )\n",
            "\u001b[0;31mValueError\u001b[0m: Length of passed values is 268, index implies 285."
          ]
        }
      ]
    },
    {
      "cell_type": "code",
      "metadata": {
        "id": "-FoK8XtlPkef"
      },
      "source": [
        "list_features_importances = x_train.columns[sorted_idx[-20:-1]].to_list()"
      ],
      "execution_count": null,
      "outputs": []
    },
    {
      "cell_type": "code",
      "metadata": {
        "id": "hJH8lHAxP125"
      },
      "source": [
        "MERCHANT_COLUMNS_PROPERTIES.head()"
      ],
      "execution_count": null,
      "outputs": []
    },
    {
      "cell_type": "code",
      "metadata": {
        "id": "6BG_ZNNkQGSY"
      },
      "source": [
        "index_features = MERCHANT_COLUMNS_PROPERTIES['COLUMN_NAME'].isin(list_features_importances)\n",
        "MERCHANT_COLUMNS_PROPERTIES[index_features].head(20)"
      ],
      "execution_count": null,
      "outputs": []
    },
    {
      "cell_type": "code",
      "metadata": {
        "id": "fwekhmd6Qpzc"
      },
      "source": [
        ""
      ],
      "execution_count": null,
      "outputs": []
    }
  ]
}