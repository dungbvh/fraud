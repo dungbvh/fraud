{
  "nbformat": 4,
  "nbformat_minor": 0,
  "metadata": {
    "colab": {
      "name": "Funix XGBoost hyperparameter tuning.ipynb",
      "provenance": [],
      "collapsed_sections": []
    },
    "kernelspec": {
      "name": "python3",
      "display_name": "Python 3"
    },
    "language_info": {
      "name": "python"
    }
  },
  "cells": [
    {
      "cell_type": "code",
      "execution_count": 1,
      "metadata": {
        "colab": {
          "base_uri": "https://localhost:8080/"
        },
        "id": "uZe-v3UwPR7j",
        "outputId": "1ce9d887-50a6-4e8f-f28b-7351c64e14ad"
      },
      "outputs": [
        {
          "output_type": "stream",
          "name": "stdout",
          "text": [
            "Collecting optuna\n",
            "  Downloading optuna-2.10.0-py3-none-any.whl (308 kB)\n",
            "\u001b[?25l\r\u001b[K     |█                               | 10 kB 26.3 MB/s eta 0:00:01\r\u001b[K     |██▏                             | 20 kB 30.6 MB/s eta 0:00:01\r\u001b[K     |███▏                            | 30 kB 34.4 MB/s eta 0:00:01\r\u001b[K     |████▎                           | 40 kB 21.7 MB/s eta 0:00:01\r\u001b[K     |█████▎                          | 51 kB 19.0 MB/s eta 0:00:01\r\u001b[K     |██████▍                         | 61 kB 21.6 MB/s eta 0:00:01\r\u001b[K     |███████▍                        | 71 kB 21.9 MB/s eta 0:00:01\r\u001b[K     |████████▌                       | 81 kB 22.9 MB/s eta 0:00:01\r\u001b[K     |█████████▋                      | 92 kB 24.9 MB/s eta 0:00:01\r\u001b[K     |██████████▋                     | 102 kB 24.2 MB/s eta 0:00:01\r\u001b[K     |███████████▊                    | 112 kB 24.2 MB/s eta 0:00:01\r\u001b[K     |████████████▊                   | 122 kB 24.2 MB/s eta 0:00:01\r\u001b[K     |█████████████▉                  | 133 kB 24.2 MB/s eta 0:00:01\r\u001b[K     |██████████████▉                 | 143 kB 24.2 MB/s eta 0:00:01\r\u001b[K     |████████████████                | 153 kB 24.2 MB/s eta 0:00:01\r\u001b[K     |█████████████████               | 163 kB 24.2 MB/s eta 0:00:01\r\u001b[K     |██████████████████              | 174 kB 24.2 MB/s eta 0:00:01\r\u001b[K     |███████████████████▏            | 184 kB 24.2 MB/s eta 0:00:01\r\u001b[K     |████████████████████▏           | 194 kB 24.2 MB/s eta 0:00:01\r\u001b[K     |█████████████████████▎          | 204 kB 24.2 MB/s eta 0:00:01\r\u001b[K     |██████████████████████▎         | 215 kB 24.2 MB/s eta 0:00:01\r\u001b[K     |███████████████████████▍        | 225 kB 24.2 MB/s eta 0:00:01\r\u001b[K     |████████████████████████▌       | 235 kB 24.2 MB/s eta 0:00:01\r\u001b[K     |█████████████████████████▌      | 245 kB 24.2 MB/s eta 0:00:01\r\u001b[K     |██████████████████████████▋     | 256 kB 24.2 MB/s eta 0:00:01\r\u001b[K     |███████████████████████████▋    | 266 kB 24.2 MB/s eta 0:00:01\r\u001b[K     |████████████████████████████▊   | 276 kB 24.2 MB/s eta 0:00:01\r\u001b[K     |█████████████████████████████▊  | 286 kB 24.2 MB/s eta 0:00:01\r\u001b[K     |██████████████████████████████▉ | 296 kB 24.2 MB/s eta 0:00:01\r\u001b[K     |████████████████████████████████| 307 kB 24.2 MB/s eta 0:00:01\r\u001b[K     |████████████████████████████████| 308 kB 24.2 MB/s \n",
            "\u001b[?25hRequirement already satisfied: packaging>=20.0 in /usr/local/lib/python3.7/dist-packages (from optuna) (21.3)\n",
            "Collecting cmaes>=0.8.2\n",
            "  Downloading cmaes-0.8.2-py3-none-any.whl (15 kB)\n",
            "Requirement already satisfied: sqlalchemy>=1.1.0 in /usr/local/lib/python3.7/dist-packages (from optuna) (1.4.32)\n",
            "Requirement already satisfied: scipy!=1.4.0 in /usr/local/lib/python3.7/dist-packages (from optuna) (1.4.1)\n",
            "Collecting cliff\n",
            "  Downloading cliff-3.10.1-py3-none-any.whl (81 kB)\n",
            "\u001b[K     |████████████████████████████████| 81 kB 10.5 MB/s \n",
            "\u001b[?25hCollecting alembic\n",
            "  Downloading alembic-1.7.7-py3-none-any.whl (210 kB)\n",
            "\u001b[K     |████████████████████████████████| 210 kB 46.9 MB/s \n",
            "\u001b[?25hCollecting colorlog\n",
            "  Downloading colorlog-6.6.0-py2.py3-none-any.whl (11 kB)\n",
            "Requirement already satisfied: tqdm in /usr/local/lib/python3.7/dist-packages (from optuna) (4.63.0)\n",
            "Requirement already satisfied: numpy in /usr/local/lib/python3.7/dist-packages (from optuna) (1.21.5)\n",
            "Requirement already satisfied: PyYAML in /usr/local/lib/python3.7/dist-packages (from optuna) (3.13)\n",
            "Requirement already satisfied: pyparsing!=3.0.5,>=2.0.2 in /usr/local/lib/python3.7/dist-packages (from packaging>=20.0->optuna) (3.0.7)\n",
            "Requirement already satisfied: importlib-metadata in /usr/local/lib/python3.7/dist-packages (from sqlalchemy>=1.1.0->optuna) (4.11.3)\n",
            "Requirement already satisfied: greenlet!=0.4.17 in /usr/local/lib/python3.7/dist-packages (from sqlalchemy>=1.1.0->optuna) (1.1.2)\n",
            "Collecting Mako\n",
            "  Downloading Mako-1.2.0-py3-none-any.whl (78 kB)\n",
            "\u001b[K     |████████████████████████████████| 78 kB 6.3 MB/s \n",
            "\u001b[?25hRequirement already satisfied: importlib-resources in /usr/local/lib/python3.7/dist-packages (from alembic->optuna) (5.4.0)\n",
            "Collecting autopage>=0.4.0\n",
            "  Downloading autopage-0.5.0-py3-none-any.whl (29 kB)\n",
            "Collecting stevedore>=2.0.1\n",
            "  Downloading stevedore-3.5.0-py3-none-any.whl (49 kB)\n",
            "\u001b[K     |████████████████████████████████| 49 kB 4.0 MB/s \n",
            "\u001b[?25hCollecting pbr!=2.1.0,>=2.0.0\n",
            "  Downloading pbr-5.8.1-py2.py3-none-any.whl (113 kB)\n",
            "\u001b[K     |████████████████████████████████| 113 kB 45.7 MB/s \n",
            "\u001b[?25hCollecting cmd2>=1.0.0\n",
            "  Downloading cmd2-2.4.0-py3-none-any.whl (150 kB)\n",
            "\u001b[K     |████████████████████████████████| 150 kB 48.6 MB/s \n",
            "\u001b[?25hRequirement already satisfied: PrettyTable>=0.7.2 in /usr/local/lib/python3.7/dist-packages (from cliff->optuna) (3.2.0)\n",
            "Requirement already satisfied: typing-extensions in /usr/local/lib/python3.7/dist-packages (from cmd2>=1.0.0->cliff->optuna) (3.10.0.2)\n",
            "Collecting pyperclip>=1.6\n",
            "  Downloading pyperclip-1.8.2.tar.gz (20 kB)\n",
            "Requirement already satisfied: attrs>=16.3.0 in /usr/local/lib/python3.7/dist-packages (from cmd2>=1.0.0->cliff->optuna) (21.4.0)\n",
            "Requirement already satisfied: wcwidth>=0.1.7 in /usr/local/lib/python3.7/dist-packages (from cmd2>=1.0.0->cliff->optuna) (0.2.5)\n",
            "Requirement already satisfied: zipp>=0.5 in /usr/local/lib/python3.7/dist-packages (from importlib-metadata->sqlalchemy>=1.1.0->optuna) (3.7.0)\n",
            "Requirement already satisfied: MarkupSafe>=0.9.2 in /usr/local/lib/python3.7/dist-packages (from Mako->alembic->optuna) (2.0.1)\n",
            "Building wheels for collected packages: pyperclip\n",
            "  Building wheel for pyperclip (setup.py) ... \u001b[?25l\u001b[?25hdone\n",
            "  Created wheel for pyperclip: filename=pyperclip-1.8.2-py3-none-any.whl size=11137 sha256=883d5711dc965fe064034ed407c448133621646806edbeb4b8e0778c7c857eee\n",
            "  Stored in directory: /root/.cache/pip/wheels/9f/18/84/8f69f8b08169c7bae2dde6bd7daf0c19fca8c8e500ee620a28\n",
            "Successfully built pyperclip\n",
            "Installing collected packages: pyperclip, pbr, stevedore, Mako, cmd2, autopage, colorlog, cmaes, cliff, alembic, optuna\n",
            "Successfully installed Mako-1.2.0 alembic-1.7.7 autopage-0.5.0 cliff-3.10.1 cmaes-0.8.2 cmd2-2.4.0 colorlog-6.6.0 optuna-2.10.0 pbr-5.8.1 pyperclip-1.8.2 stevedore-3.5.0\n"
          ]
        }
      ],
      "source": [
        "!pip install optuna"
      ]
    },
    {
      "cell_type": "code",
      "source": [
        "import pandas as pd\n",
        "import numpy as np\n",
        "from sklearn import preprocessing\n",
        "import warnings\n",
        "from imblearn.over_sampling import RandomOverSampler\n",
        "from imblearn.over_sampling import SMOTE, ADASYN\n",
        "from imblearn.under_sampling import RandomUnderSampler\n",
        "from imblearn.pipeline import Pipeline \n",
        "\n",
        "from sklearn.model_selection import train_test_split\n",
        "from sklearn.compose import ColumnTransformer, make_column_selector\n",
        "from sklearn.impute import SimpleImputer\n",
        "\n",
        "from sklearn.tree import DecisionTreeClassifier\n",
        "from sklearn.decomposition import PCA\n",
        "from sklearn.ensemble import RandomForestClassifier\n",
        "\n",
        "from collections import Counter\n",
        "import sklearn\n",
        "from sklearn.metrics import accuracy_score\n",
        "from sklearn.metrics import confusion_matrix\n",
        "from sklearn.metrics import accuracy_score\n",
        "from sklearn.metrics import f1_score\n",
        "from sklearn.metrics import recall_score\n",
        "from sklearn.metrics import precision_score\n",
        "from sklearn.metrics import classification_report\n",
        "from sklearn.utils import resample\n",
        "from xgboost import XGBClassifier\n",
        "\n",
        "import optuna"
      ],
      "metadata": {
        "id": "rqcxEf_3PbIQ"
      },
      "execution_count": 2,
      "outputs": []
    },
    {
      "cell_type": "code",
      "source": [
        "from google.colab import drive\n",
        "drive.mount(\"/content/drive\")"
      ],
      "metadata": {
        "colab": {
          "base_uri": "https://localhost:8080/"
        },
        "id": "JD1kqutqPvJc",
        "outputId": "03cb4f98-a1c5-4de1-b0c3-f3d353945cdc"
      },
      "execution_count": 3,
      "outputs": [
        {
          "output_type": "stream",
          "name": "stdout",
          "text": [
            "Mounted at /content/drive\n"
          ]
        }
      ]
    },
    {
      "cell_type": "code",
      "source": [
        "train=pd.read_csv(r\"/content/drive/MyDrive/BIDV/CARD_FRAUD/data/trainning/funix_train.csv\")\n",
        "val=pd.read_csv(r\"/content/drive/MyDrive/BIDV/CARD_FRAUD/data/trainning/funix_val.csv\")\n",
        "test=pd.read_csv(r\"/content/drive/MyDrive/BIDV/CARD_FRAUD/data/trainning/funix_test.csv\")"
      ],
      "metadata": {
        "id": "tCMm2FszP318"
      },
      "execution_count": 4,
      "outputs": []
    },
    {
      "cell_type": "code",
      "source": [
        "MERCHANT_COLUMNS_PROPERTIES=pd.read_excel(r\"/content/drive/MyDrive/BIDV/CARD_FRAUD/data/column_description.xlsx\")\n",
        "def get_list_cat_columns():\n",
        "    feature_cad = MERCHANT_COLUMNS_PROPERTIES.copy()\n",
        "    feature_cad = feature_cad[(feature_cad[\"ORG_SOURCE\"].isin([\"CAD\", \"MIS_MRCH_DIM\", \"MIS_MR_CST_DIM\",\"MIS_CST_FCT\",\"MIS_MRCH_FCT\",\"EXT\"]))& (feature_cad[\"COLUMN_TP\"] == \"CAT\")\n",
        "    ]\n",
        "    return feature_cad[\"COLUMN_NAME\"].tolist()"
      ],
      "metadata": {
        "id": "A-BxeNo4XwBx"
      },
      "execution_count": 5,
      "outputs": []
    },
    {
      "cell_type": "code",
      "source": [
        "def reduce_memory_usage(df):   \n",
        "    start_memory = df.memory_usage().sum() / 1024**2\n",
        "    print(f\"Memory usage of dataframe is {start_memory} MB\")\n",
        "    \n",
        "    for col in df.columns:\n",
        "        col_type = df[col].dtype\n",
        "        \n",
        "        if col_type != 'object':\n",
        "            c_min = df[col].min()\n",
        "            c_max = df[col].max()\n",
        "            \n",
        "            if str(col_type)[:3] == 'int':\n",
        "                if c_min > np.iinfo(np.int8).min and c_max < np.iinfo(np.int8).max:\n",
        "                    df[col] = df[col].astype(np.int8)\n",
        "                elif c_min > np.iinfo(np.int16).min and c_max < np.iinfo(np.int16).max:\n",
        "                    df[col] = df[col].astype(np.int16)\n",
        "                elif c_min > np.iinfo(np.int32).min and c_max < np.iinfo(np.int32).max:\n",
        "                    df[col] = df[col].astype(np.int32)\n",
        "                elif c_min > np.iinfo(np.int64).min and c_max < np.iinfo(np.int64).max:\n",
        "                    df[col] = df[col].astype(np.int64)\n",
        "                    \n",
        "            else:\n",
        "                if c_min > np.finfo(np.float16).min and c_max < np.finfo(np.float16).max:\n",
        "                    df[col] = df[col].astype(np.float16)\n",
        "                elif c_min > np.finfo(np.float32).min and c_max < np.finfo(np.float32).max:\n",
        "                    df[col] = df[col].astype(np.float32)\n",
        "                else:\n",
        "                    pass\n",
        "        else:\n",
        "            df[col] = df[col].astype('category')\n",
        "    \n",
        "    end_memory = df.memory_usage().sum() / 1024**2\n",
        "    print(f\"Memory usage of dataframe after reduction {end_memory} MB\")\n",
        "    print(f\"Reduced by {100 * (start_memory - end_memory) / start_memory} % \")\n",
        "    return df"
      ],
      "metadata": {
        "id": "bAS6UVd8Z7lW"
      },
      "execution_count": 6,
      "outputs": []
    },
    {
      "cell_type": "code",
      "source": [
        "\n",
        "def get_feature_names(column_transformer):\n",
        "    \"\"\"Get feature names from all transformers.\n",
        "    Returns\n",
        "    -------\n",
        "    feature_names : list of strings\n",
        "        Names of the features produced by transform.\n",
        "    \"\"\"\n",
        "    # Remove the internal helper function\n",
        "    #check_is_fitted(column_transformer)\n",
        "    \n",
        "    # Turn loopkup into function for better handling with pipeline later\n",
        "    def get_names(trans):\n",
        "        # >> Original get_feature_names() method\n",
        "        if trans == 'drop' or (\n",
        "                hasattr(column, '__len__') and not len(column)):\n",
        "            return []\n",
        "        if trans == 'passthrough':\n",
        "            if hasattr(column_transformer, '_df_columns'):\n",
        "                if ((not isinstance(column, slice))\n",
        "                        and all(isinstance(col, str) for col in column)):\n",
        "                    return column\n",
        "                else:\n",
        "                    return column_transformer._df_columns[column]\n",
        "            else:\n",
        "                indices = np.arange(column_transformer._n_features)\n",
        "                return ['x%d' % i for i in indices[column]]\n",
        "        if not hasattr(trans, 'get_feature_names'):\n",
        "        # >>> Change: Return input column names if no method avaiable\n",
        "            # Turn error into a warning\n",
        "            warnings.warn(\"Transformer %s (type %s) does not \"\n",
        "                                 \"provide get_feature_names. \"\n",
        "                                 \"Will return input column names if available\"\n",
        "                                 % (str(name), type(trans).__name__))\n",
        "            # For transformers without a get_features_names method, use the input\n",
        "            # names to the column transformer\n",
        "            if column is None:\n",
        "                return []\n",
        "            else:\n",
        "                return [name + \"__\" + f for f in column]\n",
        "\n",
        "        return [name + \"__\" + f for f in trans.get_feature_names()]\n",
        "    \n",
        "    ### Start of processing\n",
        "    feature_names = []\n",
        "    \n",
        "    # Allow transformers to be pipelines. Pipeline steps are named differently, so preprocessing is needed\n",
        "    if type(column_transformer) == sklearn.pipeline.Pipeline:\n",
        "        l_transformers = [(name, trans, None, None) for step, name, trans in column_transformer._iter()]\n",
        "    else:\n",
        "        # For column transformers, follow the original method\n",
        "        l_transformers = list(column_transformer._iter(fitted=True))    \n",
        "    \n",
        "    for name, trans, column, _ in l_transformers: \n",
        "        if type(trans) == sklearn.pipeline.Pipeline:\n",
        "            # Recursive call on pipeline\n",
        "            _names = get_feature_names(trans)\n",
        "            # if pipeline has no transformer that returns names\n",
        "            if len(_names)==0:\n",
        "                _names = [name + \"__\" + f for f in column]\n",
        "            feature_names.extend(_names)\n",
        "        else:\n",
        "            feature_names.extend(get_names(trans))\n",
        "    \n",
        "    return feature_names"
      ],
      "metadata": {
        "id": "ZSI0ytD67zPv"
      },
      "execution_count": 7,
      "outputs": []
    },
    {
      "cell_type": "code",
      "source": [
        "train = reduce_memory_usage(train)\n",
        "val = reduce_memory_usage(val)\n",
        "test = reduce_memory_usage(test)"
      ],
      "metadata": {
        "colab": {
          "base_uri": "https://localhost:8080/"
        },
        "id": "qI8vZVv6Z9oD",
        "outputId": "1d0b456c-ec68-4016-a5c1-866b96ca43ed"
      },
      "execution_count": 8,
      "outputs": [
        {
          "output_type": "stream",
          "name": "stdout",
          "text": [
            "Memory usage of dataframe is 1.166229248046875 MB\n",
            "Memory usage of dataframe after reduction 0.3381690979003906 MB\n",
            "Reduced by 71.00320554755986 % \n",
            "Memory usage of dataframe is 0.2066650390625 MB\n",
            "Memory usage of dataframe after reduction 0.058624267578125 MB\n",
            "Reduced by 71.63319551092735 % \n",
            "Memory usage of dataframe is 0.242523193359375 MB\n",
            "Memory usage of dataframe after reduction 0.06910324096679688 MB\n",
            "Reduced by 71.50654334969171 % \n"
          ]
        }
      ]
    },
    {
      "cell_type": "code",
      "source": [
        "train.head()"
      ],
      "metadata": {
        "colab": {
          "base_uri": "https://localhost:8080/",
          "height": 300
        },
        "id": "nv4oMuYv5mss",
        "outputId": "4b803729-00fd-4e87-a767-e2f0d8c2982d"
      },
      "execution_count": 9,
      "outputs": [
        {
          "output_type": "execute_result",
          "data": {
            "text/plain": [
              "     ID  MER_TYPE  BRANCH  CURR_NUM  DAY_REINSTATED  DAYS_AVGE  FL_LIM1  \\\n",
              "0  2208      5411     126       704               0          1      150   \n",
              "1    53      7011     753       704               0          2      150   \n",
              "2    52      5411     128       704               0          2      150   \n",
              "3   163      5977     741       704               0          3      150   \n",
              "4   657      5411     721       704               0          1      150   \n",
              "\n",
              "   FL_LIM3  FL_LIM4   GROSS_SALE  ...  DAY_CLOSE_YEAR  DAY_CLOSE_MONTH  \\\n",
              "0        0     5000  671981120.0  ...            2099               12   \n",
              "1        0        0          0.0  ...            2016               11   \n",
              "2        0     5000  204670160.0  ...            2099               12   \n",
              "3        0        0          0.0  ...            2016               10   \n",
              "4        0     5000          0.0  ...            2020                7   \n",
              "\n",
              "   DAY_CLOSE_DAY  DAY_START_YEAR  DAY_START_MONTH  DAY_START_DAY  \\\n",
              "0             31            1970                1              1   \n",
              "1             14            1970                1              1   \n",
              "2             31            1970                1              1   \n",
              "3              3            1970                1              1   \n",
              "4             24            1970                1              1   \n",
              "\n",
              "   DAY_SUBM_YEAR  DAY_SUBM_MONTH  DAY_SUBM_DAY  MERCH_FR  \n",
              "0           1970               1             1         1  \n",
              "1           1970               1             1         0  \n",
              "2           1970               1             1         0  \n",
              "3           1970               1             1         0  \n",
              "4           1970               1             1         0  \n",
              "\n",
              "[5 rows x 94 columns]"
            ],
            "text/html": [
              "\n",
              "  <div id=\"df-c2a18e33-d0f3-4708-9ce7-d9d0a02f6d5e\">\n",
              "    <div class=\"colab-df-container\">\n",
              "      <div>\n",
              "<style scoped>\n",
              "    .dataframe tbody tr th:only-of-type {\n",
              "        vertical-align: middle;\n",
              "    }\n",
              "\n",
              "    .dataframe tbody tr th {\n",
              "        vertical-align: top;\n",
              "    }\n",
              "\n",
              "    .dataframe thead th {\n",
              "        text-align: right;\n",
              "    }\n",
              "</style>\n",
              "<table border=\"1\" class=\"dataframe\">\n",
              "  <thead>\n",
              "    <tr style=\"text-align: right;\">\n",
              "      <th></th>\n",
              "      <th>ID</th>\n",
              "      <th>MER_TYPE</th>\n",
              "      <th>BRANCH</th>\n",
              "      <th>CURR_NUM</th>\n",
              "      <th>DAY_REINSTATED</th>\n",
              "      <th>DAYS_AVGE</th>\n",
              "      <th>FL_LIM1</th>\n",
              "      <th>FL_LIM3</th>\n",
              "      <th>FL_LIM4</th>\n",
              "      <th>GROSS_SALE</th>\n",
              "      <th>...</th>\n",
              "      <th>DAY_CLOSE_YEAR</th>\n",
              "      <th>DAY_CLOSE_MONTH</th>\n",
              "      <th>DAY_CLOSE_DAY</th>\n",
              "      <th>DAY_START_YEAR</th>\n",
              "      <th>DAY_START_MONTH</th>\n",
              "      <th>DAY_START_DAY</th>\n",
              "      <th>DAY_SUBM_YEAR</th>\n",
              "      <th>DAY_SUBM_MONTH</th>\n",
              "      <th>DAY_SUBM_DAY</th>\n",
              "      <th>MERCH_FR</th>\n",
              "    </tr>\n",
              "  </thead>\n",
              "  <tbody>\n",
              "    <tr>\n",
              "      <th>0</th>\n",
              "      <td>2208</td>\n",
              "      <td>5411</td>\n",
              "      <td>126</td>\n",
              "      <td>704</td>\n",
              "      <td>0</td>\n",
              "      <td>1</td>\n",
              "      <td>150</td>\n",
              "      <td>0</td>\n",
              "      <td>5000</td>\n",
              "      <td>671981120.0</td>\n",
              "      <td>...</td>\n",
              "      <td>2099</td>\n",
              "      <td>12</td>\n",
              "      <td>31</td>\n",
              "      <td>1970</td>\n",
              "      <td>1</td>\n",
              "      <td>1</td>\n",
              "      <td>1970</td>\n",
              "      <td>1</td>\n",
              "      <td>1</td>\n",
              "      <td>1</td>\n",
              "    </tr>\n",
              "    <tr>\n",
              "      <th>1</th>\n",
              "      <td>53</td>\n",
              "      <td>7011</td>\n",
              "      <td>753</td>\n",
              "      <td>704</td>\n",
              "      <td>0</td>\n",
              "      <td>2</td>\n",
              "      <td>150</td>\n",
              "      <td>0</td>\n",
              "      <td>0</td>\n",
              "      <td>0.0</td>\n",
              "      <td>...</td>\n",
              "      <td>2016</td>\n",
              "      <td>11</td>\n",
              "      <td>14</td>\n",
              "      <td>1970</td>\n",
              "      <td>1</td>\n",
              "      <td>1</td>\n",
              "      <td>1970</td>\n",
              "      <td>1</td>\n",
              "      <td>1</td>\n",
              "      <td>0</td>\n",
              "    </tr>\n",
              "    <tr>\n",
              "      <th>2</th>\n",
              "      <td>52</td>\n",
              "      <td>5411</td>\n",
              "      <td>128</td>\n",
              "      <td>704</td>\n",
              "      <td>0</td>\n",
              "      <td>2</td>\n",
              "      <td>150</td>\n",
              "      <td>0</td>\n",
              "      <td>5000</td>\n",
              "      <td>204670160.0</td>\n",
              "      <td>...</td>\n",
              "      <td>2099</td>\n",
              "      <td>12</td>\n",
              "      <td>31</td>\n",
              "      <td>1970</td>\n",
              "      <td>1</td>\n",
              "      <td>1</td>\n",
              "      <td>1970</td>\n",
              "      <td>1</td>\n",
              "      <td>1</td>\n",
              "      <td>0</td>\n",
              "    </tr>\n",
              "    <tr>\n",
              "      <th>3</th>\n",
              "      <td>163</td>\n",
              "      <td>5977</td>\n",
              "      <td>741</td>\n",
              "      <td>704</td>\n",
              "      <td>0</td>\n",
              "      <td>3</td>\n",
              "      <td>150</td>\n",
              "      <td>0</td>\n",
              "      <td>0</td>\n",
              "      <td>0.0</td>\n",
              "      <td>...</td>\n",
              "      <td>2016</td>\n",
              "      <td>10</td>\n",
              "      <td>3</td>\n",
              "      <td>1970</td>\n",
              "      <td>1</td>\n",
              "      <td>1</td>\n",
              "      <td>1970</td>\n",
              "      <td>1</td>\n",
              "      <td>1</td>\n",
              "      <td>0</td>\n",
              "    </tr>\n",
              "    <tr>\n",
              "      <th>4</th>\n",
              "      <td>657</td>\n",
              "      <td>5411</td>\n",
              "      <td>721</td>\n",
              "      <td>704</td>\n",
              "      <td>0</td>\n",
              "      <td>1</td>\n",
              "      <td>150</td>\n",
              "      <td>0</td>\n",
              "      <td>5000</td>\n",
              "      <td>0.0</td>\n",
              "      <td>...</td>\n",
              "      <td>2020</td>\n",
              "      <td>7</td>\n",
              "      <td>24</td>\n",
              "      <td>1970</td>\n",
              "      <td>1</td>\n",
              "      <td>1</td>\n",
              "      <td>1970</td>\n",
              "      <td>1</td>\n",
              "      <td>1</td>\n",
              "      <td>0</td>\n",
              "    </tr>\n",
              "  </tbody>\n",
              "</table>\n",
              "<p>5 rows × 94 columns</p>\n",
              "</div>\n",
              "      <button class=\"colab-df-convert\" onclick=\"convertToInteractive('df-c2a18e33-d0f3-4708-9ce7-d9d0a02f6d5e')\"\n",
              "              title=\"Convert this dataframe to an interactive table.\"\n",
              "              style=\"display:none;\">\n",
              "        \n",
              "  <svg xmlns=\"http://www.w3.org/2000/svg\" height=\"24px\"viewBox=\"0 0 24 24\"\n",
              "       width=\"24px\">\n",
              "    <path d=\"M0 0h24v24H0V0z\" fill=\"none\"/>\n",
              "    <path d=\"M18.56 5.44l.94 2.06.94-2.06 2.06-.94-2.06-.94-.94-2.06-.94 2.06-2.06.94zm-11 1L8.5 8.5l.94-2.06 2.06-.94-2.06-.94L8.5 2.5l-.94 2.06-2.06.94zm10 10l.94 2.06.94-2.06 2.06-.94-2.06-.94-.94-2.06-.94 2.06-2.06.94z\"/><path d=\"M17.41 7.96l-1.37-1.37c-.4-.4-.92-.59-1.43-.59-.52 0-1.04.2-1.43.59L10.3 9.45l-7.72 7.72c-.78.78-.78 2.05 0 2.83L4 21.41c.39.39.9.59 1.41.59.51 0 1.02-.2 1.41-.59l7.78-7.78 2.81-2.81c.8-.78.8-2.07 0-2.86zM5.41 20L4 18.59l7.72-7.72 1.47 1.35L5.41 20z\"/>\n",
              "  </svg>\n",
              "      </button>\n",
              "      \n",
              "  <style>\n",
              "    .colab-df-container {\n",
              "      display:flex;\n",
              "      flex-wrap:wrap;\n",
              "      gap: 12px;\n",
              "    }\n",
              "\n",
              "    .colab-df-convert {\n",
              "      background-color: #E8F0FE;\n",
              "      border: none;\n",
              "      border-radius: 50%;\n",
              "      cursor: pointer;\n",
              "      display: none;\n",
              "      fill: #1967D2;\n",
              "      height: 32px;\n",
              "      padding: 0 0 0 0;\n",
              "      width: 32px;\n",
              "    }\n",
              "\n",
              "    .colab-df-convert:hover {\n",
              "      background-color: #E2EBFA;\n",
              "      box-shadow: 0px 1px 2px rgba(60, 64, 67, 0.3), 0px 1px 3px 1px rgba(60, 64, 67, 0.15);\n",
              "      fill: #174EA6;\n",
              "    }\n",
              "\n",
              "    [theme=dark] .colab-df-convert {\n",
              "      background-color: #3B4455;\n",
              "      fill: #D2E3FC;\n",
              "    }\n",
              "\n",
              "    [theme=dark] .colab-df-convert:hover {\n",
              "      background-color: #434B5C;\n",
              "      box-shadow: 0px 1px 3px 1px rgba(0, 0, 0, 0.15);\n",
              "      filter: drop-shadow(0px 1px 2px rgba(0, 0, 0, 0.3));\n",
              "      fill: #FFFFFF;\n",
              "    }\n",
              "  </style>\n",
              "\n",
              "      <script>\n",
              "        const buttonEl =\n",
              "          document.querySelector('#df-c2a18e33-d0f3-4708-9ce7-d9d0a02f6d5e button.colab-df-convert');\n",
              "        buttonEl.style.display =\n",
              "          google.colab.kernel.accessAllowed ? 'block' : 'none';\n",
              "\n",
              "        async function convertToInteractive(key) {\n",
              "          const element = document.querySelector('#df-c2a18e33-d0f3-4708-9ce7-d9d0a02f6d5e');\n",
              "          const dataTable =\n",
              "            await google.colab.kernel.invokeFunction('convertToInteractive',\n",
              "                                                     [key], {});\n",
              "          if (!dataTable) return;\n",
              "\n",
              "          const docLinkHtml = 'Like what you see? Visit the ' +\n",
              "            '<a target=\"_blank\" href=https://colab.research.google.com/notebooks/data_table.ipynb>data table notebook</a>'\n",
              "            + ' to learn more about interactive tables.';\n",
              "          element.innerHTML = '';\n",
              "          dataTable['output_type'] = 'display_data';\n",
              "          await google.colab.output.renderOutput(dataTable, element);\n",
              "          const docLink = document.createElement('div');\n",
              "          docLink.innerHTML = docLinkHtml;\n",
              "          element.appendChild(docLink);\n",
              "        }\n",
              "      </script>\n",
              "    </div>\n",
              "  </div>\n",
              "  "
            ]
          },
          "metadata": {},
          "execution_count": 9
        }
      ]
    },
    {
      "cell_type": "code",
      "source": [
        "useful_features = [c for c in train.columns if ((c not in ['ID', 'MERCH_FR', 'BRANCH']) and (\"DAY_\" not in c))] \n",
        "# list_cat_org = get_list_cat_columns() \n",
        "# object_cols = [c for c in useful_features if c in list_cat_org]\n",
        "object_cols = ['CURR_NUM', 'MP_IND', 'PAY_METHOD', 'HAS_TXN_LESS_15S']\n",
        "num_cols = [c for c in useful_features if c not in object_cols]\n",
        "# df_test = val[useful_features]"
      ],
      "metadata": {
        "id": "D6gZbaryQJ6-"
      },
      "execution_count": 10,
      "outputs": []
    },
    {
      "cell_type": "code",
      "source": [
        "x_train = train[useful_features]\n",
        "x_val = val[useful_features]\n",
        "x_test = test[useful_features]\n",
        "y_train = train[\"MERCH_FR\"]\n",
        "y_val = val[\"MERCH_FR\"]\n",
        "y_test = test[\"MERCH_FR\"]"
      ],
      "metadata": {
        "id": "r6nTwHMeLcoJ"
      },
      "execution_count": 11,
      "outputs": []
    },
    {
      "cell_type": "code",
      "source": [
        "from sklearn.preprocessing import MinMaxScaler, OrdinalEncoder, StandardScaler, OneHotEncoder\n",
        "from imblearn.pipeline import make_pipeline, Pipeline\n",
        "\n",
        "from sklearn.model_selection import cross_val_score\n",
        "from sklearn.model_selection import RepeatedStratifiedKFold\n",
        "from numpy import mean\n",
        "\n",
        "numeric_transformer = Pipeline(steps=[\n",
        "    ('imputer', SimpleImputer(strategy='mean')),\n",
        "    ('scaler', StandardScaler() # ('scaler', MinMaxScaler()    \n",
        "    )])\n",
        "\n",
        "# cat_label_cols = ['CST_PERF_ST', 'CST_MKT_SEG']\n",
        "cat_ordinal_transformer = Pipeline(steps=[\n",
        "    ('imputer', SimpleImputer(strategy='constant', fill_value='missing_val')),\n",
        "    ('encoder', OrdinalEncoder() \n",
        "    )])\n",
        "\n",
        "# cat_onehot_cols = [f for f in cat_cols if f not in cat_label_cols]\n",
        "cat_onehot_transformer = Pipeline(steps=[\n",
        "    ('imputer', SimpleImputer(strategy='constant', fill_value='missing_val')),\n",
        "    ('encoder', OneHotEncoder(handle_unknown = 'ignore', sparse=False) \n",
        "    )])\n",
        "\n",
        "# over sampling \n",
        "oversample = SMOTE() # ADASYN()\n",
        "preprocessor = ColumnTransformer(\n",
        "    transformers=[\n",
        "                  ('num', numeric_transformer, num_cols), \n",
        "                  #('cat_label', cat_ordinal_transformer, cat_label_cols)\n",
        "                  #('cat_onehot', cat_onehot_transformer, ['CLOSE_RSN','CHIP_YN']) # ['CLOSE_RSN', 'COMM_FREQ']\n",
        "                 ], remainder='drop')"
      ],
      "metadata": {
        "id": "9WWwe6rlUm8O"
      },
      "execution_count": 12,
      "outputs": []
    },
    {
      "cell_type": "code",
      "source": [
        "# preprocessor.fit(train[useful_features])\n",
        "preprocessor.fit(x_train)\n",
        "\n",
        "x_train_tf = pd.DataFrame(preprocessor.transform(x_train), columns = get_feature_names(preprocessor)) \n",
        "x_val_tf = pd.DataFrame(preprocessor.transform(x_val), columns = get_feature_names(preprocessor)) \n",
        "x_test_tf = pd.DataFrame(preprocessor.transform(x_test), columns = get_feature_names(preprocessor)) "
      ],
      "metadata": {
        "colab": {
          "base_uri": "https://localhost:8080/"
        },
        "id": "m9yG34qzZn_i",
        "outputId": "85d02d5c-20cc-470e-ffb3-4584239db5b7"
      },
      "execution_count": 13,
      "outputs": [
        {
          "output_type": "stream",
          "name": "stderr",
          "text": [
            "/usr/local/lib/python3.7/dist-packages/ipykernel_launcher.py:34: UserWarning: Transformer num (type Pipeline) does not provide get_feature_names. Will return input column names if available\n",
            "/usr/local/lib/python3.7/dist-packages/ipykernel_launcher.py:34: UserWarning: Transformer num (type Pipeline) does not provide get_feature_names. Will return input column names if available\n",
            "/usr/local/lib/python3.7/dist-packages/ipykernel_launcher.py:34: UserWarning: Transformer num (type Pipeline) does not provide get_feature_names. Will return input column names if available\n"
          ]
        }
      ]
    },
    {
      "cell_type": "code",
      "source": [
        "def run(trial):\n",
        "    param = {\n",
        "        # 'tree_method':'gpu_hist',  # this parameter means using the GPU when training our model to speedup the training process\n",
        "        'lambda': trial.suggest_loguniform('lambda', 1e-3, 10.0),\n",
        "        'alpha': trial.suggest_loguniform('alpha', 1e-3, 10.0),\n",
        "        'colsample_bytree': trial.suggest_categorical('colsample_bytree', [0.3,0.4,0.5,0.6,0.7,0.8,0.9, 1.0]),\n",
        "        'subsample': trial.suggest_categorical('subsample', [0.4,0.5,0.6,0.7,0.8,1.0]),\n",
        "        'learning_rate': trial.suggest_categorical('learning_rate', [0.008,0.009,0.01,0.012,0.014,0.016,0.018, 0.02]),\n",
        "        'n_estimators': 4000,\n",
        "        'max_depth': trial.suggest_categorical('max_depth', [5,7,9,11,13,15,17,20]),\n",
        "        'random_state': trial.suggest_categorical('random_state', [24, 48,2020]),\n",
        "        'min_child_weight': trial.suggest_int('min_child_weight', 1, 300),\n",
        "    }\n",
        "    model = XGBClassifier(**param)      \n",
        "    \n",
        "    pipeline = Pipeline(steps=[('sampling', oversample),\n",
        "                      ('classifier', model)])\n",
        "    \n",
        "    pipeline.fit(x_train_tf, y_train, classifier__eval_set=[(x_val_tf,y_val)], classifier__early_stopping_rounds=100, classifier__verbose=False)\n",
        "    preds_val = model.predict(x_val_tf)\n",
        "    score = f1_score(y_val, preds_val)\n",
        "    return score"
      ],
      "metadata": {
        "id": "O2qmXycKWojd"
      },
      "execution_count": 14,
      "outputs": []
    },
    {
      "cell_type": "code",
      "source": [
        "study = optuna.create_study(direction=\"maximize\")\n",
        "study.optimize(run, n_trials=100)"
      ],
      "metadata": {
        "colab": {
          "base_uri": "https://localhost:8080/"
        },
        "id": "9WqqgEhXWtmM",
        "outputId": "c07e6c4c-2d0c-4fe5-f4a5-f8724168019e"
      },
      "execution_count": 15,
      "outputs": [
        {
          "output_type": "stream",
          "name": "stderr",
          "text": [
            "\u001b[32m[I 2022-04-13 03:43:43,069]\u001b[0m A new study created in memory with name: no-name-2b486453-a46c-466e-b525-92c6a0461663\u001b[0m\n",
            "\u001b[32m[I 2022-04-13 03:43:43,842]\u001b[0m Trial 0 finished with value: 0.7115384615384616 and parameters: {'lambda': 0.10980336375293036, 'alpha': 0.004078482441728063, 'colsample_bytree': 1.0, 'subsample': 0.5, 'learning_rate': 0.009, 'max_depth': 17, 'random_state': 48, 'min_child_weight': 128}. Best is trial 0 with value: 0.7115384615384616.\u001b[0m\n",
            "\u001b[32m[I 2022-04-13 03:43:44,249]\u001b[0m Trial 1 finished with value: 0.8613861386138613 and parameters: {'lambda': 0.014533270884926888, 'alpha': 0.0038117975970672633, 'colsample_bytree': 0.7, 'subsample': 1.0, 'learning_rate': 0.016, 'max_depth': 5, 'random_state': 48, 'min_child_weight': 204}. Best is trial 1 with value: 0.8613861386138613.\u001b[0m\n",
            "\u001b[32m[I 2022-04-13 03:43:45,166]\u001b[0m Trial 2 finished with value: 0.916256157635468 and parameters: {'lambda': 0.2981103287578025, 'alpha': 0.10391178269531394, 'colsample_bytree': 0.8, 'subsample': 1.0, 'learning_rate': 0.016, 'max_depth': 9, 'random_state': 24, 'min_child_weight': 153}. Best is trial 2 with value: 0.916256157635468.\u001b[0m\n",
            "\u001b[32m[I 2022-04-13 03:43:45,640]\u001b[0m Trial 3 finished with value: 0.772093023255814 and parameters: {'lambda': 0.008391111805328583, 'alpha': 0.026559955733511276, 'colsample_bytree': 0.3, 'subsample': 1.0, 'learning_rate': 0.018, 'max_depth': 5, 'random_state': 24, 'min_child_weight': 222}. Best is trial 2 with value: 0.916256157635468.\u001b[0m\n",
            "\u001b[32m[I 2022-04-13 03:43:46,266]\u001b[0m Trial 4 finished with value: 0.8108108108108107 and parameters: {'lambda': 0.08660775529897086, 'alpha': 0.009106772411441694, 'colsample_bytree': 0.7, 'subsample': 1.0, 'learning_rate': 0.012, 'max_depth': 15, 'random_state': 24, 'min_child_weight': 226}. Best is trial 2 with value: 0.916256157635468.\u001b[0m\n",
            "\u001b[32m[I 2022-04-13 03:43:46,570]\u001b[0m Trial 5 finished with value: 0.0 and parameters: {'lambda': 2.8891800816291777, 'alpha': 3.560981201017751, 'colsample_bytree': 0.5, 'subsample': 0.8, 'learning_rate': 0.012, 'max_depth': 5, 'random_state': 2020, 'min_child_weight': 234}. Best is trial 2 with value: 0.916256157635468.\u001b[0m\n",
            "\u001b[32m[I 2022-04-13 03:43:47,128]\u001b[0m Trial 6 finished with value: 0.8952380952380952 and parameters: {'lambda': 0.0032026511373132163, 'alpha': 4.50207683520331, 'colsample_bytree': 0.4, 'subsample': 0.4, 'learning_rate': 0.014, 'max_depth': 7, 'random_state': 2020, 'min_child_weight': 66}. Best is trial 2 with value: 0.916256157635468.\u001b[0m\n",
            "\u001b[32m[I 2022-04-13 03:43:47,838]\u001b[0m Trial 7 finished with value: 0.9346733668341708 and parameters: {'lambda': 0.0017296840657884426, 'alpha': 0.03820208748206373, 'colsample_bytree': 0.7, 'subsample': 0.8, 'learning_rate': 0.018, 'max_depth': 11, 'random_state': 2020, 'min_child_weight': 67}. Best is trial 7 with value: 0.9346733668341708.\u001b[0m\n",
            "\u001b[32m[I 2022-04-13 03:43:48,170]\u001b[0m Trial 8 finished with value: 0.0 and parameters: {'lambda': 0.026472767726974576, 'alpha': 0.01731270995551706, 'colsample_bytree': 0.7, 'subsample': 0.8, 'learning_rate': 0.014, 'max_depth': 17, 'random_state': 24, 'min_child_weight': 241}. Best is trial 7 with value: 0.9346733668341708.\u001b[0m\n",
            "\u001b[32m[I 2022-04-13 03:43:50,464]\u001b[0m Trial 9 finished with value: 0.9253731343283582 and parameters: {'lambda': 0.053004991728955245, 'alpha': 0.015550902715716719, 'colsample_bytree': 0.9, 'subsample': 0.8, 'learning_rate': 0.008, 'max_depth': 13, 'random_state': 48, 'min_child_weight': 105}. Best is trial 7 with value: 0.9346733668341708.\u001b[0m\n",
            "\u001b[32m[I 2022-04-13 03:43:51,650]\u001b[0m Trial 10 finished with value: 0.964467005076142 and parameters: {'lambda': 0.0012491794613164271, 'alpha': 0.31762653887112013, 'colsample_bytree': 0.6, 'subsample': 0.6, 'learning_rate': 0.018, 'max_depth': 11, 'random_state': 2020, 'min_child_weight': 2}. Best is trial 10 with value: 0.964467005076142.\u001b[0m\n",
            "\u001b[32m[I 2022-04-13 03:43:53,483]\u001b[0m Trial 11 finished with value: 0.964467005076142 and parameters: {'lambda': 0.0011162528470767188, 'alpha': 0.357572065286988, 'colsample_bytree': 0.6, 'subsample': 0.6, 'learning_rate': 0.018, 'max_depth': 11, 'random_state': 2020, 'min_child_weight': 11}. Best is trial 10 with value: 0.964467005076142.\u001b[0m\n",
            "\u001b[32m[I 2022-04-13 03:43:54,895]\u001b[0m Trial 12 finished with value: 0.964467005076142 and parameters: {'lambda': 0.0010617511332540685, 'alpha': 0.40937097858050936, 'colsample_bytree': 0.6, 'subsample': 0.6, 'learning_rate': 0.018, 'max_depth': 11, 'random_state': 2020, 'min_child_weight': 3}. Best is trial 10 with value: 0.964467005076142.\u001b[0m\n",
            "\u001b[32m[I 2022-04-13 03:43:56,639]\u001b[0m Trial 13 finished with value: 0.964467005076142 and parameters: {'lambda': 0.004278517244793584, 'alpha': 0.4951321238914756, 'colsample_bytree': 0.6, 'subsample': 0.6, 'learning_rate': 0.02, 'max_depth': 11, 'random_state': 2020, 'min_child_weight': 4}. Best is trial 10 with value: 0.964467005076142.\u001b[0m\n",
            "\u001b[32m[I 2022-04-13 03:43:57,427]\u001b[0m Trial 14 finished with value: 0.9441624365482234 and parameters: {'lambda': 9.30300544674226, 'alpha': 0.5823883406478226, 'colsample_bytree': 0.6, 'subsample': 0.6, 'learning_rate': 0.01, 'max_depth': 20, 'random_state': 2020, 'min_child_weight': 47}. Best is trial 10 with value: 0.964467005076142.\u001b[0m\n",
            "\u001b[32m[I 2022-04-13 03:43:58,956]\u001b[0m Trial 15 finished with value: 0.9538461538461539 and parameters: {'lambda': 0.0010315439797066149, 'alpha': 0.1975553504847691, 'colsample_bytree': 0.6, 'subsample': 0.7, 'learning_rate': 0.018, 'max_depth': 11, 'random_state': 2020, 'min_child_weight': 38}. Best is trial 10 with value: 0.964467005076142.\u001b[0m\n",
            "\u001b[32m[I 2022-04-13 03:43:59,310]\u001b[0m Trial 16 finished with value: 0.0 and parameters: {'lambda': 0.38616565033800115, 'alpha': 1.4778085051480563, 'colsample_bytree': 0.6, 'subsample': 0.6, 'learning_rate': 0.018, 'max_depth': 11, 'random_state': 2020, 'min_child_weight': 298}. Best is trial 10 with value: 0.964467005076142.\u001b[0m\n",
            "\u001b[32m[I 2022-04-13 03:44:00,090]\u001b[0m Trial 17 finished with value: 0.8952380952380952 and parameters: {'lambda': 0.006069555171630814, 'alpha': 9.898142475984775, 'colsample_bytree': 0.5, 'subsample': 0.6, 'learning_rate': 0.01, 'max_depth': 20, 'random_state': 2020, 'min_child_weight': 96}. Best is trial 10 with value: 0.964467005076142.\u001b[0m\n",
            "\u001b[32m[I 2022-04-13 03:44:00,391]\u001b[0m Trial 18 finished with value: 0.0 and parameters: {'lambda': 0.0028211811810438946, 'alpha': 0.0752057813211968, 'colsample_bytree': 0.4, 'subsample': 0.4, 'learning_rate': 0.008, 'max_depth': 9, 'random_state': 2020, 'min_child_weight': 172}. Best is trial 10 with value: 0.964467005076142.\u001b[0m\n",
            "\u001b[32m[I 2022-04-13 03:44:01,519]\u001b[0m Trial 19 finished with value: 0.9145728643216081 and parameters: {'lambda': 0.017278198758692416, 'alpha': 0.001172856593829123, 'colsample_bytree': 0.9, 'subsample': 0.7, 'learning_rate': 0.009, 'max_depth': 13, 'random_state': 48, 'min_child_weight': 23}. Best is trial 10 with value: 0.964467005076142.\u001b[0m\n",
            "\u001b[32m[I 2022-04-13 03:44:02,003]\u001b[0m Trial 20 finished with value: 0.8952380952380952 and parameters: {'lambda': 0.005386649470595936, 'alpha': 0.9745317852511088, 'colsample_bytree': 0.3, 'subsample': 0.5, 'learning_rate': 0.02, 'max_depth': 7, 'random_state': 2020, 'min_child_weight': 80}. Best is trial 10 with value: 0.964467005076142.\u001b[0m\n",
            "\u001b[32m[I 2022-04-13 03:44:03,430]\u001b[0m Trial 21 finished with value: 0.964467005076142 and parameters: {'lambda': 0.002250515593867076, 'alpha': 0.23877480054805175, 'colsample_bytree': 0.6, 'subsample': 0.6, 'learning_rate': 0.02, 'max_depth': 11, 'random_state': 2020, 'min_child_weight': 4}. Best is trial 10 with value: 0.964467005076142.\u001b[0m\n",
            "\u001b[32m[I 2022-04-13 03:44:04,076]\u001b[0m Trial 22 finished with value: 0.9447236180904524 and parameters: {'lambda': 0.004739759356909378, 'alpha': 1.6564087638697207, 'colsample_bytree': 0.6, 'subsample': 0.6, 'learning_rate': 0.02, 'max_depth': 11, 'random_state': 2020, 'min_child_weight': 41}. Best is trial 10 with value: 0.964467005076142.\u001b[0m\n",
            "\u001b[32m[I 2022-04-13 03:44:05,116]\u001b[0m Trial 23 finished with value: 0.9494949494949494 and parameters: {'lambda': 0.0010279014435509094, 'alpha': 0.4131408976392635, 'colsample_bytree': 0.6, 'subsample': 0.6, 'learning_rate': 0.02, 'max_depth': 11, 'random_state': 2020, 'min_child_weight': 25}. Best is trial 10 with value: 0.964467005076142.\u001b[0m\n",
            "\u001b[32m[I 2022-04-13 03:44:07,762]\u001b[0m Trial 24 finished with value: 0.964467005076142 and parameters: {'lambda': 0.012306171029980783, 'alpha': 0.15928865236798273, 'colsample_bytree': 1.0, 'subsample': 0.6, 'learning_rate': 0.02, 'max_depth': 15, 'random_state': 2020, 'min_child_weight': 4}. Best is trial 10 with value: 0.964467005076142.\u001b[0m\n",
            "\u001b[32m[I 2022-04-13 03:44:09,404]\u001b[0m Trial 25 finished with value: 0.9393939393939394 and parameters: {'lambda': 0.0024246833860728186, 'alpha': 0.0710642082629321, 'colsample_bytree': 0.8, 'subsample': 0.6, 'learning_rate': 0.02, 'max_depth': 11, 'random_state': 2020, 'min_child_weight': 53}. Best is trial 10 with value: 0.964467005076142.\u001b[0m\n",
            "\u001b[32m[I 2022-04-13 03:44:09,844]\u001b[0m Trial 26 finished with value: 0.878048780487805 and parameters: {'lambda': 0.03477340543171332, 'alpha': 0.890957587966941, 'colsample_bytree': 0.6, 'subsample': 0.6, 'learning_rate': 0.02, 'max_depth': 11, 'random_state': 2020, 'min_child_weight': 111}. Best is trial 10 with value: 0.964467005076142.\u001b[0m\n",
            "\u001b[32m[I 2022-04-13 03:44:11,176]\u001b[0m Trial 27 finished with value: 0.9447236180904524 and parameters: {'lambda': 0.01158699394076111, 'alpha': 0.18985279580206835, 'colsample_bytree': 1.0, 'subsample': 0.6, 'learning_rate': 0.02, 'max_depth': 15, 'random_state': 2020, 'min_child_weight': 26}. Best is trial 10 with value: 0.964467005076142.\u001b[0m\n",
            "\u001b[32m[I 2022-04-13 03:44:11,845]\u001b[0m Trial 28 finished with value: 0.8792270531400965 and parameters: {'lambda': 0.008313035949740658, 'alpha': 0.11943010934926902, 'colsample_bytree': 1.0, 'subsample': 0.4, 'learning_rate': 0.02, 'max_depth': 15, 'random_state': 24, 'min_child_weight': 74}. Best is trial 10 with value: 0.964467005076142.\u001b[0m\n",
            "\u001b[32m[I 2022-04-13 03:44:12,468]\u001b[0m Trial 29 finished with value: 0.7115384615384616 and parameters: {'lambda': 0.2450330769218682, 'alpha': 0.1794120991980559, 'colsample_bytree': 1.0, 'subsample': 0.5, 'learning_rate': 0.009, 'max_depth': 17, 'random_state': 48, 'min_child_weight': 129}. Best is trial 10 with value: 0.964467005076142.\u001b[0m\n",
            "\u001b[32m[I 2022-04-13 03:44:15,265]\u001b[0m Trial 30 finished with value: 0.9591836734693877 and parameters: {'lambda': 0.002282504481988511, 'alpha': 0.05071759888174381, 'colsample_bytree': 1.0, 'subsample': 0.7, 'learning_rate': 0.012, 'max_depth': 15, 'random_state': 48, 'min_child_weight': 17}. Best is trial 10 with value: 0.964467005076142.\u001b[0m\n",
            "\u001b[32m[I 2022-04-13 03:44:16,926]\u001b[0m Trial 31 finished with value: 0.964467005076142 and parameters: {'lambda': 0.003771263429162318, 'alpha': 0.6519549882348441, 'colsample_bytree': 0.6, 'subsample': 0.6, 'learning_rate': 0.02, 'max_depth': 15, 'random_state': 2020, 'min_child_weight': 1}. Best is trial 10 with value: 0.964467005076142.\u001b[0m\n",
            "\u001b[32m[I 2022-04-13 03:44:20,502]\u001b[0m Trial 32 finished with value: 0.9693877551020408 and parameters: {'lambda': 0.0038818469818502105, 'alpha': 0.7881845480038765, 'colsample_bytree': 1.0, 'subsample': 0.6, 'learning_rate': 0.02, 'max_depth': 15, 'random_state': 2020, 'min_child_weight': 1}. Best is trial 32 with value: 0.9693877551020408.\u001b[0m\n",
            "\u001b[32m[I 2022-04-13 03:44:22,624]\u001b[0m Trial 33 finished with value: 0.9538461538461539 and parameters: {'lambda': 0.016113923768735078, 'alpha': 1.920575705376772, 'colsample_bytree': 1.0, 'subsample': 0.6, 'learning_rate': 0.02, 'max_depth': 15, 'random_state': 2020, 'min_child_weight': 35}. Best is trial 32 with value: 0.9693877551020408.\u001b[0m\n",
            "\u001b[32m[I 2022-04-13 03:44:24,189]\u001b[0m Trial 34 finished with value: 0.93 and parameters: {'lambda': 0.009643778600672847, 'alpha': 0.8358640555902371, 'colsample_bytree': 1.0, 'subsample': 0.5, 'learning_rate': 0.016, 'max_depth': 15, 'random_state': 2020, 'min_child_weight': 51}. Best is trial 32 with value: 0.9693877551020408.\u001b[0m\n",
            "\u001b[32m[I 2022-04-13 03:44:28,216]\u001b[0m Trial 35 finished with value: 0.9693877551020408 and parameters: {'lambda': 0.0015709793529745898, 'alpha': 0.41401921522467483, 'colsample_bytree': 0.8, 'subsample': 1.0, 'learning_rate': 0.018, 'max_depth': 9, 'random_state': 24, 'min_child_weight': 1}. Best is trial 32 with value: 0.9693877551020408.\u001b[0m\n",
            "\u001b[32m[I 2022-04-13 03:44:29,083]\u001b[0m Trial 36 finished with value: 0.911764705882353 and parameters: {'lambda': 0.026200754621276932, 'alpha': 0.11231821602289038, 'colsample_bytree': 0.8, 'subsample': 1.0, 'learning_rate': 0.016, 'max_depth': 9, 'random_state': 24, 'min_child_weight': 159}. Best is trial 32 with value: 0.9693877551020408.\u001b[0m\n",
            "\u001b[32m[I 2022-04-13 03:44:29,896]\u001b[0m Trial 37 finished with value: 0.9313725490196079 and parameters: {'lambda': 0.002032127019371691, 'alpha': 0.25919996140942786, 'colsample_bytree': 0.8, 'subsample': 1.0, 'learning_rate': 0.014, 'max_depth': 9, 'random_state': 24, 'min_child_weight': 87}. Best is trial 32 with value: 0.9693877551020408.\u001b[0m\n",
            "\u001b[32m[I 2022-04-13 03:44:31,483]\u001b[0m Trial 38 finished with value: 0.9441624365482234 and parameters: {'lambda': 0.1360315025194497, 'alpha': 3.4781048352729074, 'colsample_bytree': 0.8, 'subsample': 1.0, 'learning_rate': 0.02, 'max_depth': 15, 'random_state': 24, 'min_child_weight': 59}. Best is trial 32 with value: 0.9693877551020408.\u001b[0m\n",
            "\u001b[32m[I 2022-04-13 03:44:32,192]\u001b[0m Trial 39 finished with value: 0.9543147208121827 and parameters: {'lambda': 0.0069715469357273414, 'alpha': 0.14035456305803407, 'colsample_bytree': 0.3, 'subsample': 1.0, 'learning_rate': 0.018, 'max_depth': 5, 'random_state': 24, 'min_child_weight': 21}. Best is trial 32 with value: 0.9693877551020408.\u001b[0m\n",
            "\u001b[32m[I 2022-04-13 03:44:32,636]\u001b[0m Trial 40 finished with value: 0.8792270531400965 and parameters: {'lambda': 0.0016942213730658567, 'alpha': 2.420622532275576, 'colsample_bytree': 0.5, 'subsample': 1.0, 'learning_rate': 0.018, 'max_depth': 9, 'random_state': 24, 'min_child_weight': 183}. Best is trial 32 with value: 0.9693877551020408.\u001b[0m\n",
            "\u001b[32m[I 2022-04-13 03:44:34,799]\u001b[0m Trial 41 finished with value: 0.9538461538461539 and parameters: {'lambda': 0.003672489948590751, 'alpha': 0.7530050011077799, 'colsample_bytree': 1.0, 'subsample': 0.6, 'learning_rate': 0.02, 'max_depth': 15, 'random_state': 2020, 'min_child_weight': 33}. Best is trial 32 with value: 0.9693877551020408.\u001b[0m\n",
            "\u001b[32m[I 2022-04-13 03:44:35,608]\u001b[0m Trial 42 finished with value: 0.9543147208121827 and parameters: {'lambda': 0.0033263495084143993, 'alpha': 0.285642631497318, 'colsample_bytree': 0.4, 'subsample': 0.6, 'learning_rate': 0.02, 'max_depth': 7, 'random_state': 24, 'min_child_weight': 11}. Best is trial 32 with value: 0.9693877551020408.\u001b[0m\n",
            "\u001b[32m[I 2022-04-13 03:44:36,811]\u001b[0m Trial 43 finished with value: 0.9547738693467336 and parameters: {'lambda': 0.0018210416698329396, 'alpha': 1.3538423692672839, 'colsample_bytree': 0.7, 'subsample': 0.8, 'learning_rate': 0.008, 'max_depth': 15, 'random_state': 48, 'min_child_weight': 4}. Best is trial 32 with value: 0.9693877551020408.\u001b[0m\n",
            "\u001b[32m[I 2022-04-13 03:44:37,583]\u001b[0m Trial 44 finished with value: 0.9441624365482234 and parameters: {'lambda': 0.012787883726898892, 'alpha': 0.03572865737606668, 'colsample_bytree': 0.9, 'subsample': 0.4, 'learning_rate': 0.012, 'max_depth': 15, 'random_state': 2020, 'min_child_weight': 17}. Best is trial 32 with value: 0.9693877551020408.\u001b[0m\n",
            "\u001b[32m[I 2022-04-13 03:44:37,948]\u001b[0m Trial 45 finished with value: 0.0 and parameters: {'lambda': 0.005027213370818684, 'alpha': 0.4266493856821184, 'colsample_bytree': 0.8, 'subsample': 0.6, 'learning_rate': 0.02, 'max_depth': 17, 'random_state': 2020, 'min_child_weight': 270}. Best is trial 32 with value: 0.9693877551020408.\u001b[0m\n",
            "\u001b[32m[I 2022-04-13 03:44:39,648]\u001b[0m Trial 46 finished with value: 0.9494949494949494 and parameters: {'lambda': 0.05974102774115287, 'alpha': 0.63426465649741, 'colsample_bytree': 1.0, 'subsample': 0.6, 'learning_rate': 0.01, 'max_depth': 13, 'random_state': 24, 'min_child_weight': 1}. Best is trial 32 with value: 0.9693877551020408.\u001b[0m\n",
            "\u001b[32m[I 2022-04-13 03:44:40,274]\u001b[0m Trial 47 finished with value: 0.9353233830845771 and parameters: {'lambda': 0.0036248372535138316, 'alpha': 8.027462815177424, 'colsample_bytree': 0.3, 'subsample': 1.0, 'learning_rate': 0.014, 'max_depth': 5, 'random_state': 2020, 'min_child_weight': 61}. Best is trial 32 with value: 0.9693877551020408.\u001b[0m\n",
            "\u001b[32m[I 2022-04-13 03:44:41,609]\u001b[0m Trial 48 finished with value: 0.9447236180904524 and parameters: {'lambda': 0.0012394159006739874, 'alpha': 0.27753937147418034, 'colsample_bytree': 0.7, 'subsample': 0.8, 'learning_rate': 0.018, 'max_depth': 20, 'random_state': 2020, 'min_child_weight': 36}. Best is trial 32 with value: 0.9693877551020408.\u001b[0m\n",
            "\u001b[32m[I 2022-04-13 03:44:42,344]\u001b[0m Trial 49 finished with value: 0.9591836734693877 and parameters: {'lambda': 1.0558666884957333, 'alpha': 0.43755397582282, 'colsample_bytree': 0.4, 'subsample': 0.7, 'learning_rate': 0.018, 'max_depth': 9, 'random_state': 2020, 'min_child_weight': 46}. Best is trial 32 with value: 0.9693877551020408.\u001b[0m\n",
            "\u001b[32m[I 2022-04-13 03:44:43,254]\u001b[0m Trial 50 finished with value: 0.9494949494949494 and parameters: {'lambda': 0.0249742742404566, 'alpha': 0.005620555425856909, 'colsample_bytree': 0.5, 'subsample': 0.6, 'learning_rate': 0.02, 'max_depth': 15, 'random_state': 2020, 'min_child_weight': 14}. Best is trial 32 with value: 0.9693877551020408.\u001b[0m\n",
            "\u001b[32m[I 2022-04-13 03:44:45,561]\u001b[0m Trial 51 finished with value: 0.964467005076142 and parameters: {'lambda': 0.0015495594319205267, 'alpha': 1.2558967058392583, 'colsample_bytree': 0.6, 'subsample': 0.6, 'learning_rate': 0.009, 'max_depth': 11, 'random_state': 2020, 'min_child_weight': 3}. Best is trial 32 with value: 0.9693877551020408.\u001b[0m\n",
            "\u001b[32m[I 2022-04-13 03:44:46,232]\u001b[0m Trial 52 finished with value: 0.923076923076923 and parameters: {'lambda': 0.0016085858635586153, 'alpha': 1.0872814617848072, 'colsample_bytree': 0.6, 'subsample': 0.6, 'learning_rate': 0.009, 'max_depth': 15, 'random_state': 2020, 'min_child_weight': 28}. Best is trial 32 with value: 0.9693877551020408.\u001b[0m\n",
            "\u001b[32m[I 2022-04-13 03:44:47,056]\u001b[0m Trial 53 finished with value: 0.9543147208121827 and parameters: {'lambda': 0.0014177925160993037, 'alpha': 0.07465498983537475, 'colsample_bytree': 0.6, 'subsample': 0.6, 'learning_rate': 0.009, 'max_depth': 11, 'random_state': 2020, 'min_child_weight': 13}. Best is trial 32 with value: 0.9693877551020408.\u001b[0m\n",
            "\u001b[32m[I 2022-04-13 03:44:48,525]\u001b[0m Trial 54 finished with value: 0.9595959595959597 and parameters: {'lambda': 0.002532395589089145, 'alpha': 0.5351788936562477, 'colsample_bytree': 0.6, 'subsample': 0.6, 'learning_rate': 0.009, 'max_depth': 9, 'random_state': 2020, 'min_child_weight': 1}. Best is trial 32 with value: 0.9693877551020408.\u001b[0m\n",
            "\u001b[32m[I 2022-04-13 03:44:48,864]\u001b[0m Trial 55 finished with value: 0.0 and parameters: {'lambda': 0.0029970375522202024, 'alpha': 2.7035111615542555, 'colsample_bytree': 0.6, 'subsample': 0.6, 'learning_rate': 0.018, 'max_depth': 11, 'random_state': 2020, 'min_child_weight': 213}. Best is trial 32 with value: 0.9693877551020408.\u001b[0m\n",
            "\u001b[32m[I 2022-04-13 03:44:49,878]\u001b[0m Trial 56 finished with value: 0.912621359223301 and parameters: {'lambda': 0.004775809790654021, 'alpha': 5.890133746777832, 'colsample_bytree': 0.6, 'subsample': 0.5, 'learning_rate': 0.008, 'max_depth': 11, 'random_state': 48, 'min_child_weight': 44}. Best is trial 32 with value: 0.9693877551020408.\u001b[0m\n",
            "\u001b[32m[I 2022-04-13 03:44:50,905]\u001b[0m Trial 57 finished with value: 0.9326424870466321 and parameters: {'lambda': 0.0019345921778370213, 'alpha': 0.2085983324916245, 'colsample_bytree': 0.9, 'subsample': 0.6, 'learning_rate': 0.009, 'max_depth': 7, 'random_state': 2020, 'min_child_weight': 11}. Best is trial 32 with value: 0.9693877551020408.\u001b[0m\n",
            "\u001b[32m[I 2022-04-13 03:44:52,111]\u001b[0m Trial 58 finished with value: 0.9447236180904524 and parameters: {'lambda': 0.007637338840368679, 'alpha': 0.6175745311353823, 'colsample_bytree': 0.8, 'subsample': 0.6, 'learning_rate': 0.02, 'max_depth': 13, 'random_state': 2020, 'min_child_weight': 29}. Best is trial 32 with value: 0.9693877551020408.\u001b[0m\n",
            "\u001b[32m[I 2022-04-13 03:44:52,710]\u001b[0m Trial 59 finished with value: 0.9292929292929293 and parameters: {'lambda': 0.0010069671192375214, 'alpha': 0.3627764502342421, 'colsample_bytree': 0.6, 'subsample': 0.4, 'learning_rate': 0.01, 'max_depth': 11, 'random_state': 24, 'min_child_weight': 24}. Best is trial 32 with value: 0.9693877551020408.\u001b[0m\n",
            "\u001b[32m[I 2022-04-13 03:44:53,645]\u001b[0m Trial 60 finished with value: 0.916256157635468 and parameters: {'lambda': 0.001534123308536419, 'alpha': 0.9677489114499269, 'colsample_bytree': 0.6, 'subsample': 0.6, 'learning_rate': 0.018, 'max_depth': 11, 'random_state': 2020, 'min_child_weight': 70}. Best is trial 32 with value: 0.9693877551020408.\u001b[0m\n",
            "\u001b[32m[I 2022-04-13 03:44:55,418]\u001b[0m Trial 61 finished with value: 0.9591836734693877 and parameters: {'lambda': 0.0010584121158967682, 'alpha': 0.3110092484366459, 'colsample_bytree': 1.0, 'subsample': 0.6, 'learning_rate': 0.018, 'max_depth': 11, 'random_state': 2020, 'min_child_weight': 17}. Best is trial 32 with value: 0.9693877551020408.\u001b[0m\n",
            "\u001b[32m[I 2022-04-13 03:44:57,006]\u001b[0m Trial 62 finished with value: 0.964467005076142 and parameters: {'lambda': 0.004080558710752273, 'alpha': 1.3589927441441503, 'colsample_bytree': 0.6, 'subsample': 0.6, 'learning_rate': 0.02, 'max_depth': 20, 'random_state': 2020, 'min_child_weight': 2}. Best is trial 32 with value: 0.9693877551020408.\u001b[0m\n",
            "\u001b[32m[I 2022-04-13 03:44:58,597]\u001b[0m Trial 63 finished with value: 0.964467005076142 and parameters: {'lambda': 0.005463760585096945, 'alpha': 0.15069781369954072, 'colsample_bytree': 0.6, 'subsample': 0.6, 'learning_rate': 0.02, 'max_depth': 17, 'random_state': 2020, 'min_child_weight': 9}. Best is trial 32 with value: 0.9693877551020408.\u001b[0m\n",
            "\u001b[32m[I 2022-04-13 03:45:00,525]\u001b[0m Trial 64 finished with value: 0.964467005076142 and parameters: {'lambda': 0.0026825720605335073, 'alpha': 1.5332981600947795, 'colsample_bytree': 0.6, 'subsample': 0.6, 'learning_rate': 0.02, 'max_depth': 20, 'random_state': 2020, 'min_child_weight': 1}. Best is trial 32 with value: 0.9693877551020408.\u001b[0m\n",
            "\u001b[32m[I 2022-04-13 03:45:01,979]\u001b[0m Trial 65 finished with value: 0.9543147208121827 and parameters: {'lambda': 0.006225146031854336, 'alpha': 1.2216714773069797, 'colsample_bytree': 0.6, 'subsample': 0.6, 'learning_rate': 0.02, 'max_depth': 17, 'random_state': 2020, 'min_child_weight': 10}. Best is trial 32 with value: 0.9693877551020408.\u001b[0m\n",
            "\u001b[32m[I 2022-04-13 03:45:03,162]\u001b[0m Trial 66 finished with value: 0.9400000000000001 and parameters: {'lambda': 8.977540290668927, 'alpha': 2.185430766261734, 'colsample_bytree': 0.6, 'subsample': 0.7, 'learning_rate': 0.018, 'max_depth': 20, 'random_state': 2020, 'min_child_weight': 37}. Best is trial 32 with value: 0.9693877551020408.\u001b[0m\n",
            "\u001b[32m[I 2022-04-13 03:45:04,231]\u001b[0m Trial 67 finished with value: 0.9253731343283582 and parameters: {'lambda': 0.0022348348691256627, 'alpha': 0.5209507332374137, 'colsample_bytree': 0.6, 'subsample': 1.0, 'learning_rate': 0.016, 'max_depth': 11, 'random_state': 48, 'min_child_weight': 126}. Best is trial 32 with value: 0.9693877551020408.\u001b[0m\n",
            "\u001b[32m[I 2022-04-13 03:45:05,289]\u001b[0m Trial 68 finished with value: 0.9306930693069307 and parameters: {'lambda': 0.0029307096446644925, 'alpha': 0.22496316644367442, 'colsample_bytree': 1.0, 'subsample': 0.8, 'learning_rate': 0.018, 'max_depth': 11, 'random_state': 24, 'min_child_weight': 56}. Best is trial 32 with value: 0.9693877551020408.\u001b[0m\n",
            "\u001b[32m[I 2022-04-13 03:45:06,618]\u001b[0m Trial 69 finished with value: 0.9447236180904524 and parameters: {'lambda': 0.0013550967430219646, 'alpha': 0.6288928160521677, 'colsample_bytree': 0.6, 'subsample': 0.5, 'learning_rate': 0.012, 'max_depth': 11, 'random_state': 2020, 'min_child_weight': 22}. Best is trial 32 with value: 0.9693877551020408.\u001b[0m\n",
            "\u001b[32m[I 2022-04-13 03:45:08,052]\u001b[0m Trial 70 finished with value: 0.9489795918367346 and parameters: {'lambda': 0.0020172289483490827, 'alpha': 0.09143570853482026, 'colsample_bytree': 0.8, 'subsample': 0.6, 'learning_rate': 0.018, 'max_depth': 5, 'random_state': 2020, 'min_child_weight': 43}. Best is trial 32 with value: 0.9693877551020408.\u001b[0m\n",
            "\u001b[32m[I 2022-04-13 03:45:09,671]\u001b[0m Trial 71 finished with value: 0.9441624365482234 and parameters: {'lambda': 0.0013158455091677782, 'alpha': 0.3320371354951163, 'colsample_bytree': 1.0, 'subsample': 0.6, 'learning_rate': 0.018, 'max_depth': 15, 'random_state': 2020, 'min_child_weight': 29}. Best is trial 32 with value: 0.9693877551020408.\u001b[0m\n",
            "\u001b[32m[I 2022-04-13 03:45:11,343]\u001b[0m Trial 72 finished with value: 0.964467005076142 and parameters: {'lambda': 0.004101951819504089, 'alpha': 0.15472852432434125, 'colsample_bytree': 0.6, 'subsample': 0.6, 'learning_rate': 0.02, 'max_depth': 20, 'random_state': 2020, 'min_child_weight': 1}. Best is trial 32 with value: 0.9693877551020408.\u001b[0m\n",
            "\u001b[32m[I 2022-04-13 03:45:12,511]\u001b[0m Trial 73 finished with value: 0.9591836734693877 and parameters: {'lambda': 0.008916487832905072, 'alpha': 0.15733753817294893, 'colsample_bytree': 0.6, 'subsample': 0.6, 'learning_rate': 0.02, 'max_depth': 20, 'random_state': 2020, 'min_child_weight': 1}. Best is trial 32 with value: 0.9693877551020408.\u001b[0m\n",
            "\u001b[32m[I 2022-04-13 03:45:13,408]\u001b[0m Trial 74 finished with value: 0.9441624365482234 and parameters: {'lambda': 0.005589441237185275, 'alpha': 0.4491238936680004, 'colsample_bytree': 0.6, 'subsample': 0.6, 'learning_rate': 0.018, 'max_depth': 17, 'random_state': 2020, 'min_child_weight': 12}. Best is trial 32 with value: 0.9693877551020408.\u001b[0m\n",
            "\u001b[32m[I 2022-04-13 03:45:14,259]\u001b[0m Trial 75 finished with value: 0.9543147208121827 and parameters: {'lambda': 0.004058888809575419, 'alpha': 0.7685444823648787, 'colsample_bytree': 0.3, 'subsample': 1.0, 'learning_rate': 0.014, 'max_depth': 9, 'random_state': 2020, 'min_child_weight': 21}. Best is trial 32 with value: 0.9693877551020408.\u001b[0m\n",
            "\u001b[32m[I 2022-04-13 03:45:15,085]\u001b[0m Trial 76 finished with value: 0.9494949494949494 and parameters: {'lambda': 0.001619925469613252, 'alpha': 3.7025225167239397, 'colsample_bytree': 0.6, 'subsample': 0.6, 'learning_rate': 0.009, 'max_depth': 11, 'random_state': 2020, 'min_child_weight': 11}. Best is trial 32 with value: 0.9693877551020408.\u001b[0m\n",
            "\u001b[32m[I 2022-04-13 03:45:16,136]\u001b[0m Trial 77 finished with value: 0.9441624365482234 and parameters: {'lambda': 0.011057860105417624, 'alpha': 1.8302427803673962, 'colsample_bytree': 0.5, 'subsample': 0.4, 'learning_rate': 0.02, 'max_depth': 15, 'random_state': 24, 'min_child_weight': 32}. Best is trial 32 with value: 0.9693877551020408.\u001b[0m\n",
            "\u001b[32m[I 2022-04-13 03:45:16,490]\u001b[0m Trial 78 finished with value: 0.0 and parameters: {'lambda': 0.0042816925785832535, 'alpha': 0.05870872163404573, 'colsample_bytree': 0.7, 'subsample': 0.6, 'learning_rate': 0.02, 'max_depth': 17, 'random_state': 2020, 'min_child_weight': 190}. Best is trial 32 with value: 0.9693877551020408.\u001b[0m\n",
            "\u001b[32m[I 2022-04-13 03:45:17,405]\u001b[0m Trial 79 finished with value: 0.9494949494949494 and parameters: {'lambda': 0.007293967410613906, 'alpha': 0.11127106797730463, 'colsample_bytree': 0.4, 'subsample': 1.0, 'learning_rate': 0.02, 'max_depth': 15, 'random_state': 48, 'min_child_weight': 19}. Best is trial 32 with value: 0.9693877551020408.\u001b[0m\n",
            "\u001b[32m[I 2022-04-13 03:45:18,270]\u001b[0m Trial 80 finished with value: 0.9489795918367346 and parameters: {'lambda': 0.0011119249595456509, 'alpha': 0.7411432908380262, 'colsample_bytree': 0.9, 'subsample': 0.7, 'learning_rate': 0.018, 'max_depth': 11, 'random_state': 2020, 'min_child_weight': 50}. Best is trial 32 with value: 0.9693877551020408.\u001b[0m\n",
            "\u001b[32m[I 2022-04-13 03:45:19,950]\u001b[0m Trial 81 finished with value: 0.964467005076142 and parameters: {'lambda': 0.002557367259211483, 'alpha': 0.23455419814556464, 'colsample_bytree': 0.6, 'subsample': 0.6, 'learning_rate': 0.02, 'max_depth': 20, 'random_state': 2020, 'min_child_weight': 7}. Best is trial 32 with value: 0.9693877551020408.\u001b[0m\n",
            "\u001b[32m[I 2022-04-13 03:45:22,002]\u001b[0m Trial 82 finished with value: 0.9693877551020408 and parameters: {'lambda': 0.0023599525065140675, 'alpha': 0.2615438873831225, 'colsample_bytree': 1.0, 'subsample': 0.6, 'learning_rate': 0.02, 'max_depth': 20, 'random_state': 2020, 'min_child_weight': 9}. Best is trial 32 with value: 0.9693877551020408.\u001b[0m\n",
            "\u001b[32m[I 2022-04-13 03:45:25,386]\u001b[0m Trial 83 finished with value: 0.9693877551020408 and parameters: {'lambda': 0.002534760033508347, 'alpha': 0.25214210780410234, 'colsample_bytree': 1.0, 'subsample': 0.6, 'learning_rate': 0.02, 'max_depth': 20, 'random_state': 2020, 'min_child_weight': 9}. Best is trial 32 with value: 0.9693877551020408.\u001b[0m\n",
            "\u001b[32m[I 2022-04-13 03:45:27,535]\u001b[0m Trial 84 finished with value: 0.9591836734693877 and parameters: {'lambda': 0.003110468219407667, 'alpha': 0.3363035848815928, 'colsample_bytree': 1.0, 'subsample': 0.6, 'learning_rate': 0.018, 'max_depth': 20, 'random_state': 2020, 'min_child_weight': 19}. Best is trial 32 with value: 0.9693877551020408.\u001b[0m\n",
            "\u001b[32m[I 2022-04-13 03:45:30,211]\u001b[0m Trial 85 finished with value: 0.9353233830845771 and parameters: {'lambda': 0.002043328864667232, 'alpha': 0.4698768947855787, 'colsample_bytree': 1.0, 'subsample': 0.6, 'learning_rate': 0.008, 'max_depth': 9, 'random_state': 24, 'min_child_weight': 37}. Best is trial 32 with value: 0.9693877551020408.\u001b[0m\n",
            "\u001b[32m[I 2022-04-13 03:45:32,620]\u001b[0m Trial 86 finished with value: 0.964467005076142 and parameters: {'lambda': 0.005945643995217794, 'alpha': 0.130612088612023, 'colsample_bytree': 1.0, 'subsample': 0.6, 'learning_rate': 0.02, 'max_depth': 17, 'random_state': 2020, 'min_child_weight': 7}. Best is trial 32 with value: 0.9693877551020408.\u001b[0m\n",
            "\u001b[32m[I 2022-04-13 03:45:34,872]\u001b[0m Trial 87 finished with value: 0.9693877551020408 and parameters: {'lambda': 0.018591285134162687, 'alpha': 0.23834793988297773, 'colsample_bytree': 1.0, 'subsample': 0.6, 'learning_rate': 0.02, 'max_depth': 13, 'random_state': 2020, 'min_child_weight': 9}. Best is trial 32 with value: 0.9693877551020408.\u001b[0m\n",
            "\u001b[32m[I 2022-04-13 03:45:36,780]\u001b[0m Trial 88 finished with value: 0.9489795918367346 and parameters: {'lambda': 0.020797317795503988, 'alpha': 0.019702938225464067, 'colsample_bytree': 1.0, 'subsample': 0.8, 'learning_rate': 0.02, 'max_depth': 13, 'random_state': 2020, 'min_child_weight': 27}. Best is trial 32 with value: 0.9693877551020408.\u001b[0m\n",
            "\u001b[32m[I 2022-04-13 03:45:38,736]\u001b[0m Trial 89 finished with value: 0.9595959595959597 and parameters: {'lambda': 0.03268595549544259, 'alpha': 0.1670957798214351, 'colsample_bytree': 1.0, 'subsample': 0.6, 'learning_rate': 0.02, 'max_depth': 13, 'random_state': 2020, 'min_child_weight': 15}. Best is trial 32 with value: 0.9693877551020408.\u001b[0m\n",
            "\u001b[32m[I 2022-04-13 03:45:41,294]\u001b[0m Trial 90 finished with value: 0.9693877551020408 and parameters: {'lambda': 0.018434891732751923, 'alpha': 0.08774321656457237, 'colsample_bytree': 1.0, 'subsample': 0.6, 'learning_rate': 0.02, 'max_depth': 20, 'random_state': 2020, 'min_child_weight': 9}. Best is trial 32 with value: 0.9693877551020408.\u001b[0m\n",
            "\u001b[32m[I 2022-04-13 03:45:43,498]\u001b[0m Trial 91 finished with value: 0.964467005076142 and parameters: {'lambda': 0.09495134197132259, 'alpha': 0.03509646927090123, 'colsample_bytree': 1.0, 'subsample': 0.6, 'learning_rate': 0.02, 'max_depth': 20, 'random_state': 2020, 'min_child_weight': 10}. Best is trial 32 with value: 0.9693877551020408.\u001b[0m\n",
            "\u001b[32m[I 2022-04-13 03:45:46,331]\u001b[0m Trial 92 finished with value: 0.9693877551020408 and parameters: {'lambda': 0.06858739800452955, 'alpha': 0.0932944232901307, 'colsample_bytree': 1.0, 'subsample': 0.6, 'learning_rate': 0.02, 'max_depth': 20, 'random_state': 2020, 'min_child_weight': 8}. Best is trial 32 with value: 0.9693877551020408.\u001b[0m\n",
            "\u001b[32m[I 2022-04-13 03:45:47,912]\u001b[0m Trial 93 finished with value: 0.9494949494949494 and parameters: {'lambda': 0.09023865215773445, 'alpha': 0.0425661122751869, 'colsample_bytree': 1.0, 'subsample': 0.6, 'learning_rate': 0.02, 'max_depth': 20, 'random_state': 2020, 'min_child_weight': 24}. Best is trial 32 with value: 0.9693877551020408.\u001b[0m\n",
            "\u001b[32m[I 2022-04-13 03:45:49,900]\u001b[0m Trial 94 finished with value: 0.964467005076142 and parameters: {'lambda': 0.0419133208671922, 'alpha': 0.09629720441125013, 'colsample_bytree': 1.0, 'subsample': 0.6, 'learning_rate': 0.02, 'max_depth': 20, 'random_state': 2020, 'min_child_weight': 7}. Best is trial 32 with value: 0.9693877551020408.\u001b[0m\n",
            "\u001b[32m[I 2022-04-13 03:45:51,630]\u001b[0m Trial 95 finished with value: 0.9538461538461539 and parameters: {'lambda': 0.0482585515810574, 'alpha': 0.09579268564045564, 'colsample_bytree': 1.0, 'subsample': 0.6, 'learning_rate': 0.02, 'max_depth': 20, 'random_state': 2020, 'min_child_weight': 18}. Best is trial 32 with value: 0.9693877551020408.\u001b[0m\n",
            "\u001b[32m[I 2022-04-13 03:45:53,717]\u001b[0m Trial 96 finished with value: 0.9489795918367346 and parameters: {'lambda': 0.25183760452282145, 'alpha': 0.057644607313767894, 'colsample_bytree': 1.0, 'subsample': 0.6, 'learning_rate': 0.02, 'max_depth': 20, 'random_state': 2020, 'min_child_weight': 41}. Best is trial 32 with value: 0.9693877551020408.\u001b[0m\n",
            "\u001b[32m[I 2022-04-13 03:45:56,716]\u001b[0m Trial 97 finished with value: 0.9538461538461539 and parameters: {'lambda': 0.0776465916247121, 'alpha': 0.010758378987840852, 'colsample_bytree': 1.0, 'subsample': 0.5, 'learning_rate': 0.01, 'max_depth': 20, 'random_state': 2020, 'min_child_weight': 31}. Best is trial 32 with value: 0.9693877551020408.\u001b[0m\n",
            "\u001b[32m[I 2022-04-13 03:45:59,452]\u001b[0m Trial 98 finished with value: 0.964467005076142 and parameters: {'lambda': 0.1209823235909166, 'alpha': 0.13198073051697146, 'colsample_bytree': 1.0, 'subsample': 0.6, 'learning_rate': 0.016, 'max_depth': 20, 'random_state': 2020, 'min_child_weight': 8}. Best is trial 32 with value: 0.9693877551020408.\u001b[0m\n",
            "\u001b[32m[I 2022-04-13 03:45:59,795]\u001b[0m Trial 99 finished with value: 0.0 and parameters: {'lambda': 0.014608570224585792, 'alpha': 0.22966129886477293, 'colsample_bytree': 1.0, 'subsample': 1.0, 'learning_rate': 0.009, 'max_depth': 7, 'random_state': 24, 'min_child_weight': 299}. Best is trial 32 with value: 0.9693877551020408.\u001b[0m\n"
          ]
        }
      ]
    },
    {
      "cell_type": "code",
      "source": [
        "'''\n",
        "Trial 30 finished with value: 0.964467005076142\n",
        "{'max_depth': 10,\n",
        " 'max_leaf_nodes': 5,\n",
        " 'min_samples_split': 4,\n",
        " 'n_estimators': 316}\n",
        "\n",
        " '''\n",
        "\n",
        "study.best_params"
      ],
      "metadata": {
        "id": "jGdEnWwbWwCB",
        "colab": {
          "base_uri": "https://localhost:8080/"
        },
        "outputId": "7e2bf2ea-3c21-45f1-c0af-1c3a5c18d2da"
      },
      "execution_count": 16,
      "outputs": [
        {
          "output_type": "execute_result",
          "data": {
            "text/plain": [
              "{'alpha': 0.7881845480038765,\n",
              " 'colsample_bytree': 1.0,\n",
              " 'lambda': 0.0038818469818502105,\n",
              " 'learning_rate': 0.02,\n",
              " 'max_depth': 15,\n",
              " 'min_child_weight': 1,\n",
              " 'random_state': 2020,\n",
              " 'subsample': 0.6}"
            ]
          },
          "metadata": {},
          "execution_count": 16
        }
      ]
    },
    {
      "cell_type": "code",
      "source": [
        "print('Number of finished trials:', len(study.trials))\n",
        "print('Best trial:', study.best_trial.params)"
      ],
      "metadata": {
        "colab": {
          "base_uri": "https://localhost:8080/"
        },
        "id": "yIqn3hRBG8__",
        "outputId": "a865401b-350e-4cb1-a4c8-31be76edb167"
      },
      "execution_count": 17,
      "outputs": [
        {
          "output_type": "stream",
          "name": "stdout",
          "text": [
            "Number of finished trials: 100\n",
            "Best trial: {'lambda': 0.0038818469818502105, 'alpha': 0.7881845480038765, 'colsample_bytree': 1.0, 'subsample': 0.6, 'learning_rate': 0.02, 'max_depth': 15, 'random_state': 2020, 'min_child_weight': 1}\n"
          ]
        }
      ]
    },
    {
      "cell_type": "code",
      "source": [
        "best_params = study.best_params\n",
        "model = XGBClassifier(\n",
        "        #random_state=42,        \n",
        "        **best_params\n",
        "    )\n",
        "pipeline = Pipeline(steps=[('sampling', oversample),\n",
        "                    ('classifier', model)])\n",
        "\n",
        "pipeline.fit(x_train_tf, y_train)\n",
        "preds_test = model.predict(x_test_tf)\n",
        "f1score = f1_score(y_test, preds_test)\n",
        "from sklearn.metrics import classification_report\n",
        "print(classification_report(y_test, preds_test))"
      ],
      "metadata": {
        "colab": {
          "base_uri": "https://localhost:8080/"
        },
        "id": "-noCD10E8NJz",
        "outputId": "6d575e33-6887-4817-92e7-12529755f21b"
      },
      "execution_count": 21,
      "outputs": [
        {
          "output_type": "stream",
          "name": "stdout",
          "text": [
            "              precision    recall  f1-score   support\n",
            "\n",
            "           0       0.98      0.98      0.98       225\n",
            "           1       0.96      0.96      0.96       113\n",
            "\n",
            "    accuracy                           0.97       338\n",
            "   macro avg       0.97      0.97      0.97       338\n",
            "weighted avg       0.97      0.97      0.97       338\n",
            "\n"
          ]
        }
      ]
    },
    {
      "cell_type": "code",
      "source": [
        "#plot_optimization_histor: shows the scores from all trials as well as the best score so far at each point.\n",
        "# optuna.visualization.plot_optimization_history(study)"
      ],
      "metadata": {
        "id": "5ubt-3rnHHV-"
      },
      "execution_count": 22,
      "outputs": []
    },
    {
      "cell_type": "code",
      "source": [
        "#plot_parallel_coordinate: interactively visualizes the hyperparameters and scores\n",
        "# optuna.visualization.plot_parallel_coordinate(study)"
      ],
      "metadata": {
        "id": "cf3KLg_KHJN-"
      },
      "execution_count": 23,
      "outputs": []
    },
    {
      "cell_type": "code",
      "source": [
        "'''plot_slice: shows the evolution of the search. You can see where in the hyperparameter space your search\n",
        "went and which parts of the space were explored more.'''\n",
        "# optuna.visualization.plot_slice(study)"
      ],
      "metadata": {
        "colab": {
          "base_uri": "https://localhost:8080/",
          "height": 35
        },
        "id": "Y_Ysu0otHLgU",
        "outputId": "a1d1cd60-a34e-47d9-ef9b-5a7d39f080f9"
      },
      "execution_count": 24,
      "outputs": [
        {
          "output_type": "execute_result",
          "data": {
            "text/plain": [
              "'plot_slice: shows the evolution of the search. You can see where in the hyperparameter space your search\\nwent and which parts of the space were explored more.'"
            ],
            "application/vnd.google.colaboratory.intrinsic+json": {
              "type": "string"
            }
          },
          "metadata": {},
          "execution_count": 24
        }
      ]
    },
    {
      "cell_type": "code",
      "source": [
        "#plot_contour: plots parameter interactions on an interactive chart. You can choose which hyperparameters you would like to explore.\n",
        "# optuna.visualization.plot_contour(study, params=['alpha',\n",
        "#                             #'max_depth',\n",
        "#                             'lambda',\n",
        "#                             'subsample',\n",
        "#                             'learning_rate',\n",
        "#                             'subsample'])"
      ],
      "metadata": {
        "id": "iZ1CUcDjHMBM"
      },
      "execution_count": 25,
      "outputs": []
    },
    {
      "cell_type": "code",
      "source": [
        "#Visualize parameter importances.\n",
        "# optuna.visualization.plot_param_importances(study)"
      ],
      "metadata": {
        "id": "c1zGwWn_HPbx"
      },
      "execution_count": 26,
      "outputs": []
    },
    {
      "cell_type": "code",
      "source": [
        "#Visualize empirical distribution function\n",
        "# optuna.visualization.plot_edf(study)"
      ],
      "metadata": {
        "id": "bDqqRhEAHRWn"
      },
      "execution_count": 27,
      "outputs": []
    },
    {
      "cell_type": "markdown",
      "source": [
        "# Pipepline 2, handle category value"
      ],
      "metadata": {
        "id": "JQzBPtFISiX7"
      }
    },
    {
      "cell_type": "code",
      "source": [
        "# cat_label_cols = ['CST_PERF_ST', 'CST_MKT_SEG']\n",
        "cat_ordinal_transformer = Pipeline(steps=[\n",
        "    ('imputer', SimpleImputer(strategy='constant', fill_value=0)),\n",
        "    ('encoder', OrdinalEncoder() \n",
        "    )])\n",
        "\n",
        "# cat_onehot_cols = [f for f in cat_cols if f not in cat_label_cols]\n",
        "cat_onehot_transformer = Pipeline(steps=[\n",
        "    ('imputer', SimpleImputer(strategy='constant', fill_value='missing_val')),\n",
        "    ('encoder', OneHotEncoder(handle_unknown = 'ignore', sparse=False) \n",
        "    )])\n",
        "\n",
        "preprocessor = ColumnTransformer(\n",
        "    transformers=[\n",
        "                  ('num', numeric_transformer, num_cols), \n",
        "                  ('cat_label', cat_ordinal_transformer, object_cols)\n",
        "                  #('cat_onehot', cat_onehot_transformer, ['CLOSE_RSN','CHIP_YN']) # ['CLOSE_RSN', 'COMM_FREQ']\n",
        "                 ], remainder='drop')"
      ],
      "metadata": {
        "id": "ABGOdv15Sho3"
      },
      "execution_count": 28,
      "outputs": []
    },
    {
      "cell_type": "code",
      "source": [
        "preprocessor.fit(x_train)\n",
        "\n",
        "x_train_tf = pd.DataFrame(preprocessor.transform(x_train), columns = get_feature_names(preprocessor)) \n",
        "x_val_tf = pd.DataFrame(preprocessor.transform(x_val), columns = get_feature_names(preprocessor)) \n",
        "x_test_tf = pd.DataFrame(preprocessor.transform(x_test), columns = get_feature_names(preprocessor)) "
      ],
      "metadata": {
        "colab": {
          "base_uri": "https://localhost:8080/"
        },
        "id": "xB1j8u23Mw6t",
        "outputId": "d39a44a9-4a08-4b40-bf1d-f078d84ef607"
      },
      "execution_count": 29,
      "outputs": [
        {
          "output_type": "stream",
          "name": "stderr",
          "text": [
            "/usr/local/lib/python3.7/dist-packages/ipykernel_launcher.py:34: UserWarning: Transformer num (type Pipeline) does not provide get_feature_names. Will return input column names if available\n",
            "/usr/local/lib/python3.7/dist-packages/ipykernel_launcher.py:34: UserWarning: Transformer cat_label (type Pipeline) does not provide get_feature_names. Will return input column names if available\n",
            "/usr/local/lib/python3.7/dist-packages/ipykernel_launcher.py:34: UserWarning: Transformer num (type Pipeline) does not provide get_feature_names. Will return input column names if available\n",
            "/usr/local/lib/python3.7/dist-packages/ipykernel_launcher.py:34: UserWarning: Transformer cat_label (type Pipeline) does not provide get_feature_names. Will return input column names if available\n",
            "/usr/local/lib/python3.7/dist-packages/ipykernel_launcher.py:34: UserWarning: Transformer num (type Pipeline) does not provide get_feature_names. Will return input column names if available\n",
            "/usr/local/lib/python3.7/dist-packages/ipykernel_launcher.py:34: UserWarning: Transformer cat_label (type Pipeline) does not provide get_feature_names. Will return input column names if available\n"
          ]
        }
      ]
    },
    {
      "cell_type": "code",
      "source": [
        "def run(trial):\n",
        "    param = {\n",
        "        # 'tree_method':'gpu_hist',  # this parameter means using the GPU when training our model to speedup the training process\n",
        "        'lambda': trial.suggest_loguniform('lambda', 1e-3, 10.0),\n",
        "        'alpha': trial.suggest_loguniform('alpha', 1e-3, 10.0),\n",
        "        'colsample_bytree': trial.suggest_categorical('colsample_bytree', [0.3,0.4,0.5,0.6,0.7,0.8,0.9, 1.0]),\n",
        "        'subsample': trial.suggest_categorical('subsample', [0.4,0.5,0.6,0.7,0.8,1.0]),\n",
        "        'learning_rate': trial.suggest_categorical('learning_rate', [0.008,0.009,0.01,0.012,0.014,0.016,0.018, 0.02]),\n",
        "        'n_estimators': 4000,\n",
        "        'max_depth': trial.suggest_categorical('max_depth', [5,7,9,11,13,15,17,20]),\n",
        "        'random_state': trial.suggest_categorical('random_state', [24, 48,2020]),\n",
        "        'min_child_weight': trial.suggest_int('min_child_weight', 1, 300),\n",
        "    }\n",
        "    model = XGBClassifier(**param)      \n",
        "    \n",
        "    pipeline = Pipeline(steps=[('sampling', oversample),\n",
        "                      ('classifier', model)])\n",
        "    \n",
        "    pipeline.fit(x_train_tf, y_train, classifier__eval_set=[(x_val_tf,y_val)], classifier__early_stopping_rounds=100, classifier__verbose=False)\n",
        "    preds_val = model.predict(x_val_tf)\n",
        "    score = f1_score(y_val, preds_val)\n",
        "    return score"
      ],
      "metadata": {
        "id": "c9tZTwDUSs4Y"
      },
      "execution_count": 30,
      "outputs": []
    },
    {
      "cell_type": "code",
      "source": [
        "study = optuna.create_study(direction=\"maximize\")\n",
        "study.optimize(run, n_trials=100)"
      ],
      "metadata": {
        "colab": {
          "base_uri": "https://localhost:8080/"
        },
        "id": "2oPWxijzSwPn",
        "outputId": "213d6ab2-e935-445a-90b7-4f04e21f1995"
      },
      "execution_count": 31,
      "outputs": [
        {
          "output_type": "stream",
          "name": "stderr",
          "text": [
            "\u001b[32m[I 2022-04-13 04:19:10,937]\u001b[0m A new study created in memory with name: no-name-e39f7f0f-41d4-4f62-a2b1-d108c15e0212\u001b[0m\n",
            "\u001b[32m[I 2022-04-13 04:19:11,250]\u001b[0m Trial 0 finished with value: 0.0 and parameters: {'lambda': 0.014627511306210766, 'alpha': 0.0019237498198748158, 'colsample_bytree': 0.4, 'subsample': 0.7, 'learning_rate': 0.009, 'max_depth': 7, 'random_state': 24, 'min_child_weight': 198}. Best is trial 0 with value: 0.0.\u001b[0m\n",
            "\u001b[32m[I 2022-04-13 04:19:11,650]\u001b[0m Trial 1 finished with value: 0.0 and parameters: {'lambda': 2.084092446820115, 'alpha': 0.00864363837210922, 'colsample_bytree': 1.0, 'subsample': 0.6, 'learning_rate': 0.018, 'max_depth': 13, 'random_state': 2020, 'min_child_weight': 298}. Best is trial 0 with value: 0.0.\u001b[0m\n",
            "\u001b[32m[I 2022-04-13 04:19:13,983]\u001b[0m Trial 2 finished with value: 0.9489795918367346 and parameters: {'lambda': 3.0323617707398065, 'alpha': 0.0336419107669075, 'colsample_bytree': 0.9, 'subsample': 0.6, 'learning_rate': 0.016, 'max_depth': 7, 'random_state': 2020, 'min_child_weight': 38}. Best is trial 2 with value: 0.9489795918367346.\u001b[0m\n",
            "\u001b[32m[I 2022-04-13 04:19:15,083]\u001b[0m Trial 3 finished with value: 0.911764705882353 and parameters: {'lambda': 0.11964934261499967, 'alpha': 0.3241297020568261, 'colsample_bytree': 0.5, 'subsample': 1.0, 'learning_rate': 0.008, 'max_depth': 11, 'random_state': 24, 'min_child_weight': 153}. Best is trial 2 with value: 0.9489795918367346.\u001b[0m\n",
            "\u001b[32m[I 2022-04-13 04:19:16,154]\u001b[0m Trial 4 finished with value: 0.9393939393939394 and parameters: {'lambda': 0.029209695245648107, 'alpha': 0.3653693311179714, 'colsample_bytree': 0.7, 'subsample': 1.0, 'learning_rate': 0.018, 'max_depth': 7, 'random_state': 48, 'min_child_weight': 91}. Best is trial 2 with value: 0.9489795918367346.\u001b[0m\n",
            "\u001b[32m[I 2022-04-13 04:19:17,083]\u001b[0m Trial 5 finished with value: 0.9441624365482234 and parameters: {'lambda': 0.0013798483413594298, 'alpha': 0.026365608630884756, 'colsample_bytree': 0.7, 'subsample': 0.8, 'learning_rate': 0.01, 'max_depth': 5, 'random_state': 24, 'min_child_weight': 57}. Best is trial 2 with value: 0.9489795918367346.\u001b[0m\n",
            "\u001b[32m[I 2022-04-13 04:19:17,818]\u001b[0m Trial 6 finished with value: 0.9435897435897437 and parameters: {'lambda': 0.004741604229686369, 'alpha': 0.0019955746527189787, 'colsample_bytree': 0.8, 'subsample': 1.0, 'learning_rate': 0.018, 'max_depth': 7, 'random_state': 24, 'min_child_weight': 79}. Best is trial 2 with value: 0.9489795918367346.\u001b[0m\n",
            "\u001b[32m[I 2022-04-13 04:19:18,352]\u001b[0m Trial 7 finished with value: 0.9004739336492892 and parameters: {'lambda': 0.45657320522264727, 'alpha': 0.0019748980203842, 'colsample_bytree': 0.6, 'subsample': 0.4, 'learning_rate': 0.008, 'max_depth': 5, 'random_state': 48, 'min_child_weight': 58}. Best is trial 2 with value: 0.9489795918367346.\u001b[0m\n",
            "\u001b[32m[I 2022-04-13 04:19:18,869]\u001b[0m Trial 8 finished with value: 0.9134615384615384 and parameters: {'lambda': 9.819210501914924, 'alpha': 0.001658524334071278, 'colsample_bytree': 0.3, 'subsample': 0.4, 'learning_rate': 0.012, 'max_depth': 9, 'random_state': 48, 'min_child_weight': 57}. Best is trial 2 with value: 0.9489795918367346.\u001b[0m\n",
            "\u001b[32m[I 2022-04-13 04:19:19,207]\u001b[0m Trial 9 finished with value: 0.0 and parameters: {'lambda': 8.69218166011062, 'alpha': 0.7298857821347571, 'colsample_bytree': 0.3, 'subsample': 0.4, 'learning_rate': 0.009, 'max_depth': 11, 'random_state': 48, 'min_child_weight': 233}. Best is trial 2 with value: 0.9489795918367346.\u001b[0m\n",
            "\u001b[32m[I 2022-04-13 04:19:20,807]\u001b[0m Trial 10 finished with value: 0.9538461538461539 and parameters: {'lambda': 0.4930862418571507, 'alpha': 5.401508697922111, 'colsample_bytree': 0.9, 'subsample': 0.6, 'learning_rate': 0.016, 'max_depth': 20, 'random_state': 2020, 'min_child_weight': 1}. Best is trial 10 with value: 0.9538461538461539.\u001b[0m\n",
            "\u001b[32m[I 2022-04-13 04:19:22,980]\u001b[0m Trial 11 finished with value: 0.9595959595959597 and parameters: {'lambda': 0.733811072651763, 'alpha': 8.853506749582555, 'colsample_bytree': 0.9, 'subsample': 0.6, 'learning_rate': 0.016, 'max_depth': 20, 'random_state': 2020, 'min_child_weight': 3}. Best is trial 11 with value: 0.9595959595959597.\u001b[0m\n",
            "\u001b[32m[I 2022-04-13 04:19:25,853]\u001b[0m Trial 12 finished with value: 0.964467005076142 and parameters: {'lambda': 0.32040746857926516, 'alpha': 9.398147455973046, 'colsample_bytree': 0.9, 'subsample': 0.5, 'learning_rate': 0.016, 'max_depth': 20, 'random_state': 2020, 'min_child_weight': 15}. Best is trial 12 with value: 0.964467005076142.\u001b[0m\n",
            "\u001b[32m[I 2022-04-13 04:19:29,928]\u001b[0m Trial 13 finished with value: 0.9641025641025641 and parameters: {'lambda': 0.383027605015173, 'alpha': 9.471016564930189, 'colsample_bytree': 0.9, 'subsample': 0.5, 'learning_rate': 0.016, 'max_depth': 20, 'random_state': 2020, 'min_child_weight': 9}. Best is trial 12 with value: 0.964467005076142.\u001b[0m\n",
            "\u001b[32m[I 2022-04-13 04:19:30,523]\u001b[0m Trial 14 finished with value: 0.8172043010752689 and parameters: {'lambda': 0.10839249445881444, 'alpha': 2.185341727341326, 'colsample_bytree': 0.9, 'subsample': 0.5, 'learning_rate': 0.02, 'max_depth': 20, 'random_state': 2020, 'min_child_weight': 121}. Best is trial 12 with value: 0.964467005076142.\u001b[0m\n",
            "\u001b[32m[I 2022-04-13 04:19:31,335]\u001b[0m Trial 15 finished with value: 0.7184466019417476 and parameters: {'lambda': 0.20871369711923038, 'alpha': 1.7612235546486068, 'colsample_bytree': 0.9, 'subsample': 0.5, 'learning_rate': 0.014, 'max_depth': 17, 'random_state': 2020, 'min_child_weight': 129}. Best is trial 12 with value: 0.964467005076142.\u001b[0m\n",
            "\u001b[32m[I 2022-04-13 04:19:32,458]\u001b[0m Trial 16 finished with value: 0.9447236180904524 and parameters: {'lambda': 0.03675776181359392, 'alpha': 3.0573454704821024, 'colsample_bytree': 0.5, 'subsample': 0.5, 'learning_rate': 0.016, 'max_depth': 15, 'random_state': 2020, 'min_child_weight': 27}. Best is trial 12 with value: 0.964467005076142.\u001b[0m\n",
            "\u001b[32m[I 2022-04-13 04:19:33,026]\u001b[0m Trial 17 finished with value: 0.8792270531400965 and parameters: {'lambda': 1.4976648959778305, 'alpha': 0.12836762425833576, 'colsample_bytree': 0.6, 'subsample': 0.5, 'learning_rate': 0.016, 'max_depth': 20, 'random_state': 2020, 'min_child_weight': 98}. Best is trial 12 with value: 0.964467005076142.\u001b[0m\n",
            "\u001b[32m[I 2022-04-13 04:19:33,344]\u001b[0m Trial 18 finished with value: 0.0 and parameters: {'lambda': 0.043566922743733284, 'alpha': 9.305575665897665, 'colsample_bytree': 0.4, 'subsample': 0.5, 'learning_rate': 0.01, 'max_depth': 20, 'random_state': 2020, 'min_child_weight': 214}. Best is trial 12 with value: 0.964467005076142.\u001b[0m\n",
            "\u001b[32m[I 2022-04-13 04:19:33,956]\u001b[0m Trial 19 finished with value: 0.8571428571428572 and parameters: {'lambda': 0.26636189450208153, 'alpha': 1.0118069564680792, 'colsample_bytree': 1.0, 'subsample': 0.8, 'learning_rate': 0.02, 'max_depth': 17, 'random_state': 2020, 'min_child_weight': 162}. Best is trial 12 with value: 0.964467005076142.\u001b[0m\n",
            "\u001b[32m[I 2022-04-13 04:19:35,937]\u001b[0m Trial 20 finished with value: 0.9441624365482234 and parameters: {'lambda': 1.0103560247507597, 'alpha': 4.169141340601562, 'colsample_bytree': 0.8, 'subsample': 0.7, 'learning_rate': 0.014, 'max_depth': 15, 'random_state': 2020, 'min_child_weight': 32}. Best is trial 12 with value: 0.964467005076142.\u001b[0m\n",
            "\u001b[32m[I 2022-04-13 04:19:39,887]\u001b[0m Trial 21 finished with value: 0.964467005076142 and parameters: {'lambda': 0.6851287394810702, 'alpha': 9.888486586438685, 'colsample_bytree': 0.9, 'subsample': 0.6, 'learning_rate': 0.016, 'max_depth': 20, 'random_state': 2020, 'min_child_weight': 1}. Best is trial 12 with value: 0.964467005076142.\u001b[0m\n",
            "\u001b[32m[I 2022-04-13 04:19:42,493]\u001b[0m Trial 22 finished with value: 0.964467005076142 and parameters: {'lambda': 0.21670290418605856, 'alpha': 9.529435647977422, 'colsample_bytree': 0.9, 'subsample': 0.5, 'learning_rate': 0.016, 'max_depth': 20, 'random_state': 2020, 'min_child_weight': 1}. Best is trial 12 with value: 0.964467005076142.\u001b[0m\n",
            "\u001b[32m[I 2022-04-13 04:19:45,365]\u001b[0m Trial 23 finished with value: 0.9489795918367346 and parameters: {'lambda': 3.6089593816312586, 'alpha': 1.2602125489032683, 'colsample_bytree': 0.9, 'subsample': 0.5, 'learning_rate': 0.016, 'max_depth': 20, 'random_state': 2020, 'min_child_weight': 29}. Best is trial 12 with value: 0.964467005076142.\u001b[0m\n",
            "\u001b[32m[I 2022-04-13 04:19:47,318]\u001b[0m Trial 24 finished with value: 0.9207920792079208 and parameters: {'lambda': 0.1491259941264703, 'alpha': 4.996873440807152, 'colsample_bytree': 0.9, 'subsample': 0.6, 'learning_rate': 0.016, 'max_depth': 9, 'random_state': 2020, 'min_child_weight': 69}. Best is trial 12 with value: 0.964467005076142.\u001b[0m\n",
            "\u001b[32m[I 2022-04-13 04:19:49,112]\u001b[0m Trial 25 finished with value: 0.9447236180904524 and parameters: {'lambda': 0.061274421194109835, 'alpha': 0.585951419326383, 'colsample_bytree': 0.9, 'subsample': 0.5, 'learning_rate': 0.012, 'max_depth': 13, 'random_state': 2020, 'min_child_weight': 22}. Best is trial 12 with value: 0.964467005076142.\u001b[0m\n",
            "\u001b[32m[I 2022-04-13 04:19:50,657]\u001b[0m Trial 26 finished with value: 0.9400000000000001 and parameters: {'lambda': 0.013400872656112627, 'alpha': 2.2442892292471233, 'colsample_bytree': 0.9, 'subsample': 0.8, 'learning_rate': 0.016, 'max_depth': 20, 'random_state': 2020, 'min_child_weight': 45}. Best is trial 12 with value: 0.964467005076142.\u001b[0m\n",
            "\u001b[32m[I 2022-04-13 04:19:51,817]\u001b[0m Trial 27 finished with value: 0.916256157635468 and parameters: {'lambda': 0.9010018091269107, 'alpha': 0.11063201089526183, 'colsample_bytree': 0.9, 'subsample': 0.7, 'learning_rate': 0.016, 'max_depth': 20, 'random_state': 2020, 'min_child_weight': 106}. Best is trial 12 with value: 0.964467005076142.\u001b[0m\n",
            "\u001b[32m[I 2022-04-13 04:19:53,309]\u001b[0m Trial 28 finished with value: 0.964467005076142 and parameters: {'lambda': 0.24687155817997358, 'alpha': 4.658097603533584, 'colsample_bytree': 0.4, 'subsample': 0.6, 'learning_rate': 0.016, 'max_depth': 20, 'random_state': 48, 'min_child_weight': 4}. Best is trial 12 with value: 0.964467005076142.\u001b[0m\n",
            "\u001b[32m[I 2022-04-13 04:19:53,624]\u001b[0m Trial 29 finished with value: 0.0 and parameters: {'lambda': 0.01327368408606805, 'alpha': 3.833351981646443, 'colsample_bytree': 0.4, 'subsample': 0.6, 'learning_rate': 0.009, 'max_depth': 20, 'random_state': 48, 'min_child_weight': 250}. Best is trial 12 with value: 0.964467005076142.\u001b[0m\n",
            "\u001b[32m[I 2022-04-13 04:19:54,024]\u001b[0m Trial 30 finished with value: 0.6987951807228916 and parameters: {'lambda': 0.08140350503334563, 'alpha': 0.2069629767506073, 'colsample_bytree': 0.6, 'subsample': 0.7, 'learning_rate': 0.01, 'max_depth': 9, 'random_state': 24, 'min_child_weight': 183}. Best is trial 12 with value: 0.964467005076142.\u001b[0m\n",
            "\u001b[32m[I 2022-04-13 04:19:54,814]\u001b[0m Trial 31 finished with value: 0.9543147208121827 and parameters: {'lambda': 0.24460503693881466, 'alpha': 6.4507666287848675, 'colsample_bytree': 0.4, 'subsample': 0.6, 'learning_rate': 0.016, 'max_depth': 20, 'random_state': 48, 'min_child_weight': 16}. Best is trial 12 with value: 0.964467005076142.\u001b[0m\n",
            "\u001b[32m[I 2022-04-13 04:19:56,431]\u001b[0m Trial 32 finished with value: 0.964467005076142 and parameters: {'lambda': 0.5945384955291817, 'alpha': 3.0783419736906823, 'colsample_bytree': 0.4, 'subsample': 0.6, 'learning_rate': 0.016, 'max_depth': 13, 'random_state': 48, 'min_child_weight': 1}. Best is trial 12 with value: 0.964467005076142.\u001b[0m\n",
            "\u001b[32m[I 2022-04-13 04:19:57,105]\u001b[0m Trial 33 finished with value: 0.9538461538461539 and parameters: {'lambda': 2.1065607295815845, 'alpha': 2.747479766580497, 'colsample_bytree': 0.4, 'subsample': 0.6, 'learning_rate': 0.016, 'max_depth': 13, 'random_state': 48, 'min_child_weight': 42}. Best is trial 12 with value: 0.964467005076142.\u001b[0m\n",
            "\u001b[32m[I 2022-04-13 04:19:57,426]\u001b[0m Trial 34 finished with value: 0.0 and parameters: {'lambda': 1.313284085483555, 'alpha': 1.6929345354039531, 'colsample_bytree': 0.4, 'subsample': 0.6, 'learning_rate': 0.016, 'max_depth': 13, 'random_state': 48, 'min_child_weight': 285}. Best is trial 12 with value: 0.964467005076142.\u001b[0m\n",
            "\u001b[32m[I 2022-04-13 04:19:58,643]\u001b[0m Trial 35 finished with value: 0.9494949494949494 and parameters: {'lambda': 3.0085209747248274, 'alpha': 4.373028035490233, 'colsample_bytree': 0.4, 'subsample': 0.6, 'learning_rate': 0.008, 'max_depth': 13, 'random_state': 48, 'min_child_weight': 23}. Best is trial 12 with value: 0.964467005076142.\u001b[0m\n",
            "\u001b[32m[I 2022-04-13 04:20:00,105]\u001b[0m Trial 36 finished with value: 0.9489795918367346 and parameters: {'lambda': 0.14702609148146537, 'alpha': 0.04140489284536135, 'colsample_bytree': 1.0, 'subsample': 1.0, 'learning_rate': 0.018, 'max_depth': 20, 'random_state': 24, 'min_child_weight': 80}. Best is trial 12 with value: 0.964467005076142.\u001b[0m\n",
            "\u001b[32m[I 2022-04-13 04:20:01,783]\u001b[0m Trial 37 finished with value: 0.964467005076142 and parameters: {'lambda': 0.6583678393551945, 'alpha': 0.011085076913223182, 'colsample_bytree': 0.7, 'subsample': 0.6, 'learning_rate': 0.02, 'max_depth': 11, 'random_state': 48, 'min_child_weight': 2}. Best is trial 12 with value: 0.964467005076142.\u001b[0m\n",
            "\u001b[32m[I 2022-04-13 04:20:03,465]\u001b[0m Trial 38 finished with value: 0.9538461538461539 and parameters: {'lambda': 4.644873802525063, 'alpha': 0.005751226149000345, 'colsample_bytree': 0.7, 'subsample': 0.6, 'learning_rate': 0.02, 'max_depth': 11, 'random_state': 48, 'min_child_weight': 39}. Best is trial 12 with value: 0.964467005076142.\u001b[0m\n",
            "\u001b[32m[I 2022-04-13 04:20:04,253]\u001b[0m Trial 39 finished with value: 0.9268292682926829 and parameters: {'lambda': 0.19234155495027017, 'alpha': 0.0038191262271861743, 'colsample_bytree': 0.7, 'subsample': 0.6, 'learning_rate': 0.02, 'max_depth': 11, 'random_state': 48, 'min_child_weight': 54}. Best is trial 12 with value: 0.964467005076142.\u001b[0m\n",
            "\u001b[32m[I 2022-04-13 04:20:05,512]\u001b[0m Trial 40 finished with value: 0.9393939393939394 and parameters: {'lambda': 0.6346983141808552, 'alpha': 0.01584694250764955, 'colsample_bytree': 0.7, 'subsample': 1.0, 'learning_rate': 0.02, 'max_depth': 5, 'random_state': 24, 'min_child_weight': 64}. Best is trial 12 with value: 0.964467005076142.\u001b[0m\n",
            "\u001b[32m[I 2022-04-13 04:20:07,027]\u001b[0m Trial 41 finished with value: 0.9494949494949494 and parameters: {'lambda': 0.3118423822554792, 'alpha': 0.0521650632815369, 'colsample_bytree': 0.5, 'subsample': 0.5, 'learning_rate': 0.012, 'max_depth': 11, 'random_state': 48, 'min_child_weight': 17}. Best is trial 12 with value: 0.964467005076142.\u001b[0m\n",
            "\u001b[32m[I 2022-04-13 04:20:08,329]\u001b[0m Trial 42 finished with value: 0.964467005076142 and parameters: {'lambda': 0.3642064722088827, 'alpha': 6.691177540335054, 'colsample_bytree': 0.4, 'subsample': 0.4, 'learning_rate': 0.016, 'max_depth': 7, 'random_state': 2020, 'min_child_weight': 1}. Best is trial 12 with value: 0.964467005076142.\u001b[0m\n",
            "\u001b[32m[I 2022-04-13 04:20:09,420]\u001b[0m Trial 43 finished with value: 0.964467005076142 and parameters: {'lambda': 0.5703396284010239, 'alpha': 0.0010868555791064415, 'colsample_bytree': 0.3, 'subsample': 0.6, 'learning_rate': 0.009, 'max_depth': 11, 'random_state': 48, 'min_child_weight': 2}. Best is trial 12 with value: 0.964467005076142.\u001b[0m\n",
            "\u001b[32m[I 2022-04-13 04:20:10,212]\u001b[0m Trial 44 finished with value: 0.9346733668341708 and parameters: {'lambda': 1.8776993139822025, 'alpha': 0.07305882754041444, 'colsample_bytree': 0.8, 'subsample': 0.6, 'learning_rate': 0.008, 'max_depth': 13, 'random_state': 48, 'min_child_weight': 45}. Best is trial 12 with value: 0.964467005076142.\u001b[0m\n",
            "\u001b[32m[I 2022-04-13 04:20:10,992]\u001b[0m Trial 45 finished with value: 0.9591836734693877 and parameters: {'lambda': 0.4756504256469075, 'alpha': 6.044508036698676, 'colsample_bytree': 0.3, 'subsample': 0.4, 'learning_rate': 0.009, 'max_depth': 7, 'random_state': 2020, 'min_child_weight': 16}. Best is trial 12 with value: 0.964467005076142.\u001b[0m\n",
            "\u001b[32m[I 2022-04-13 04:20:11,393]\u001b[0m Trial 46 finished with value: 0.8792270531400965 and parameters: {'lambda': 1.053194039443384, 'alpha': 0.020921123933436734, 'colsample_bytree': 0.3, 'subsample': 0.4, 'learning_rate': 0.009, 'max_depth': 7, 'random_state': 48, 'min_child_weight': 78}. Best is trial 12 with value: 0.964467005076142.\u001b[0m\n",
            "\u001b[32m[I 2022-04-13 04:20:11,911]\u001b[0m Trial 47 finished with value: 0.9393939393939394 and parameters: {'lambda': 0.0015508350254884817, 'alpha': 0.43498480349033125, 'colsample_bytree': 0.4, 'subsample': 0.4, 'learning_rate': 0.018, 'max_depth': 7, 'random_state': 48, 'min_child_weight': 31}. Best is trial 12 with value: 0.964467005076142.\u001b[0m\n",
            "\u001b[32m[I 2022-04-13 04:20:12,654]\u001b[0m Trial 48 finished with value: 0.9591836734693877 and parameters: {'lambda': 0.719224502403273, 'alpha': 0.0012189409130066735, 'colsample_bytree': 0.3, 'subsample': 0.6, 'learning_rate': 0.009, 'max_depth': 11, 'random_state': 48, 'min_child_weight': 11}. Best is trial 12 with value: 0.964467005076142.\u001b[0m\n",
            "\u001b[32m[I 2022-04-13 04:20:15,086]\u001b[0m Trial 49 finished with value: 0.964467005076142 and parameters: {'lambda': 0.08183621024586252, 'alpha': 0.009337712676566764, 'colsample_bytree': 0.7, 'subsample': 0.6, 'learning_rate': 0.016, 'max_depth': 5, 'random_state': 48, 'min_child_weight': 1}. Best is trial 12 with value: 0.964467005076142.\u001b[0m\n",
            "\u001b[32m[I 2022-04-13 04:20:16,764]\u001b[0m Trial 50 finished with value: 0.9393939393939394 and parameters: {'lambda': 0.019292496491712507, 'alpha': 0.0030304265760888404, 'colsample_bytree': 0.7, 'subsample': 0.6, 'learning_rate': 0.014, 'max_depth': 5, 'random_state': 24, 'min_child_weight': 50}. Best is trial 12 with value: 0.964467005076142.\u001b[0m\n",
            "\u001b[32m[I 2022-04-13 04:20:17,649]\u001b[0m Trial 51 finished with value: 0.9543147208121827 and parameters: {'lambda': 0.5367505427246859, 'alpha': 0.010148547741201743, 'colsample_bytree': 0.7, 'subsample': 0.6, 'learning_rate': 0.009, 'max_depth': 5, 'random_state': 48, 'min_child_weight': 10}. Best is trial 12 with value: 0.964467005076142.\u001b[0m\n",
            "\u001b[32m[I 2022-04-13 04:20:19,054]\u001b[0m Trial 52 finished with value: 0.964467005076142 and parameters: {'lambda': 0.06697470602081049, 'alpha': 0.004477956542962942, 'colsample_bytree': 0.4, 'subsample': 0.4, 'learning_rate': 0.016, 'max_depth': 5, 'random_state': 48, 'min_child_weight': 2}. Best is trial 12 with value: 0.964467005076142.\u001b[0m\n",
            "\u001b[32m[I 2022-04-13 04:20:21,067]\u001b[0m Trial 53 finished with value: 0.9538461538461539 and parameters: {'lambda': 0.11955762049477028, 'alpha': 9.216464028161731, 'colsample_bytree': 0.9, 'subsample': 0.5, 'learning_rate': 0.016, 'max_depth': 17, 'random_state': 2020, 'min_child_weight': 32}. Best is trial 12 with value: 0.964467005076142.\u001b[0m\n",
            "\u001b[32m[I 2022-04-13 04:20:21,688]\u001b[0m Trial 54 finished with value: 0.9591836734693877 and parameters: {'lambda': 0.3589339839523608, 'alpha': 7.436637814579413, 'colsample_bytree': 0.3, 'subsample': 0.8, 'learning_rate': 0.016, 'max_depth': 20, 'random_state': 2020, 'min_child_weight': 20}. Best is trial 12 with value: 0.964467005076142.\u001b[0m\n",
            "\u001b[32m[I 2022-04-13 04:20:22,190]\u001b[0m Trial 55 finished with value: 0.9400000000000001 and parameters: {'lambda': 0.1686810556236898, 'alpha': 3.118030173004039, 'colsample_bytree': 0.4, 'subsample': 0.4, 'learning_rate': 0.016, 'max_depth': 7, 'random_state': 2020, 'min_child_weight': 37}. Best is trial 12 with value: 0.964467005076142.\u001b[0m\n",
            "\u001b[32m[I 2022-04-13 04:20:23,059]\u001b[0m Trial 56 finished with value: 0.9494949494949494 and parameters: {'lambda': 0.3607150124515023, 'alpha': 0.007069856436371778, 'colsample_bytree': 0.5, 'subsample': 0.5, 'learning_rate': 0.01, 'max_depth': 15, 'random_state': 2020, 'min_child_weight': 14}. Best is trial 12 with value: 0.964467005076142.\u001b[0m\n",
            "\u001b[32m[I 2022-04-13 04:20:23,944]\u001b[0m Trial 57 finished with value: 0.9494949494949494 and parameters: {'lambda': 1.2629411712278256, 'alpha': 1.2949029624036805, 'colsample_bytree': 0.4, 'subsample': 0.6, 'learning_rate': 0.02, 'max_depth': 7, 'random_state': 2020, 'min_child_weight': 26}. Best is trial 12 with value: 0.964467005076142.\u001b[0m\n",
            "\u001b[32m[I 2022-04-13 04:20:24,900]\u001b[0m Trial 58 finished with value: 0.9595959595959597 and parameters: {'lambda': 0.08565146055137986, 'alpha': 0.011185732597876091, 'colsample_bytree': 0.7, 'subsample': 0.6, 'learning_rate': 0.016, 'max_depth': 5, 'random_state': 48, 'min_child_weight': 2}. Best is trial 12 with value: 0.964467005076142.\u001b[0m\n",
            "\u001b[32m[I 2022-04-13 04:20:26,634]\u001b[0m Trial 59 finished with value: 0.9595959595959597 and parameters: {'lambda': 0.05202013383324372, 'alpha': 0.002450508733511433, 'colsample_bytree': 0.7, 'subsample': 0.4, 'learning_rate': 0.012, 'max_depth': 11, 'random_state': 48, 'min_child_weight': 1}. Best is trial 12 with value: 0.964467005076142.\u001b[0m\n",
            "\u001b[32m[I 2022-04-13 04:20:27,152]\u001b[0m Trial 60 finished with value: 0.0 and parameters: {'lambda': 0.022466711358397163, 'alpha': 0.001048536986352226, 'colsample_bytree': 1.0, 'subsample': 0.4, 'learning_rate': 0.016, 'max_depth': 5, 'random_state': 48, 'min_child_weight': 152}. Best is trial 12 with value: 0.964467005076142.\u001b[0m\n",
            "\u001b[32m[I 2022-04-13 04:20:29,101]\u001b[0m Trial 61 finished with value: 0.9591836734693877 and parameters: {'lambda': 0.2698295768923573, 'alpha': 0.0033092210456222536, 'colsample_bytree': 0.8, 'subsample': 0.4, 'learning_rate': 0.014, 'max_depth': 11, 'random_state': 48, 'min_child_weight': 13}. Best is trial 12 with value: 0.964467005076142.\u001b[0m\n",
            "\u001b[32m[I 2022-04-13 04:20:30,381]\u001b[0m Trial 62 finished with value: 0.9494949494949494 and parameters: {'lambda': 0.17629284619577448, 'alpha': 5.88016715043158, 'colsample_bytree': 0.4, 'subsample': 0.5, 'learning_rate': 0.016, 'max_depth': 9, 'random_state': 2020, 'min_child_weight': 26}. Best is trial 12 with value: 0.964467005076142.\u001b[0m\n",
            "\u001b[32m[I 2022-04-13 04:20:32,024]\u001b[0m Trial 63 finished with value: 0.964467005076142 and parameters: {'lambda': 0.7564523058006714, 'alpha': 3.259412698334652, 'colsample_bytree': 0.6, 'subsample': 0.6, 'learning_rate': 0.02, 'max_depth': 11, 'random_state': 48, 'min_child_weight': 9}. Best is trial 12 with value: 0.964467005076142.\u001b[0m\n",
            "\u001b[32m[I 2022-04-13 04:20:33,957]\u001b[0m Trial 64 finished with value: 0.9641025641025641 and parameters: {'lambda': 0.4485829803351056, 'alpha': 3.425024948274249, 'colsample_bytree': 0.6, 'subsample': 0.6, 'learning_rate': 0.02, 'max_depth': 11, 'random_state': 48, 'min_child_weight': 12}. Best is trial 12 with value: 0.964467005076142.\u001b[0m\n",
            "\u001b[32m[I 2022-04-13 04:20:34,780]\u001b[0m Trial 65 finished with value: 0.911764705882353 and parameters: {'lambda': 0.8219786635482552, 'alpha': 0.005093874157034936, 'colsample_bytree': 0.6, 'subsample': 0.4, 'learning_rate': 0.02, 'max_depth': 11, 'random_state': 48, 'min_child_weight': 60}. Best is trial 12 with value: 0.964467005076142.\u001b[0m\n",
            "\u001b[32m[I 2022-04-13 04:20:35,165]\u001b[0m Trial 66 finished with value: 0.8708133971291866 and parameters: {'lambda': 0.26090915061773645, 'alpha': 0.0017501601800077547, 'colsample_bytree': 0.4, 'subsample': 0.7, 'learning_rate': 0.016, 'max_depth': 13, 'random_state': 48, 'min_child_weight': 137}. Best is trial 12 with value: 0.964467005076142.\u001b[0m\n",
            "\u001b[32m[I 2022-04-13 04:20:35,864]\u001b[0m Trial 67 finished with value: 0.9306930693069307 and parameters: {'lambda': 0.08122456855706824, 'alpha': 0.0013917328752035378, 'colsample_bytree': 0.6, 'subsample': 1.0, 'learning_rate': 0.009, 'max_depth': 5, 'random_state': 48, 'min_child_weight': 36}. Best is trial 12 with value: 0.964467005076142.\u001b[0m\n",
            "\u001b[32m[I 2022-04-13 04:20:37,543]\u001b[0m Trial 68 finished with value: 0.9441624365482234 and parameters: {'lambda': 0.03413030365678725, 'alpha': 9.798209957458823, 'colsample_bytree': 0.9, 'subsample': 0.5, 'learning_rate': 0.016, 'max_depth': 20, 'random_state': 2020, 'min_child_weight': 19}. Best is trial 12 with value: 0.964467005076142.\u001b[0m\n",
            "\u001b[32m[I 2022-04-13 04:20:37,891]\u001b[0m Trial 69 finished with value: 0.0 and parameters: {'lambda': 0.06636888321605912, 'alpha': 0.013954938200141435, 'colsample_bytree': 0.6, 'subsample': 0.6, 'learning_rate': 0.02, 'max_depth': 5, 'random_state': 48, 'min_child_weight': 172}. Best is trial 12 with value: 0.964467005076142.\u001b[0m\n",
            "\u001b[32m[I 2022-04-13 04:20:38,620]\u001b[0m Trial 70 finished with value: 0.8995215311004785 and parameters: {'lambda': 1.8855167436071534, 'alpha': 2.4145914830695143, 'colsample_bytree': 0.7, 'subsample': 0.8, 'learning_rate': 0.008, 'max_depth': 17, 'random_state': 24, 'min_child_weight': 49}. Best is trial 12 with value: 0.964467005076142.\u001b[0m\n",
            "\u001b[32m[I 2022-04-13 04:20:39,728]\u001b[0m Trial 71 finished with value: 0.9494949494949494 and parameters: {'lambda': 0.3922345283050439, 'alpha': 4.864592997735187, 'colsample_bytree': 0.9, 'subsample': 0.6, 'learning_rate': 0.016, 'max_depth': 20, 'random_state': 2020, 'min_child_weight': 9}. Best is trial 12 with value: 0.964467005076142.\u001b[0m\n",
            "\u001b[32m[I 2022-04-13 04:20:41,022]\u001b[0m Trial 72 finished with value: 0.9693877551020408 and parameters: {'lambda': 0.14078870210197214, 'alpha': 0.027965096689938844, 'colsample_bytree': 0.3, 'subsample': 0.6, 'learning_rate': 0.018, 'max_depth': 11, 'random_state': 48, 'min_child_weight': 1}. Best is trial 72 with value: 0.9693877551020408.\u001b[0m\n",
            "\u001b[32m[I 2022-04-13 04:20:41,909]\u001b[0m Trial 73 finished with value: 0.964467005076142 and parameters: {'lambda': 0.12804293072939063, 'alpha': 0.17592220870087047, 'colsample_bytree': 0.3, 'subsample': 0.6, 'learning_rate': 0.018, 'max_depth': 11, 'random_state': 48, 'min_child_weight': 3}. Best is trial 72 with value: 0.9693877551020408.\u001b[0m\n",
            "\u001b[32m[I 2022-04-13 04:20:42,615]\u001b[0m Trial 74 finished with value: 0.9543147208121827 and parameters: {'lambda': 0.2212441923936359, 'alpha': 0.14650385945249114, 'colsample_bytree': 0.3, 'subsample': 0.6, 'learning_rate': 0.018, 'max_depth': 11, 'random_state': 2020, 'min_child_weight': 24}. Best is trial 72 with value: 0.9693877551020408.\u001b[0m\n",
            "\u001b[32m[I 2022-04-13 04:20:43,250]\u001b[0m Trial 75 finished with value: 0.9494949494949494 and parameters: {'lambda': 0.586495343719556, 'alpha': 0.03066576913176149, 'colsample_bytree': 0.3, 'subsample': 0.6, 'learning_rate': 0.018, 'max_depth': 11, 'random_state': 48, 'min_child_weight': 22}. Best is trial 72 with value: 0.9693877551020408.\u001b[0m\n",
            "\u001b[32m[I 2022-04-13 04:20:44,061]\u001b[0m Trial 76 finished with value: 0.964467005076142 and parameters: {'lambda': 0.10531642643340601, 'alpha': 0.02452318244059572, 'colsample_bytree': 0.4, 'subsample': 0.4, 'learning_rate': 0.016, 'max_depth': 15, 'random_state': 2020, 'min_child_weight': 1}. Best is trial 72 with value: 0.9693877551020408.\u001b[0m\n",
            "\u001b[32m[I 2022-04-13 04:20:44,613]\u001b[0m Trial 77 finished with value: 0.9591836734693877 and parameters: {'lambda': 1.0300248477463312, 'alpha': 0.07525767502732864, 'colsample_bytree': 0.3, 'subsample': 0.7, 'learning_rate': 0.01, 'max_depth': 15, 'random_state': 2020, 'min_child_weight': 33}. Best is trial 72 with value: 0.9693877551020408.\u001b[0m\n",
            "\u001b[32m[I 2022-04-13 04:20:45,101]\u001b[0m Trial 78 finished with value: 0.9261083743842364 and parameters: {'lambda': 0.10772276716313779, 'alpha': 0.01972722157275114, 'colsample_bytree': 0.4, 'subsample': 0.4, 'learning_rate': 0.016, 'max_depth': 15, 'random_state': 2020, 'min_child_weight': 41}. Best is trial 72 with value: 0.9693877551020408.\u001b[0m\n",
            "\u001b[32m[I 2022-04-13 04:20:46,216]\u001b[0m Trial 79 finished with value: 0.9489795918367346 and parameters: {'lambda': 0.04485544965981709, 'alpha': 0.25286101182440524, 'colsample_bytree': 0.9, 'subsample': 0.6, 'learning_rate': 0.018, 'max_depth': 13, 'random_state': 48, 'min_child_weight': 7}. Best is trial 72 with value: 0.9693877551020408.\u001b[0m\n",
            "\u001b[32m[I 2022-04-13 04:20:46,614]\u001b[0m Trial 80 finished with value: 0.0 and parameters: {'lambda': 0.14507302437598923, 'alpha': 7.378490529916004, 'colsample_bytree': 0.9, 'subsample': 0.5, 'learning_rate': 0.018, 'max_depth': 11, 'random_state': 2020, 'min_child_weight': 212}. Best is trial 72 with value: 0.9693877551020408.\u001b[0m\n",
            "\u001b[32m[I 2022-04-13 04:20:47,703]\u001b[0m Trial 81 finished with value: 0.9547738693467336 and parameters: {'lambda': 0.06367160213326342, 'alpha': 0.006823153288509051, 'colsample_bytree': 0.7, 'subsample': 0.4, 'learning_rate': 0.016, 'max_depth': 15, 'random_state': 2020, 'min_child_weight': 1}. Best is trial 72 with value: 0.9693877551020408.\u001b[0m\n",
            "\u001b[32m[I 2022-04-13 04:20:50,165]\u001b[0m Trial 82 finished with value: 0.9641025641025641 and parameters: {'lambda': 0.7041611040071716, 'alpha': 1.74247642534966, 'colsample_bytree': 0.9, 'subsample': 0.6, 'learning_rate': 0.018, 'max_depth': 20, 'random_state': 48, 'min_child_weight': 11}. Best is trial 72 with value: 0.9693877551020408.\u001b[0m\n",
            "\u001b[32m[I 2022-04-13 04:20:50,893]\u001b[0m Trial 83 finished with value: 0.9591836734693877 and parameters: {'lambda': 0.13016773920169628, 'alpha': 0.04237845580590258, 'colsample_bytree': 0.3, 'subsample': 0.6, 'learning_rate': 0.018, 'max_depth': 11, 'random_state': 48, 'min_child_weight': 20}. Best is trial 72 with value: 0.9693877551020408.\u001b[0m\n",
            "\u001b[32m[I 2022-04-13 04:20:53,077]\u001b[0m Trial 84 finished with value: 0.9641025641025641 and parameters: {'lambda': 0.3112157140360827, 'alpha': 7.7423592270159665, 'colsample_bytree': 0.9, 'subsample': 0.5, 'learning_rate': 0.02, 'max_depth': 20, 'random_state': 24, 'min_child_weight': 10}. Best is trial 72 with value: 0.9693877551020408.\u001b[0m\n",
            "\u001b[32m[I 2022-04-13 04:20:53,798]\u001b[0m Trial 85 finished with value: 0.9591836734693877 and parameters: {'lambda': 0.1096903559213745, 'alpha': 0.025393447219760695, 'colsample_bytree': 0.3, 'subsample': 0.4, 'learning_rate': 0.018, 'max_depth': 11, 'random_state': 48, 'min_child_weight': 5}. Best is trial 72 with value: 0.9693877551020408.\u001b[0m\n",
            "\u001b[32m[I 2022-04-13 04:20:54,449]\u001b[0m Trial 86 finished with value: 0.9447236180904524 and parameters: {'lambda': 0.4485991987307749, 'alpha': 0.009467671667580725, 'colsample_bytree': 0.5, 'subsample': 1.0, 'learning_rate': 0.016, 'max_depth': 5, 'random_state': 48, 'min_child_weight': 29}. Best is trial 72 with value: 0.9693877551020408.\u001b[0m\n",
            "\u001b[32m[I 2022-04-13 04:20:55,142]\u001b[0m Trial 87 finished with value: 0.9591836734693877 and parameters: {'lambda': 0.22098742416948786, 'alpha': 4.387234328455624, 'colsample_bytree': 0.3, 'subsample': 0.6, 'learning_rate': 0.009, 'max_depth': 15, 'random_state': 48, 'min_child_weight': 17}. Best is trial 72 with value: 0.9693877551020408.\u001b[0m\n",
            "\u001b[32m[I 2022-04-13 04:20:55,524]\u001b[0m Trial 88 finished with value: 0.0 and parameters: {'lambda': 1.4996025820651908, 'alpha': 0.01462870167063487, 'colsample_bytree': 1.0, 'subsample': 0.8, 'learning_rate': 0.016, 'max_depth': 7, 'random_state': 48, 'min_child_weight': 263}. Best is trial 72 with value: 0.9693877551020408.\u001b[0m\n",
            "\u001b[32m[I 2022-04-13 04:20:56,255]\u001b[0m Trial 89 finished with value: 0.9543147208121827 and parameters: {'lambda': 2.6072846502960436, 'alpha': 0.5827185158030175, 'colsample_bytree': 0.3, 'subsample': 0.6, 'learning_rate': 0.02, 'max_depth': 11, 'random_state': 48, 'min_child_weight': 8}. Best is trial 72 with value: 0.9693877551020408.\u001b[0m\n",
            "\u001b[32m[I 2022-04-13 04:20:57,445]\u001b[0m Trial 90 finished with value: 0.9447236180904524 and parameters: {'lambda': 0.5491875438500959, 'alpha': 0.06081689232318303, 'colsample_bytree': 0.4, 'subsample': 0.6, 'learning_rate': 0.012, 'max_depth': 9, 'random_state': 2020, 'min_child_weight': 27}. Best is trial 72 with value: 0.9693877551020408.\u001b[0m\n",
            "\u001b[32m[I 2022-04-13 04:20:58,179]\u001b[0m Trial 91 finished with value: 0.9543147208121827 and parameters: {'lambda': 0.19251898644686527, 'alpha': 0.004861000376487507, 'colsample_bytree': 0.4, 'subsample': 0.6, 'learning_rate': 0.016, 'max_depth': 5, 'random_state': 48, 'min_child_weight': 15}. Best is trial 72 with value: 0.9693877551020408.\u001b[0m\n",
            "\u001b[32m[I 2022-04-13 04:20:59,786]\u001b[0m Trial 92 finished with value: 0.964467005076142 and parameters: {'lambda': 0.8840051145492527, 'alpha': 5.6445620693154615, 'colsample_bytree': 0.4, 'subsample': 0.6, 'learning_rate': 0.016, 'max_depth': 20, 'random_state': 48, 'min_child_weight': 1}. Best is trial 72 with value: 0.9693877551020408.\u001b[0m\n",
            "\u001b[32m[I 2022-04-13 04:21:01,355]\u001b[0m Trial 93 finished with value: 0.964467005076142 and parameters: {'lambda': 0.08857850603131953, 'alpha': 0.00800640475653591, 'colsample_bytree': 0.4, 'subsample': 0.4, 'learning_rate': 0.014, 'max_depth': 13, 'random_state': 48, 'min_child_weight': 1}. Best is trial 72 with value: 0.9693877551020408.\u001b[0m\n",
            "\u001b[32m[I 2022-04-13 04:21:02,219]\u001b[0m Trial 94 finished with value: 0.934010152284264 and parameters: {'lambda': 0.08132669952902469, 'alpha': 0.006976420094883048, 'colsample_bytree': 0.8, 'subsample': 0.4, 'learning_rate': 0.008, 'max_depth': 11, 'random_state': 48, 'min_child_weight': 8}. Best is trial 72 with value: 0.9693877551020408.\u001b[0m\n",
            "\u001b[32m[I 2022-04-13 04:21:04,407]\u001b[0m Trial 95 finished with value: 0.9538461538461539 and parameters: {'lambda': 0.308879243158136, 'alpha': 9.985215689973758, 'colsample_bytree': 0.9, 'subsample': 0.5, 'learning_rate': 0.016, 'max_depth': 20, 'random_state': 2020, 'min_child_weight': 19}. Best is trial 72 with value: 0.9693877551020408.\u001b[0m\n",
            "\u001b[32m[I 2022-04-13 04:21:05,179]\u001b[0m Trial 96 finished with value: 0.9346733668341708 and parameters: {'lambda': 0.16986545888307125, 'alpha': 0.020795736479813774, 'colsample_bytree': 0.7, 'subsample': 0.5, 'learning_rate': 0.016, 'max_depth': 20, 'random_state': 2020, 'min_child_weight': 34}. Best is trial 72 with value: 0.9693877551020408.\u001b[0m\n",
            "\u001b[32m[I 2022-04-13 04:21:06,889]\u001b[0m Trial 97 finished with value: 0.9591836734693877 and parameters: {'lambda': 0.05352436319047218, 'alpha': 0.011924459793458847, 'colsample_bytree': 0.4, 'subsample': 0.6, 'learning_rate': 0.016, 'max_depth': 7, 'random_state': 48, 'min_child_weight': 22}. Best is trial 72 with value: 0.9693877551020408.\u001b[0m\n",
            "\u001b[32m[I 2022-04-13 04:21:07,337]\u001b[0m Trial 98 finished with value: 0.7582938388625592 and parameters: {'lambda': 0.028137406878858465, 'alpha': 0.0022970562152337115, 'colsample_bytree': 0.4, 'subsample': 0.4, 'learning_rate': 0.016, 'max_depth': 13, 'random_state': 48, 'min_child_weight': 111}. Best is trial 72 with value: 0.9693877551020408.\u001b[0m\n",
            "\u001b[32m[I 2022-04-13 04:21:09,643]\u001b[0m Trial 99 finished with value: 0.964467005076142 and parameters: {'lambda': 0.8019021163562443, 'alpha': 0.028223966020365927, 'colsample_bytree': 0.6, 'subsample': 0.6, 'learning_rate': 0.02, 'max_depth': 11, 'random_state': 48, 'min_child_weight': 6}. Best is trial 72 with value: 0.9693877551020408.\u001b[0m\n"
          ]
        }
      ]
    },
    {
      "cell_type": "code",
      "source": [
        "'''\n",
        "0.9595959595959597 \n",
        "{'alpha': 0.020230097237001404,\n",
        " 'colsample_bytree': 0.3,\n",
        " 'lambda': 0.276674464175535,\n",
        " 'learning_rate': 0.008,\n",
        " 'max_depth': 11,\n",
        " 'min_child_weight': 6,\n",
        " 'random_state': 48,\n",
        " 'subsample': 0.8}\n",
        "\n",
        "'''\n",
        "study.best_params"
      ],
      "metadata": {
        "colab": {
          "base_uri": "https://localhost:8080/"
        },
        "id": "A9FhVZE9Sx7A",
        "outputId": "a4648916-bb45-4033-a695-78d1f350e693"
      },
      "execution_count": 32,
      "outputs": [
        {
          "output_type": "execute_result",
          "data": {
            "text/plain": [
              "{'alpha': 0.027965096689938844,\n",
              " 'colsample_bytree': 0.3,\n",
              " 'lambda': 0.14078870210197214,\n",
              " 'learning_rate': 0.018,\n",
              " 'max_depth': 11,\n",
              " 'min_child_weight': 1,\n",
              " 'random_state': 48,\n",
              " 'subsample': 0.6}"
            ]
          },
          "metadata": {},
          "execution_count": 32
        }
      ]
    },
    {
      "cell_type": "code",
      "source": [
        "best_params = study.best_params\n",
        "model = XGBClassifier(        \n",
        "        **best_params\n",
        "    )\n",
        "pipeline = Pipeline(steps=[('sampling', oversample),\n",
        "                    ('classifier', model)])\n",
        "\n",
        "pipeline.fit(x_train_tf, y_train)\n",
        "preds_test = model.predict(x_test_tf)\n",
        "f1score = f1_score(y_test, preds_test)\n",
        "from sklearn.metrics import classification_report\n",
        "print(classification_report(y_test, preds_test))"
      ],
      "metadata": {
        "colab": {
          "base_uri": "https://localhost:8080/"
        },
        "id": "CuPZ7JCd8PdA",
        "outputId": "7da766fc-90d0-4472-f332-bb29eb7676a3"
      },
      "execution_count": 35,
      "outputs": [
        {
          "output_type": "stream",
          "name": "stdout",
          "text": [
            "              precision    recall  f1-score   support\n",
            "\n",
            "           0       1.00      0.98      0.99       225\n",
            "           1       0.97      0.99      0.98       113\n",
            "\n",
            "    accuracy                           0.99       338\n",
            "   macro avg       0.98      0.99      0.98       338\n",
            "weighted avg       0.99      0.99      0.99       338\n",
            "\n"
          ]
        }
      ]
    },
    {
      "cell_type": "code",
      "source": [
        ""
      ],
      "metadata": {
        "id": "7Mu-ciDPJ2xs"
      },
      "execution_count": null,
      "outputs": []
    }
  ]
}