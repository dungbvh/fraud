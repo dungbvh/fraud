{
  "nbformat": 4,
  "nbformat_minor": 0,
  "metadata": {
    "colab": {
      "name": "Funix XGBoost hyperparameter tuning.ipynb",
      "provenance": [],
      "collapsed_sections": []
    },
    "kernelspec": {
      "name": "python3",
      "display_name": "Python 3"
    },
    "language_info": {
      "name": "python"
    }
  },
  "cells": [
    {
      "cell_type": "code",
      "execution_count": 1,
      "metadata": {
        "colab": {
          "base_uri": "https://localhost:8080/"
        },
        "id": "uZe-v3UwPR7j",
        "outputId": "a35c8634-6e0f-4eb2-e66c-9f1c4b241b40"
      },
      "outputs": [
        {
          "output_type": "stream",
          "name": "stdout",
          "text": [
            "Collecting optuna\n",
            "  Downloading optuna-2.10.0-py3-none-any.whl (308 kB)\n",
            "\u001b[K     |████████████████████████████████| 308 kB 5.2 MB/s \n",
            "\u001b[?25hCollecting cliff\n",
            "  Downloading cliff-3.10.1-py3-none-any.whl (81 kB)\n",
            "\u001b[K     |████████████████████████████████| 81 kB 9.8 MB/s \n",
            "\u001b[?25hCollecting colorlog\n",
            "  Downloading colorlog-6.6.0-py2.py3-none-any.whl (11 kB)\n",
            "Collecting cmaes>=0.8.2\n",
            "  Downloading cmaes-0.8.2-py3-none-any.whl (15 kB)\n",
            "Requirement already satisfied: scipy!=1.4.0 in /usr/local/lib/python3.7/dist-packages (from optuna) (1.4.1)\n",
            "Requirement already satisfied: sqlalchemy>=1.1.0 in /usr/local/lib/python3.7/dist-packages (from optuna) (1.4.32)\n",
            "Collecting alembic\n",
            "  Downloading alembic-1.7.7-py3-none-any.whl (210 kB)\n",
            "\u001b[K     |████████████████████████████████| 210 kB 51.2 MB/s \n",
            "\u001b[?25hRequirement already satisfied: numpy in /usr/local/lib/python3.7/dist-packages (from optuna) (1.21.5)\n",
            "Requirement already satisfied: packaging>=20.0 in /usr/local/lib/python3.7/dist-packages (from optuna) (21.3)\n",
            "Requirement already satisfied: tqdm in /usr/local/lib/python3.7/dist-packages (from optuna) (4.63.0)\n",
            "Requirement already satisfied: PyYAML in /usr/local/lib/python3.7/dist-packages (from optuna) (3.13)\n",
            "Requirement already satisfied: pyparsing!=3.0.5,>=2.0.2 in /usr/local/lib/python3.7/dist-packages (from packaging>=20.0->optuna) (3.0.7)\n",
            "Requirement already satisfied: greenlet!=0.4.17 in /usr/local/lib/python3.7/dist-packages (from sqlalchemy>=1.1.0->optuna) (1.1.2)\n",
            "Requirement already satisfied: importlib-metadata in /usr/local/lib/python3.7/dist-packages (from sqlalchemy>=1.1.0->optuna) (4.11.3)\n",
            "Requirement already satisfied: importlib-resources in /usr/local/lib/python3.7/dist-packages (from alembic->optuna) (5.4.0)\n",
            "Collecting Mako\n",
            "  Downloading Mako-1.2.0-py3-none-any.whl (78 kB)\n",
            "\u001b[K     |████████████████████████████████| 78 kB 6.0 MB/s \n",
            "\u001b[?25hCollecting pbr!=2.1.0,>=2.0.0\n",
            "  Downloading pbr-5.8.1-py2.py3-none-any.whl (113 kB)\n",
            "\u001b[K     |████████████████████████████████| 113 kB 59.6 MB/s \n",
            "\u001b[?25hRequirement already satisfied: PrettyTable>=0.7.2 in /usr/local/lib/python3.7/dist-packages (from cliff->optuna) (3.2.0)\n",
            "Collecting autopage>=0.4.0\n",
            "  Downloading autopage-0.5.0-py3-none-any.whl (29 kB)\n",
            "Collecting stevedore>=2.0.1\n",
            "  Downloading stevedore-3.5.0-py3-none-any.whl (49 kB)\n",
            "\u001b[K     |████████████████████████████████| 49 kB 6.3 MB/s \n",
            "\u001b[?25hCollecting cmd2>=1.0.0\n",
            "  Downloading cmd2-2.4.0-py3-none-any.whl (150 kB)\n",
            "\u001b[K     |████████████████████████████████| 150 kB 55.9 MB/s \n",
            "\u001b[?25hCollecting pyperclip>=1.6\n",
            "  Downloading pyperclip-1.8.2.tar.gz (20 kB)\n",
            "Requirement already satisfied: attrs>=16.3.0 in /usr/local/lib/python3.7/dist-packages (from cmd2>=1.0.0->cliff->optuna) (21.4.0)\n",
            "Requirement already satisfied: typing-extensions in /usr/local/lib/python3.7/dist-packages (from cmd2>=1.0.0->cliff->optuna) (3.10.0.2)\n",
            "Requirement already satisfied: wcwidth>=0.1.7 in /usr/local/lib/python3.7/dist-packages (from cmd2>=1.0.0->cliff->optuna) (0.2.5)\n",
            "Requirement already satisfied: zipp>=0.5 in /usr/local/lib/python3.7/dist-packages (from importlib-metadata->sqlalchemy>=1.1.0->optuna) (3.7.0)\n",
            "Requirement already satisfied: MarkupSafe>=0.9.2 in /usr/local/lib/python3.7/dist-packages (from Mako->alembic->optuna) (2.0.1)\n",
            "Building wheels for collected packages: pyperclip\n",
            "  Building wheel for pyperclip (setup.py) ... \u001b[?25l\u001b[?25hdone\n",
            "  Created wheel for pyperclip: filename=pyperclip-1.8.2-py3-none-any.whl size=11137 sha256=d5b3c8c2bccfcac5d61239c2a8062b42a56921e998fc08562e717980f9b0f3de\n",
            "  Stored in directory: /root/.cache/pip/wheels/9f/18/84/8f69f8b08169c7bae2dde6bd7daf0c19fca8c8e500ee620a28\n",
            "Successfully built pyperclip\n",
            "Installing collected packages: pyperclip, pbr, stevedore, Mako, cmd2, autopage, colorlog, cmaes, cliff, alembic, optuna\n",
            "Successfully installed Mako-1.2.0 alembic-1.7.7 autopage-0.5.0 cliff-3.10.1 cmaes-0.8.2 cmd2-2.4.0 colorlog-6.6.0 optuna-2.10.0 pbr-5.8.1 pyperclip-1.8.2 stevedore-3.5.0\n"
          ]
        }
      ],
      "source": [
        "!pip install optuna"
      ]
    },
    {
      "cell_type": "code",
      "source": [
        "import pandas as pd\n",
        "import numpy as np\n",
        "from sklearn import preprocessing\n",
        "import warnings\n",
        "from imblearn.over_sampling import RandomOverSampler\n",
        "from imblearn.over_sampling import SMOTE, ADASYN\n",
        "from imblearn.under_sampling import RandomUnderSampler\n",
        "from imblearn.pipeline import Pipeline \n",
        "\n",
        "from sklearn.model_selection import train_test_split\n",
        "from sklearn.compose import ColumnTransformer, make_column_selector\n",
        "from sklearn.impute import SimpleImputer\n",
        "\n",
        "from sklearn.tree import DecisionTreeClassifier\n",
        "from sklearn.decomposition import PCA\n",
        "from sklearn.ensemble import RandomForestClassifier\n",
        "\n",
        "from collections import Counter\n",
        "import sklearn\n",
        "from sklearn.metrics import accuracy_score\n",
        "from sklearn.metrics import confusion_matrix\n",
        "from sklearn.metrics import accuracy_score\n",
        "from sklearn.metrics import f1_score\n",
        "from sklearn.metrics import recall_score\n",
        "from sklearn.metrics import precision_score\n",
        "from sklearn.metrics import classification_report\n",
        "from sklearn.utils import resample\n",
        "from xgboost import XGBClassifier\n",
        "\n",
        "import optuna"
      ],
      "metadata": {
        "id": "rqcxEf_3PbIQ"
      },
      "execution_count": 2,
      "outputs": []
    },
    {
      "cell_type": "code",
      "source": [
        "from google.colab import drive\n",
        "drive.mount(\"/content/drive\")"
      ],
      "metadata": {
        "colab": {
          "base_uri": "https://localhost:8080/"
        },
        "id": "JD1kqutqPvJc",
        "outputId": "8be32c51-5d35-46ca-8c85-851dca419672"
      },
      "execution_count": 3,
      "outputs": [
        {
          "output_type": "stream",
          "name": "stdout",
          "text": [
            "Mounted at /content/drive\n"
          ]
        }
      ]
    },
    {
      "cell_type": "code",
      "source": [
        "train=pd.read_csv(r\"/content/drive/MyDrive/BIDV/CARD_FRAUD/data/trainning/funix_train.csv\")\n",
        "val=pd.read_csv(r\"/content/drive/MyDrive/BIDV/CARD_FRAUD/data/trainning/funix_val.csv\")"
      ],
      "metadata": {
        "id": "tCMm2FszP318"
      },
      "execution_count": 4,
      "outputs": []
    },
    {
      "cell_type": "code",
      "source": [
        "MERCHANT_COLUMNS_PROPERTIES=pd.read_excel(r\"/content/drive/MyDrive/BIDV/CARD_FRAUD/data/column_description.xlsx\")\n",
        "def get_list_cat_columns():\n",
        "    feature_cad = MERCHANT_COLUMNS_PROPERTIES.copy()\n",
        "    feature_cad = feature_cad[(feature_cad[\"ORG_SOURCE\"].isin([\"CAD\", \"MIS_MRCH_DIM\", \"MIS_MR_CST_DIM\",\"MIS_CST_FCT\",\"MIS_MRCH_FCT\",\"EXT\"]))& (feature_cad[\"COLUMN_TP\"] == \"CAT\")\n",
        "    ]\n",
        "    return feature_cad[\"COLUMN_NAME\"].tolist()"
      ],
      "metadata": {
        "id": "A-BxeNo4XwBx"
      },
      "execution_count": 5,
      "outputs": []
    },
    {
      "cell_type": "code",
      "source": [
        "def reduce_memory_usage(df):   \n",
        "    start_memory = df.memory_usage().sum() / 1024**2\n",
        "    print(f\"Memory usage of dataframe is {start_memory} MB\")\n",
        "    \n",
        "    for col in df.columns:\n",
        "        col_type = df[col].dtype\n",
        "        \n",
        "        if col_type != 'object':\n",
        "            c_min = df[col].min()\n",
        "            c_max = df[col].max()\n",
        "            \n",
        "            if str(col_type)[:3] == 'int':\n",
        "                if c_min > np.iinfo(np.int8).min and c_max < np.iinfo(np.int8).max:\n",
        "                    df[col] = df[col].astype(np.int8)\n",
        "                elif c_min > np.iinfo(np.int16).min and c_max < np.iinfo(np.int16).max:\n",
        "                    df[col] = df[col].astype(np.int16)\n",
        "                elif c_min > np.iinfo(np.int32).min and c_max < np.iinfo(np.int32).max:\n",
        "                    df[col] = df[col].astype(np.int32)\n",
        "                elif c_min > np.iinfo(np.int64).min and c_max < np.iinfo(np.int64).max:\n",
        "                    df[col] = df[col].astype(np.int64)\n",
        "                    \n",
        "            else:\n",
        "                if c_min > np.finfo(np.float16).min and c_max < np.finfo(np.float16).max:\n",
        "                    df[col] = df[col].astype(np.float16)\n",
        "                elif c_min > np.finfo(np.float32).min and c_max < np.finfo(np.float32).max:\n",
        "                    df[col] = df[col].astype(np.float32)\n",
        "                else:\n",
        "                    pass\n",
        "        else:\n",
        "            df[col] = df[col].astype('category')\n",
        "    \n",
        "    end_memory = df.memory_usage().sum() / 1024**2\n",
        "    print(f\"Memory usage of dataframe after reduction {end_memory} MB\")\n",
        "    print(f\"Reduced by {100 * (start_memory - end_memory) / start_memory} % \")\n",
        "    return df"
      ],
      "metadata": {
        "id": "bAS6UVd8Z7lW"
      },
      "execution_count": 6,
      "outputs": []
    },
    {
      "cell_type": "code",
      "source": [
        "\n",
        "def get_feature_names(column_transformer):\n",
        "    \"\"\"Get feature names from all transformers.\n",
        "    Returns\n",
        "    -------\n",
        "    feature_names : list of strings\n",
        "        Names of the features produced by transform.\n",
        "    \"\"\"\n",
        "    # Remove the internal helper function\n",
        "    #check_is_fitted(column_transformer)\n",
        "    \n",
        "    # Turn loopkup into function for better handling with pipeline later\n",
        "    def get_names(trans):\n",
        "        # >> Original get_feature_names() method\n",
        "        if trans == 'drop' or (\n",
        "                hasattr(column, '__len__') and not len(column)):\n",
        "            return []\n",
        "        if trans == 'passthrough':\n",
        "            if hasattr(column_transformer, '_df_columns'):\n",
        "                if ((not isinstance(column, slice))\n",
        "                        and all(isinstance(col, str) for col in column)):\n",
        "                    return column\n",
        "                else:\n",
        "                    return column_transformer._df_columns[column]\n",
        "            else:\n",
        "                indices = np.arange(column_transformer._n_features)\n",
        "                return ['x%d' % i for i in indices[column]]\n",
        "        if not hasattr(trans, 'get_feature_names'):\n",
        "        # >>> Change: Return input column names if no method avaiable\n",
        "            # Turn error into a warning\n",
        "            warnings.warn(\"Transformer %s (type %s) does not \"\n",
        "                                 \"provide get_feature_names. \"\n",
        "                                 \"Will return input column names if available\"\n",
        "                                 % (str(name), type(trans).__name__))\n",
        "            # For transformers without a get_features_names method, use the input\n",
        "            # names to the column transformer\n",
        "            if column is None:\n",
        "                return []\n",
        "            else:\n",
        "                return [name + \"__\" + f for f in column]\n",
        "\n",
        "        return [name + \"__\" + f for f in trans.get_feature_names()]\n",
        "    \n",
        "    ### Start of processing\n",
        "    feature_names = []\n",
        "    \n",
        "    # Allow transformers to be pipelines. Pipeline steps are named differently, so preprocessing is needed\n",
        "    if type(column_transformer) == sklearn.pipeline.Pipeline:\n",
        "        l_transformers = [(name, trans, None, None) for step, name, trans in column_transformer._iter()]\n",
        "    else:\n",
        "        # For column transformers, follow the original method\n",
        "        l_transformers = list(column_transformer._iter(fitted=True))    \n",
        "    \n",
        "    for name, trans, column, _ in l_transformers: \n",
        "        if type(trans) == sklearn.pipeline.Pipeline:\n",
        "            # Recursive call on pipeline\n",
        "            _names = get_feature_names(trans)\n",
        "            # if pipeline has no transformer that returns names\n",
        "            if len(_names)==0:\n",
        "                _names = [name + \"__\" + f for f in column]\n",
        "            feature_names.extend(_names)\n",
        "        else:\n",
        "            feature_names.extend(get_names(trans))\n",
        "    \n",
        "    return feature_names"
      ],
      "metadata": {
        "id": "ZSI0ytD67zPv"
      },
      "execution_count": 7,
      "outputs": []
    },
    {
      "cell_type": "code",
      "source": [
        "train = reduce_memory_usage(train)\n",
        "val = reduce_memory_usage(val)"
      ],
      "metadata": {
        "colab": {
          "base_uri": "https://localhost:8080/"
        },
        "id": "qI8vZVv6Z9oD",
        "outputId": "64ef4b1b-89a8-4934-f084-9df521f7ff9b"
      },
      "execution_count": 8,
      "outputs": [
        {
          "output_type": "stream",
          "name": "stdout",
          "text": [
            "Memory usage of dataframe is 1.166229248046875 MB\n",
            "Memory usage of dataframe after reduction 0.3381690979003906 MB\n",
            "Reduced by 71.00320554755986 % \n",
            "Memory usage of dataframe is 0.2066650390625 MB\n",
            "Memory usage of dataframe after reduction 0.058624267578125 MB\n",
            "Reduced by 71.63319551092735 % \n"
          ]
        }
      ]
    },
    {
      "cell_type": "code",
      "source": [
        "train.head()"
      ],
      "metadata": {
        "colab": {
          "base_uri": "https://localhost:8080/",
          "height": 300
        },
        "id": "nv4oMuYv5mss",
        "outputId": "b7606f08-c8e4-416d-db23-ab2dda8e6180"
      },
      "execution_count": 9,
      "outputs": [
        {
          "output_type": "execute_result",
          "data": {
            "text/plain": [
              "     ID  MER_TYPE  BRANCH  CURR_NUM  DAY_REINSTATED  DAYS_AVGE  FL_LIM1  \\\n",
              "0  2208      5411     126       704               0          1      150   \n",
              "1    53      7011     753       704               0          2      150   \n",
              "2    52      5411     128       704               0          2      150   \n",
              "3   163      5977     741       704               0          3      150   \n",
              "4   657      5411     721       704               0          1      150   \n",
              "\n",
              "   FL_LIM3  FL_LIM4   GROSS_SALE  ...  DAY_CLOSE_YEAR  DAY_CLOSE_MONTH  \\\n",
              "0        0     5000  671981120.0  ...            2099               12   \n",
              "1        0        0          0.0  ...            2016               11   \n",
              "2        0     5000  204670160.0  ...            2099               12   \n",
              "3        0        0          0.0  ...            2016               10   \n",
              "4        0     5000          0.0  ...            2020                7   \n",
              "\n",
              "   DAY_CLOSE_DAY  DAY_START_YEAR  DAY_START_MONTH  DAY_START_DAY  \\\n",
              "0             31            1970                1              1   \n",
              "1             14            1970                1              1   \n",
              "2             31            1970                1              1   \n",
              "3              3            1970                1              1   \n",
              "4             24            1970                1              1   \n",
              "\n",
              "   DAY_SUBM_YEAR  DAY_SUBM_MONTH  DAY_SUBM_DAY  MERCH_FR  \n",
              "0           1970               1             1         1  \n",
              "1           1970               1             1         0  \n",
              "2           1970               1             1         0  \n",
              "3           1970               1             1         0  \n",
              "4           1970               1             1         0  \n",
              "\n",
              "[5 rows x 94 columns]"
            ],
            "text/html": [
              "\n",
              "  <div id=\"df-4d0a91fb-82d6-4c7a-8ed7-d357c447df20\">\n",
              "    <div class=\"colab-df-container\">\n",
              "      <div>\n",
              "<style scoped>\n",
              "    .dataframe tbody tr th:only-of-type {\n",
              "        vertical-align: middle;\n",
              "    }\n",
              "\n",
              "    .dataframe tbody tr th {\n",
              "        vertical-align: top;\n",
              "    }\n",
              "\n",
              "    .dataframe thead th {\n",
              "        text-align: right;\n",
              "    }\n",
              "</style>\n",
              "<table border=\"1\" class=\"dataframe\">\n",
              "  <thead>\n",
              "    <tr style=\"text-align: right;\">\n",
              "      <th></th>\n",
              "      <th>ID</th>\n",
              "      <th>MER_TYPE</th>\n",
              "      <th>BRANCH</th>\n",
              "      <th>CURR_NUM</th>\n",
              "      <th>DAY_REINSTATED</th>\n",
              "      <th>DAYS_AVGE</th>\n",
              "      <th>FL_LIM1</th>\n",
              "      <th>FL_LIM3</th>\n",
              "      <th>FL_LIM4</th>\n",
              "      <th>GROSS_SALE</th>\n",
              "      <th>...</th>\n",
              "      <th>DAY_CLOSE_YEAR</th>\n",
              "      <th>DAY_CLOSE_MONTH</th>\n",
              "      <th>DAY_CLOSE_DAY</th>\n",
              "      <th>DAY_START_YEAR</th>\n",
              "      <th>DAY_START_MONTH</th>\n",
              "      <th>DAY_START_DAY</th>\n",
              "      <th>DAY_SUBM_YEAR</th>\n",
              "      <th>DAY_SUBM_MONTH</th>\n",
              "      <th>DAY_SUBM_DAY</th>\n",
              "      <th>MERCH_FR</th>\n",
              "    </tr>\n",
              "  </thead>\n",
              "  <tbody>\n",
              "    <tr>\n",
              "      <th>0</th>\n",
              "      <td>2208</td>\n",
              "      <td>5411</td>\n",
              "      <td>126</td>\n",
              "      <td>704</td>\n",
              "      <td>0</td>\n",
              "      <td>1</td>\n",
              "      <td>150</td>\n",
              "      <td>0</td>\n",
              "      <td>5000</td>\n",
              "      <td>671981120.0</td>\n",
              "      <td>...</td>\n",
              "      <td>2099</td>\n",
              "      <td>12</td>\n",
              "      <td>31</td>\n",
              "      <td>1970</td>\n",
              "      <td>1</td>\n",
              "      <td>1</td>\n",
              "      <td>1970</td>\n",
              "      <td>1</td>\n",
              "      <td>1</td>\n",
              "      <td>1</td>\n",
              "    </tr>\n",
              "    <tr>\n",
              "      <th>1</th>\n",
              "      <td>53</td>\n",
              "      <td>7011</td>\n",
              "      <td>753</td>\n",
              "      <td>704</td>\n",
              "      <td>0</td>\n",
              "      <td>2</td>\n",
              "      <td>150</td>\n",
              "      <td>0</td>\n",
              "      <td>0</td>\n",
              "      <td>0.0</td>\n",
              "      <td>...</td>\n",
              "      <td>2016</td>\n",
              "      <td>11</td>\n",
              "      <td>14</td>\n",
              "      <td>1970</td>\n",
              "      <td>1</td>\n",
              "      <td>1</td>\n",
              "      <td>1970</td>\n",
              "      <td>1</td>\n",
              "      <td>1</td>\n",
              "      <td>0</td>\n",
              "    </tr>\n",
              "    <tr>\n",
              "      <th>2</th>\n",
              "      <td>52</td>\n",
              "      <td>5411</td>\n",
              "      <td>128</td>\n",
              "      <td>704</td>\n",
              "      <td>0</td>\n",
              "      <td>2</td>\n",
              "      <td>150</td>\n",
              "      <td>0</td>\n",
              "      <td>5000</td>\n",
              "      <td>204670160.0</td>\n",
              "      <td>...</td>\n",
              "      <td>2099</td>\n",
              "      <td>12</td>\n",
              "      <td>31</td>\n",
              "      <td>1970</td>\n",
              "      <td>1</td>\n",
              "      <td>1</td>\n",
              "      <td>1970</td>\n",
              "      <td>1</td>\n",
              "      <td>1</td>\n",
              "      <td>0</td>\n",
              "    </tr>\n",
              "    <tr>\n",
              "      <th>3</th>\n",
              "      <td>163</td>\n",
              "      <td>5977</td>\n",
              "      <td>741</td>\n",
              "      <td>704</td>\n",
              "      <td>0</td>\n",
              "      <td>3</td>\n",
              "      <td>150</td>\n",
              "      <td>0</td>\n",
              "      <td>0</td>\n",
              "      <td>0.0</td>\n",
              "      <td>...</td>\n",
              "      <td>2016</td>\n",
              "      <td>10</td>\n",
              "      <td>3</td>\n",
              "      <td>1970</td>\n",
              "      <td>1</td>\n",
              "      <td>1</td>\n",
              "      <td>1970</td>\n",
              "      <td>1</td>\n",
              "      <td>1</td>\n",
              "      <td>0</td>\n",
              "    </tr>\n",
              "    <tr>\n",
              "      <th>4</th>\n",
              "      <td>657</td>\n",
              "      <td>5411</td>\n",
              "      <td>721</td>\n",
              "      <td>704</td>\n",
              "      <td>0</td>\n",
              "      <td>1</td>\n",
              "      <td>150</td>\n",
              "      <td>0</td>\n",
              "      <td>5000</td>\n",
              "      <td>0.0</td>\n",
              "      <td>...</td>\n",
              "      <td>2020</td>\n",
              "      <td>7</td>\n",
              "      <td>24</td>\n",
              "      <td>1970</td>\n",
              "      <td>1</td>\n",
              "      <td>1</td>\n",
              "      <td>1970</td>\n",
              "      <td>1</td>\n",
              "      <td>1</td>\n",
              "      <td>0</td>\n",
              "    </tr>\n",
              "  </tbody>\n",
              "</table>\n",
              "<p>5 rows × 94 columns</p>\n",
              "</div>\n",
              "      <button class=\"colab-df-convert\" onclick=\"convertToInteractive('df-4d0a91fb-82d6-4c7a-8ed7-d357c447df20')\"\n",
              "              title=\"Convert this dataframe to an interactive table.\"\n",
              "              style=\"display:none;\">\n",
              "        \n",
              "  <svg xmlns=\"http://www.w3.org/2000/svg\" height=\"24px\"viewBox=\"0 0 24 24\"\n",
              "       width=\"24px\">\n",
              "    <path d=\"M0 0h24v24H0V0z\" fill=\"none\"/>\n",
              "    <path d=\"M18.56 5.44l.94 2.06.94-2.06 2.06-.94-2.06-.94-.94-2.06-.94 2.06-2.06.94zm-11 1L8.5 8.5l.94-2.06 2.06-.94-2.06-.94L8.5 2.5l-.94 2.06-2.06.94zm10 10l.94 2.06.94-2.06 2.06-.94-2.06-.94-.94-2.06-.94 2.06-2.06.94z\"/><path d=\"M17.41 7.96l-1.37-1.37c-.4-.4-.92-.59-1.43-.59-.52 0-1.04.2-1.43.59L10.3 9.45l-7.72 7.72c-.78.78-.78 2.05 0 2.83L4 21.41c.39.39.9.59 1.41.59.51 0 1.02-.2 1.41-.59l7.78-7.78 2.81-2.81c.8-.78.8-2.07 0-2.86zM5.41 20L4 18.59l7.72-7.72 1.47 1.35L5.41 20z\"/>\n",
              "  </svg>\n",
              "      </button>\n",
              "      \n",
              "  <style>\n",
              "    .colab-df-container {\n",
              "      display:flex;\n",
              "      flex-wrap:wrap;\n",
              "      gap: 12px;\n",
              "    }\n",
              "\n",
              "    .colab-df-convert {\n",
              "      background-color: #E8F0FE;\n",
              "      border: none;\n",
              "      border-radius: 50%;\n",
              "      cursor: pointer;\n",
              "      display: none;\n",
              "      fill: #1967D2;\n",
              "      height: 32px;\n",
              "      padding: 0 0 0 0;\n",
              "      width: 32px;\n",
              "    }\n",
              "\n",
              "    .colab-df-convert:hover {\n",
              "      background-color: #E2EBFA;\n",
              "      box-shadow: 0px 1px 2px rgba(60, 64, 67, 0.3), 0px 1px 3px 1px rgba(60, 64, 67, 0.15);\n",
              "      fill: #174EA6;\n",
              "    }\n",
              "\n",
              "    [theme=dark] .colab-df-convert {\n",
              "      background-color: #3B4455;\n",
              "      fill: #D2E3FC;\n",
              "    }\n",
              "\n",
              "    [theme=dark] .colab-df-convert:hover {\n",
              "      background-color: #434B5C;\n",
              "      box-shadow: 0px 1px 3px 1px rgba(0, 0, 0, 0.15);\n",
              "      filter: drop-shadow(0px 1px 2px rgba(0, 0, 0, 0.3));\n",
              "      fill: #FFFFFF;\n",
              "    }\n",
              "  </style>\n",
              "\n",
              "      <script>\n",
              "        const buttonEl =\n",
              "          document.querySelector('#df-4d0a91fb-82d6-4c7a-8ed7-d357c447df20 button.colab-df-convert');\n",
              "        buttonEl.style.display =\n",
              "          google.colab.kernel.accessAllowed ? 'block' : 'none';\n",
              "\n",
              "        async function convertToInteractive(key) {\n",
              "          const element = document.querySelector('#df-4d0a91fb-82d6-4c7a-8ed7-d357c447df20');\n",
              "          const dataTable =\n",
              "            await google.colab.kernel.invokeFunction('convertToInteractive',\n",
              "                                                     [key], {});\n",
              "          if (!dataTable) return;\n",
              "\n",
              "          const docLinkHtml = 'Like what you see? Visit the ' +\n",
              "            '<a target=\"_blank\" href=https://colab.research.google.com/notebooks/data_table.ipynb>data table notebook</a>'\n",
              "            + ' to learn more about interactive tables.';\n",
              "          element.innerHTML = '';\n",
              "          dataTable['output_type'] = 'display_data';\n",
              "          await google.colab.output.renderOutput(dataTable, element);\n",
              "          const docLink = document.createElement('div');\n",
              "          docLink.innerHTML = docLinkHtml;\n",
              "          element.appendChild(docLink);\n",
              "        }\n",
              "      </script>\n",
              "    </div>\n",
              "  </div>\n",
              "  "
            ]
          },
          "metadata": {},
          "execution_count": 9
        }
      ]
    },
    {
      "cell_type": "code",
      "source": [
        "useful_features = [c for c in train.columns if ((c not in ['ID', 'MERCH_FR', 'BRANCH']) and (\"DAY_\" not in c))] \n",
        "# list_cat_org = get_list_cat_columns() \n",
        "# object_cols = [c for c in useful_features if c in list_cat_org]\n",
        "object_cols = ['CURR_NUM', 'MP_IND', 'PAY_METHOD', 'HAS_TXN_LESS_15S']\n",
        "num_cols = [c for c in useful_features if c not in object_cols]\n",
        "# df_test = val[useful_features]"
      ],
      "metadata": {
        "id": "D6gZbaryQJ6-"
      },
      "execution_count": 10,
      "outputs": []
    },
    {
      "cell_type": "code",
      "source": [
        "x_train = train[useful_features]\n",
        "x_val = val[useful_features]\n",
        "y_train = train[\"MERCH_FR\"]\n",
        "y_val = val[\"MERCH_FR\"]"
      ],
      "metadata": {
        "id": "r6nTwHMeLcoJ"
      },
      "execution_count": 11,
      "outputs": []
    },
    {
      "cell_type": "code",
      "source": [
        "from sklearn.preprocessing import MinMaxScaler, OrdinalEncoder, StandardScaler, OneHotEncoder\n",
        "from imblearn.pipeline import make_pipeline, Pipeline\n",
        "\n",
        "from sklearn.model_selection import cross_val_score\n",
        "from sklearn.model_selection import RepeatedStratifiedKFold\n",
        "from numpy import mean\n",
        "\n",
        "numeric_transformer = Pipeline(steps=[\n",
        "    ('imputer', SimpleImputer(strategy='mean')),\n",
        "    ('scaler', StandardScaler() # ('scaler', MinMaxScaler()    \n",
        "    )])\n",
        "\n",
        "# cat_label_cols = ['CST_PERF_ST', 'CST_MKT_SEG']\n",
        "cat_ordinal_transformer = Pipeline(steps=[\n",
        "    ('imputer', SimpleImputer(strategy='constant', fill_value='missing_val')),\n",
        "    ('encoder', OrdinalEncoder() \n",
        "    )])\n",
        "\n",
        "# cat_onehot_cols = [f for f in cat_cols if f not in cat_label_cols]\n",
        "cat_onehot_transformer = Pipeline(steps=[\n",
        "    ('imputer', SimpleImputer(strategy='constant', fill_value='missing_val')),\n",
        "    ('encoder', OneHotEncoder(handle_unknown = 'ignore', sparse=False) \n",
        "    )])\n",
        "\n",
        "# over sampling \n",
        "oversample = SMOTE() # ADASYN()\n",
        "preprocessor = ColumnTransformer(\n",
        "    transformers=[\n",
        "                  ('num', numeric_transformer, num_cols), \n",
        "                  #('cat_label', cat_ordinal_transformer, cat_label_cols)\n",
        "                  #('cat_onehot', cat_onehot_transformer, ['CLOSE_RSN','CHIP_YN']) # ['CLOSE_RSN', 'COMM_FREQ']\n",
        "                 ], remainder='drop')"
      ],
      "metadata": {
        "id": "9WWwe6rlUm8O"
      },
      "execution_count": 12,
      "outputs": []
    },
    {
      "cell_type": "code",
      "source": [
        "# preprocessor.fit(train[useful_features])\n",
        "preprocessor.fit(x_train)\n",
        "\n",
        "x_train_tf = pd.DataFrame(preprocessor.transform(x_train), columns = get_feature_names(preprocessor)) \n",
        "x_val_tf = pd.DataFrame(preprocessor.transform(x_val), columns = get_feature_names(preprocessor)) "
      ],
      "metadata": {
        "colab": {
          "base_uri": "https://localhost:8080/"
        },
        "id": "m9yG34qzZn_i",
        "outputId": "2d2f3d52-4e1c-404d-e05f-276add27728b"
      },
      "execution_count": 13,
      "outputs": [
        {
          "output_type": "stream",
          "name": "stderr",
          "text": [
            "/usr/local/lib/python3.7/dist-packages/ipykernel_launcher.py:34: UserWarning: Transformer num (type Pipeline) does not provide get_feature_names. Will return input column names if available\n",
            "/usr/local/lib/python3.7/dist-packages/ipykernel_launcher.py:34: UserWarning: Transformer num (type Pipeline) does not provide get_feature_names. Will return input column names if available\n"
          ]
        }
      ]
    },
    {
      "cell_type": "code",
      "source": [
        "def run(trial):\n",
        "    param = {\n",
        "        # 'tree_method':'gpu_hist',  # this parameter means using the GPU when training our model to speedup the training process\n",
        "        'lambda': trial.suggest_loguniform('lambda', 1e-3, 10.0),\n",
        "        'alpha': trial.suggest_loguniform('alpha', 1e-3, 10.0),\n",
        "        'colsample_bytree': trial.suggest_categorical('colsample_bytree', [0.3,0.4,0.5,0.6,0.7,0.8,0.9, 1.0]),\n",
        "        'subsample': trial.suggest_categorical('subsample', [0.4,0.5,0.6,0.7,0.8,1.0]),\n",
        "        'learning_rate': trial.suggest_categorical('learning_rate', [0.008,0.009,0.01,0.012,0.014,0.016,0.018, 0.02]),\n",
        "        'n_estimators': 4000,\n",
        "        'max_depth': trial.suggest_categorical('max_depth', [5,7,9,11,13,15,17,20]),\n",
        "        'random_state': trial.suggest_categorical('random_state', [24, 48,2020]),\n",
        "        'min_child_weight': trial.suggest_int('min_child_weight', 1, 300),\n",
        "    }\n",
        "    model = XGBClassifier(**param)      \n",
        "    \n",
        "    pipeline = Pipeline(steps=[('sampling', oversample),\n",
        "                      ('classifier', model)])\n",
        "    \n",
        "    pipeline.fit(x_train_tf, y_train, classifier__eval_set=[(x_val_tf,y_val)], classifier__early_stopping_rounds=100, classifier__verbose=False)\n",
        "    preds_val = model.predict(x_val_tf)\n",
        "    score = f1_score(y_val, preds_val)\n",
        "    return score"
      ],
      "metadata": {
        "id": "O2qmXycKWojd"
      },
      "execution_count": 16,
      "outputs": []
    },
    {
      "cell_type": "code",
      "source": [
        "study = optuna.create_study(direction=\"maximize\")\n",
        "study.optimize(run, n_trials=100)"
      ],
      "metadata": {
        "colab": {
          "base_uri": "https://localhost:8080/"
        },
        "id": "9WqqgEhXWtmM",
        "outputId": "1da7fdfd-13b8-45ff-bd0f-ecf83125e1f9"
      },
      "execution_count": 17,
      "outputs": [
        {
          "output_type": "stream",
          "name": "stderr",
          "text": [
            "\u001b[32m[I 2022-04-12 09:35:02,474]\u001b[0m A new study created in memory with name: no-name-ae920190-84ab-4d28-97e0-7ad927ba99e4\u001b[0m\n",
            "\u001b[32m[I 2022-04-12 09:35:06,986]\u001b[0m Trial 0 finished with value: 0.964467005076142 and parameters: {'lambda': 3.2510377193827686, 'alpha': 7.3847544339256, 'colsample_bytree': 0.9, 'subsample': 0.6, 'learning_rate': 0.014, 'max_depth': 13, 'random_state': 24, 'min_child_weight': 4}. Best is trial 0 with value: 0.964467005076142.\u001b[0m\n",
            "\u001b[32m[I 2022-04-12 09:35:07,621]\u001b[0m Trial 1 finished with value: 0.0 and parameters: {'lambda': 1.7162606551979287, 'alpha': 0.010404932860357352, 'colsample_bytree': 0.8, 'subsample': 0.5, 'learning_rate': 0.018, 'max_depth': 15, 'random_state': 24, 'min_child_weight': 174}. Best is trial 0 with value: 0.964467005076142.\u001b[0m\n",
            "\u001b[32m[I 2022-04-12 09:35:09,359]\u001b[0m Trial 2 finished with value: 0.9253731343283582 and parameters: {'lambda': 2.582355648245052, 'alpha': 0.010320769265277183, 'colsample_bytree': 0.4, 'subsample': 0.8, 'learning_rate': 0.02, 'max_depth': 9, 'random_state': 24, 'min_child_weight': 120}. Best is trial 0 with value: 0.964467005076142.\u001b[0m\n",
            "\u001b[32m[I 2022-04-12 09:35:09,914]\u001b[0m Trial 3 finished with value: 0.0 and parameters: {'lambda': 0.12261100955356358, 'alpha': 0.03764453749774883, 'colsample_bytree': 0.7, 'subsample': 0.5, 'learning_rate': 0.012, 'max_depth': 15, 'random_state': 24, 'min_child_weight': 160}. Best is trial 0 with value: 0.964467005076142.\u001b[0m\n",
            "\u001b[32m[I 2022-04-12 09:35:10,908]\u001b[0m Trial 4 finished with value: 0.883495145631068 and parameters: {'lambda': 0.0024910272424689887, 'alpha': 0.3026385387545997, 'colsample_bytree': 0.9, 'subsample': 0.5, 'learning_rate': 0.014, 'max_depth': 11, 'random_state': 2020, 'min_child_weight': 98}. Best is trial 0 with value: 0.964467005076142.\u001b[0m\n",
            "\u001b[32m[I 2022-04-12 09:35:11,702]\u001b[0m Trial 5 finished with value: 0.8962264150943396 and parameters: {'lambda': 0.05697071349731224, 'alpha': 3.5933800707052788, 'colsample_bytree': 0.6, 'subsample': 0.8, 'learning_rate': 0.01, 'max_depth': 15, 'random_state': 24, 'min_child_weight': 130}. Best is trial 0 with value: 0.964467005076142.\u001b[0m\n",
            "\u001b[32m[I 2022-04-12 09:35:12,100]\u001b[0m Trial 6 finished with value: 0.0 and parameters: {'lambda': 0.1144542284410305, 'alpha': 0.00871259977029148, 'colsample_bytree': 0.9, 'subsample': 0.7, 'learning_rate': 0.012, 'max_depth': 7, 'random_state': 2020, 'min_child_weight': 219}. Best is trial 0 with value: 0.964467005076142.\u001b[0m\n",
            "\u001b[32m[I 2022-04-12 09:35:13,421]\u001b[0m Trial 7 finished with value: 0.9029126213592233 and parameters: {'lambda': 0.7947527481997039, 'alpha': 0.14494917469476604, 'colsample_bytree': 1.0, 'subsample': 0.7, 'learning_rate': 0.014, 'max_depth': 20, 'random_state': 24, 'min_child_weight': 114}. Best is trial 0 with value: 0.964467005076142.\u001b[0m\n",
            "\u001b[32m[I 2022-04-12 09:35:14,470]\u001b[0m Trial 8 finished with value: 0.8962264150943396 and parameters: {'lambda': 2.4095206745759987, 'alpha': 0.2947836418862808, 'colsample_bytree': 0.8, 'subsample': 0.5, 'learning_rate': 0.008, 'max_depth': 15, 'random_state': 24, 'min_child_weight': 65}. Best is trial 0 with value: 0.964467005076142.\u001b[0m\n",
            "\u001b[32m[I 2022-04-12 09:35:14,887]\u001b[0m Trial 9 finished with value: 0.0 and parameters: {'lambda': 0.05073961633352859, 'alpha': 1.759057861610466, 'colsample_bytree': 0.8, 'subsample': 0.5, 'learning_rate': 0.012, 'max_depth': 13, 'random_state': 48, 'min_child_weight': 172}. Best is trial 0 with value: 0.964467005076142.\u001b[0m\n",
            "\u001b[32m[I 2022-04-12 09:35:15,888]\u001b[0m Trial 10 finished with value: 0.9494949494949494 and parameters: {'lambda': 9.350634486948692, 'alpha': 0.001034454744731549, 'colsample_bytree': 0.5, 'subsample': 0.6, 'learning_rate': 0.016, 'max_depth': 13, 'random_state': 48, 'min_child_weight': 11}. Best is trial 0 with value: 0.964467005076142.\u001b[0m\n",
            "\u001b[32m[I 2022-04-12 09:35:17,676]\u001b[0m Trial 11 finished with value: 0.964467005076142 and parameters: {'lambda': 6.427175129758681, 'alpha': 0.0010621090621018704, 'colsample_bytree': 0.5, 'subsample': 0.6, 'learning_rate': 0.016, 'max_depth': 13, 'random_state': 48, 'min_child_weight': 6}. Best is trial 0 with value: 0.964467005076142.\u001b[0m\n",
            "\u001b[32m[I 2022-04-12 09:35:18,546]\u001b[0m Trial 12 finished with value: 0.964467005076142 and parameters: {'lambda': 9.929107394498192, 'alpha': 0.0011295346854033762, 'colsample_bytree': 0.3, 'subsample': 0.6, 'learning_rate': 0.016, 'max_depth': 13, 'random_state': 48, 'min_child_weight': 3}. Best is trial 0 with value: 0.964467005076142.\u001b[0m\n",
            "\u001b[32m[I 2022-04-12 09:35:19,180]\u001b[0m Trial 13 finished with value: 0.9306930693069307 and parameters: {'lambda': 0.618211527252594, 'alpha': 7.398900571706398, 'colsample_bytree': 0.5, 'subsample': 1.0, 'learning_rate': 0.009, 'max_depth': 5, 'random_state': 48, 'min_child_weight': 51}. Best is trial 0 with value: 0.964467005076142.\u001b[0m\n",
            "\u001b[32m[I 2022-04-12 09:35:20,156]\u001b[0m Trial 14 finished with value: 0.9346733668341708 and parameters: {'lambda': 0.0046094289750016485, 'alpha': 1.1235547475602503, 'colsample_bytree': 0.9, 'subsample': 0.6, 'learning_rate': 0.016, 'max_depth': 17, 'random_state': 48, 'min_child_weight': 47}. Best is trial 0 with value: 0.964467005076142.\u001b[0m\n",
            "\u001b[32m[I 2022-04-12 09:35:20,504]\u001b[0m Trial 15 finished with value: 0.0 and parameters: {'lambda': 0.39602753767086335, 'alpha': 0.7649456358579311, 'colsample_bytree': 0.5, 'subsample': 0.4, 'learning_rate': 0.014, 'max_depth': 13, 'random_state': 2020, 'min_child_weight': 299}. Best is trial 0 with value: 0.964467005076142.\u001b[0m\n",
            "\u001b[32m[I 2022-04-12 09:35:21,906]\u001b[0m Trial 16 finished with value: 0.9494949494949494 and parameters: {'lambda': 0.016515139471766548, 'alpha': 0.04339801050277582, 'colsample_bytree': 0.4, 'subsample': 0.6, 'learning_rate': 0.008, 'max_depth': 13, 'random_state': 48, 'min_child_weight': 30}. Best is trial 0 with value: 0.964467005076142.\u001b[0m\n",
            "\u001b[32m[I 2022-04-12 09:35:22,397]\u001b[0m Trial 17 finished with value: 0.9064039408866995 and parameters: {'lambda': 8.8121303054466, 'alpha': 0.002878328022272514, 'colsample_bytree': 0.3, 'subsample': 0.6, 'learning_rate': 0.009, 'max_depth': 17, 'random_state': 48, 'min_child_weight': 82}. Best is trial 0 with value: 0.964467005076142.\u001b[0m\n",
            "\u001b[32m[I 2022-04-12 09:35:22,724]\u001b[0m Trial 18 finished with value: 0.0 and parameters: {'lambda': 0.2742905990976458, 'alpha': 9.89933873081038, 'colsample_bytree': 0.3, 'subsample': 0.4, 'learning_rate': 0.01, 'max_depth': 11, 'random_state': 24, 'min_child_weight': 222}. Best is trial 0 with value: 0.964467005076142.\u001b[0m\n",
            "\u001b[32m[I 2022-04-12 09:35:24,728]\u001b[0m Trial 19 finished with value: 0.9547738693467336 and parameters: {'lambda': 2.2119121236950057, 'alpha': 0.06858026790213702, 'colsample_bytree': 1.0, 'subsample': 1.0, 'learning_rate': 0.018, 'max_depth': 20, 'random_state': 2020, 'min_child_weight': 27}. Best is trial 0 with value: 0.964467005076142.\u001b[0m\n",
            "\u001b[32m[I 2022-04-12 09:35:25,822]\u001b[0m Trial 20 finished with value: 0.9693877551020408 and parameters: {'lambda': 4.248186489909531, 'alpha': 0.004016238677167677, 'colsample_bytree': 0.3, 'subsample': 0.6, 'learning_rate': 0.02, 'max_depth': 9, 'random_state': 48, 'min_child_weight': 2}. Best is trial 20 with value: 0.9693877551020408.\u001b[0m\n",
            "\u001b[32m[I 2022-04-12 09:35:26,853]\u001b[0m Trial 21 finished with value: 0.964467005076142 and parameters: {'lambda': 5.586303246653999, 'alpha': 0.001225014248670352, 'colsample_bytree': 0.3, 'subsample': 0.6, 'learning_rate': 0.016, 'max_depth': 9, 'random_state': 48, 'min_child_weight': 3}. Best is trial 20 with value: 0.9693877551020408.\u001b[0m\n",
            "\u001b[32m[I 2022-04-12 09:35:27,348]\u001b[0m Trial 22 finished with value: 0.9313725490196079 and parameters: {'lambda': 1.0034113396545574, 'alpha': 0.003045497132243216, 'colsample_bytree': 0.3, 'subsample': 0.6, 'learning_rate': 0.02, 'max_depth': 9, 'random_state': 48, 'min_child_weight': 72}. Best is trial 20 with value: 0.9693877551020408.\u001b[0m\n",
            "\u001b[32m[I 2022-04-12 09:35:27,902]\u001b[0m Trial 23 finished with value: 0.9489795918367346 and parameters: {'lambda': 5.134210784362705, 'alpha': 0.0029026024234512183, 'colsample_bytree': 0.3, 'subsample': 0.6, 'learning_rate': 0.02, 'max_depth': 7, 'random_state': 48, 'min_child_weight': 36}. Best is trial 20 with value: 0.9693877551020408.\u001b[0m\n",
            "\u001b[32m[I 2022-04-12 09:35:29,705]\u001b[0m Trial 24 finished with value: 0.9543147208121827 and parameters: {'lambda': 2.913200510318847, 'alpha': 0.021774833054944934, 'colsample_bytree': 0.6, 'subsample': 0.6, 'learning_rate': 0.014, 'max_depth': 9, 'random_state': 48, 'min_child_weight': 8}. Best is trial 20 with value: 0.9693877551020408.\u001b[0m\n",
            "\u001b[32m[I 2022-04-12 09:35:30,989]\u001b[0m Trial 25 finished with value: 0.9441624365482234 and parameters: {'lambda': 4.2524785643432415, 'alpha': 0.005410089019578856, 'colsample_bytree': 0.7, 'subsample': 0.6, 'learning_rate': 0.02, 'max_depth': 9, 'random_state': 24, 'min_child_weight': 51}. Best is trial 20 with value: 0.9693877551020408.\u001b[0m\n",
            "\u001b[32m[I 2022-04-12 09:35:32,298]\u001b[0m Trial 26 finished with value: 0.9207920792079208 and parameters: {'lambda': 1.0238659075876229, 'alpha': 0.022996701805433534, 'colsample_bytree': 0.9, 'subsample': 0.6, 'learning_rate': 0.02, 'max_depth': 9, 'random_state': 48, 'min_child_weight': 85}. Best is trial 20 with value: 0.9693877551020408.\u001b[0m\n",
            "\u001b[32m[I 2022-04-12 09:35:33,032]\u001b[0m Trial 27 finished with value: 0.9543147208121827 and parameters: {'lambda': 0.2482049581858006, 'alpha': 0.0020906308718354723, 'colsample_bytree': 0.3, 'subsample': 0.7, 'learning_rate': 0.016, 'max_depth': 5, 'random_state': 24, 'min_child_weight': 29}. Best is trial 20 with value: 0.9693877551020408.\u001b[0m\n",
            "\u001b[32m[I 2022-04-12 09:35:33,348]\u001b[0m Trial 28 finished with value: 0.0 and parameters: {'lambda': 1.3084169233348188, 'alpha': 0.0057486722364330734, 'colsample_bytree': 0.3, 'subsample': 0.8, 'learning_rate': 0.014, 'max_depth': 9, 'random_state': 48, 'min_child_weight': 276}. Best is trial 20 with value: 0.9693877551020408.\u001b[0m\n",
            "\u001b[32m[I 2022-04-12 09:35:34,665]\u001b[0m Trial 29 finished with value: 0.9207920792079208 and parameters: {'lambda': 4.035329679878433, 'alpha': 0.18224298843428072, 'colsample_bytree': 0.9, 'subsample': 0.4, 'learning_rate': 0.018, 'max_depth': 9, 'random_state': 2020, 'min_child_weight': 58}. Best is trial 20 with value: 0.9693877551020408.\u001b[0m\n",
            "\u001b[32m[I 2022-04-12 09:35:35,519]\u001b[0m Trial 30 finished with value: 0.9543147208121827 and parameters: {'lambda': 1.6448097763872613, 'alpha': 0.015829024289477318, 'colsample_bytree': 0.3, 'subsample': 1.0, 'learning_rate': 0.008, 'max_depth': 9, 'random_state': 24, 'min_child_weight': 22}. Best is trial 20 with value: 0.9693877551020408.\u001b[0m\n",
            "\u001b[32m[I 2022-04-12 09:35:36,895]\u001b[0m Trial 31 finished with value: 0.964467005076142 and parameters: {'lambda': 9.238900289438746, 'alpha': 0.0015452889437610501, 'colsample_bytree': 0.3, 'subsample': 0.6, 'learning_rate': 0.016, 'max_depth': 13, 'random_state': 48, 'min_child_weight': 7}. Best is trial 20 with value: 0.9693877551020408.\u001b[0m\n",
            "\u001b[32m[I 2022-04-12 09:35:37,926]\u001b[0m Trial 32 finished with value: 0.964467005076142 and parameters: {'lambda': 4.19917770873912, 'alpha': 0.00583079934469409, 'colsample_bytree': 0.3, 'subsample': 0.6, 'learning_rate': 0.016, 'max_depth': 13, 'random_state': 48, 'min_child_weight': 1}. Best is trial 20 with value: 0.9693877551020408.\u001b[0m\n",
            "\u001b[32m[I 2022-04-12 09:35:39,106]\u001b[0m Trial 33 finished with value: 0.9494949494949494 and parameters: {'lambda': 2.2101895011246664, 'alpha': 0.0019368693795909534, 'colsample_bytree': 0.4, 'subsample': 0.6, 'learning_rate': 0.016, 'max_depth': 13, 'random_state': 48, 'min_child_weight': 35}. Best is trial 20 with value: 0.9693877551020408.\u001b[0m\n",
            "\u001b[32m[I 2022-04-12 09:35:39,485]\u001b[0m Trial 34 finished with value: 0.0 and parameters: {'lambda': 5.608001264317048, 'alpha': 0.0015551107432546373, 'colsample_bytree': 0.7, 'subsample': 0.6, 'learning_rate': 0.02, 'max_depth': 11, 'random_state': 48, 'min_child_weight': 200}. Best is trial 20 with value: 0.9693877551020408.\u001b[0m\n",
            "\u001b[32m[I 2022-04-12 09:35:40,809]\u001b[0m Trial 35 finished with value: 0.9543147208121827 and parameters: {'lambda': 8.849475613164854, 'alpha': 0.0033585910536443925, 'colsample_bytree': 0.5, 'subsample': 0.8, 'learning_rate': 0.01, 'max_depth': 13, 'random_state': 24, 'min_child_weight': 15}. Best is trial 20 with value: 0.9693877551020408.\u001b[0m\n",
            "\u001b[32m[I 2022-04-12 09:35:41,267]\u001b[0m Trial 36 finished with value: 0.8108108108108107 and parameters: {'lambda': 0.5152590766265618, 'alpha': 0.007214281131159815, 'colsample_bytree': 0.6, 'subsample': 0.6, 'learning_rate': 0.016, 'max_depth': 13, 'random_state': 48, 'min_child_weight': 143}. Best is trial 20 with value: 0.9693877551020408.\u001b[0m\n",
            "\u001b[32m[I 2022-04-12 09:35:41,821]\u001b[0m Trial 37 finished with value: 0.8720379146919433 and parameters: {'lambda': 3.278668493087103, 'alpha': 0.012552874789629468, 'colsample_bytree': 0.3, 'subsample': 0.6, 'learning_rate': 0.014, 'max_depth': 7, 'random_state': 24, 'min_child_weight': 113}. Best is trial 20 with value: 0.9693877551020408.\u001b[0m\n",
            "\u001b[32m[I 2022-04-12 09:35:43,577]\u001b[0m Trial 38 finished with value: 0.916256157635468 and parameters: {'lambda': 1.8969739548228888, 'alpha': 0.5845494298312754, 'colsample_bytree': 0.9, 'subsample': 0.7, 'learning_rate': 0.012, 'max_depth': 15, 'random_state': 2020, 'min_child_weight': 92}. Best is trial 20 with value: 0.9693877551020408.\u001b[0m\n",
            "\u001b[32m[I 2022-04-12 09:35:44,779]\u001b[0m Trial 39 finished with value: 0.9306930693069307 and parameters: {'lambda': 0.061374861868848024, 'alpha': 3.528123289540707, 'colsample_bytree': 1.0, 'subsample': 0.5, 'learning_rate': 0.009, 'max_depth': 20, 'random_state': 24, 'min_child_weight': 43}. Best is trial 20 with value: 0.9693877551020408.\u001b[0m\n",
            "\u001b[32m[I 2022-04-12 09:35:46,172]\u001b[0m Trial 40 finished with value: 0.9393939393939394 and parameters: {'lambda': 0.0010408561781140803, 'alpha': 0.004724507882153364, 'colsample_bytree': 0.8, 'subsample': 0.8, 'learning_rate': 0.018, 'max_depth': 13, 'random_state': 48, 'min_child_weight': 76}. Best is trial 20 with value: 0.9693877551020408.\u001b[0m\n",
            "\u001b[32m[I 2022-04-12 09:35:46,968]\u001b[0m Trial 41 finished with value: 0.9591836734693877 and parameters: {'lambda': 6.097258000607817, 'alpha': 0.0016803911518549599, 'colsample_bytree': 0.3, 'subsample': 0.6, 'learning_rate': 0.016, 'max_depth': 13, 'random_state': 48, 'min_child_weight': 5}. Best is trial 20 with value: 0.9693877551020408.\u001b[0m\n",
            "\u001b[32m[I 2022-04-12 09:35:48,002]\u001b[0m Trial 42 finished with value: 0.9693877551020408 and parameters: {'lambda': 9.470802733571203, 'alpha': 0.0010416317272884672, 'colsample_bytree': 0.3, 'subsample': 0.6, 'learning_rate': 0.016, 'max_depth': 13, 'random_state': 48, 'min_child_weight': 3}. Best is trial 20 with value: 0.9693877551020408.\u001b[0m\n",
            "\u001b[32m[I 2022-04-12 09:35:48,687]\u001b[0m Trial 43 finished with value: 0.9543147208121827 and parameters: {'lambda': 9.622667439485566, 'alpha': 0.0038211584718119275, 'colsample_bytree': 0.3, 'subsample': 0.6, 'learning_rate': 0.016, 'max_depth': 13, 'random_state': 48, 'min_child_weight': 20}. Best is trial 20 with value: 0.9693877551020408.\u001b[0m\n",
            "\u001b[32m[I 2022-04-12 09:35:49,402]\u001b[0m Trial 44 finished with value: 0.9591836734693877 and parameters: {'lambda': 3.2104785292474056, 'alpha': 0.01003095091967488, 'colsample_bytree': 0.3, 'subsample': 0.6, 'learning_rate': 0.016, 'max_depth': 13, 'random_state': 48, 'min_child_weight': 16}. Best is trial 20 with value: 0.9693877551020408.\u001b[0m\n",
            "\u001b[32m[I 2022-04-12 09:35:50,221]\u001b[0m Trial 45 finished with value: 0.9082125603864734 and parameters: {'lambda': 1.4642715773735773, 'alpha': 0.0022483598075795953, 'colsample_bytree': 0.9, 'subsample': 0.6, 'learning_rate': 0.014, 'max_depth': 13, 'random_state': 48, 'min_child_weight': 38}. Best is trial 20 with value: 0.9693877551020408.\u001b[0m\n",
            "\u001b[32m[I 2022-04-12 09:35:50,702]\u001b[0m Trial 46 finished with value: 0.9170731707317074 and parameters: {'lambda': 0.01642772715420259, 'alpha': 0.0010943242683247477, 'colsample_bytree': 0.4, 'subsample': 0.5, 'learning_rate': 0.012, 'max_depth': 5, 'random_state': 48, 'min_child_weight': 65}. Best is trial 20 with value: 0.9693877551020408.\u001b[0m\n",
            "\u001b[32m[I 2022-04-12 09:35:52,979]\u001b[0m Trial 47 finished with value: 0.9591836734693877 and parameters: {'lambda': 6.942104577377802, 'alpha': 0.0013950256644129134, 'colsample_bytree': 0.8, 'subsample': 1.0, 'learning_rate': 0.016, 'max_depth': 17, 'random_state': 24, 'min_child_weight': 21}. Best is trial 20 with value: 0.9693877551020408.\u001b[0m\n",
            "\u001b[32m[I 2022-04-12 09:35:53,857]\u001b[0m Trial 48 finished with value: 0.964467005076142 and parameters: {'lambda': 3.6194413616352685, 'alpha': 0.08262883690445545, 'colsample_bytree': 0.3, 'subsample': 0.7, 'learning_rate': 0.016, 'max_depth': 15, 'random_state': 48, 'min_child_weight': 4}. Best is trial 20 with value: 0.9693877551020408.\u001b[0m\n",
            "\u001b[32m[I 2022-04-12 09:35:54,609]\u001b[0m Trial 49 finished with value: 0.8909952606635071 and parameters: {'lambda': 0.7077465922224958, 'alpha': 0.00757626192696676, 'colsample_bytree': 0.7, 'subsample': 0.6, 'learning_rate': 0.01, 'max_depth': 13, 'random_state': 2020, 'min_child_weight': 103}. Best is trial 20 with value: 0.9693877551020408.\u001b[0m\n",
            "\u001b[32m[I 2022-04-12 09:35:55,167]\u001b[0m Trial 50 finished with value: 0.9489795918367346 and parameters: {'lambda': 2.6176678767203327, 'alpha': 0.1357192202943464, 'colsample_bytree': 0.3, 'subsample': 0.7, 'learning_rate': 0.008, 'max_depth': 15, 'random_state': 48, 'min_child_weight': 59}. Best is trial 20 with value: 0.9693877551020408.\u001b[0m\n",
            "\u001b[32m[I 2022-04-12 09:35:56,116]\u001b[0m Trial 51 finished with value: 0.9494949494949494 and parameters: {'lambda': 7.2744246136385815, 'alpha': 0.0010203987660812707, 'colsample_bytree': 0.5, 'subsample': 0.6, 'learning_rate': 0.016, 'max_depth': 13, 'random_state': 48, 'min_child_weight': 14}. Best is trial 20 with value: 0.9693877551020408.\u001b[0m\n",
            "\u001b[32m[I 2022-04-12 09:35:57,835]\u001b[0m Trial 52 finished with value: 0.9595959595959597 and parameters: {'lambda': 5.76626991389444, 'alpha': 0.001012226140805801, 'colsample_bytree': 0.5, 'subsample': 0.6, 'learning_rate': 0.016, 'max_depth': 9, 'random_state': 48, 'min_child_weight': 1}. Best is trial 20 with value: 0.9693877551020408.\u001b[0m\n",
            "\u001b[32m[I 2022-04-12 09:35:59,102]\u001b[0m Trial 53 finished with value: 0.9693877551020408 and parameters: {'lambda': 3.8137019173083404, 'alpha': 0.067015969786148, 'colsample_bytree': 0.3, 'subsample': 0.7, 'learning_rate': 0.016, 'max_depth': 15, 'random_state': 48, 'min_child_weight': 2}. Best is trial 20 with value: 0.9693877551020408.\u001b[0m\n",
            "\u001b[32m[I 2022-04-12 09:35:59,825]\u001b[0m Trial 54 finished with value: 0.9543147208121827 and parameters: {'lambda': 4.155643222344371, 'alpha': 0.04070284247808946, 'colsample_bytree': 0.3, 'subsample': 0.7, 'learning_rate': 0.016, 'max_depth': 15, 'random_state': 48, 'min_child_weight': 27}. Best is trial 20 with value: 0.9693877551020408.\u001b[0m\n",
            "\u001b[32m[I 2022-04-12 09:36:01,333]\u001b[0m Trial 55 finished with value: 0.9253731343283582 and parameters: {'lambda': 5.295457420761932, 'alpha': 1.5496650604065272, 'colsample_bytree': 1.0, 'subsample': 0.4, 'learning_rate': 0.02, 'max_depth': 11, 'random_state': 48, 'min_child_weight': 45}. Best is trial 20 with value: 0.9693877551020408.\u001b[0m\n",
            "\u001b[32m[I 2022-04-12 09:36:02,033]\u001b[0m Trial 56 finished with value: 0.9543147208121827 and parameters: {'lambda': 1.1400883857452404, 'alpha': 0.07696411119446603, 'colsample_bytree': 0.3, 'subsample': 0.7, 'learning_rate': 0.014, 'max_depth': 15, 'random_state': 48, 'min_child_weight': 17}. Best is trial 20 with value: 0.9693877551020408.\u001b[0m\n",
            "\u001b[32m[I 2022-04-12 09:36:02,977]\u001b[0m Trial 57 finished with value: 0.9693877551020408 and parameters: {'lambda': 9.801758315379802, 'alpha': 0.0023831346647544727, 'colsample_bytree': 0.3, 'subsample': 0.6, 'learning_rate': 0.016, 'max_depth': 20, 'random_state': 48, 'min_child_weight': 2}. Best is trial 20 with value: 0.9693877551020408.\u001b[0m\n",
            "\u001b[32m[I 2022-04-12 09:36:03,625]\u001b[0m Trial 58 finished with value: 0.9494949494949494 and parameters: {'lambda': 3.3815352708067166, 'alpha': 0.2807084153281344, 'colsample_bytree': 0.3, 'subsample': 0.7, 'learning_rate': 0.016, 'max_depth': 20, 'random_state': 48, 'min_child_weight': 32}. Best is trial 20 with value: 0.9693877551020408.\u001b[0m\n",
            "\u001b[32m[I 2022-04-12 09:36:04,490]\u001b[0m Trial 59 finished with value: 0.9134615384615384 and parameters: {'lambda': 0.17412112749356579, 'alpha': 0.4629302573232795, 'colsample_bytree': 0.6, 'subsample': 0.5, 'learning_rate': 0.009, 'max_depth': 20, 'random_state': 24, 'min_child_weight': 50}. Best is trial 20 with value: 0.9693877551020408.\u001b[0m\n",
            "\u001b[32m[I 2022-04-12 09:36:05,889]\u001b[0m Trial 60 finished with value: 0.9595959595959597 and parameters: {'lambda': 2.267200592737683, 'alpha': 0.023589046795116884, 'colsample_bytree': 0.9, 'subsample': 0.6, 'learning_rate': 0.02, 'max_depth': 20, 'random_state': 2020, 'min_child_weight': 2}. Best is trial 20 with value: 0.9693877551020408.\u001b[0m\n",
            "\u001b[32m[I 2022-04-12 09:36:06,629]\u001b[0m Trial 61 finished with value: 0.9543147208121827 and parameters: {'lambda': 4.208286974399947, 'alpha': 0.06314481192287157, 'colsample_bytree': 0.3, 'subsample': 0.7, 'learning_rate': 0.016, 'max_depth': 15, 'random_state': 48, 'min_child_weight': 14}. Best is trial 20 with value: 0.9693877551020408.\u001b[0m\n",
            "\u001b[32m[I 2022-04-12 09:36:07,205]\u001b[0m Trial 62 finished with value: 0.9441624365482234 and parameters: {'lambda': 7.6618573788192865, 'alpha': 0.0023832081546610265, 'colsample_bytree': 0.3, 'subsample': 0.6, 'learning_rate': 0.016, 'max_depth': 7, 'random_state': 48, 'min_child_weight': 26}. Best is trial 20 with value: 0.9693877551020408.\u001b[0m\n",
            "\u001b[32m[I 2022-04-12 09:36:08,302]\u001b[0m Trial 63 finished with value: 0.964467005076142 and parameters: {'lambda': 1.8144298920172761, 'alpha': 0.10893672644270953, 'colsample_bytree': 0.3, 'subsample': 0.7, 'learning_rate': 0.016, 'max_depth': 15, 'random_state': 48, 'min_child_weight': 1}. Best is trial 20 with value: 0.9693877551020408.\u001b[0m\n",
            "\u001b[32m[I 2022-04-12 09:36:08,908]\u001b[0m Trial 64 finished with value: 0.9447236180904524 and parameters: {'lambda': 2.9491126942575234, 'alpha': 0.21258702357814863, 'colsample_bytree': 0.3, 'subsample': 0.7, 'learning_rate': 0.016, 'max_depth': 15, 'random_state': 48, 'min_child_weight': 39}. Best is trial 20 with value: 0.9693877551020408.\u001b[0m\n",
            "\u001b[32m[I 2022-04-12 09:36:09,701]\u001b[0m Trial 65 finished with value: 0.9591836734693877 and parameters: {'lambda': 1.8325874387566075, 'alpha': 4.800364520103522, 'colsample_bytree': 0.3, 'subsample': 0.7, 'learning_rate': 0.014, 'max_depth': 15, 'random_state': 48, 'min_child_weight': 11}. Best is trial 20 with value: 0.9693877551020408.\u001b[0m\n",
            "\u001b[32m[I 2022-04-12 09:36:10,069]\u001b[0m Trial 66 finished with value: 0.7938144329896908 and parameters: {'lambda': 0.021803103385624256, 'alpha': 0.052069064747732534, 'colsample_bytree': 0.3, 'subsample': 0.7, 'learning_rate': 0.018, 'max_depth': 15, 'random_state': 48, 'min_child_weight': 181}. Best is trial 20 with value: 0.9693877551020408.\u001b[0m\n",
            "\u001b[32m[I 2022-04-12 09:36:11,909]\u001b[0m Trial 67 finished with value: 0.9538461538461539 and parameters: {'lambda': 7.916645833500411, 'alpha': 2.29936190825602, 'colsample_bytree': 0.9, 'subsample': 0.4, 'learning_rate': 0.016, 'max_depth': 17, 'random_state': 24, 'min_child_weight': 25}. Best is trial 20 with value: 0.9693877551020408.\u001b[0m\n",
            "\u001b[32m[I 2022-04-12 09:36:12,582]\u001b[0m Trial 68 finished with value: 0.9447236180904524 and parameters: {'lambda': 9.380488330282352, 'alpha': 0.003957951717080279, 'colsample_bytree': 0.4, 'subsample': 1.0, 'learning_rate': 0.008, 'max_depth': 5, 'random_state': 48, 'min_child_weight': 10}. Best is trial 20 with value: 0.9693877551020408.\u001b[0m\n",
            "\u001b[32m[I 2022-04-12 09:36:12,964]\u001b[0m Trial 69 finished with value: 0.0 and parameters: {'lambda': 4.771444700495073, 'alpha': 0.0026048551754471305, 'colsample_bytree': 0.8, 'subsample': 0.8, 'learning_rate': 0.02, 'max_depth': 20, 'random_state': 48, 'min_child_weight': 246}. Best is trial 20 with value: 0.9693877551020408.\u001b[0m\n",
            "\u001b[32m[I 2022-04-12 09:36:13,599]\u001b[0m Trial 70 finished with value: 0.9591836734693877 and parameters: {'lambda': 3.5694084166460156, 'alpha': 0.019106687026397465, 'colsample_bytree': 0.3, 'subsample': 0.6, 'learning_rate': 0.01, 'max_depth': 11, 'random_state': 24, 'min_child_weight': 35}. Best is trial 20 with value: 0.9693877551020408.\u001b[0m\n",
            "\u001b[32m[I 2022-04-12 09:36:14,481]\u001b[0m Trial 71 finished with value: 0.9543147208121827 and parameters: {'lambda': 6.626903388297169, 'alpha': 0.0016081355194328835, 'colsample_bytree': 0.5, 'subsample': 0.6, 'learning_rate': 0.016, 'max_depth': 13, 'random_state': 48, 'min_child_weight': 10}. Best is trial 20 with value: 0.9693877551020408.\u001b[0m\n",
            "\u001b[32m[I 2022-04-12 09:36:15,148]\u001b[0m Trial 72 finished with value: 0.9494949494949494 and parameters: {'lambda': 5.245168863285496, 'alpha': 0.001396650068107821, 'colsample_bytree': 0.3, 'subsample': 0.6, 'learning_rate': 0.016, 'max_depth': 9, 'random_state': 48, 'min_child_weight': 21}. Best is trial 20 with value: 0.9693877551020408.\u001b[0m\n",
            "\u001b[32m[I 2022-04-12 09:36:15,964]\u001b[0m Trial 73 finished with value: 0.9591836734693877 and parameters: {'lambda': 9.009194643321212, 'alpha': 0.0019820189990258173, 'colsample_bytree': 0.3, 'subsample': 0.6, 'learning_rate': 0.016, 'max_depth': 9, 'random_state': 48, 'min_child_weight': 9}. Best is trial 20 with value: 0.9693877551020408.\u001b[0m\n",
            "\u001b[32m[I 2022-04-12 09:36:17,559]\u001b[0m Trial 74 finished with value: 0.9494949494949494 and parameters: {'lambda': 6.8769679670980155, 'alpha': 0.005812611110702059, 'colsample_bytree': 0.5, 'subsample': 0.6, 'learning_rate': 0.016, 'max_depth': 13, 'random_state': 48, 'min_child_weight': 28}. Best is trial 20 with value: 0.9693877551020408.\u001b[0m\n",
            "\u001b[32m[I 2022-04-12 09:36:19,104]\u001b[0m Trial 75 finished with value: 0.964467005076142 and parameters: {'lambda': 2.3985831309557826, 'alpha': 0.001300062171831861, 'colsample_bytree': 0.3, 'subsample': 0.6, 'learning_rate': 0.012, 'max_depth': 9, 'random_state': 48, 'min_child_weight': 1}. Best is trial 20 with value: 0.9693877551020408.\u001b[0m\n",
            "\u001b[32m[I 2022-04-12 09:36:19,987]\u001b[0m Trial 76 finished with value: 0.9595959595959597 and parameters: {'lambda': 1.3746386637102748, 'alpha': 0.09609883645752913, 'colsample_bytree': 0.3, 'subsample': 0.7, 'learning_rate': 0.016, 'max_depth': 15, 'random_state': 48, 'min_child_weight': 1}. Best is trial 20 with value: 0.9693877551020408.\u001b[0m\n",
            "\u001b[32m[I 2022-04-12 09:36:22,115]\u001b[0m Trial 77 finished with value: 0.9547738693467336 and parameters: {'lambda': 2.4483497446880853, 'alpha': 0.8980461747847518, 'colsample_bytree': 0.7, 'subsample': 0.7, 'learning_rate': 0.012, 'max_depth': 15, 'random_state': 2020, 'min_child_weight': 1}. Best is trial 20 with value: 0.9693877551020408.\u001b[0m\n",
            "\u001b[32m[I 2022-04-12 09:36:22,885]\u001b[0m Trial 78 finished with value: 0.9435897435897437 and parameters: {'lambda': 5.885623150819193, 'alpha': 0.0036512365007180677, 'colsample_bytree': 0.6, 'subsample': 0.6, 'learning_rate': 0.009, 'max_depth': 13, 'random_state': 24, 'min_child_weight': 18}. Best is trial 20 with value: 0.9693877551020408.\u001b[0m\n",
            "\u001b[32m[I 2022-04-12 09:36:23,869]\u001b[0m Trial 79 finished with value: 0.9387755102040817 and parameters: {'lambda': 0.9405585870288876, 'alpha': 0.10975972737055652, 'colsample_bytree': 1.0, 'subsample': 0.7, 'learning_rate': 0.016, 'max_depth': 15, 'random_state': 48, 'min_child_weight': 55}. Best is trial 20 with value: 0.9693877551020408.\u001b[0m\n",
            "\u001b[32m[I 2022-04-12 09:36:26,214]\u001b[0m Trial 80 finished with value: 0.9489795918367346 and parameters: {'lambda': 4.229907388921618, 'alpha': 0.0029751151834533605, 'colsample_bytree': 0.9, 'subsample': 0.6, 'learning_rate': 0.014, 'max_depth': 13, 'random_state': 48, 'min_child_weight': 39}. Best is trial 20 with value: 0.9693877551020408.\u001b[0m\n",
            "\u001b[32m[I 2022-04-12 09:36:26,973]\u001b[0m Trial 81 finished with value: 0.9543147208121827 and parameters: {'lambda': 3.564246780965891, 'alpha': 0.030542287429610317, 'colsample_bytree': 0.3, 'subsample': 0.7, 'learning_rate': 0.016, 'max_depth': 9, 'random_state': 48, 'min_child_weight': 10}. Best is trial 20 with value: 0.9693877551020408.\u001b[0m\n",
            "\u001b[32m[I 2022-04-12 09:36:27,646]\u001b[0m Trial 82 finished with value: 0.9591836734693877 and parameters: {'lambda': 4.595967673446303, 'alpha': 0.004477732122524658, 'colsample_bytree': 0.3, 'subsample': 0.6, 'learning_rate': 0.016, 'max_depth': 7, 'random_state': 48, 'min_child_weight': 20}. Best is trial 20 with value: 0.9693877551020408.\u001b[0m\n",
            "\u001b[32m[I 2022-04-12 09:36:28,460]\u001b[0m Trial 83 finished with value: 0.9591836734693877 and parameters: {'lambda': 7.562047087102035, 'alpha': 0.002026767728395701, 'colsample_bytree': 0.3, 'subsample': 0.6, 'learning_rate': 0.016, 'max_depth': 13, 'random_state': 48, 'min_child_weight': 10}. Best is trial 20 with value: 0.9693877551020408.\u001b[0m\n",
            "\u001b[32m[I 2022-04-12 09:36:28,833]\u001b[0m Trial 84 finished with value: 0.7979274611398963 and parameters: {'lambda': 9.864171502218962, 'alpha': 0.011919156918518003, 'colsample_bytree': 0.3, 'subsample': 0.6, 'learning_rate': 0.02, 'max_depth': 13, 'random_state': 48, 'min_child_weight': 151}. Best is trial 20 with value: 0.9693877551020408.\u001b[0m\n",
            "\u001b[32m[I 2022-04-12 09:36:30,469]\u001b[0m Trial 85 finished with value: 0.964467005076142 and parameters: {'lambda': 1.8392580443992572, 'alpha': 0.001265289623125189, 'colsample_bytree': 0.3, 'subsample': 0.7, 'learning_rate': 0.012, 'max_depth': 9, 'random_state': 48, 'min_child_weight': 1}. Best is trial 20 with value: 0.9693877551020408.\u001b[0m\n",
            "\u001b[32m[I 2022-04-12 09:36:31,091]\u001b[0m Trial 86 finished with value: 0.9441624365482234 and parameters: {'lambda': 0.48508798983302165, 'alpha': 0.006846813180471186, 'colsample_bytree': 0.3, 'subsample': 0.8, 'learning_rate': 0.012, 'max_depth': 15, 'random_state': 48, 'min_child_weight': 31}. Best is trial 20 with value: 0.9693877551020408.\u001b[0m\n",
            "\u001b[32m[I 2022-04-12 09:36:32,620]\u001b[0m Trial 87 finished with value: 0.964467005076142 and parameters: {'lambda': 1.969987831623888, 'alpha': 0.0012845661799540374, 'colsample_bytree': 0.3, 'subsample': 0.7, 'learning_rate': 0.012, 'max_depth': 9, 'random_state': 48, 'min_child_weight': 7}. Best is trial 20 with value: 0.9693877551020408.\u001b[0m\n",
            "\u001b[32m[I 2022-04-12 09:36:33,014]\u001b[0m Trial 88 finished with value: 0.875 and parameters: {'lambda': 1.567521127288342, 'alpha': 0.38932286269091537, 'colsample_bytree': 0.3, 'subsample': 0.7, 'learning_rate': 0.012, 'max_depth': 9, 'random_state': 48, 'min_child_weight': 132}. Best is trial 20 with value: 0.9693877551020408.\u001b[0m\n",
            "\u001b[32m[I 2022-04-12 09:36:34,755]\u001b[0m Trial 89 finished with value: 0.9591836734693877 and parameters: {'lambda': 0.005247473311825159, 'alpha': 0.002648354555208341, 'colsample_bytree': 0.9, 'subsample': 0.5, 'learning_rate': 0.018, 'max_depth': 9, 'random_state': 24, 'min_child_weight': 18}. Best is trial 20 with value: 0.9693877551020408.\u001b[0m\n",
            "\u001b[32m[I 2022-04-12 09:36:35,424]\u001b[0m Trial 90 finished with value: 0.9447236180904524 and parameters: {'lambda': 3.053984553005897, 'alpha': 0.0018938972184383872, 'colsample_bytree': 0.5, 'subsample': 0.6, 'learning_rate': 0.016, 'max_depth': 20, 'random_state': 2020, 'min_child_weight': 24}. Best is trial 20 with value: 0.9693877551020408.\u001b[0m\n",
            "\u001b[32m[I 2022-04-12 09:36:36,140]\u001b[0m Trial 91 finished with value: 0.9591836734693877 and parameters: {'lambda': 5.895628457566796, 'alpha': 0.0015582569814901776, 'colsample_bytree': 0.3, 'subsample': 0.6, 'learning_rate': 0.016, 'max_depth': 13, 'random_state': 48, 'min_child_weight': 14}. Best is trial 20 with value: 0.9693877551020408.\u001b[0m\n",
            "\u001b[32m[I 2022-04-12 09:36:37,309]\u001b[0m Trial 92 finished with value: 0.9494949494949494 and parameters: {'lambda': 4.939297122262911, 'alpha': 0.0010712482026090867, 'colsample_bytree': 0.4, 'subsample': 0.6, 'learning_rate': 0.016, 'max_depth': 13, 'random_state': 48, 'min_child_weight': 32}. Best is trial 20 with value: 0.9693877551020408.\u001b[0m\n",
            "\u001b[32m[I 2022-04-12 09:36:38,143]\u001b[0m Trial 93 finished with value: 0.9543147208121827 and parameters: {'lambda': 3.8158813974765495, 'alpha': 0.001748571825356909, 'colsample_bytree': 0.3, 'subsample': 0.6, 'learning_rate': 0.016, 'max_depth': 13, 'random_state': 48, 'min_child_weight': 7}. Best is trial 20 with value: 0.9693877551020408.\u001b[0m\n",
            "\u001b[32m[I 2022-04-12 09:36:38,775]\u001b[0m Trial 94 finished with value: 0.9494949494949494 and parameters: {'lambda': 8.327575918792748, 'alpha': 0.002410696526884219, 'colsample_bytree': 0.3, 'subsample': 0.6, 'learning_rate': 0.014, 'max_depth': 17, 'random_state': 48, 'min_child_weight': 18}. Best is trial 20 with value: 0.9693877551020408.\u001b[0m\n",
            "\u001b[32m[I 2022-04-12 09:36:39,553]\u001b[0m Trial 95 finished with value: 0.9543147208121827 and parameters: {'lambda': 2.746683594098402, 'alpha': 0.17712023235476518, 'colsample_bytree': 0.3, 'subsample': 1.0, 'learning_rate': 0.016, 'max_depth': 5, 'random_state': 48, 'min_child_weight': 41}. Best is trial 20 with value: 0.9693877551020408.\u001b[0m\n",
            "\u001b[32m[I 2022-04-12 09:36:42,145]\u001b[0m Trial 96 finished with value: 0.9693877551020408 and parameters: {'lambda': 6.657606988840092, 'alpha': 0.008672624724701138, 'colsample_bytree': 0.8, 'subsample': 0.4, 'learning_rate': 0.016, 'max_depth': 15, 'random_state': 48, 'min_child_weight': 6}. Best is trial 20 with value: 0.9693877551020408.\u001b[0m\n",
            "\u001b[32m[I 2022-04-12 09:36:43,249]\u001b[0m Trial 97 finished with value: 0.9494949494949494 and parameters: {'lambda': 0.8394221542384264, 'alpha': 0.004819918084073262, 'colsample_bytree': 0.8, 'subsample': 0.4, 'learning_rate': 0.012, 'max_depth': 9, 'random_state': 48, 'min_child_weight': 2}. Best is trial 20 with value: 0.9693877551020408.\u001b[0m\n",
            "\u001b[32m[I 2022-04-12 09:36:45,771]\u001b[0m Trial 98 finished with value: 0.964467005076142 and parameters: {'lambda': 2.1282133288080707, 'alpha': 0.0012323519253298605, 'colsample_bytree': 0.8, 'subsample': 0.4, 'learning_rate': 0.012, 'max_depth': 9, 'random_state': 48, 'min_child_weight': 7}. Best is trial 20 with value: 0.9693877551020408.\u001b[0m\n",
            "\u001b[32m[I 2022-04-12 09:36:47,657]\u001b[0m Trial 99 finished with value: 0.9489795918367346 and parameters: {'lambda': 1.77419588815795, 'alpha': 0.0013296795869577958, 'colsample_bytree': 0.8, 'subsample': 0.4, 'learning_rate': 0.012, 'max_depth': 9, 'random_state': 48, 'min_child_weight': 25}. Best is trial 20 with value: 0.9693877551020408.\u001b[0m\n"
          ]
        }
      ]
    },
    {
      "cell_type": "code",
      "source": [
        "'''\n",
        "Trial 30 finished with value: 0.964467005076142\n",
        "{'max_depth': 10,\n",
        " 'max_leaf_nodes': 5,\n",
        " 'min_samples_split': 4,\n",
        " 'n_estimators': 316}\n",
        "\n",
        " '''\n",
        "\n",
        "study.best_params"
      ],
      "metadata": {
        "id": "jGdEnWwbWwCB",
        "colab": {
          "base_uri": "https://localhost:8080/"
        },
        "outputId": "ba9ac669-343c-49e6-e255-9148fbce4f32"
      },
      "execution_count": 18,
      "outputs": [
        {
          "output_type": "execute_result",
          "data": {
            "text/plain": [
              "{'alpha': 0.004016238677167677,\n",
              " 'colsample_bytree': 0.3,\n",
              " 'lambda': 4.248186489909531,\n",
              " 'learning_rate': 0.02,\n",
              " 'max_depth': 9,\n",
              " 'min_child_weight': 2,\n",
              " 'random_state': 48,\n",
              " 'subsample': 0.6}"
            ]
          },
          "metadata": {},
          "execution_count": 18
        }
      ]
    },
    {
      "cell_type": "code",
      "source": [
        "print('Number of finished trials:', len(study.trials))\n",
        "print('Best trial:', study.best_trial.params)"
      ],
      "metadata": {
        "colab": {
          "base_uri": "https://localhost:8080/"
        },
        "id": "yIqn3hRBG8__",
        "outputId": "f66aaf63-7e18-4a24-d13c-cd83e8140dc4"
      },
      "execution_count": 19,
      "outputs": [
        {
          "output_type": "stream",
          "name": "stdout",
          "text": [
            "Number of finished trials: 100\n",
            "Best trial: {'lambda': 4.248186489909531, 'alpha': 0.004016238677167677, 'colsample_bytree': 0.3, 'subsample': 0.6, 'learning_rate': 0.02, 'max_depth': 9, 'random_state': 48, 'min_child_weight': 2}\n"
          ]
        }
      ]
    },
    {
      "cell_type": "code",
      "source": [
        "#plot_optimization_histor: shows the scores from all trials as well as the best score so far at each point.\n",
        "# optuna.visualization.plot_optimization_history(study)"
      ],
      "metadata": {
        "id": "5ubt-3rnHHV-"
      },
      "execution_count": 34,
      "outputs": []
    },
    {
      "cell_type": "code",
      "source": [
        "#plot_parallel_coordinate: interactively visualizes the hyperparameters and scores\n",
        "# optuna.visualization.plot_parallel_coordinate(study)"
      ],
      "metadata": {
        "id": "cf3KLg_KHJN-"
      },
      "execution_count": 33,
      "outputs": []
    },
    {
      "cell_type": "code",
      "source": [
        "'''plot_slice: shows the evolution of the search. You can see where in the hyperparameter space your search\n",
        "went and which parts of the space were explored more.'''\n",
        "# optuna.visualization.plot_slice(study)"
      ],
      "metadata": {
        "colab": {
          "base_uri": "https://localhost:8080/",
          "height": 35
        },
        "id": "Y_Ysu0otHLgU",
        "outputId": "e4dee2ef-d9bc-4f0f-df4b-8da3f6f60056"
      },
      "execution_count": 35,
      "outputs": [
        {
          "output_type": "execute_result",
          "data": {
            "text/plain": [
              "'plot_slice: shows the evolution of the search. You can see where in the hyperparameter space your search\\nwent and which parts of the space were explored more.'"
            ],
            "application/vnd.google.colaboratory.intrinsic+json": {
              "type": "string"
            }
          },
          "metadata": {},
          "execution_count": 35
        }
      ]
    },
    {
      "cell_type": "code",
      "source": [
        "#plot_contour: plots parameter interactions on an interactive chart. You can choose which hyperparameters you would like to explore.\n",
        "# optuna.visualization.plot_contour(study, params=['alpha',\n",
        "#                             #'max_depth',\n",
        "#                             'lambda',\n",
        "#                             'subsample',\n",
        "#                             'learning_rate',\n",
        "#                             'subsample'])"
      ],
      "metadata": {
        "id": "iZ1CUcDjHMBM"
      },
      "execution_count": 36,
      "outputs": []
    },
    {
      "cell_type": "code",
      "source": [
        "#Visualize parameter importances.\n",
        "# optuna.visualization.plot_param_importances(study)"
      ],
      "metadata": {
        "id": "c1zGwWn_HPbx"
      },
      "execution_count": 38,
      "outputs": []
    },
    {
      "cell_type": "code",
      "source": [
        "#Visualize empirical distribution function\n",
        "# optuna.visualization.plot_edf(study)"
      ],
      "metadata": {
        "id": "bDqqRhEAHRWn"
      },
      "execution_count": 37,
      "outputs": []
    },
    {
      "cell_type": "markdown",
      "source": [
        "# pipepline 2"
      ],
      "metadata": {
        "id": "JQzBPtFISiX7"
      }
    },
    {
      "cell_type": "code",
      "source": [
        "# cat_label_cols = ['CST_PERF_ST', 'CST_MKT_SEG']\n",
        "cat_ordinal_transformer = Pipeline(steps=[\n",
        "    ('imputer', SimpleImputer(strategy='constant', fill_value=0)),\n",
        "    ('encoder', OrdinalEncoder() \n",
        "    )])\n",
        "\n",
        "# cat_onehot_cols = [f for f in cat_cols if f not in cat_label_cols]\n",
        "cat_onehot_transformer = Pipeline(steps=[\n",
        "    ('imputer', SimpleImputer(strategy='constant', fill_value='missing_val')),\n",
        "    ('encoder', OneHotEncoder(handle_unknown = 'ignore', sparse=False) \n",
        "    )])\n",
        "\n",
        "preprocessor = ColumnTransformer(\n",
        "    transformers=[\n",
        "                  ('num', numeric_transformer, num_cols), \n",
        "                  ('cat_label', cat_ordinal_transformer, object_cols)\n",
        "                  #('cat_onehot', cat_onehot_transformer, ['CLOSE_RSN','CHIP_YN']) # ['CLOSE_RSN', 'COMM_FREQ']\n",
        "                 ], remainder='drop')"
      ],
      "metadata": {
        "id": "ABGOdv15Sho3"
      },
      "execution_count": 26,
      "outputs": []
    },
    {
      "cell_type": "code",
      "source": [
        "preprocessor.fit(x_train)\n",
        "\n",
        "x_train_tf = pd.DataFrame(preprocessor.transform(x_train), columns = get_feature_names(preprocessor)) \n",
        "x_val_tf = pd.DataFrame(preprocessor.transform(x_val), columns = get_feature_names(preprocessor)) "
      ],
      "metadata": {
        "colab": {
          "base_uri": "https://localhost:8080/"
        },
        "id": "xB1j8u23Mw6t",
        "outputId": "e2415ebb-d3b5-481f-d85e-d52b0b12c232"
      },
      "execution_count": 27,
      "outputs": [
        {
          "output_type": "stream",
          "name": "stderr",
          "text": [
            "/usr/local/lib/python3.7/dist-packages/ipykernel_launcher.py:34: UserWarning:\n",
            "\n",
            "Transformer num (type Pipeline) does not provide get_feature_names. Will return input column names if available\n",
            "\n",
            "/usr/local/lib/python3.7/dist-packages/ipykernel_launcher.py:34: UserWarning:\n",
            "\n",
            "Transformer cat_label (type Pipeline) does not provide get_feature_names. Will return input column names if available\n",
            "\n",
            "/usr/local/lib/python3.7/dist-packages/ipykernel_launcher.py:34: UserWarning:\n",
            "\n",
            "Transformer num (type Pipeline) does not provide get_feature_names. Will return input column names if available\n",
            "\n",
            "/usr/local/lib/python3.7/dist-packages/ipykernel_launcher.py:34: UserWarning:\n",
            "\n",
            "Transformer cat_label (type Pipeline) does not provide get_feature_names. Will return input column names if available\n",
            "\n"
          ]
        }
      ]
    },
    {
      "cell_type": "code",
      "source": [
        "def run(trial):\n",
        "    param = {\n",
        "        # 'tree_method':'gpu_hist',  # this parameter means using the GPU when training our model to speedup the training process\n",
        "        'lambda': trial.suggest_loguniform('lambda', 1e-3, 10.0),\n",
        "        'alpha': trial.suggest_loguniform('alpha', 1e-3, 10.0),\n",
        "        'colsample_bytree': trial.suggest_categorical('colsample_bytree', [0.3,0.4,0.5,0.6,0.7,0.8,0.9, 1.0]),\n",
        "        'subsample': trial.suggest_categorical('subsample', [0.4,0.5,0.6,0.7,0.8,1.0]),\n",
        "        'learning_rate': trial.suggest_categorical('learning_rate', [0.008,0.009,0.01,0.012,0.014,0.016,0.018, 0.02]),\n",
        "        'n_estimators': 4000,\n",
        "        'max_depth': trial.suggest_categorical('max_depth', [5,7,9,11,13,15,17,20]),\n",
        "        'random_state': trial.suggest_categorical('random_state', [24, 48,2020]),\n",
        "        'min_child_weight': trial.suggest_int('min_child_weight', 1, 300),\n",
        "    }\n",
        "    model = XGBClassifier(**param)      \n",
        "    \n",
        "    pipeline = Pipeline(steps=[('sampling', oversample),\n",
        "                      ('classifier', model)])\n",
        "    \n",
        "    pipeline.fit(x_train_tf, y_train, classifier__eval_set=[(x_val_tf,y_val)], classifier__early_stopping_rounds=100, classifier__verbose=False)\n",
        "    preds_val = model.predict(x_val_tf)\n",
        "    score = f1_score(y_val, preds_val)\n",
        "    return score"
      ],
      "metadata": {
        "id": "c9tZTwDUSs4Y"
      },
      "execution_count": 28,
      "outputs": []
    },
    {
      "cell_type": "code",
      "source": [
        "study = optuna.create_study(direction=\"maximize\")\n",
        "study.optimize(run, n_trials=100)"
      ],
      "metadata": {
        "colab": {
          "base_uri": "https://localhost:8080/"
        },
        "id": "2oPWxijzSwPn",
        "outputId": "67956ea2-e7c0-4055-b341-af82d04e26ac"
      },
      "execution_count": 29,
      "outputs": [
        {
          "output_type": "stream",
          "name": "stderr",
          "text": [
            "\u001b[32m[I 2022-04-12 09:41:40,285]\u001b[0m A new study created in memory with name: no-name-2210f8d4-9674-4b2a-8faa-850db515a6b7\u001b[0m\n",
            "\u001b[32m[I 2022-04-12 09:41:40,670]\u001b[0m Trial 0 finished with value: 0.0 and parameters: {'lambda': 0.005345734601711869, 'alpha': 0.26524567862392007, 'colsample_bytree': 0.6, 'subsample': 0.4, 'learning_rate': 0.012, 'max_depth': 13, 'random_state': 24, 'min_child_weight': 218}. Best is trial 0 with value: 0.0.\u001b[0m\n",
            "\u001b[32m[I 2022-04-12 09:41:41,238]\u001b[0m Trial 1 finished with value: 0.9014084507042254 and parameters: {'lambda': 0.006649083547914233, 'alpha': 0.0012202978573932922, 'colsample_bytree': 0.4, 'subsample': 0.4, 'learning_rate': 0.008, 'max_depth': 7, 'random_state': 48, 'min_child_weight': 62}. Best is trial 1 with value: 0.9014084507042254.\u001b[0m\n",
            "\u001b[32m[I 2022-04-12 09:41:41,995]\u001b[0m Trial 2 finished with value: 0.9595959595959597 and parameters: {'lambda': 3.1930681315163705, 'alpha': 0.00453156005444565, 'colsample_bytree': 0.3, 'subsample': 0.8, 'learning_rate': 0.008, 'max_depth': 5, 'random_state': 48, 'min_child_weight': 8}. Best is trial 2 with value: 0.9595959595959597.\u001b[0m\n",
            "\u001b[32m[I 2022-04-12 09:41:42,416]\u001b[0m Trial 3 finished with value: 0.0 and parameters: {'lambda': 0.002598246697706033, 'alpha': 0.4104594685613917, 'colsample_bytree': 1.0, 'subsample': 0.4, 'learning_rate': 0.008, 'max_depth': 15, 'random_state': 24, 'min_child_weight': 219}. Best is trial 2 with value: 0.9595959595959597.\u001b[0m\n",
            "\u001b[32m[I 2022-04-12 09:41:42,924]\u001b[0m Trial 4 finished with value: 0.0 and parameters: {'lambda': 1.004972179714701, 'alpha': 0.166007959729871, 'colsample_bytree': 0.8, 'subsample': 0.5, 'learning_rate': 0.018, 'max_depth': 20, 'random_state': 24, 'min_child_weight': 238}. Best is trial 2 with value: 0.9595959595959597.\u001b[0m\n",
            "\u001b[32m[I 2022-04-12 09:41:43,297]\u001b[0m Trial 5 finished with value: 0.0 and parameters: {'lambda': 0.9718603914447047, 'alpha': 0.0544045602129041, 'colsample_bytree': 1.0, 'subsample': 1.0, 'learning_rate': 0.018, 'max_depth': 15, 'random_state': 2020, 'min_child_weight': 295}. Best is trial 2 with value: 0.9595959595959597.\u001b[0m\n",
            "\u001b[32m[I 2022-04-12 09:41:44,178]\u001b[0m Trial 6 finished with value: 0.8108108108108107 and parameters: {'lambda': 5.841554610745294, 'alpha': 1.1390461097663167, 'colsample_bytree': 0.9, 'subsample': 0.7, 'learning_rate': 0.009, 'max_depth': 5, 'random_state': 2020, 'min_child_weight': 161}. Best is trial 2 with value: 0.9595959595959597.\u001b[0m\n",
            "\u001b[32m[I 2022-04-12 09:41:44,549]\u001b[0m Trial 7 finished with value: 0.0 and parameters: {'lambda': 0.0013631448116359418, 'alpha': 4.978026406793281, 'colsample_bytree': 0.6, 'subsample': 0.6, 'learning_rate': 0.01, 'max_depth': 7, 'random_state': 2020, 'min_child_weight': 221}. Best is trial 2 with value: 0.9595959595959597.\u001b[0m\n",
            "\u001b[32m[I 2022-04-12 09:41:45,927]\u001b[0m Trial 8 finished with value: 0.9543147208121827 and parameters: {'lambda': 0.062127256530291955, 'alpha': 3.97127048951914, 'colsample_bytree': 0.9, 'subsample': 0.4, 'learning_rate': 0.02, 'max_depth': 11, 'random_state': 48, 'min_child_weight': 25}. Best is trial 2 with value: 0.9595959595959597.\u001b[0m\n",
            "\u001b[32m[I 2022-04-12 09:41:46,265]\u001b[0m Trial 9 finished with value: 0.0 and parameters: {'lambda': 4.027275411568156, 'alpha': 0.36000396763073106, 'colsample_bytree': 0.4, 'subsample': 0.8, 'learning_rate': 0.02, 'max_depth': 17, 'random_state': 48, 'min_child_weight': 257}. Best is trial 2 with value: 0.9595959595959597.\u001b[0m\n",
            "\u001b[32m[I 2022-04-12 09:41:46,751]\u001b[0m Trial 10 finished with value: 0.9253731343283582 and parameters: {'lambda': 0.1322200027996727, 'alpha': 0.0037674112887809835, 'colsample_bytree': 0.3, 'subsample': 0.8, 'learning_rate': 0.016, 'max_depth': 5, 'random_state': 48, 'min_child_weight': 96}. Best is trial 2 with value: 0.9595959595959597.\u001b[0m\n",
            "\u001b[32m[I 2022-04-12 09:41:47,450]\u001b[0m Trial 11 finished with value: 0.9591836734693877 and parameters: {'lambda': 0.050453143955139605, 'alpha': 0.01854233819436117, 'colsample_bytree': 0.3, 'subsample': 0.8, 'learning_rate': 0.02, 'max_depth': 11, 'random_state': 48, 'min_child_weight': 21}. Best is trial 2 with value: 0.9595959595959597.\u001b[0m\n",
            "\u001b[32m[I 2022-04-12 09:41:48,195]\u001b[0m Trial 12 finished with value: 0.9591836734693877 and parameters: {'lambda': 0.07508150185426755, 'alpha': 0.01736960671449926, 'colsample_bytree': 0.3, 'subsample': 0.8, 'learning_rate': 0.014, 'max_depth': 9, 'random_state': 48, 'min_child_weight': 17}. Best is trial 2 with value: 0.9595959595959597.\u001b[0m\n",
            "\u001b[32m[I 2022-04-12 09:41:48,697]\u001b[0m Trial 13 finished with value: 0.9223300970873787 and parameters: {'lambda': 0.021654789511321153, 'alpha': 0.013225985089633045, 'colsample_bytree': 0.3, 'subsample': 0.8, 'learning_rate': 0.02, 'max_depth': 11, 'random_state': 48, 'min_child_weight': 101}. Best is trial 2 with value: 0.9595959595959597.\u001b[0m\n",
            "\u001b[32m[I 2022-04-12 09:41:49,475]\u001b[0m Trial 14 finished with value: 0.9387755102040817 and parameters: {'lambda': 0.3571742578069529, 'alpha': 0.008492091200368836, 'colsample_bytree': 0.7, 'subsample': 0.8, 'learning_rate': 0.008, 'max_depth': 11, 'random_state': 48, 'min_child_weight': 60}. Best is trial 2 with value: 0.9595959595959597.\u001b[0m\n",
            "\u001b[32m[I 2022-04-12 09:41:50,354]\u001b[0m Trial 15 finished with value: 0.9547738693467336 and parameters: {'lambda': 0.018762373348172646, 'alpha': 0.04207390994103711, 'colsample_bytree': 0.5, 'subsample': 0.5, 'learning_rate': 0.012, 'max_depth': 5, 'random_state': 48, 'min_child_weight': 3}. Best is trial 2 with value: 0.9595959595959597.\u001b[0m\n",
            "\u001b[32m[I 2022-04-12 09:41:50,754]\u001b[0m Trial 16 finished with value: 0.8040201005025125 and parameters: {'lambda': 0.32971379697208864, 'alpha': 0.0011401725229825362, 'colsample_bytree': 0.3, 'subsample': 0.6, 'learning_rate': 0.009, 'max_depth': 17, 'random_state': 48, 'min_child_weight': 151}. Best is trial 2 with value: 0.9595959595959597.\u001b[0m\n",
            "\u001b[32m[I 2022-04-12 09:41:51,473]\u001b[0m Trial 17 finished with value: 0.9447236180904524 and parameters: {'lambda': 1.1912030307916774, 'alpha': 0.003903160651912294, 'colsample_bytree': 0.3, 'subsample': 1.0, 'learning_rate': 0.014, 'max_depth': 9, 'random_state': 48, 'min_child_weight': 66}. Best is trial 2 with value: 0.9595959595959597.\u001b[0m\n",
            "\u001b[32m[I 2022-04-12 09:41:52,217]\u001b[0m Trial 18 finished with value: 0.9004739336492892 and parameters: {'lambda': 0.14616255795579666, 'alpha': 0.003561018244374566, 'colsample_bytree': 0.5, 'subsample': 0.7, 'learning_rate': 0.014, 'max_depth': 9, 'random_state': 24, 'min_child_weight': 110}. Best is trial 2 with value: 0.9595959595959597.\u001b[0m\n",
            "\u001b[32m[I 2022-04-12 09:41:53,120]\u001b[0m Trial 19 finished with value: 0.9346733668341708 and parameters: {'lambda': 0.025031071065289713, 'alpha': 0.03968849088743852, 'colsample_bytree': 0.7, 'subsample': 0.8, 'learning_rate': 0.01, 'max_depth': 20, 'random_state': 2020, 'min_child_weight': 21}. Best is trial 2 with value: 0.9595959595959597.\u001b[0m\n",
            "\u001b[32m[I 2022-04-12 09:41:53,889]\u001b[0m Trial 20 finished with value: 0.8315789473684212 and parameters: {'lambda': 2.905319559659367, 'alpha': 0.008085817436365455, 'colsample_bytree': 0.8, 'subsample': 0.8, 'learning_rate': 0.016, 'max_depth': 13, 'random_state': 48, 'min_child_weight': 177}. Best is trial 2 with value: 0.9595959595959597.\u001b[0m\n",
            "\u001b[32m[I 2022-04-12 09:41:54,537]\u001b[0m Trial 21 finished with value: 0.9447236180904524 and parameters: {'lambda': 0.04395752448301201, 'alpha': 0.018440670991974672, 'colsample_bytree': 0.3, 'subsample': 0.8, 'learning_rate': 0.014, 'max_depth': 9, 'random_state': 48, 'min_child_weight': 37}. Best is trial 2 with value: 0.9595959595959597.\u001b[0m\n",
            "\u001b[32m[I 2022-04-12 09:41:55,457]\u001b[0m Trial 22 finished with value: 0.964467005076142 and parameters: {'lambda': 0.276674464175535, 'alpha': 0.020230097237001404, 'colsample_bytree': 0.3, 'subsample': 0.8, 'learning_rate': 0.008, 'max_depth': 11, 'random_state': 48, 'min_child_weight': 6}. Best is trial 22 with value: 0.964467005076142.\u001b[0m\n",
            "\u001b[32m[I 2022-04-12 09:41:56,164]\u001b[0m Trial 23 finished with value: 0.9595959595959597 and parameters: {'lambda': 0.3153438820170125, 'alpha': 0.09875259067725112, 'colsample_bytree': 0.3, 'subsample': 0.8, 'learning_rate': 0.008, 'max_depth': 5, 'random_state': 48, 'min_child_weight': 3}. Best is trial 22 with value: 0.964467005076142.\u001b[0m\n",
            "\u001b[32m[I 2022-04-12 09:41:56,791]\u001b[0m Trial 24 finished with value: 0.9494949494949494 and parameters: {'lambda': 9.121870719624285, 'alpha': 0.07864107933661241, 'colsample_bytree': 0.3, 'subsample': 0.8, 'learning_rate': 0.008, 'max_depth': 5, 'random_state': 48, 'min_child_weight': 49}. Best is trial 22 with value: 0.964467005076142.\u001b[0m\n",
            "\u001b[32m[I 2022-04-12 09:41:57,335]\u001b[0m Trial 25 finished with value: 0.9441624365482234 and parameters: {'lambda': 0.3067011374327374, 'alpha': 0.9372434359287093, 'colsample_bytree': 0.3, 'subsample': 0.8, 'learning_rate': 0.008, 'max_depth': 5, 'random_state': 48, 'min_child_weight': 80}. Best is trial 22 with value: 0.964467005076142.\u001b[0m\n",
            "\u001b[32m[I 2022-04-12 09:41:58,218]\u001b[0m Trial 26 finished with value: 0.9595959595959597 and parameters: {'lambda': 1.8714908539239616, 'alpha': 0.13826921748256082, 'colsample_bytree': 0.3, 'subsample': 1.0, 'learning_rate': 0.008, 'max_depth': 5, 'random_state': 48, 'min_child_weight': 2}. Best is trial 22 with value: 0.964467005076142.\u001b[0m\n",
            "\u001b[32m[I 2022-04-12 09:41:59,002]\u001b[0m Trial 27 finished with value: 0.9447236180904524 and parameters: {'lambda': 2.063062120151643, 'alpha': 0.03174917808051504, 'colsample_bytree': 0.3, 'subsample': 1.0, 'learning_rate': 0.008, 'max_depth': 5, 'random_state': 48, 'min_child_weight': 48}. Best is trial 22 with value: 0.964467005076142.\u001b[0m\n",
            "\u001b[32m[I 2022-04-12 09:41:59,515]\u001b[0m Trial 28 finished with value: 0.7142857142857143 and parameters: {'lambda': 0.5669249898222931, 'alpha': 0.0021943422145456267, 'colsample_bytree': 0.8, 'subsample': 0.5, 'learning_rate': 0.008, 'max_depth': 11, 'random_state': 24, 'min_child_weight': 127}. Best is trial 22 with value: 0.964467005076142.\u001b[0m\n",
            "\u001b[32m[I 2022-04-12 09:42:00,149]\u001b[0m Trial 29 finished with value: 0.8803827751196173 and parameters: {'lambda': 1.427335219165691, 'alpha': 0.19256924309118673, 'colsample_bytree': 0.6, 'subsample': 1.0, 'learning_rate': 0.012, 'max_depth': 5, 'random_state': 2020, 'min_child_weight': 185}. Best is trial 22 with value: 0.964467005076142.\u001b[0m\n",
            "\u001b[32m[I 2022-04-12 09:42:01,155]\u001b[0m Trial 30 finished with value: 0.9400000000000001 and parameters: {'lambda': 8.154269666288847, 'alpha': 0.007837026166978496, 'colsample_bytree': 0.7, 'subsample': 1.0, 'learning_rate': 0.008, 'max_depth': 13, 'random_state': 24, 'min_child_weight': 82}. Best is trial 22 with value: 0.964467005076142.\u001b[0m\n",
            "\u001b[32m[I 2022-04-12 09:42:01,874]\u001b[0m Trial 31 finished with value: 0.9543147208121827 and parameters: {'lambda': 0.60714699811464, 'alpha': 0.10015987060039655, 'colsample_bytree': 0.3, 'subsample': 0.7, 'learning_rate': 0.008, 'max_depth': 5, 'random_state': 48, 'min_child_weight': 9}. Best is trial 22 with value: 0.964467005076142.\u001b[0m\n",
            "\u001b[32m[I 2022-04-12 09:42:02,616]\u001b[0m Trial 32 finished with value: 0.9595959595959597 and parameters: {'lambda': 2.5222460426045705, 'alpha': 0.10554735545294769, 'colsample_bytree': 0.3, 'subsample': 0.6, 'learning_rate': 0.008, 'max_depth': 5, 'random_state': 48, 'min_child_weight': 1}. Best is trial 22 with value: 0.964467005076142.\u001b[0m\n",
            "\u001b[32m[I 2022-04-12 09:42:04,151]\u001b[0m Trial 33 finished with value: 0.9400000000000001 and parameters: {'lambda': 0.18241880485211073, 'alpha': 0.6406364914970013, 'colsample_bytree': 0.4, 'subsample': 0.6, 'learning_rate': 0.008, 'max_depth': 15, 'random_state': 48, 'min_child_weight': 38}. Best is trial 22 with value: 0.964467005076142.\u001b[0m\n",
            "\u001b[32m[I 2022-04-12 09:42:05,327]\u001b[0m Trial 34 finished with value: 0.9253731343283582 and parameters: {'lambda': 4.495362675754937, 'alpha': 0.16761155420982649, 'colsample_bytree': 1.0, 'subsample': 0.4, 'learning_rate': 0.008, 'max_depth': 7, 'random_state': 48, 'min_child_weight': 34}. Best is trial 22 with value: 0.964467005076142.\u001b[0m\n",
            "\u001b[32m[I 2022-04-12 09:42:05,846]\u001b[0m Trial 35 finished with value: 0.93 and parameters: {'lambda': 2.513481212372234, 'alpha': 0.027641226304046442, 'colsample_bytree': 0.3, 'subsample': 0.6, 'learning_rate': 0.018, 'max_depth': 5, 'random_state': 48, 'min_child_weight': 62}. Best is trial 22 with value: 0.964467005076142.\u001b[0m\n",
            "\u001b[32m[I 2022-04-12 09:42:07,222]\u001b[0m Trial 36 finished with value: 0.9441624365482234 and parameters: {'lambda': 1.5818118071859373, 'alpha': 0.06206759636243545, 'colsample_bytree': 0.9, 'subsample': 0.6, 'learning_rate': 0.008, 'max_depth': 20, 'random_state': 24, 'min_child_weight': 3}. Best is trial 22 with value: 0.964467005076142.\u001b[0m\n",
            "\u001b[32m[I 2022-04-12 09:42:09,109]\u001b[0m Trial 37 finished with value: 0.9207920792079208 and parameters: {'lambda': 0.6831927233590767, 'alpha': 0.31622697658784793, 'colsample_bytree': 1.0, 'subsample': 1.0, 'learning_rate': 0.009, 'max_depth': 15, 'random_state': 48, 'min_child_weight': 128}. Best is trial 22 with value: 0.964467005076142.\u001b[0m\n",
            "\u001b[32m[I 2022-04-12 09:42:09,902]\u001b[0m Trial 38 finished with value: 0.9222797927461139 and parameters: {'lambda': 0.22517360116128782, 'alpha': 0.0019168776394197047, 'colsample_bytree': 0.6, 'subsample': 0.8, 'learning_rate': 0.008, 'max_depth': 5, 'random_state': 2020, 'min_child_weight': 24}. Best is trial 22 with value: 0.964467005076142.\u001b[0m\n",
            "\u001b[32m[I 2022-04-12 09:42:11,531]\u001b[0m Trial 39 finished with value: 0.9253731343283582 and parameters: {'lambda': 0.7965209283022723, 'alpha': 0.10921704925606214, 'colsample_bytree': 0.5, 'subsample': 0.4, 'learning_rate': 0.01, 'max_depth': 7, 'random_state': 48, 'min_child_weight': 46}. Best is trial 22 with value: 0.964467005076142.\u001b[0m\n",
            "\u001b[32m[I 2022-04-12 09:42:11,885]\u001b[0m Trial 40 finished with value: 0.0 and parameters: {'lambda': 0.011059489234427637, 'alpha': 0.0050584207124841065, 'colsample_bytree': 0.4, 'subsample': 0.6, 'learning_rate': 0.018, 'max_depth': 17, 'random_state': 48, 'min_child_weight': 278}. Best is trial 22 with value: 0.964467005076142.\u001b[0m\n",
            "\u001b[32m[I 2022-04-12 09:42:12,621]\u001b[0m Trial 41 finished with value: 0.9547738693467336 and parameters: {'lambda': 3.19010539260444, 'alpha': 2.370493388763038, 'colsample_bytree': 0.3, 'subsample': 0.5, 'learning_rate': 0.008, 'max_depth': 5, 'random_state': 48, 'min_child_weight': 1}. Best is trial 22 with value: 0.964467005076142.\u001b[0m\n",
            "\u001b[32m[I 2022-04-12 09:42:13,577]\u001b[0m Trial 42 finished with value: 0.9494949494949494 and parameters: {'lambda': 4.985484744356638, 'alpha': 0.12422215895878756, 'colsample_bytree': 0.3, 'subsample': 1.0, 'learning_rate': 0.008, 'max_depth': 5, 'random_state': 48, 'min_child_weight': 15}. Best is trial 22 with value: 0.964467005076142.\u001b[0m\n",
            "\u001b[32m[I 2022-04-12 09:42:14,251]\u001b[0m Trial 43 finished with value: 0.9591836734693877 and parameters: {'lambda': 0.3840319405368121, 'alpha': 0.22484116397137605, 'colsample_bytree': 0.3, 'subsample': 0.8, 'learning_rate': 0.008, 'max_depth': 5, 'random_state': 48, 'min_child_weight': 30}. Best is trial 22 with value: 0.964467005076142.\u001b[0m\n",
            "\u001b[32m[I 2022-04-12 09:42:15,145]\u001b[0m Trial 44 finished with value: 0.964467005076142 and parameters: {'lambda': 0.10177697187168654, 'alpha': 0.0703026058026987, 'colsample_bytree': 0.3, 'subsample': 0.7, 'learning_rate': 0.016, 'max_depth': 11, 'random_state': 48, 'min_child_weight': 3}. Best is trial 22 with value: 0.964467005076142.\u001b[0m\n",
            "\u001b[32m[I 2022-04-12 09:42:17,620]\u001b[0m Trial 45 finished with value: 0.9494949494949494 and parameters: {'lambda': 0.004084424328604229, 'alpha': 0.46009610408783325, 'colsample_bytree': 0.9, 'subsample': 0.7, 'learning_rate': 0.016, 'max_depth': 11, 'random_state': 2020, 'min_child_weight': 16}. Best is trial 22 with value: 0.964467005076142.\u001b[0m\n",
            "\u001b[32m[I 2022-04-12 09:42:18,166]\u001b[0m Trial 46 finished with value: 0.9306930693069307 and parameters: {'lambda': 0.0989160241323617, 'alpha': 0.06722314765127466, 'colsample_bytree': 0.3, 'subsample': 0.7, 'learning_rate': 0.016, 'max_depth': 11, 'random_state': 48, 'min_child_weight': 75}. Best is trial 22 with value: 0.964467005076142.\u001b[0m\n",
            "\u001b[32m[I 2022-04-12 09:42:18,839]\u001b[0m Trial 47 finished with value: 0.9591836734693877 and parameters: {'lambda': 0.0866065808518978, 'alpha': 0.011940347897155031, 'colsample_bytree': 0.3, 'subsample': 0.7, 'learning_rate': 0.016, 'max_depth': 11, 'random_state': 48, 'min_child_weight': 45}. Best is trial 22 with value: 0.964467005076142.\u001b[0m\n",
            "\u001b[32m[I 2022-04-12 09:42:21,540]\u001b[0m Trial 48 finished with value: 0.964467005076142 and parameters: {'lambda': 0.04103872555791409, 'alpha': 0.03062473239427326, 'colsample_bytree': 0.8, 'subsample': 0.8, 'learning_rate': 0.012, 'max_depth': 11, 'random_state': 48, 'min_child_weight': 16}. Best is trial 22 with value: 0.964467005076142.\u001b[0m\n",
            "\u001b[32m[I 2022-04-12 09:42:23,718]\u001b[0m Trial 49 finished with value: 0.9494949494949494 and parameters: {'lambda': 0.029143810289269358, 'alpha': 0.024673172417554165, 'colsample_bytree': 0.8, 'subsample': 0.6, 'learning_rate': 0.012, 'max_depth': 11, 'random_state': 48, 'min_child_weight': 28}. Best is trial 22 with value: 0.964467005076142.\u001b[0m\n",
            "\u001b[32m[I 2022-04-12 09:42:24,816]\u001b[0m Trial 50 finished with value: 0.9400000000000001 and parameters: {'lambda': 0.012918254284523863, 'alpha': 0.04139688952651484, 'colsample_bytree': 0.8, 'subsample': 0.8, 'learning_rate': 0.012, 'max_depth': 11, 'random_state': 24, 'min_child_weight': 60}. Best is trial 22 with value: 0.964467005076142.\u001b[0m\n",
            "\u001b[32m[I 2022-04-12 09:42:26,392]\u001b[0m Trial 51 finished with value: 0.9447236180904524 and parameters: {'lambda': 0.03537053000282461, 'alpha': 0.052834451313433145, 'colsample_bytree': 0.8, 'subsample': 0.8, 'learning_rate': 0.012, 'max_depth': 11, 'random_state': 48, 'min_child_weight': 13}. Best is trial 22 with value: 0.964467005076142.\u001b[0m\n",
            "\u001b[32m[I 2022-04-12 09:42:27,154]\u001b[0m Trial 52 finished with value: 0.9591836734693877 and parameters: {'lambda': 0.05738214630669531, 'alpha': 0.013511755772957863, 'colsample_bytree': 0.3, 'subsample': 0.8, 'learning_rate': 0.02, 'max_depth': 11, 'random_state': 48, 'min_child_weight': 13}. Best is trial 22 with value: 0.964467005076142.\u001b[0m\n",
            "\u001b[32m[I 2022-04-12 09:42:29,125]\u001b[0m Trial 53 finished with value: 0.9591836734693877 and parameters: {'lambda': 1.7686282601532821, 'alpha': 0.020988107765002224, 'colsample_bytree': 0.8, 'subsample': 0.7, 'learning_rate': 0.016, 'max_depth': 13, 'random_state': 48, 'min_child_weight': 25}. Best is trial 22 with value: 0.964467005076142.\u001b[0m\n",
            "\u001b[32m[I 2022-04-12 09:42:30,193]\u001b[0m Trial 54 finished with value: 0.964467005076142 and parameters: {'lambda': 6.476064721325406, 'alpha': 0.15829321985961614, 'colsample_bytree': 0.3, 'subsample': 0.4, 'learning_rate': 0.009, 'max_depth': 20, 'random_state': 48, 'min_child_weight': 1}. Best is trial 22 with value: 0.964467005076142.\u001b[0m\n",
            "\u001b[32m[I 2022-04-12 09:42:31,376]\u001b[0m Trial 55 finished with value: 0.916256157635468 and parameters: {'lambda': 0.1339313439162094, 'alpha': 0.262392945149639, 'colsample_bytree': 1.0, 'subsample': 0.4, 'learning_rate': 0.009, 'max_depth': 20, 'random_state': 48, 'min_child_weight': 34}. Best is trial 22 with value: 0.964467005076142.\u001b[0m\n",
            "\u001b[32m[I 2022-04-12 09:42:32,180]\u001b[0m Trial 56 finished with value: 0.9400000000000001 and parameters: {'lambda': 7.456145742405022, 'alpha': 9.096887080533543, 'colsample_bytree': 0.6, 'subsample': 0.5, 'learning_rate': 0.009, 'max_depth': 20, 'random_state': 48, 'min_child_weight': 17}. Best is trial 22 with value: 0.964467005076142.\u001b[0m\n",
            "\u001b[32m[I 2022-04-12 09:42:32,559]\u001b[0m Trial 57 finished with value: 0.0 and parameters: {'lambda': 1.0980048075441384, 'alpha': 0.14345612362402455, 'colsample_bytree': 0.3, 'subsample': 0.4, 'learning_rate': 0.009, 'max_depth': 20, 'random_state': 48, 'min_child_weight': 207}. Best is trial 22 with value: 0.964467005076142.\u001b[0m\n",
            "\u001b[32m[I 2022-04-12 09:42:33,513]\u001b[0m Trial 58 finished with value: 0.9447236180904524 and parameters: {'lambda': 0.4780229487889456, 'alpha': 0.08428961736053381, 'colsample_bytree': 0.5, 'subsample': 0.4, 'learning_rate': 0.01, 'max_depth': 17, 'random_state': 48, 'min_child_weight': 4}. Best is trial 22 with value: 0.964467005076142.\u001b[0m\n",
            "\u001b[32m[I 2022-04-12 09:42:34,268]\u001b[0m Trial 59 finished with value: 0.9393939393939394 and parameters: {'lambda': 0.2226446097589908, 'alpha': 0.05130594380432113, 'colsample_bytree': 0.7, 'subsample': 0.8, 'learning_rate': 0.012, 'max_depth': 11, 'random_state': 2020, 'min_child_weight': 51}. Best is trial 22 with value: 0.964467005076142.\u001b[0m\n",
            "\u001b[32m[I 2022-04-12 09:42:34,868]\u001b[0m Trial 60 finished with value: 0.9393939393939394 and parameters: {'lambda': 0.0652122473068716, 'alpha': 0.4437573873558963, 'colsample_bytree': 0.3, 'subsample': 0.4, 'learning_rate': 0.009, 'max_depth': 20, 'random_state': 48, 'min_child_weight': 24}. Best is trial 22 with value: 0.964467005076142.\u001b[0m\n",
            "\u001b[32m[I 2022-04-12 09:42:36,478]\u001b[0m Trial 61 finished with value: 0.964467005076142 and parameters: {'lambda': 5.776740144666757, 'alpha': 0.031915459640499695, 'colsample_bytree': 0.3, 'subsample': 1.0, 'learning_rate': 0.008, 'max_depth': 11, 'random_state': 48, 'min_child_weight': 2}. Best is trial 22 with value: 0.964467005076142.\u001b[0m\n",
            "\u001b[32m[I 2022-04-12 09:42:37,928]\u001b[0m Trial 62 finished with value: 0.964467005076142 and parameters: {'lambda': 6.751128616741159, 'alpha': 0.03420101588766602, 'colsample_bytree': 0.3, 'subsample': 1.0, 'learning_rate': 0.016, 'max_depth': 11, 'random_state': 48, 'min_child_weight': 8}. Best is trial 22 with value: 0.964467005076142.\u001b[0m\n",
            "\u001b[32m[I 2022-04-12 09:42:39,277]\u001b[0m Trial 63 finished with value: 0.9591836734693877 and parameters: {'lambda': 5.762231987483616, 'alpha': 0.03364193043231785, 'colsample_bytree': 0.3, 'subsample': 1.0, 'learning_rate': 0.016, 'max_depth': 11, 'random_state': 48, 'min_child_weight': 13}. Best is trial 22 with value: 0.964467005076142.\u001b[0m\n",
            "\u001b[32m[I 2022-04-12 09:42:40,157]\u001b[0m Trial 64 finished with value: 0.9543147208121827 and parameters: {'lambda': 9.877007529923885, 'alpha': 0.006461975320731131, 'colsample_bytree': 0.3, 'subsample': 1.0, 'learning_rate': 0.016, 'max_depth': 11, 'random_state': 48, 'min_child_weight': 38}. Best is trial 22 with value: 0.964467005076142.\u001b[0m\n",
            "\u001b[32m[I 2022-04-12 09:42:40,976]\u001b[0m Trial 65 finished with value: 0.9494949494949494 and parameters: {'lambda': 3.923647767263608, 'alpha': 0.012536560446699378, 'colsample_bytree': 0.4, 'subsample': 1.0, 'learning_rate': 0.016, 'max_depth': 11, 'random_state': 48, 'min_child_weight': 21}. Best is trial 22 with value: 0.964467005076142.\u001b[0m\n",
            "\u001b[32m[I 2022-04-12 09:42:41,810]\u001b[0m Trial 66 finished with value: 0.9543147208121827 and parameters: {'lambda': 5.65450414996426, 'alpha': 0.0456622355654296, 'colsample_bytree': 0.3, 'subsample': 0.7, 'learning_rate': 0.014, 'max_depth': 11, 'random_state': 48, 'min_child_weight': 8}. Best is trial 22 with value: 0.964467005076142.\u001b[0m\n",
            "\u001b[32m[I 2022-04-12 09:42:42,833]\u001b[0m Trial 67 finished with value: 0.9494949494949494 and parameters: {'lambda': 3.7559386005797686, 'alpha': 0.016203809800706296, 'colsample_bytree': 0.3, 'subsample': 1.0, 'learning_rate': 0.02, 'max_depth': 11, 'random_state': 24, 'min_child_weight': 55}. Best is trial 22 with value: 0.964467005076142.\u001b[0m\n",
            "\u001b[32m[I 2022-04-12 09:42:44,746]\u001b[0m Trial 68 finished with value: 0.9543147208121827 and parameters: {'lambda': 6.717409793174564, 'alpha': 0.06927268160730163, 'colsample_bytree': 0.8, 'subsample': 1.0, 'learning_rate': 0.018, 'max_depth': 9, 'random_state': 48, 'min_child_weight': 38}. Best is trial 22 with value: 0.964467005076142.\u001b[0m\n",
            "\u001b[32m[I 2022-04-12 09:42:46,228]\u001b[0m Trial 69 finished with value: 0.9306930693069307 and parameters: {'lambda': 0.0015047004224805467, 'alpha': 0.02328845655877066, 'colsample_bytree': 0.9, 'subsample': 1.0, 'learning_rate': 0.016, 'max_depth': 11, 'random_state': 48, 'min_child_weight': 68}. Best is trial 22 with value: 0.964467005076142.\u001b[0m\n",
            "\u001b[32m[I 2022-04-12 09:42:46,750]\u001b[0m Trial 70 finished with value: 0.9207920792079208 and parameters: {'lambda': 0.0428471288514661, 'alpha': 0.03366936244525352, 'colsample_bytree': 0.3, 'subsample': 0.8, 'learning_rate': 0.012, 'max_depth': 15, 'random_state': 48, 'min_child_weight': 93}. Best is trial 22 with value: 0.964467005076142.\u001b[0m\n",
            "\u001b[32m[I 2022-04-12 09:42:47,565]\u001b[0m Trial 71 finished with value: 0.95 and parameters: {'lambda': 2.369355394741879, 'alpha': 0.0019027678039397517, 'colsample_bytree': 0.3, 'subsample': 1.0, 'learning_rate': 0.008, 'max_depth': 7, 'random_state': 48, 'min_child_weight': 1}. Best is trial 22 with value: 0.964467005076142.\u001b[0m\n",
            "\u001b[32m[I 2022-04-12 09:42:48,408]\u001b[0m Trial 72 finished with value: 0.9543147208121827 and parameters: {'lambda': 0.016977640756247955, 'alpha': 0.08548635340433496, 'colsample_bytree': 0.3, 'subsample': 0.8, 'learning_rate': 0.008, 'max_depth': 11, 'random_state': 48, 'min_child_weight': 11}. Best is trial 22 with value: 0.964467005076142.\u001b[0m\n",
            "\u001b[32m[I 2022-04-12 09:42:49,467]\u001b[0m Trial 73 finished with value: 0.964467005076142 and parameters: {'lambda': 2.9504344399326103, 'alpha': 0.13722544182054783, 'colsample_bytree': 0.3, 'subsample': 0.6, 'learning_rate': 0.008, 'max_depth': 13, 'random_state': 48, 'min_child_weight': 1}. Best is trial 22 with value: 0.964467005076142.\u001b[0m\n",
            "\u001b[32m[I 2022-04-12 09:42:50,147]\u001b[0m Trial 74 finished with value: 0.9494949494949494 and parameters: {'lambda': 3.089749144734891, 'alpha': 0.033582190984369875, 'colsample_bytree': 0.3, 'subsample': 0.6, 'learning_rate': 0.009, 'max_depth': 13, 'random_state': 48, 'min_child_weight': 29}. Best is trial 22 with value: 0.964467005076142.\u001b[0m\n",
            "\u001b[32m[I 2022-04-12 09:42:51,197]\u001b[0m Trial 75 finished with value: 0.9595959595959597 and parameters: {'lambda': 6.873589962145113, 'alpha': 0.17206946688590924, 'colsample_bytree': 0.3, 'subsample': 0.6, 'learning_rate': 0.008, 'max_depth': 13, 'random_state': 48, 'min_child_weight': 1}. Best is trial 22 with value: 0.964467005076142.\u001b[0m\n",
            "\u001b[32m[I 2022-04-12 09:42:53,805]\u001b[0m Trial 76 finished with value: 0.9591836734693877 and parameters: {'lambda': 4.79482952170616, 'alpha': 0.10867920785310284, 'colsample_bytree': 0.7, 'subsample': 0.6, 'learning_rate': 0.01, 'max_depth': 13, 'random_state': 2020, 'min_child_weight': 20}. Best is trial 22 with value: 0.964467005076142.\u001b[0m\n",
            "\u001b[32m[I 2022-04-12 09:42:54,684]\u001b[0m Trial 77 finished with value: 0.9591836734693877 and parameters: {'lambda': 0.2637029587496307, 'alpha': 0.010102585797716874, 'colsample_bytree': 0.3, 'subsample': 0.8, 'learning_rate': 0.008, 'max_depth': 13, 'random_state': 48, 'min_child_weight': 10}. Best is trial 22 with value: 0.964467005076142.\u001b[0m\n",
            "\u001b[32m[I 2022-04-12 09:42:55,347]\u001b[0m Trial 78 finished with value: 0.9489795918367346 and parameters: {'lambda': 3.7229181638323023, 'alpha': 0.21579268022322523, 'colsample_bytree': 0.5, 'subsample': 0.6, 'learning_rate': 0.014, 'max_depth': 13, 'random_state': 48, 'min_child_weight': 44}. Best is trial 22 with value: 0.964467005076142.\u001b[0m\n",
            "\u001b[32m[I 2022-04-12 09:42:55,720]\u001b[0m Trial 79 finished with value: 0.0 and parameters: {'lambda': 0.16250737004064778, 'alpha': 0.06494756256201212, 'colsample_bytree': 0.6, 'subsample': 0.4, 'learning_rate': 0.016, 'max_depth': 11, 'random_state': 24, 'min_child_weight': 248}. Best is trial 22 with value: 0.964467005076142.\u001b[0m\n",
            "\u001b[32m[I 2022-04-12 09:42:56,628]\u001b[0m Trial 80 finished with value: 0.9591836734693877 and parameters: {'lambda': 6.782757870673545, 'alpha': 0.1801241987633011, 'colsample_bytree': 0.3, 'subsample': 0.6, 'learning_rate': 0.008, 'max_depth': 13, 'random_state': 48, 'min_child_weight': 9}. Best is trial 22 with value: 0.964467005076142.\u001b[0m\n",
            "\u001b[32m[I 2022-04-12 09:42:57,400]\u001b[0m Trial 81 finished with value: 0.9543147208121827 and parameters: {'lambda': 0.11749568165684396, 'alpha': 0.02726520104102559, 'colsample_bytree': 0.3, 'subsample': 0.8, 'learning_rate': 0.008, 'max_depth': 17, 'random_state': 48, 'min_child_weight': 21}. Best is trial 22 with value: 0.964467005076142.\u001b[0m\n",
            "\u001b[32m[I 2022-04-12 09:42:58,362]\u001b[0m Trial 82 finished with value: 0.9591836734693877 and parameters: {'lambda': 2.2889567546338685, 'alpha': 0.14214376626571706, 'colsample_bytree': 0.3, 'subsample': 1.0, 'learning_rate': 0.008, 'max_depth': 20, 'random_state': 48, 'min_child_weight': 29}. Best is trial 22 with value: 0.964467005076142.\u001b[0m\n",
            "\u001b[32m[I 2022-04-12 09:42:59,096]\u001b[0m Trial 83 finished with value: 0.9494949494949494 and parameters: {'lambda': 1.463521504634976, 'alpha': 0.003049040177596367, 'colsample_bytree': 0.3, 'subsample': 1.0, 'learning_rate': 0.008, 'max_depth': 9, 'random_state': 48, 'min_child_weight': 17}. Best is trial 22 with value: 0.964467005076142.\u001b[0m\n",
            "\u001b[32m[I 2022-04-12 09:43:00,202]\u001b[0m Trial 84 finished with value: 0.9353233830845771 and parameters: {'lambda': 0.07475596537415057, 'alpha': 0.01610439108657636, 'colsample_bytree': 1.0, 'subsample': 0.8, 'learning_rate': 0.008, 'max_depth': 5, 'random_state': 48, 'min_child_weight': 9}. Best is trial 22 with value: 0.964467005076142.\u001b[0m\n",
            "\u001b[32m[I 2022-04-12 09:43:01,916]\u001b[0m Trial 85 finished with value: 0.9494949494949494 and parameters: {'lambda': 1.8234250258595381, 'alpha': 0.26635422357920985, 'colsample_bytree': 0.4, 'subsample': 0.7, 'learning_rate': 0.012, 'max_depth': 11, 'random_state': 48, 'min_child_weight': 35}. Best is trial 22 with value: 0.964467005076142.\u001b[0m\n",
            "\u001b[32m[I 2022-04-12 09:43:02,741]\u001b[0m Trial 86 finished with value: 0.9543147208121827 and parameters: {'lambda': 0.8931671040035888, 'alpha': 0.041950095643163904, 'colsample_bytree': 0.3, 'subsample': 0.8, 'learning_rate': 0.008, 'max_depth': 15, 'random_state': 48, 'min_child_weight': 9}. Best is trial 22 with value: 0.964467005076142.\u001b[0m\n",
            "\u001b[32m[I 2022-04-12 09:43:04,159]\u001b[0m Trial 87 finished with value: 0.9447236180904524 and parameters: {'lambda': 0.4345233003045581, 'alpha': 0.09014861307714811, 'colsample_bytree': 0.8, 'subsample': 0.5, 'learning_rate': 0.018, 'max_depth': 11, 'random_state': 48, 'min_child_weight': 25}. Best is trial 22 with value: 0.964467005076142.\u001b[0m\n",
            "\u001b[32m[I 2022-04-12 09:43:04,979]\u001b[0m Trial 88 finished with value: 0.9547738693467336 and parameters: {'lambda': 1.2342033145894624, 'alpha': 0.06170213945055562, 'colsample_bytree': 0.3, 'subsample': 0.6, 'learning_rate': 0.02, 'max_depth': 5, 'random_state': 2020, 'min_child_weight': 2}. Best is trial 22 with value: 0.964467005076142.\u001b[0m\n",
            "\u001b[32m[I 2022-04-12 09:43:06,318]\u001b[0m Trial 89 finished with value: 0.945273631840796 and parameters: {'lambda': 2.7835118738013716, 'alpha': 0.12811671705244027, 'colsample_bytree': 0.9, 'subsample': 1.0, 'learning_rate': 0.016, 'max_depth': 7, 'random_state': 48, 'min_child_weight': 1}. Best is trial 22 with value: 0.964467005076142.\u001b[0m\n",
            "\u001b[32m[I 2022-04-12 09:43:06,970]\u001b[0m Trial 90 finished with value: 0.9494949494949494 and parameters: {'lambda': 8.608325941060126, 'alpha': 0.01984868358493936, 'colsample_bytree': 0.3, 'subsample': 0.7, 'learning_rate': 0.009, 'max_depth': 11, 'random_state': 48, 'min_child_weight': 42}. Best is trial 22 with value: 0.964467005076142.\u001b[0m\n",
            "\u001b[32m[I 2022-04-12 09:43:07,717]\u001b[0m Trial 91 finished with value: 0.9591836734693877 and parameters: {'lambda': 5.30094257788243, 'alpha': 0.0014389594577442163, 'colsample_bytree': 0.3, 'subsample': 0.8, 'learning_rate': 0.008, 'max_depth': 5, 'random_state': 48, 'min_child_weight': 17}. Best is trial 22 with value: 0.964467005076142.\u001b[0m\n",
            "\u001b[32m[I 2022-04-12 09:43:08,635]\u001b[0m Trial 92 finished with value: 0.9591836734693877 and parameters: {'lambda': 6.9941244541025345, 'alpha': 0.1550545316214741, 'colsample_bytree': 0.3, 'subsample': 0.6, 'learning_rate': 0.008, 'max_depth': 13, 'random_state': 48, 'min_child_weight': 6}. Best is trial 22 with value: 0.964467005076142.\u001b[0m\n",
            "\u001b[32m[I 2022-04-12 09:43:09,300]\u001b[0m Trial 93 finished with value: 0.9494949494949494 and parameters: {'lambda': 3.360564603394662, 'alpha': 0.11294340636656877, 'colsample_bytree': 0.3, 'subsample': 0.6, 'learning_rate': 0.008, 'max_depth': 13, 'random_state': 48, 'min_child_weight': 31}. Best is trial 22 with value: 0.964467005076142.\u001b[0m\n",
            "\u001b[32m[I 2022-04-12 09:43:09,928]\u001b[0m Trial 94 finished with value: 0.9447236180904524 and parameters: {'lambda': 9.878286909438573, 'alpha': 0.30063609745565684, 'colsample_bytree': 0.3, 'subsample': 0.4, 'learning_rate': 0.008, 'max_depth': 20, 'random_state': 48, 'min_child_weight': 16}. Best is trial 22 with value: 0.964467005076142.\u001b[0m\n",
            "\u001b[32m[I 2022-04-12 09:43:10,972]\u001b[0m Trial 95 finished with value: 0.964467005076142 and parameters: {'lambda': 4.457065351630578, 'alpha': 0.054717393193943635, 'colsample_bytree': 0.3, 'subsample': 0.6, 'learning_rate': 0.008, 'max_depth': 13, 'random_state': 48, 'min_child_weight': 1}. Best is trial 22 with value: 0.964467005076142.\u001b[0m\n",
            "\u001b[32m[I 2022-04-12 09:43:11,857]\u001b[0m Trial 96 finished with value: 0.9591836734693877 and parameters: {'lambda': 7.951474807881061, 'alpha': 0.04978114942561943, 'colsample_bytree': 0.3, 'subsample': 0.6, 'learning_rate': 0.008, 'max_depth': 13, 'random_state': 48, 'min_child_weight': 7}. Best is trial 22 with value: 0.964467005076142.\u001b[0m\n",
            "\u001b[32m[I 2022-04-12 09:43:12,854]\u001b[0m Trial 97 finished with value: 0.9306930693069307 and parameters: {'lambda': 5.058624326084833, 'alpha': 0.5342732919267242, 'colsample_bytree': 0.8, 'subsample': 0.6, 'learning_rate': 0.012, 'max_depth': 13, 'random_state': 24, 'min_child_weight': 19}. Best is trial 22 with value: 0.964467005076142.\u001b[0m\n",
            "\u001b[32m[I 2022-04-12 09:43:13,736]\u001b[0m Trial 98 finished with value: 0.93 and parameters: {'lambda': 4.483139589252972, 'alpha': 0.3783581418002265, 'colsample_bytree': 0.3, 'subsample': 1.0, 'learning_rate': 0.016, 'max_depth': 13, 'random_state': 48, 'min_child_weight': 131}. Best is trial 22 with value: 0.964467005076142.\u001b[0m\n",
            "\u001b[32m[I 2022-04-12 09:43:15,151]\u001b[0m Trial 99 finished with value: 0.9595959595959597 and parameters: {'lambda': 6.293605154814741, 'alpha': 0.08147820862545127, 'colsample_bytree': 0.7, 'subsample': 0.6, 'learning_rate': 0.008, 'max_depth': 13, 'random_state': 48, 'min_child_weight': 2}. Best is trial 22 with value: 0.964467005076142.\u001b[0m\n"
          ]
        }
      ]
    },
    {
      "cell_type": "code",
      "source": [
        "'''\n",
        "0.9595959595959597 \n",
        "{'alpha': 0.020230097237001404,\n",
        " 'colsample_bytree': 0.3,\n",
        " 'lambda': 0.276674464175535,\n",
        " 'learning_rate': 0.008,\n",
        " 'max_depth': 11,\n",
        " 'min_child_weight': 6,\n",
        " 'random_state': 48,\n",
        " 'subsample': 0.8}\n",
        "\n",
        "'''\n",
        "study.best_params"
      ],
      "metadata": {
        "colab": {
          "base_uri": "https://localhost:8080/"
        },
        "id": "A9FhVZE9Sx7A",
        "outputId": "32bfcb04-521c-468c-c705-6ea06ab6acb9"
      },
      "execution_count": 31,
      "outputs": [
        {
          "output_type": "execute_result",
          "data": {
            "text/plain": [
              "{'alpha': 0.020230097237001404,\n",
              " 'colsample_bytree': 0.3,\n",
              " 'lambda': 0.276674464175535,\n",
              " 'learning_rate': 0.008,\n",
              " 'max_depth': 11,\n",
              " 'min_child_weight': 6,\n",
              " 'random_state': 48,\n",
              " 'subsample': 0.8}"
            ]
          },
          "metadata": {},
          "execution_count": 31
        }
      ]
    }
  ]
}