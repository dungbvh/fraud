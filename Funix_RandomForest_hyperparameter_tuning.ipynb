{
  "nbformat": 4,
  "nbformat_minor": 0,
  "metadata": {
    "colab": {
      "name": "Funix RandomForest hyperparameter tuning.ipynb",
      "provenance": []
    },
    "kernelspec": {
      "name": "python3",
      "display_name": "Python 3"
    },
    "language_info": {
      "name": "python"
    }
  },
  "cells": [
    {
      "cell_type": "code",
      "execution_count": 1,
      "metadata": {
        "colab": {
          "base_uri": "https://localhost:8080/"
        },
        "id": "uZe-v3UwPR7j",
        "outputId": "2da200ac-06e8-4fab-ad9c-e5fe9bd95d1c"
      },
      "outputs": [
        {
          "output_type": "stream",
          "name": "stdout",
          "text": [
            "Collecting optuna\n",
            "  Downloading optuna-2.10.0-py3-none-any.whl (308 kB)\n",
            "\u001b[?25l\r\u001b[K     |█                               | 10 kB 21.7 MB/s eta 0:00:01\r\u001b[K     |██▏                             | 20 kB 23.7 MB/s eta 0:00:01\r\u001b[K     |███▏                            | 30 kB 28.4 MB/s eta 0:00:01\r\u001b[K     |████▎                           | 40 kB 24.9 MB/s eta 0:00:01\r\u001b[K     |█████▎                          | 51 kB 12.7 MB/s eta 0:00:01\r\u001b[K     |██████▍                         | 61 kB 14.2 MB/s eta 0:00:01\r\u001b[K     |███████▍                        | 71 kB 15.5 MB/s eta 0:00:01\r\u001b[K     |████████▌                       | 81 kB 14.7 MB/s eta 0:00:01\r\u001b[K     |█████████▋                      | 92 kB 15.7 MB/s eta 0:00:01\r\u001b[K     |██████████▋                     | 102 kB 15.9 MB/s eta 0:00:01\r\u001b[K     |███████████▊                    | 112 kB 15.9 MB/s eta 0:00:01\r\u001b[K     |████████████▊                   | 122 kB 15.9 MB/s eta 0:00:01\r\u001b[K     |█████████████▉                  | 133 kB 15.9 MB/s eta 0:00:01\r\u001b[K     |██████████████▉                 | 143 kB 15.9 MB/s eta 0:00:01\r\u001b[K     |████████████████                | 153 kB 15.9 MB/s eta 0:00:01\r\u001b[K     |█████████████████               | 163 kB 15.9 MB/s eta 0:00:01\r\u001b[K     |██████████████████              | 174 kB 15.9 MB/s eta 0:00:01\r\u001b[K     |███████████████████▏            | 184 kB 15.9 MB/s eta 0:00:01\r\u001b[K     |████████████████████▏           | 194 kB 15.9 MB/s eta 0:00:01\r\u001b[K     |█████████████████████▎          | 204 kB 15.9 MB/s eta 0:00:01\r\u001b[K     |██████████████████████▎         | 215 kB 15.9 MB/s eta 0:00:01\r\u001b[K     |███████████████████████▍        | 225 kB 15.9 MB/s eta 0:00:01\r\u001b[K     |████████████████████████▌       | 235 kB 15.9 MB/s eta 0:00:01\r\u001b[K     |█████████████████████████▌      | 245 kB 15.9 MB/s eta 0:00:01\r\u001b[K     |██████████████████████████▋     | 256 kB 15.9 MB/s eta 0:00:01\r\u001b[K     |███████████████████████████▋    | 266 kB 15.9 MB/s eta 0:00:01\r\u001b[K     |████████████████████████████▊   | 276 kB 15.9 MB/s eta 0:00:01\r\u001b[K     |█████████████████████████████▊  | 286 kB 15.9 MB/s eta 0:00:01\r\u001b[K     |██████████████████████████████▉ | 296 kB 15.9 MB/s eta 0:00:01\r\u001b[K     |████████████████████████████████| 307 kB 15.9 MB/s eta 0:00:01\r\u001b[K     |████████████████████████████████| 308 kB 15.9 MB/s \n",
            "\u001b[?25hRequirement already satisfied: sqlalchemy>=1.1.0 in /usr/local/lib/python3.7/dist-packages (from optuna) (1.4.32)\n",
            "Requirement already satisfied: PyYAML in /usr/local/lib/python3.7/dist-packages (from optuna) (3.13)\n",
            "Collecting cmaes>=0.8.2\n",
            "  Downloading cmaes-0.8.2-py3-none-any.whl (15 kB)\n",
            "Requirement already satisfied: packaging>=20.0 in /usr/local/lib/python3.7/dist-packages (from optuna) (21.3)\n",
            "Collecting alembic\n",
            "  Downloading alembic-1.7.7-py3-none-any.whl (210 kB)\n",
            "\u001b[K     |████████████████████████████████| 210 kB 41.6 MB/s \n",
            "\u001b[?25hCollecting cliff\n",
            "  Downloading cliff-3.10.1-py3-none-any.whl (81 kB)\n",
            "\u001b[K     |████████████████████████████████| 81 kB 3.1 MB/s \n",
            "\u001b[?25hCollecting colorlog\n",
            "  Downloading colorlog-6.6.0-py2.py3-none-any.whl (11 kB)\n",
            "Requirement already satisfied: scipy!=1.4.0 in /usr/local/lib/python3.7/dist-packages (from optuna) (1.4.1)\n",
            "Requirement already satisfied: numpy in /usr/local/lib/python3.7/dist-packages (from optuna) (1.21.5)\n",
            "Requirement already satisfied: tqdm in /usr/local/lib/python3.7/dist-packages (from optuna) (4.63.0)\n",
            "Requirement already satisfied: pyparsing!=3.0.5,>=2.0.2 in /usr/local/lib/python3.7/dist-packages (from packaging>=20.0->optuna) (3.0.7)\n",
            "Requirement already satisfied: importlib-metadata in /usr/local/lib/python3.7/dist-packages (from sqlalchemy>=1.1.0->optuna) (4.11.3)\n",
            "Requirement already satisfied: greenlet!=0.4.17 in /usr/local/lib/python3.7/dist-packages (from sqlalchemy>=1.1.0->optuna) (1.1.2)\n",
            "Collecting Mako\n",
            "  Downloading Mako-1.2.0-py3-none-any.whl (78 kB)\n",
            "\u001b[K     |████████████████████████████████| 78 kB 5.9 MB/s \n",
            "\u001b[?25hRequirement already satisfied: importlib-resources in /usr/local/lib/python3.7/dist-packages (from alembic->optuna) (5.4.0)\n",
            "Requirement already satisfied: PrettyTable>=0.7.2 in /usr/local/lib/python3.7/dist-packages (from cliff->optuna) (3.2.0)\n",
            "Collecting stevedore>=2.0.1\n",
            "  Downloading stevedore-3.5.0-py3-none-any.whl (49 kB)\n",
            "\u001b[K     |████████████████████████████████| 49 kB 4.7 MB/s \n",
            "\u001b[?25hCollecting cmd2>=1.0.0\n",
            "  Downloading cmd2-2.4.0-py3-none-any.whl (150 kB)\n",
            "\u001b[K     |████████████████████████████████| 150 kB 43.2 MB/s \n",
            "\u001b[?25hCollecting pbr!=2.1.0,>=2.0.0\n",
            "  Downloading pbr-5.8.1-py2.py3-none-any.whl (113 kB)\n",
            "\u001b[K     |████████████████████████████████| 113 kB 47.5 MB/s \n",
            "\u001b[?25hCollecting autopage>=0.4.0\n",
            "  Downloading autopage-0.5.0-py3-none-any.whl (29 kB)\n",
            "Requirement already satisfied: attrs>=16.3.0 in /usr/local/lib/python3.7/dist-packages (from cmd2>=1.0.0->cliff->optuna) (21.4.0)\n",
            "Requirement already satisfied: typing-extensions in /usr/local/lib/python3.7/dist-packages (from cmd2>=1.0.0->cliff->optuna) (3.10.0.2)\n",
            "Requirement already satisfied: wcwidth>=0.1.7 in /usr/local/lib/python3.7/dist-packages (from cmd2>=1.0.0->cliff->optuna) (0.2.5)\n",
            "Collecting pyperclip>=1.6\n",
            "  Downloading pyperclip-1.8.2.tar.gz (20 kB)\n",
            "Requirement already satisfied: zipp>=0.5 in /usr/local/lib/python3.7/dist-packages (from importlib-metadata->sqlalchemy>=1.1.0->optuna) (3.7.0)\n",
            "Requirement already satisfied: MarkupSafe>=0.9.2 in /usr/local/lib/python3.7/dist-packages (from Mako->alembic->optuna) (2.0.1)\n",
            "Building wheels for collected packages: pyperclip\n",
            "  Building wheel for pyperclip (setup.py) ... \u001b[?25l\u001b[?25hdone\n",
            "  Created wheel for pyperclip: filename=pyperclip-1.8.2-py3-none-any.whl size=11137 sha256=b0081baab9aab609242d278a820427ddc1744bf6e04f6fc302ec6c8d346e70e8\n",
            "  Stored in directory: /root/.cache/pip/wheels/9f/18/84/8f69f8b08169c7bae2dde6bd7daf0c19fca8c8e500ee620a28\n",
            "Successfully built pyperclip\n",
            "Installing collected packages: pyperclip, pbr, stevedore, Mako, cmd2, autopage, colorlog, cmaes, cliff, alembic, optuna\n",
            "Successfully installed Mako-1.2.0 alembic-1.7.7 autopage-0.5.0 cliff-3.10.1 cmaes-0.8.2 cmd2-2.4.0 colorlog-6.6.0 optuna-2.10.0 pbr-5.8.1 pyperclip-1.8.2 stevedore-3.5.0\n"
          ]
        }
      ],
      "source": [
        "!pip install optuna"
      ]
    },
    {
      "cell_type": "code",
      "source": [
        "import pandas as pd\n",
        "import numpy as np\n",
        "from sklearn import preprocessing\n",
        "import warnings\n",
        "from imblearn.over_sampling import RandomOverSampler\n",
        "from imblearn.over_sampling import SMOTE, ADASYN\n",
        "from imblearn.under_sampling import RandomUnderSampler\n",
        "from imblearn.pipeline import Pipeline \n",
        "\n",
        "from sklearn.model_selection import train_test_split\n",
        "from sklearn.compose import ColumnTransformer, make_column_selector\n",
        "from sklearn.impute import SimpleImputer\n",
        "\n",
        "from sklearn.tree import DecisionTreeClassifier\n",
        "from sklearn.decomposition import PCA\n",
        "from sklearn.ensemble import RandomForestClassifier\n",
        "\n",
        "from collections import Counter\n",
        "import sklearn\n",
        "from sklearn.metrics import accuracy_score\n",
        "from sklearn.metrics import confusion_matrix\n",
        "from sklearn.metrics import accuracy_score\n",
        "from sklearn.metrics import f1_score\n",
        "from sklearn.metrics import recall_score\n",
        "from sklearn.metrics import precision_score\n",
        "from sklearn.metrics import classification_report\n",
        "from sklearn.utils import resample\n",
        "\n",
        "import optuna"
      ],
      "metadata": {
        "id": "rqcxEf_3PbIQ"
      },
      "execution_count": 2,
      "outputs": []
    },
    {
      "cell_type": "code",
      "source": [
        "from google.colab import drive\n",
        "drive.mount(\"/content/drive\")"
      ],
      "metadata": {
        "colab": {
          "base_uri": "https://localhost:8080/"
        },
        "id": "JD1kqutqPvJc",
        "outputId": "a9b89114-d737-4af1-cf9d-24df1a6901cb"
      },
      "execution_count": 3,
      "outputs": [
        {
          "output_type": "stream",
          "name": "stdout",
          "text": [
            "Mounted at /content/drive\n"
          ]
        }
      ]
    },
    {
      "cell_type": "code",
      "source": [
        "train=pd.read_csv(r\"/content/drive/MyDrive/BIDV/CARD_FRAUD/data/trainning/funix_train.csv\")\n",
        "val=pd.read_csv(r\"/content/drive/MyDrive/BIDV/CARD_FRAUD/data/trainning/funix_val.csv\")\n",
        "test=pd.read_csv(r\"/content/drive/MyDrive/BIDV/CARD_FRAUD/data/trainning/funix_test.csv\")"
      ],
      "metadata": {
        "id": "tCMm2FszP318"
      },
      "execution_count": 4,
      "outputs": []
    },
    {
      "cell_type": "code",
      "source": [
        "def reduce_memory_usage(df):   \n",
        "    start_memory = df.memory_usage().sum() / 1024**2\n",
        "    print(f\"Memory usage of dataframe is {start_memory} MB\")\n",
        "    \n",
        "    for col in df.columns:\n",
        "        col_type = df[col].dtype\n",
        "        \n",
        "        if col_type != 'object':\n",
        "            c_min = df[col].min()\n",
        "            c_max = df[col].max()\n",
        "            \n",
        "            if str(col_type)[:3] == 'int':\n",
        "                if c_min > np.iinfo(np.int8).min and c_max < np.iinfo(np.int8).max:\n",
        "                    df[col] = df[col].astype(np.int8)\n",
        "                elif c_min > np.iinfo(np.int16).min and c_max < np.iinfo(np.int16).max:\n",
        "                    df[col] = df[col].astype(np.int16)\n",
        "                elif c_min > np.iinfo(np.int32).min and c_max < np.iinfo(np.int32).max:\n",
        "                    df[col] = df[col].astype(np.int32)\n",
        "                elif c_min > np.iinfo(np.int64).min and c_max < np.iinfo(np.int64).max:\n",
        "                    df[col] = df[col].astype(np.int64)\n",
        "                    \n",
        "            else:\n",
        "                if c_min > np.finfo(np.float16).min and c_max < np.finfo(np.float16).max:\n",
        "                    df[col] = df[col].astype(np.float16)\n",
        "                elif c_min > np.finfo(np.float32).min and c_max < np.finfo(np.float32).max:\n",
        "                    df[col] = df[col].astype(np.float32)\n",
        "                else:\n",
        "                    pass\n",
        "        else:\n",
        "            df[col] = df[col].astype('category')\n",
        "    \n",
        "    end_memory = df.memory_usage().sum() / 1024**2\n",
        "    print(f\"Memory usage of dataframe after reduction {end_memory} MB\")\n",
        "    print(f\"Reduced by {100 * (start_memory - end_memory) / start_memory} % \")\n",
        "    return df"
      ],
      "metadata": {
        "id": "bAS6UVd8Z7lW"
      },
      "execution_count": 5,
      "outputs": []
    },
    {
      "cell_type": "code",
      "source": [
        "\n",
        "def get_feature_names(column_transformer):\n",
        "    \"\"\"Get feature names from all transformers.\n",
        "    Returns\n",
        "    -------\n",
        "    feature_names : list of strings\n",
        "        Names of the features produced by transform.\n",
        "    \"\"\"\n",
        "    # Remove the internal helper function\n",
        "    #check_is_fitted(column_transformer)\n",
        "    \n",
        "    # Turn loopkup into function for better handling with pipeline later\n",
        "    def get_names(trans):\n",
        "        # >> Original get_feature_names() method\n",
        "        if trans == 'drop' or (\n",
        "                hasattr(column, '__len__') and not len(column)):\n",
        "            return []\n",
        "        if trans == 'passthrough':\n",
        "            if hasattr(column_transformer, '_df_columns'):\n",
        "                if ((not isinstance(column, slice))\n",
        "                        and all(isinstance(col, str) for col in column)):\n",
        "                    return column\n",
        "                else:\n",
        "                    return column_transformer._df_columns[column]\n",
        "            else:\n",
        "                indices = np.arange(column_transformer._n_features)\n",
        "                return ['x%d' % i for i in indices[column]]\n",
        "        if not hasattr(trans, 'get_feature_names'):\n",
        "        # >>> Change: Return input column names if no method avaiable\n",
        "            # Turn error into a warning\n",
        "            warnings.warn(\"Transformer %s (type %s) does not \"\n",
        "                                 \"provide get_feature_names. \"\n",
        "                                 \"Will return input column names if available\"\n",
        "                                 % (str(name), type(trans).__name__))\n",
        "            # For transformers without a get_features_names method, use the input\n",
        "            # names to the column transformer\n",
        "            if column is None:\n",
        "                return []\n",
        "            else:\n",
        "                return [name + \"__\" + f for f in column]\n",
        "\n",
        "        return [name + \"__\" + f for f in trans.get_feature_names()]\n",
        "    \n",
        "    ### Start of processing\n",
        "    feature_names = []\n",
        "    \n",
        "    # Allow transformers to be pipelines. Pipeline steps are named differently, so preprocessing is needed\n",
        "    if type(column_transformer) == sklearn.pipeline.Pipeline:\n",
        "        l_transformers = [(name, trans, None, None) for step, name, trans in column_transformer._iter()]\n",
        "    else:\n",
        "        # For column transformers, follow the original method\n",
        "        l_transformers = list(column_transformer._iter(fitted=True))    \n",
        "    \n",
        "    for name, trans, column, _ in l_transformers: \n",
        "        if type(trans) == sklearn.pipeline.Pipeline:\n",
        "            # Recursive call on pipeline\n",
        "            _names = get_feature_names(trans)\n",
        "            # if pipeline has no transformer that returns names\n",
        "            if len(_names)==0:\n",
        "                _names = [name + \"__\" + f for f in column]\n",
        "            feature_names.extend(_names)\n",
        "        else:\n",
        "            feature_names.extend(get_names(trans))\n",
        "    \n",
        "    return feature_names"
      ],
      "metadata": {
        "id": "ZSI0ytD67zPv"
      },
      "execution_count": 6,
      "outputs": []
    },
    {
      "cell_type": "code",
      "source": [
        "train = reduce_memory_usage(train)\n",
        "val = reduce_memory_usage(val)\n",
        "test = reduce_memory_usage(test)"
      ],
      "metadata": {
        "colab": {
          "base_uri": "https://localhost:8080/"
        },
        "id": "qI8vZVv6Z9oD",
        "outputId": "a3c654b7-5fa7-40e4-9f2b-c5689e1c8fd1"
      },
      "execution_count": 7,
      "outputs": [
        {
          "output_type": "stream",
          "name": "stdout",
          "text": [
            "Memory usage of dataframe is 1.166229248046875 MB\n",
            "Memory usage of dataframe after reduction 0.3381690979003906 MB\n",
            "Reduced by 71.00320554755986 % \n",
            "Memory usage of dataframe is 0.2066650390625 MB\n",
            "Memory usage of dataframe after reduction 0.058624267578125 MB\n",
            "Reduced by 71.63319551092735 % \n",
            "Memory usage of dataframe is 0.242523193359375 MB\n",
            "Memory usage of dataframe after reduction 0.06910324096679688 MB\n",
            "Reduced by 71.50654334969171 % \n"
          ]
        }
      ]
    },
    {
      "cell_type": "code",
      "source": [
        "train.head()"
      ],
      "metadata": {
        "colab": {
          "base_uri": "https://localhost:8080/",
          "height": 300
        },
        "id": "nv4oMuYv5mss",
        "outputId": "c5e9a217-b701-4958-bdf4-70bc72dc28ae"
      },
      "execution_count": 8,
      "outputs": [
        {
          "output_type": "execute_result",
          "data": {
            "text/plain": [
              "     ID  MER_TYPE  BRANCH  CURR_NUM  DAY_REINSTATED  DAYS_AVGE  FL_LIM1  \\\n",
              "0  2208      5411     126       704               0          1      150   \n",
              "1    53      7011     753       704               0          2      150   \n",
              "2    52      5411     128       704               0          2      150   \n",
              "3   163      5977     741       704               0          3      150   \n",
              "4   657      5411     721       704               0          1      150   \n",
              "\n",
              "   FL_LIM3  FL_LIM4   GROSS_SALE  ...  DAY_CLOSE_YEAR  DAY_CLOSE_MONTH  \\\n",
              "0        0     5000  671981120.0  ...            2099               12   \n",
              "1        0        0          0.0  ...            2016               11   \n",
              "2        0     5000  204670160.0  ...            2099               12   \n",
              "3        0        0          0.0  ...            2016               10   \n",
              "4        0     5000          0.0  ...            2020                7   \n",
              "\n",
              "   DAY_CLOSE_DAY  DAY_START_YEAR  DAY_START_MONTH  DAY_START_DAY  \\\n",
              "0             31            1970                1              1   \n",
              "1             14            1970                1              1   \n",
              "2             31            1970                1              1   \n",
              "3              3            1970                1              1   \n",
              "4             24            1970                1              1   \n",
              "\n",
              "   DAY_SUBM_YEAR  DAY_SUBM_MONTH  DAY_SUBM_DAY  MERCH_FR  \n",
              "0           1970               1             1         1  \n",
              "1           1970               1             1         0  \n",
              "2           1970               1             1         0  \n",
              "3           1970               1             1         0  \n",
              "4           1970               1             1         0  \n",
              "\n",
              "[5 rows x 94 columns]"
            ],
            "text/html": [
              "\n",
              "  <div id=\"df-8bb853c2-b3b1-40f8-806e-ac37ce928d17\">\n",
              "    <div class=\"colab-df-container\">\n",
              "      <div>\n",
              "<style scoped>\n",
              "    .dataframe tbody tr th:only-of-type {\n",
              "        vertical-align: middle;\n",
              "    }\n",
              "\n",
              "    .dataframe tbody tr th {\n",
              "        vertical-align: top;\n",
              "    }\n",
              "\n",
              "    .dataframe thead th {\n",
              "        text-align: right;\n",
              "    }\n",
              "</style>\n",
              "<table border=\"1\" class=\"dataframe\">\n",
              "  <thead>\n",
              "    <tr style=\"text-align: right;\">\n",
              "      <th></th>\n",
              "      <th>ID</th>\n",
              "      <th>MER_TYPE</th>\n",
              "      <th>BRANCH</th>\n",
              "      <th>CURR_NUM</th>\n",
              "      <th>DAY_REINSTATED</th>\n",
              "      <th>DAYS_AVGE</th>\n",
              "      <th>FL_LIM1</th>\n",
              "      <th>FL_LIM3</th>\n",
              "      <th>FL_LIM4</th>\n",
              "      <th>GROSS_SALE</th>\n",
              "      <th>...</th>\n",
              "      <th>DAY_CLOSE_YEAR</th>\n",
              "      <th>DAY_CLOSE_MONTH</th>\n",
              "      <th>DAY_CLOSE_DAY</th>\n",
              "      <th>DAY_START_YEAR</th>\n",
              "      <th>DAY_START_MONTH</th>\n",
              "      <th>DAY_START_DAY</th>\n",
              "      <th>DAY_SUBM_YEAR</th>\n",
              "      <th>DAY_SUBM_MONTH</th>\n",
              "      <th>DAY_SUBM_DAY</th>\n",
              "      <th>MERCH_FR</th>\n",
              "    </tr>\n",
              "  </thead>\n",
              "  <tbody>\n",
              "    <tr>\n",
              "      <th>0</th>\n",
              "      <td>2208</td>\n",
              "      <td>5411</td>\n",
              "      <td>126</td>\n",
              "      <td>704</td>\n",
              "      <td>0</td>\n",
              "      <td>1</td>\n",
              "      <td>150</td>\n",
              "      <td>0</td>\n",
              "      <td>5000</td>\n",
              "      <td>671981120.0</td>\n",
              "      <td>...</td>\n",
              "      <td>2099</td>\n",
              "      <td>12</td>\n",
              "      <td>31</td>\n",
              "      <td>1970</td>\n",
              "      <td>1</td>\n",
              "      <td>1</td>\n",
              "      <td>1970</td>\n",
              "      <td>1</td>\n",
              "      <td>1</td>\n",
              "      <td>1</td>\n",
              "    </tr>\n",
              "    <tr>\n",
              "      <th>1</th>\n",
              "      <td>53</td>\n",
              "      <td>7011</td>\n",
              "      <td>753</td>\n",
              "      <td>704</td>\n",
              "      <td>0</td>\n",
              "      <td>2</td>\n",
              "      <td>150</td>\n",
              "      <td>0</td>\n",
              "      <td>0</td>\n",
              "      <td>0.0</td>\n",
              "      <td>...</td>\n",
              "      <td>2016</td>\n",
              "      <td>11</td>\n",
              "      <td>14</td>\n",
              "      <td>1970</td>\n",
              "      <td>1</td>\n",
              "      <td>1</td>\n",
              "      <td>1970</td>\n",
              "      <td>1</td>\n",
              "      <td>1</td>\n",
              "      <td>0</td>\n",
              "    </tr>\n",
              "    <tr>\n",
              "      <th>2</th>\n",
              "      <td>52</td>\n",
              "      <td>5411</td>\n",
              "      <td>128</td>\n",
              "      <td>704</td>\n",
              "      <td>0</td>\n",
              "      <td>2</td>\n",
              "      <td>150</td>\n",
              "      <td>0</td>\n",
              "      <td>5000</td>\n",
              "      <td>204670160.0</td>\n",
              "      <td>...</td>\n",
              "      <td>2099</td>\n",
              "      <td>12</td>\n",
              "      <td>31</td>\n",
              "      <td>1970</td>\n",
              "      <td>1</td>\n",
              "      <td>1</td>\n",
              "      <td>1970</td>\n",
              "      <td>1</td>\n",
              "      <td>1</td>\n",
              "      <td>0</td>\n",
              "    </tr>\n",
              "    <tr>\n",
              "      <th>3</th>\n",
              "      <td>163</td>\n",
              "      <td>5977</td>\n",
              "      <td>741</td>\n",
              "      <td>704</td>\n",
              "      <td>0</td>\n",
              "      <td>3</td>\n",
              "      <td>150</td>\n",
              "      <td>0</td>\n",
              "      <td>0</td>\n",
              "      <td>0.0</td>\n",
              "      <td>...</td>\n",
              "      <td>2016</td>\n",
              "      <td>10</td>\n",
              "      <td>3</td>\n",
              "      <td>1970</td>\n",
              "      <td>1</td>\n",
              "      <td>1</td>\n",
              "      <td>1970</td>\n",
              "      <td>1</td>\n",
              "      <td>1</td>\n",
              "      <td>0</td>\n",
              "    </tr>\n",
              "    <tr>\n",
              "      <th>4</th>\n",
              "      <td>657</td>\n",
              "      <td>5411</td>\n",
              "      <td>721</td>\n",
              "      <td>704</td>\n",
              "      <td>0</td>\n",
              "      <td>1</td>\n",
              "      <td>150</td>\n",
              "      <td>0</td>\n",
              "      <td>5000</td>\n",
              "      <td>0.0</td>\n",
              "      <td>...</td>\n",
              "      <td>2020</td>\n",
              "      <td>7</td>\n",
              "      <td>24</td>\n",
              "      <td>1970</td>\n",
              "      <td>1</td>\n",
              "      <td>1</td>\n",
              "      <td>1970</td>\n",
              "      <td>1</td>\n",
              "      <td>1</td>\n",
              "      <td>0</td>\n",
              "    </tr>\n",
              "  </tbody>\n",
              "</table>\n",
              "<p>5 rows × 94 columns</p>\n",
              "</div>\n",
              "      <button class=\"colab-df-convert\" onclick=\"convertToInteractive('df-8bb853c2-b3b1-40f8-806e-ac37ce928d17')\"\n",
              "              title=\"Convert this dataframe to an interactive table.\"\n",
              "              style=\"display:none;\">\n",
              "        \n",
              "  <svg xmlns=\"http://www.w3.org/2000/svg\" height=\"24px\"viewBox=\"0 0 24 24\"\n",
              "       width=\"24px\">\n",
              "    <path d=\"M0 0h24v24H0V0z\" fill=\"none\"/>\n",
              "    <path d=\"M18.56 5.44l.94 2.06.94-2.06 2.06-.94-2.06-.94-.94-2.06-.94 2.06-2.06.94zm-11 1L8.5 8.5l.94-2.06 2.06-.94-2.06-.94L8.5 2.5l-.94 2.06-2.06.94zm10 10l.94 2.06.94-2.06 2.06-.94-2.06-.94-.94-2.06-.94 2.06-2.06.94z\"/><path d=\"M17.41 7.96l-1.37-1.37c-.4-.4-.92-.59-1.43-.59-.52 0-1.04.2-1.43.59L10.3 9.45l-7.72 7.72c-.78.78-.78 2.05 0 2.83L4 21.41c.39.39.9.59 1.41.59.51 0 1.02-.2 1.41-.59l7.78-7.78 2.81-2.81c.8-.78.8-2.07 0-2.86zM5.41 20L4 18.59l7.72-7.72 1.47 1.35L5.41 20z\"/>\n",
              "  </svg>\n",
              "      </button>\n",
              "      \n",
              "  <style>\n",
              "    .colab-df-container {\n",
              "      display:flex;\n",
              "      flex-wrap:wrap;\n",
              "      gap: 12px;\n",
              "    }\n",
              "\n",
              "    .colab-df-convert {\n",
              "      background-color: #E8F0FE;\n",
              "      border: none;\n",
              "      border-radius: 50%;\n",
              "      cursor: pointer;\n",
              "      display: none;\n",
              "      fill: #1967D2;\n",
              "      height: 32px;\n",
              "      padding: 0 0 0 0;\n",
              "      width: 32px;\n",
              "    }\n",
              "\n",
              "    .colab-df-convert:hover {\n",
              "      background-color: #E2EBFA;\n",
              "      box-shadow: 0px 1px 2px rgba(60, 64, 67, 0.3), 0px 1px 3px 1px rgba(60, 64, 67, 0.15);\n",
              "      fill: #174EA6;\n",
              "    }\n",
              "\n",
              "    [theme=dark] .colab-df-convert {\n",
              "      background-color: #3B4455;\n",
              "      fill: #D2E3FC;\n",
              "    }\n",
              "\n",
              "    [theme=dark] .colab-df-convert:hover {\n",
              "      background-color: #434B5C;\n",
              "      box-shadow: 0px 1px 3px 1px rgba(0, 0, 0, 0.15);\n",
              "      filter: drop-shadow(0px 1px 2px rgba(0, 0, 0, 0.3));\n",
              "      fill: #FFFFFF;\n",
              "    }\n",
              "  </style>\n",
              "\n",
              "      <script>\n",
              "        const buttonEl =\n",
              "          document.querySelector('#df-8bb853c2-b3b1-40f8-806e-ac37ce928d17 button.colab-df-convert');\n",
              "        buttonEl.style.display =\n",
              "          google.colab.kernel.accessAllowed ? 'block' : 'none';\n",
              "\n",
              "        async function convertToInteractive(key) {\n",
              "          const element = document.querySelector('#df-8bb853c2-b3b1-40f8-806e-ac37ce928d17');\n",
              "          const dataTable =\n",
              "            await google.colab.kernel.invokeFunction('convertToInteractive',\n",
              "                                                     [key], {});\n",
              "          if (!dataTable) return;\n",
              "\n",
              "          const docLinkHtml = 'Like what you see? Visit the ' +\n",
              "            '<a target=\"_blank\" href=https://colab.research.google.com/notebooks/data_table.ipynb>data table notebook</a>'\n",
              "            + ' to learn more about interactive tables.';\n",
              "          element.innerHTML = '';\n",
              "          dataTable['output_type'] = 'display_data';\n",
              "          await google.colab.output.renderOutput(dataTable, element);\n",
              "          const docLink = document.createElement('div');\n",
              "          docLink.innerHTML = docLinkHtml;\n",
              "          element.appendChild(docLink);\n",
              "        }\n",
              "      </script>\n",
              "    </div>\n",
              "  </div>\n",
              "  "
            ]
          },
          "metadata": {},
          "execution_count": 8
        }
      ]
    },
    {
      "cell_type": "code",
      "source": [
        "useful_features = [c for c in train.columns if ((c not in ['ID', 'MERCH_FR', 'BRANCH']) and (\"DAY_\" not in c))] \n",
        "# list_cat_org = get_list_cat_columns() \n",
        "# object_cols = [c for c in useful_features if c in list_cat_org]\n",
        "object_cols = ['CURR_NUM', 'MP_IND', 'PAY_METHOD', 'HAS_TXN_LESS_15S']\n",
        "num_cols = [c for c in useful_features if c not in object_cols]\n",
        "# df_test = val[useful_features]"
      ],
      "metadata": {
        "id": "D6gZbaryQJ6-"
      },
      "execution_count": 9,
      "outputs": []
    },
    {
      "cell_type": "code",
      "source": [
        "x_train = train[useful_features]\n",
        "x_val = val[useful_features]\n",
        "x_test = test[useful_features]\n",
        "y_train = train[\"MERCH_FR\"]\n",
        "y_val = val[\"MERCH_FR\"]\n",
        "y_test = test[\"MERCH_FR\"]"
      ],
      "metadata": {
        "id": "r6nTwHMeLcoJ"
      },
      "execution_count": 10,
      "outputs": []
    },
    {
      "cell_type": "code",
      "source": [
        "from sklearn.preprocessing import MinMaxScaler, OrdinalEncoder, StandardScaler, OneHotEncoder\n",
        "from imblearn.pipeline import make_pipeline, Pipeline\n",
        "\n",
        "from sklearn.model_selection import cross_val_score\n",
        "from sklearn.model_selection import RepeatedStratifiedKFold\n",
        "from numpy import mean\n",
        "\n",
        "numeric_transformer = Pipeline(steps=[\n",
        "    ('imputer', SimpleImputer(strategy='mean')),\n",
        "    ('scaler', StandardScaler() # ('scaler', MinMaxScaler()    \n",
        "    )])\n",
        "\n",
        "# cat_label_cols = ['CST_PERF_ST', 'CST_MKT_SEG']\n",
        "cat_ordinal_transformer = Pipeline(steps=[\n",
        "    ('imputer', SimpleImputer(strategy='constant', fill_value='missing_val')),\n",
        "    ('encoder', OrdinalEncoder() \n",
        "    )])\n",
        "\n",
        "# cat_onehot_cols = [f for f in cat_cols if f not in cat_label_cols]\n",
        "cat_onehot_transformer = Pipeline(steps=[\n",
        "    ('imputer', SimpleImputer(strategy='constant', fill_value='missing_val')),\n",
        "    ('encoder', OneHotEncoder(handle_unknown = 'ignore', sparse=False) \n",
        "    )])\n",
        "\n",
        "# over sampling \n",
        "oversample = SMOTE() # ADASYN()\n",
        "preprocessor = ColumnTransformer(\n",
        "    transformers=[\n",
        "                  ('num', numeric_transformer, num_cols), \n",
        "                  #('cat_label', cat_ordinal_transformer, cat_label_cols)\n",
        "                  #('cat_onehot', cat_onehot_transformer, ['CLOSE_RSN','CHIP_YN']) # ['CLOSE_RSN', 'COMM_FREQ']\n",
        "                 ], remainder='drop')"
      ],
      "metadata": {
        "id": "9WWwe6rlUm8O"
      },
      "execution_count": 11,
      "outputs": []
    },
    {
      "cell_type": "code",
      "source": [
        "# preprocessor.fit(train[useful_features])\n",
        "preprocessor.fit(x_train)\n",
        "\n",
        "x_train_tf = pd.DataFrame(preprocessor.transform(x_train), columns = get_feature_names(preprocessor)) \n",
        "x_val_tf = pd.DataFrame(preprocessor.transform(x_val), columns = get_feature_names(preprocessor)) \n",
        "x_test_tf = pd.DataFrame(preprocessor.transform(x_test), columns = get_feature_names(preprocessor)) "
      ],
      "metadata": {
        "colab": {
          "base_uri": "https://localhost:8080/"
        },
        "id": "m9yG34qzZn_i",
        "outputId": "bccfd657-a7ec-43e5-d8d9-e1e0c22e7047"
      },
      "execution_count": 12,
      "outputs": [
        {
          "output_type": "stream",
          "name": "stderr",
          "text": [
            "/usr/local/lib/python3.7/dist-packages/ipykernel_launcher.py:34: UserWarning: Transformer num (type Pipeline) does not provide get_feature_names. Will return input column names if available\n",
            "/usr/local/lib/python3.7/dist-packages/ipykernel_launcher.py:34: UserWarning: Transformer num (type Pipeline) does not provide get_feature_names. Will return input column names if available\n",
            "/usr/local/lib/python3.7/dist-packages/ipykernel_launcher.py:34: UserWarning: Transformer num (type Pipeline) does not provide get_feature_names. Will return input column names if available\n"
          ]
        }
      ]
    },
    {
      "cell_type": "code",
      "source": [
        "def run(trial):\n",
        "    max_depth = trial.suggest_int('max_depth', 1, 10)    \n",
        "    n_estimators =  trial.suggest_int('n_estimators', 100, 500)\n",
        "    max_features = trial.suggest_int('max_leaf_nodes', 2, 30)    \n",
        "    min_samples_split = trial.suggest_int('min_samples_split', 2, 50) \n",
        "    min_samples_leaf = trial.suggest_int('min_samples_split', 2, 50)\n",
        "\n",
        "    model = RandomForestClassifier(\n",
        "        random_state=42,        \n",
        "        n_estimators=n_estimators,\n",
        "        max_depth=max_depth,\n",
        "        max_features = max_features,\n",
        "        min_samples_split = min_samples_split,\n",
        "        min_samples_leaf = min_samples_leaf\n",
        "    )\n",
        "    pipeline = Pipeline(steps=[('sampling', oversample),\n",
        "                      ('classifier', model)])\n",
        "    \n",
        "    pipeline.fit(x_train_tf, y_train)\n",
        "    preds_val = model.predict(x_val_tf)\n",
        "    score = f1_score(y_val, preds_val)\n",
        "    return score"
      ],
      "metadata": {
        "id": "O2qmXycKWojd"
      },
      "execution_count": 13,
      "outputs": []
    },
    {
      "cell_type": "code",
      "source": [
        "study = optuna.create_study(direction=\"maximize\")\n",
        "study.optimize(run, n_trials=100)"
      ],
      "metadata": {
        "colab": {
          "base_uri": "https://localhost:8080/"
        },
        "id": "9WqqgEhXWtmM",
        "outputId": "a42f86b4-3231-4c0c-9afe-0924520df66a"
      },
      "execution_count": 14,
      "outputs": [
        {
          "output_type": "stream",
          "name": "stderr",
          "text": [
            "\u001b[32m[I 2022-04-13 03:30:12,171]\u001b[0m A new study created in memory with name: no-name-1c3f2a30-b302-48cc-a0f0-f5c5cfbe0665\u001b[0m\n",
            "\u001b[32m[I 2022-04-13 03:30:15,193]\u001b[0m Trial 0 finished with value: 0.95 and parameters: {'max_depth': 10, 'n_estimators': 500, 'max_leaf_nodes': 15, 'min_samples_split': 12}. Best is trial 0 with value: 0.95.\u001b[0m\n",
            "\u001b[32m[I 2022-04-13 03:30:15,915]\u001b[0m Trial 1 finished with value: 0.9400000000000001 and parameters: {'max_depth': 6, 'n_estimators': 185, 'max_leaf_nodes': 9, 'min_samples_split': 48}. Best is trial 0 with value: 0.95.\u001b[0m\n",
            "\u001b[32m[I 2022-04-13 03:30:18,087]\u001b[0m Trial 2 finished with value: 0.9400000000000001 and parameters: {'max_depth': 10, 'n_estimators': 281, 'max_leaf_nodes': 23, 'min_samples_split': 16}. Best is trial 0 with value: 0.95.\u001b[0m\n",
            "\u001b[32m[I 2022-04-13 03:30:18,587]\u001b[0m Trial 3 finished with value: 0.9215686274509804 and parameters: {'max_depth': 9, 'n_estimators': 183, 'max_leaf_nodes': 2, 'min_samples_split': 37}. Best is trial 0 with value: 0.95.\u001b[0m\n",
            "\u001b[32m[I 2022-04-13 03:30:19,881]\u001b[0m Trial 4 finished with value: 0.9494949494949494 and parameters: {'max_depth': 7, 'n_estimators': 375, 'max_leaf_nodes': 6, 'min_samples_split': 19}. Best is trial 0 with value: 0.95.\u001b[0m\n",
            "\u001b[32m[I 2022-04-13 03:30:22,016]\u001b[0m Trial 5 finished with value: 0.9447236180904524 and parameters: {'max_depth': 8, 'n_estimators': 432, 'max_leaf_nodes': 15, 'min_samples_split': 47}. Best is trial 0 with value: 0.95.\u001b[0m\n",
            "\u001b[32m[I 2022-04-13 03:30:23,803]\u001b[0m Trial 6 finished with value: 0.9082125603864734 and parameters: {'max_depth': 3, 'n_estimators': 398, 'max_leaf_nodes': 20, 'min_samples_split': 39}. Best is trial 0 with value: 0.95.\u001b[0m\n",
            "\u001b[32m[I 2022-04-13 03:30:24,315]\u001b[0m Trial 7 finished with value: 0.9447236180904524 and parameters: {'max_depth': 10, 'n_estimators': 117, 'max_leaf_nodes': 8, 'min_samples_split': 39}. Best is trial 0 with value: 0.95.\u001b[0m\n",
            "\u001b[32m[I 2022-04-13 03:30:26,826]\u001b[0m Trial 8 finished with value: 0.9447236180904524 and parameters: {'max_depth': 7, 'n_estimators': 432, 'max_leaf_nodes': 19, 'min_samples_split': 32}. Best is trial 0 with value: 0.95.\u001b[0m\n",
            "\u001b[32m[I 2022-04-13 03:30:29,047]\u001b[0m Trial 9 finished with value: 0.9447236180904524 and parameters: {'max_depth': 9, 'n_estimators': 382, 'max_leaf_nodes': 20, 'min_samples_split': 47}. Best is trial 0 with value: 0.95.\u001b[0m\n",
            "\u001b[32m[I 2022-04-13 03:30:31,743]\u001b[0m Trial 10 finished with value: 0.9223300970873787 and parameters: {'max_depth': 3, 'n_estimators': 494, 'max_leaf_nodes': 29, 'min_samples_split': 2}. Best is trial 0 with value: 0.95.\u001b[0m\n",
            "\u001b[32m[I 2022-04-13 03:30:33,079]\u001b[0m Trial 11 finished with value: 0.945273631840796 and parameters: {'max_depth': 5, 'n_estimators': 324, 'max_leaf_nodes': 11, 'min_samples_split': 16}. Best is trial 0 with value: 0.95.\u001b[0m\n",
            "\u001b[32m[I 2022-04-13 03:30:34,024]\u001b[0m Trial 12 finished with value: 0.8995215311004785 and parameters: {'max_depth': 1, 'n_estimators': 489, 'max_leaf_nodes': 2, 'min_samples_split': 17}. Best is trial 0 with value: 0.95.\u001b[0m\n",
            "\u001b[32m[I 2022-04-13 03:30:35,502]\u001b[0m Trial 13 finished with value: 0.95 and parameters: {'max_depth': 5, 'n_estimators': 319, 'max_leaf_nodes': 13, 'min_samples_split': 7}. Best is trial 0 with value: 0.95.\u001b[0m\n",
            "\u001b[32m[I 2022-04-13 03:30:36,761]\u001b[0m Trial 14 finished with value: 0.9405940594059405 and parameters: {'max_depth': 4, 'n_estimators': 285, 'max_leaf_nodes': 14, 'min_samples_split': 5}. Best is trial 0 with value: 0.95.\u001b[0m\n",
            "\u001b[32m[I 2022-04-13 03:30:37,311]\u001b[0m Trial 15 finished with value: 0.8520179372197308 and parameters: {'max_depth': 1, 'n_estimators': 200, 'max_leaf_nodes': 13, 'min_samples_split': 9}. Best is trial 0 with value: 0.95.\u001b[0m\n",
            "\u001b[32m[I 2022-04-13 03:30:39,624]\u001b[0m Trial 16 finished with value: 0.945273631840796 and parameters: {'max_depth': 5, 'n_estimators': 327, 'max_leaf_nodes': 29, 'min_samples_split': 10}. Best is trial 0 with value: 0.95.\u001b[0m\n",
            "\u001b[32m[I 2022-04-13 03:30:41,215]\u001b[0m Trial 17 finished with value: 0.9447236180904524 and parameters: {'max_depth': 6, 'n_estimators': 234, 'max_leaf_nodes': 25, 'min_samples_split': 25}. Best is trial 0 with value: 0.95.\u001b[0m\n",
            "\u001b[32m[I 2022-04-13 03:30:41,725]\u001b[0m Trial 18 finished with value: 0.9082125603864734 and parameters: {'max_depth': 3, 'n_estimators': 102, 'max_leaf_nodes': 18, 'min_samples_split': 23}. Best is trial 0 with value: 0.95.\u001b[0m\n",
            "\u001b[32m[I 2022-04-13 03:30:44,280]\u001b[0m Trial 19 finished with value: 0.945273631840796 and parameters: {'max_depth': 7, 'n_estimators': 461, 'max_leaf_nodes': 16, 'min_samples_split': 11}. Best is trial 0 with value: 0.95.\u001b[0m\n",
            "\u001b[32m[I 2022-04-13 03:30:45,239]\u001b[0m Trial 20 finished with value: 0.9405940594059405 and parameters: {'max_depth': 4, 'n_estimators': 240, 'max_leaf_nodes': 11, 'min_samples_split': 6}. Best is trial 0 with value: 0.95.\u001b[0m\n",
            "\u001b[32m[I 2022-04-13 03:30:46,517]\u001b[0m Trial 21 finished with value: 0.9543147208121827 and parameters: {'max_depth': 8, 'n_estimators': 364, 'max_leaf_nodes': 6, 'min_samples_split': 22}. Best is trial 21 with value: 0.9543147208121827.\u001b[0m\n",
            "\u001b[32m[I 2022-04-13 03:30:47,612]\u001b[0m Trial 22 finished with value: 0.9494949494949494 and parameters: {'max_depth': 9, 'n_estimators': 343, 'max_leaf_nodes': 5, 'min_samples_split': 30}. Best is trial 21 with value: 0.9543147208121827.\u001b[0m\n",
            "\u001b[32m[I 2022-04-13 03:30:49,668]\u001b[0m Trial 23 finished with value: 0.9595959595959597 and parameters: {'max_depth': 8, 'n_estimators': 415, 'max_leaf_nodes': 12, 'min_samples_split': 12}. Best is trial 23 with value: 0.9595959595959597.\u001b[0m\n",
            "\u001b[32m[I 2022-04-13 03:30:51,342]\u001b[0m Trial 24 finished with value: 0.9447236180904524 and parameters: {'max_depth': 8, 'n_estimators': 359, 'max_leaf_nodes': 11, 'min_samples_split': 21}. Best is trial 23 with value: 0.9595959595959597.\u001b[0m\n",
            "\u001b[32m[I 2022-04-13 03:30:52,754]\u001b[0m Trial 25 finished with value: 0.9494949494949494 and parameters: {'max_depth': 8, 'n_estimators': 418, 'max_leaf_nodes': 5, 'min_samples_split': 13}. Best is trial 23 with value: 0.9595959595959597.\u001b[0m\n",
            "\u001b[32m[I 2022-04-13 03:30:54,430]\u001b[0m Trial 26 finished with value: 0.9447236180904524 and parameters: {'max_depth': 10, 'n_estimators': 460, 'max_leaf_nodes': 7, 'min_samples_split': 29}. Best is trial 23 with value: 0.9595959595959597.\u001b[0m\n",
            "\u001b[32m[I 2022-04-13 03:30:56,415]\u001b[0m Trial 27 finished with value: 0.9494949494949494 and parameters: {'max_depth': 9, 'n_estimators': 462, 'max_leaf_nodes': 9, 'min_samples_split': 13}. Best is trial 23 with value: 0.9595959595959597.\u001b[0m\n",
            "\u001b[32m[I 2022-04-13 03:30:58,998]\u001b[0m Trial 28 finished with value: 0.95 and parameters: {'max_depth': 8, 'n_estimators': 401, 'max_leaf_nodes': 17, 'min_samples_split': 2}. Best is trial 23 with value: 0.9595959595959597.\u001b[0m\n",
            "\u001b[32m[I 2022-04-13 03:31:00,872]\u001b[0m Trial 29 finished with value: 0.9447236180904524 and parameters: {'max_depth': 10, 'n_estimators': 449, 'max_leaf_nodes': 9, 'min_samples_split': 25}. Best is trial 23 with value: 0.9595959595959597.\u001b[0m\n",
            "\u001b[32m[I 2022-04-13 03:31:02,295]\u001b[0m Trial 30 finished with value: 0.9547738693467336 and parameters: {'max_depth': 6, 'n_estimators': 493, 'max_leaf_nodes': 4, 'min_samples_split': 14}. Best is trial 23 with value: 0.9595959595959597.\u001b[0m\n",
            "\u001b[32m[I 2022-04-13 03:31:03,551]\u001b[0m Trial 31 finished with value: 0.9547738693467336 and parameters: {'max_depth': 7, 'n_estimators': 409, 'max_leaf_nodes': 4, 'min_samples_split': 4}. Best is trial 23 with value: 0.9595959595959597.\u001b[0m\n",
            "\u001b[32m[I 2022-04-13 03:31:04,631]\u001b[0m Trial 32 finished with value: 0.9447236180904524 and parameters: {'max_depth': 6, 'n_estimators': 407, 'max_leaf_nodes': 3, 'min_samples_split': 14}. Best is trial 23 with value: 0.9595959595959597.\u001b[0m\n",
            "\u001b[32m[I 2022-04-13 03:31:05,742]\u001b[0m Trial 33 finished with value: 0.9547738693467336 and parameters: {'max_depth': 7, 'n_estimators': 377, 'max_leaf_nodes': 4, 'min_samples_split': 20}. Best is trial 23 with value: 0.9595959595959597.\u001b[0m\n",
            "\u001b[32m[I 2022-04-13 03:31:07,112]\u001b[0m Trial 34 finished with value: 0.9494949494949494 and parameters: {'max_depth': 7, 'n_estimators': 478, 'max_leaf_nodes': 4, 'min_samples_split': 19}. Best is trial 23 with value: 0.9595959595959597.\u001b[0m\n",
            "\u001b[32m[I 2022-04-13 03:31:08,152]\u001b[0m Trial 35 finished with value: 0.9447236180904524 and parameters: {'max_depth': 6, 'n_estimators': 430, 'max_leaf_nodes': 2, 'min_samples_split': 8}. Best is trial 23 with value: 0.9595959595959597.\u001b[0m\n",
            "\u001b[32m[I 2022-04-13 03:31:09,394]\u001b[0m Trial 36 finished with value: 0.9547738693467336 and parameters: {'max_depth': 7, 'n_estimators': 391, 'max_leaf_nodes': 4, 'min_samples_split': 4}. Best is trial 23 with value: 0.9595959595959597.\u001b[0m\n",
            "\u001b[32m[I 2022-04-13 03:31:10,876]\u001b[0m Trial 37 finished with value: 0.9400000000000001 and parameters: {'max_depth': 7, 'n_estimators': 384, 'max_leaf_nodes': 7, 'min_samples_split': 4}. Best is trial 23 with value: 0.9595959595959597.\u001b[0m\n",
            "\u001b[32m[I 2022-04-13 03:31:14,129]\u001b[0m Trial 38 finished with value: 0.95 and parameters: {'max_depth': 6, 'n_estimators': 500, 'max_leaf_nodes': 23, 'min_samples_split': 16}. Best is trial 23 with value: 0.9595959595959597.\u001b[0m\n",
            "\u001b[32m[I 2022-04-13 03:31:15,867]\u001b[0m Trial 39 finished with value: 0.9543147208121827 and parameters: {'max_depth': 7, 'n_estimators': 350, 'max_leaf_nodes': 7, 'min_samples_split': 10}. Best is trial 23 with value: 0.9595959595959597.\u001b[0m\n",
            "\u001b[32m[I 2022-04-13 03:31:16,889]\u001b[0m Trial 40 finished with value: 0.95 and parameters: {'max_depth': 8, 'n_estimators': 299, 'max_leaf_nodes': 4, 'min_samples_split': 4}. Best is trial 23 with value: 0.9595959595959597.\u001b[0m\n",
            "\u001b[32m[I 2022-04-13 03:31:18,207]\u001b[0m Trial 41 finished with value: 0.9494949494949494 and parameters: {'max_depth': 7, 'n_estimators': 441, 'max_leaf_nodes': 4, 'min_samples_split': 14}. Best is trial 23 with value: 0.9595959595959597.\u001b[0m\n",
            "\u001b[32m[I 2022-04-13 03:31:19,170]\u001b[0m Trial 42 finished with value: 0.9400000000000001 and parameters: {'max_depth': 6, 'n_estimators': 399, 'max_leaf_nodes': 2, 'min_samples_split': 19}. Best is trial 23 with value: 0.9595959595959597.\u001b[0m\n",
            "\u001b[32m[I 2022-04-13 03:31:20,826]\u001b[0m Trial 43 finished with value: 0.9547738693467336 and parameters: {'max_depth': 8, 'n_estimators': 376, 'max_leaf_nodes': 9, 'min_samples_split': 8}. Best is trial 23 with value: 0.9595959595959597.\u001b[0m\n",
            "\u001b[32m[I 2022-04-13 03:31:22,607]\u001b[0m Trial 44 finished with value: 0.9595959595959597 and parameters: {'max_depth': 9, 'n_estimators': 376, 'max_leaf_nodes': 10, 'min_samples_split': 7}. Best is trial 23 with value: 0.9595959595959597.\u001b[0m\n",
            "\u001b[32m[I 2022-04-13 03:31:24,690]\u001b[0m Trial 45 finished with value: 0.95 and parameters: {'max_depth': 9, 'n_estimators': 416, 'max_leaf_nodes': 10, 'min_samples_split': 2}. Best is trial 23 with value: 0.9595959595959597.\u001b[0m\n",
            "\u001b[32m[I 2022-04-13 03:31:26,695]\u001b[0m Trial 46 finished with value: 0.95 and parameters: {'max_depth': 9, 'n_estimators': 367, 'max_leaf_nodes': 13, 'min_samples_split': 7}. Best is trial 23 with value: 0.9595959595959597.\u001b[0m\n",
            "\u001b[32m[I 2022-04-13 03:31:28,267]\u001b[0m Trial 47 finished with value: 0.9547738693467336 and parameters: {'max_depth': 8, 'n_estimators': 384, 'max_leaf_nodes': 8, 'min_samples_split': 11}. Best is trial 23 with value: 0.9595959595959597.\u001b[0m\n",
            "\u001b[32m[I 2022-04-13 03:31:30,023]\u001b[0m Trial 48 finished with value: 0.95 and parameters: {'max_depth': 9, 'n_estimators': 335, 'max_leaf_nodes': 12, 'min_samples_split': 9}. Best is trial 23 with value: 0.9595959595959597.\u001b[0m\n",
            "\u001b[32m[I 2022-04-13 03:31:32,353]\u001b[0m Trial 49 finished with value: 0.95 and parameters: {'max_depth': 10, 'n_estimators': 381, 'max_leaf_nodes': 15, 'min_samples_split': 7}. Best is trial 23 with value: 0.9595959595959597.\u001b[0m\n",
            "\u001b[32m[I 2022-04-13 03:31:34,370]\u001b[0m Trial 50 finished with value: 0.9547738693467336 and parameters: {'max_depth': 8, 'n_estimators': 472, 'max_leaf_nodes': 9, 'min_samples_split': 12}. Best is trial 23 with value: 0.9595959595959597.\u001b[0m\n",
            "\u001b[32m[I 2022-04-13 03:31:36,316]\u001b[0m Trial 51 finished with value: 0.95 and parameters: {'max_depth': 8, 'n_estimators': 479, 'max_leaf_nodes': 8, 'min_samples_split': 12}. Best is trial 23 with value: 0.9595959595959597.\u001b[0m\n",
            "\u001b[32m[I 2022-04-13 03:31:37,880]\u001b[0m Trial 52 finished with value: 0.9543147208121827 and parameters: {'max_depth': 9, 'n_estimators': 426, 'max_leaf_nodes': 6, 'min_samples_split': 16}. Best is trial 23 with value: 0.9595959595959597.\u001b[0m\n",
            "\u001b[32m[I 2022-04-13 03:31:39,752]\u001b[0m Trial 53 finished with value: 0.9400000000000001 and parameters: {'max_depth': 5, 'n_estimators': 474, 'max_leaf_nodes': 10, 'min_samples_split': 12}. Best is trial 23 with value: 0.9595959595959597.\u001b[0m\n",
            "\u001b[32m[I 2022-04-13 03:31:41,350]\u001b[0m Trial 54 finished with value: 0.9400000000000001 and parameters: {'max_depth': 7, 'n_estimators': 439, 'max_leaf_nodes': 8, 'min_samples_split': 44}. Best is trial 23 with value: 0.9595959595959597.\u001b[0m\n",
            "\u001b[32m[I 2022-04-13 03:31:43,866]\u001b[0m Trial 55 finished with value: 0.95 and parameters: {'max_depth': 8, 'n_estimators': 487, 'max_leaf_nodes': 12, 'min_samples_split': 11}. Best is trial 23 with value: 0.9595959595959597.\u001b[0m\n",
            "\u001b[32m[I 2022-04-13 03:31:46,025]\u001b[0m Trial 56 finished with value: 0.9595959595959597 and parameters: {'max_depth': 9, 'n_estimators': 451, 'max_leaf_nodes': 10, 'min_samples_split': 6}. Best is trial 23 with value: 0.9595959595959597.\u001b[0m\n",
            "\u001b[32m[I 2022-04-13 03:31:46,577]\u001b[0m Trial 57 finished with value: 0.9543147208121827 and parameters: {'max_depth': 9, 'n_estimators': 145, 'max_leaf_nodes': 5, 'min_samples_split': 18}. Best is trial 23 with value: 0.9595959595959597.\u001b[0m\n",
            "\u001b[32m[I 2022-04-13 03:31:49,409]\u001b[0m Trial 58 finished with value: 0.9547738693467336 and parameters: {'max_depth': 10, 'n_estimators': 457, 'max_leaf_nodes': 15, 'min_samples_split': 5}. Best is trial 23 with value: 0.9595959595959597.\u001b[0m\n",
            "\u001b[32m[I 2022-04-13 03:31:51,417]\u001b[0m Trial 59 finished with value: 0.95 and parameters: {'max_depth': 9, 'n_estimators': 421, 'max_leaf_nodes': 10, 'min_samples_split': 7}. Best is trial 23 with value: 0.9595959595959597.\u001b[0m\n",
            "\u001b[32m[I 2022-04-13 03:31:54,067]\u001b[0m Trial 60 finished with value: 0.9547738693467336 and parameters: {'max_depth': 10, 'n_estimators': 450, 'max_leaf_nodes': 14, 'min_samples_split': 5}. Best is trial 23 with value: 0.9595959595959597.\u001b[0m\n",
            "\u001b[32m[I 2022-04-13 03:31:56,441]\u001b[0m Trial 61 finished with value: 0.9447236180904524 and parameters: {'max_depth': 10, 'n_estimators': 467, 'max_leaf_nodes': 12, 'min_samples_split': 14}. Best is trial 23 with value: 0.9595959595959597.\u001b[0m\n",
            "\u001b[32m[I 2022-04-13 03:31:58,620]\u001b[0m Trial 62 finished with value: 0.95 and parameters: {'max_depth': 10, 'n_estimators': 390, 'max_leaf_nodes': 13, 'min_samples_split': 5}. Best is trial 23 with value: 0.9595959595959597.\u001b[0m\n",
            "\u001b[32m[I 2022-04-13 03:31:59,689]\u001b[0m Trial 63 finished with value: 0.9494949494949494 and parameters: {'max_depth': 7, 'n_estimators': 372, 'max_leaf_nodes': 3, 'min_samples_split': 3}. Best is trial 23 with value: 0.9595959595959597.\u001b[0m\n",
            "\u001b[32m[I 2022-04-13 03:32:00,759]\u001b[0m Trial 64 finished with value: 0.95 and parameters: {'max_depth': 6, 'n_estimators': 309, 'max_leaf_nodes': 6, 'min_samples_split': 9}. Best is trial 23 with value: 0.9595959595959597.\u001b[0m\n",
            "\u001b[32m[I 2022-04-13 03:32:02,701]\u001b[0m Trial 65 finished with value: 0.95 and parameters: {'max_depth': 8, 'n_estimators': 489, 'max_leaf_nodes': 8, 'min_samples_split': 10}. Best is trial 23 with value: 0.9595959595959597.\u001b[0m\n",
            "\u001b[32m[I 2022-04-13 03:32:04,210]\u001b[0m Trial 66 finished with value: 0.9447236180904524 and parameters: {'max_depth': 8, 'n_estimators': 350, 'max_leaf_nodes': 10, 'min_samples_split': 27}. Best is trial 23 with value: 0.9595959595959597.\u001b[0m\n",
            "\u001b[32m[I 2022-04-13 03:32:06,069]\u001b[0m Trial 67 finished with value: 0.9547738693467336 and parameters: {'max_depth': 8, 'n_estimators': 385, 'max_leaf_nodes': 11, 'min_samples_split': 8}. Best is trial 23 with value: 0.9595959595959597.\u001b[0m\n",
            "\u001b[32m[I 2022-04-13 03:32:08,839]\u001b[0m Trial 68 finished with value: 0.95 and parameters: {'max_depth': 10, 'n_estimators': 451, 'max_leaf_nodes': 15, 'min_samples_split': 6}. Best is trial 23 with value: 0.9595959595959597.\u001b[0m\n",
            "\u001b[32m[I 2022-04-13 03:32:11,265]\u001b[0m Trial 69 finished with value: 0.9447236180904524 and parameters: {'max_depth': 10, 'n_estimators': 445, 'max_leaf_nodes': 16, 'min_samples_split': 33}. Best is trial 23 with value: 0.9595959595959597.\u001b[0m\n",
            "\u001b[32m[I 2022-04-13 03:32:12,053]\u001b[0m Trial 70 finished with value: 0.9547738693467336 and parameters: {'max_depth': 7, 'n_estimators': 267, 'max_leaf_nodes': 3, 'min_samples_split': 3}. Best is trial 23 with value: 0.9595959595959597.\u001b[0m\n",
            "\u001b[32m[I 2022-04-13 03:32:12,789]\u001b[0m Trial 71 finished with value: 0.9547738693467336 and parameters: {'max_depth': 7, 'n_estimators': 247, 'max_leaf_nodes': 3, 'min_samples_split': 3}. Best is trial 23 with value: 0.9595959595959597.\u001b[0m\n",
            "\u001b[32m[I 2022-04-13 03:32:13,569]\u001b[0m Trial 72 finished with value: 0.9547738693467336 and parameters: {'max_depth': 7, 'n_estimators': 258, 'max_leaf_nodes': 3, 'min_samples_split': 2}. Best is trial 23 with value: 0.9595959595959597.\u001b[0m\n",
            "\u001b[32m[I 2022-04-13 03:32:14,888]\u001b[0m Trial 73 finished with value: 0.95 and parameters: {'max_depth': 9, 'n_estimators': 215, 'max_leaf_nodes': 14, 'min_samples_split': 5}. Best is trial 23 with value: 0.9595959595959597.\u001b[0m\n",
            "\u001b[32m[I 2022-04-13 03:32:15,856]\u001b[0m Trial 74 finished with value: 0.9543147208121827 and parameters: {'max_depth': 8, 'n_estimators': 272, 'max_leaf_nodes': 5, 'min_samples_split': 8}. Best is trial 23 with value: 0.9595959595959597.\u001b[0m\n",
            "\u001b[32m[I 2022-04-13 03:32:17,558]\u001b[0m Trial 75 finished with value: 0.9447236180904524 and parameters: {'max_depth': 8, 'n_estimators': 406, 'max_leaf_nodes': 9, 'min_samples_split': 15}. Best is trial 23 with value: 0.9595959595959597.\u001b[0m\n",
            "\u001b[32m[I 2022-04-13 03:32:19,228]\u001b[0m Trial 76 finished with value: 0.8952380952380952 and parameters: {'max_depth': 2, 'n_estimators': 453, 'max_leaf_nodes': 19, 'min_samples_split': 6}. Best is trial 23 with value: 0.9595959595959597.\u001b[0m\n",
            "\u001b[32m[I 2022-04-13 03:32:21,679]\u001b[0m Trial 77 finished with value: 0.9547738693467336 and parameters: {'max_depth': 9, 'n_estimators': 439, 'max_leaf_nodes': 14, 'min_samples_split': 11}. Best is trial 23 with value: 0.9595959595959597.\u001b[0m\n",
            "\u001b[32m[I 2022-04-13 03:32:23,791]\u001b[0m Trial 78 finished with value: 0.95 and parameters: {'max_depth': 9, 'n_estimators': 411, 'max_leaf_nodes': 12, 'min_samples_split': 11}. Best is trial 23 with value: 0.9595959595959597.\u001b[0m\n",
            "\u001b[32m[I 2022-04-13 03:32:26,247]\u001b[0m Trial 79 finished with value: 0.95 and parameters: {'max_depth': 10, 'n_estimators': 392, 'max_leaf_nodes': 15, 'min_samples_split': 5}. Best is trial 23 with value: 0.9595959595959597.\u001b[0m\n",
            "\u001b[32m[I 2022-04-13 03:32:28,470]\u001b[0m Trial 80 finished with value: 0.9595959595959597 and parameters: {'max_depth': 10, 'n_estimators': 359, 'max_leaf_nodes': 16, 'min_samples_split': 9}. Best is trial 23 with value: 0.9595959595959597.\u001b[0m\n",
            "\u001b[32m[I 2022-04-13 03:32:31,471]\u001b[0m Trial 81 finished with value: 0.964467005076142 and parameters: {'max_depth': 10, 'n_estimators': 466, 'max_leaf_nodes': 16, 'min_samples_split': 4}. Best is trial 81 with value: 0.964467005076142.\u001b[0m\n",
            "\u001b[32m[I 2022-04-13 03:32:33,314]\u001b[0m Trial 82 finished with value: 0.95 and parameters: {'max_depth': 9, 'n_estimators': 262, 'max_leaf_nodes': 18, 'min_samples_split': 2}. Best is trial 81 with value: 0.964467005076142.\u001b[0m\n",
            "\u001b[32m[I 2022-04-13 03:32:36,133]\u001b[0m Trial 83 finished with value: 0.9547738693467336 and parameters: {'max_depth': 10, 'n_estimators': 433, 'max_leaf_nodes': 17, 'min_samples_split': 9}. Best is trial 81 with value: 0.964467005076142.\u001b[0m\n",
            "\u001b[32m[I 2022-04-13 03:32:38,958]\u001b[0m Trial 84 finished with value: 0.95 and parameters: {'max_depth': 10, 'n_estimators': 466, 'max_leaf_nodes': 16, 'min_samples_split': 12}. Best is trial 81 with value: 0.964467005076142.\u001b[0m\n",
            "\u001b[32m[I 2022-04-13 03:32:40,737]\u001b[0m Trial 85 finished with value: 0.9405940594059405 and parameters: {'max_depth': 4, 'n_estimators': 469, 'max_leaf_nodes': 11, 'min_samples_split': 8}. Best is trial 81 with value: 0.964467005076142.\u001b[0m\n",
            "\u001b[32m[I 2022-04-13 03:32:41,427]\u001b[0m Trial 86 finished with value: 0.9547738693467336 and parameters: {'max_depth': 7, 'n_estimators': 228, 'max_leaf_nodes': 3, 'min_samples_split': 3}. Best is trial 81 with value: 0.964467005076142.\u001b[0m\n",
            "\u001b[32m[I 2022-04-13 03:32:42,780]\u001b[0m Trial 87 finished with value: 0.9543147208121827 and parameters: {'max_depth': 9, 'n_estimators': 357, 'max_leaf_nodes': 7, 'min_samples_split': 22}. Best is trial 81 with value: 0.964467005076142.\u001b[0m\n",
            "\u001b[32m[I 2022-04-13 03:32:45,650]\u001b[0m Trial 88 finished with value: 0.95 and parameters: {'max_depth': 9, 'n_estimators': 368, 'max_leaf_nodes': 22, 'min_samples_split': 4}. Best is trial 81 with value: 0.964467005076142.\u001b[0m\n",
            "\u001b[32m[I 2022-04-13 03:32:48,018]\u001b[0m Trial 89 finished with value: 0.9400000000000001 and parameters: {'max_depth': 8, 'n_estimators': 345, 'max_leaf_nodes': 21, 'min_samples_split': 17}. Best is trial 81 with value: 0.964467005076142.\u001b[0m\n",
            "\u001b[32m[I 2022-04-13 03:32:49,828]\u001b[0m Trial 90 finished with value: 0.9547738693467336 and parameters: {'max_depth': 8, 'n_estimators': 398, 'max_leaf_nodes': 9, 'min_samples_split': 6}. Best is trial 81 with value: 0.964467005076142.\u001b[0m\n",
            "\u001b[32m[I 2022-04-13 03:32:51,558]\u001b[0m Trial 91 finished with value: 0.9494949494949494 and parameters: {'max_depth': 8, 'n_estimators': 401, 'max_leaf_nodes': 9, 'min_samples_split': 13}. Best is trial 81 with value: 0.964467005076142.\u001b[0m\n",
            "\u001b[32m[I 2022-04-13 03:32:53,772]\u001b[0m Trial 92 finished with value: 0.9595959595959597 and parameters: {'max_depth': 10, 'n_estimators': 333, 'max_leaf_nodes': 17, 'min_samples_split': 7}. Best is trial 81 with value: 0.964467005076142.\u001b[0m\n",
            "\u001b[32m[I 2022-04-13 03:32:56,673]\u001b[0m Trial 93 finished with value: 0.95 and parameters: {'max_depth': 10, 'n_estimators': 435, 'max_leaf_nodes': 18, 'min_samples_split': 10}. Best is trial 81 with value: 0.964467005076142.\u001b[0m\n",
            "\u001b[32m[I 2022-04-13 03:32:58,829]\u001b[0m Trial 94 finished with value: 0.9547738693467336 and parameters: {'max_depth': 10, 'n_estimators': 325, 'max_leaf_nodes': 17, 'min_samples_split': 7}. Best is trial 81 with value: 0.964467005076142.\u001b[0m\n",
            "\u001b[32m[I 2022-04-13 03:33:00,177]\u001b[0m Trial 95 finished with value: 0.9595959595959597 and parameters: {'max_depth': 9, 'n_estimators': 375, 'max_leaf_nodes': 5, 'min_samples_split': 4}. Best is trial 81 with value: 0.964467005076142.\u001b[0m\n",
            "\u001b[32m[I 2022-04-13 03:33:01,087]\u001b[0m Trial 96 finished with value: 0.9547738693467336 and parameters: {'max_depth': 9, 'n_estimators': 335, 'max_leaf_nodes': 2, 'min_samples_split': 3}. Best is trial 81 with value: 0.964467005076142.\u001b[0m\n",
            "\u001b[32m[I 2022-04-13 03:33:04,262]\u001b[0m Trial 97 finished with value: 0.9547738693467336 and parameters: {'max_depth': 10, 'n_estimators': 499, 'max_leaf_nodes': 13, 'min_samples_split': 6}. Best is trial 81 with value: 0.964467005076142.\u001b[0m\n",
            "\u001b[32m[I 2022-04-13 03:33:06,922]\u001b[0m Trial 98 finished with value: 0.9547738693467336 and parameters: {'max_depth': 9, 'n_estimators': 313, 'max_leaf_nodes': 26, 'min_samples_split': 8}. Best is trial 81 with value: 0.964467005076142.\u001b[0m\n",
            "\u001b[32m[I 2022-04-13 03:33:09,488]\u001b[0m Trial 99 finished with value: 0.95 and parameters: {'max_depth': 10, 'n_estimators': 358, 'max_leaf_nodes': 19, 'min_samples_split': 6}. Best is trial 81 with value: 0.964467005076142.\u001b[0m\n"
          ]
        }
      ]
    },
    {
      "cell_type": "code",
      "source": [
        "'''\n",
        "Trial 30 finished with value: 0.964467005076142\n",
        "{'max_depth': 10,\n",
        " 'max_leaf_nodes': 5,\n",
        " 'min_samples_split': 4,\n",
        " 'n_estimators': 316}\n",
        "\n",
        " '''\n",
        "\n",
        "study.best_params"
      ],
      "metadata": {
        "id": "jGdEnWwbWwCB",
        "colab": {
          "base_uri": "https://localhost:8080/"
        },
        "outputId": "f5123ae8-033f-469e-d21c-d85a998e1d78"
      },
      "execution_count": 15,
      "outputs": [
        {
          "output_type": "execute_result",
          "data": {
            "text/plain": [
              "{'max_depth': 10,\n",
              " 'max_leaf_nodes': 16,\n",
              " 'min_samples_split': 4,\n",
              " 'n_estimators': 466}"
            ]
          },
          "metadata": {},
          "execution_count": 15
        }
      ]
    },
    {
      "cell_type": "code",
      "source": [
        "best_params = study.best_params\n",
        "model = RandomForestClassifier(\n",
        "        random_state=42,        \n",
        "        **best_params\n",
        "    )\n",
        "pipeline = Pipeline(steps=[('sampling', oversample),\n",
        "                    ('classifier', model)])\n",
        "\n",
        "pipeline.fit(x_train_tf, y_train)\n",
        "preds_test = model.predict(x_test_tf)\n",
        "f1score = f1_score(y_test, preds_test)\n",
        "from sklearn.metrics import classification_report\n",
        "print(classification_report(y_test, preds_test))"
      ],
      "metadata": {
        "colab": {
          "base_uri": "https://localhost:8080/"
        },
        "id": "VgLfY2pz4rkS",
        "outputId": "6509c580-bf9b-4cc7-d178-36997f6a9aeb"
      },
      "execution_count": 16,
      "outputs": [
        {
          "output_type": "stream",
          "name": "stdout",
          "text": [
            "              precision    recall  f1-score   support\n",
            "\n",
            "           0       1.00      0.97      0.98       225\n",
            "           1       0.95      0.99      0.97       113\n",
            "\n",
            "    accuracy                           0.98       338\n",
            "   macro avg       0.97      0.98      0.98       338\n",
            "weighted avg       0.98      0.98      0.98       338\n",
            "\n"
          ]
        }
      ]
    },
    {
      "cell_type": "code",
      "source": [
        "from sklearn.metrics import classification_report\n",
        "print(classification_report(y_test, preds_test))"
      ],
      "metadata": {
        "colab": {
          "base_uri": "https://localhost:8080/"
        },
        "id": "KpbHjihc4rcL",
        "outputId": "92be0ad0-6b5c-47fa-9d3c-0c0239e97300"
      },
      "execution_count": 17,
      "outputs": [
        {
          "output_type": "stream",
          "name": "stdout",
          "text": [
            "              precision    recall  f1-score   support\n",
            "\n",
            "           0       1.00      0.97      0.98       225\n",
            "           1       0.95      0.99      0.97       113\n",
            "\n",
            "    accuracy                           0.98       338\n",
            "   macro avg       0.97      0.98      0.98       338\n",
            "weighted avg       0.98      0.98      0.98       338\n",
            "\n"
          ]
        }
      ]
    },
    {
      "cell_type": "code",
      "source": [
        ""
      ],
      "metadata": {
        "id": "3ycKZjuY4rSz"
      },
      "execution_count": 17,
      "outputs": []
    },
    {
      "cell_type": "markdown",
      "source": [
        "# Pipepline 2, handle category value"
      ],
      "metadata": {
        "id": "JQzBPtFISiX7"
      }
    },
    {
      "cell_type": "code",
      "source": [
        "# cat_label_cols = ['CST_PERF_ST', 'CST_MKT_SEG']\n",
        "cat_ordinal_transformer = Pipeline(steps=[\n",
        "    ('imputer', SimpleImputer(strategy='constant', fill_value=0)),\n",
        "    ('encoder', OrdinalEncoder() \n",
        "    )])\n",
        "\n",
        "# cat_onehot_cols = [f for f in cat_cols if f not in cat_label_cols]\n",
        "cat_onehot_transformer = Pipeline(steps=[\n",
        "    ('imputer', SimpleImputer(strategy='constant', fill_value='missing_val')),\n",
        "    ('encoder', OneHotEncoder(handle_unknown = 'ignore', sparse=False) \n",
        "    )])\n",
        "\n",
        "preprocessor = ColumnTransformer(\n",
        "    transformers=[\n",
        "                  ('num', numeric_transformer, num_cols), \n",
        "                  ('cat_label', cat_ordinal_transformer, object_cols)\n",
        "                  #('cat_onehot', cat_onehot_transformer, ['CLOSE_RSN','CHIP_YN']) # ['CLOSE_RSN', 'COMM_FREQ']\n",
        "                 ], remainder='drop')"
      ],
      "metadata": {
        "id": "ABGOdv15Sho3"
      },
      "execution_count": 18,
      "outputs": []
    },
    {
      "cell_type": "code",
      "source": [
        "preprocessor.fit(x_train)\n",
        "\n",
        "x_train_tf = pd.DataFrame(preprocessor.transform(x_train), columns = get_feature_names(preprocessor)) \n",
        "x_val_tf = pd.DataFrame(preprocessor.transform(x_val), columns = get_feature_names(preprocessor)) \n",
        "x_test_tf = pd.DataFrame(preprocessor.transform(x_test), columns = get_feature_names(preprocessor)) "
      ],
      "metadata": {
        "colab": {
          "base_uri": "https://localhost:8080/"
        },
        "id": "xB1j8u23Mw6t",
        "outputId": "34277cd5-1fdc-481f-e134-5ae2ed80e9a5"
      },
      "execution_count": 24,
      "outputs": [
        {
          "output_type": "stream",
          "name": "stderr",
          "text": [
            "/usr/local/lib/python3.7/dist-packages/ipykernel_launcher.py:34: UserWarning: Transformer num (type Pipeline) does not provide get_feature_names. Will return input column names if available\n",
            "/usr/local/lib/python3.7/dist-packages/ipykernel_launcher.py:34: UserWarning: Transformer cat_label (type Pipeline) does not provide get_feature_names. Will return input column names if available\n",
            "/usr/local/lib/python3.7/dist-packages/ipykernel_launcher.py:34: UserWarning: Transformer num (type Pipeline) does not provide get_feature_names. Will return input column names if available\n",
            "/usr/local/lib/python3.7/dist-packages/ipykernel_launcher.py:34: UserWarning: Transformer cat_label (type Pipeline) does not provide get_feature_names. Will return input column names if available\n",
            "/usr/local/lib/python3.7/dist-packages/ipykernel_launcher.py:34: UserWarning: Transformer num (type Pipeline) does not provide get_feature_names. Will return input column names if available\n",
            "/usr/local/lib/python3.7/dist-packages/ipykernel_launcher.py:34: UserWarning: Transformer cat_label (type Pipeline) does not provide get_feature_names. Will return input column names if available\n"
          ]
        }
      ]
    },
    {
      "cell_type": "code",
      "source": [
        "def run(trial):\n",
        "    max_depth = trial.suggest_int('max_depth', 1, 10)    \n",
        "    n_estimators =  trial.suggest_int('n_estimators', 100, 500)\n",
        "    max_features = trial.suggest_int('max_leaf_nodes', 2, 30)    \n",
        "    min_samples_split = trial.suggest_int('min_samples_split', 2, 50) \n",
        "    min_samples_leaf = trial.suggest_int('min_samples_split', 2, 50)\n",
        "\n",
        "    model = RandomForestClassifier(\n",
        "        random_state=42,        \n",
        "        n_estimators=n_estimators,\n",
        "        max_depth=max_depth,\n",
        "        max_features = max_features,\n",
        "        min_samples_split = min_samples_split,\n",
        "        min_samples_leaf = min_samples_leaf\n",
        "    )\n",
        "    pipeline = Pipeline(steps=[('sampling', oversample),\n",
        "                      ('classifier', model)])\n",
        "    \n",
        "    pipeline.fit(x_train_tf, y_train)\n",
        "    preds_val = model.predict(x_val_tf)\n",
        "    score = f1_score(y_val, preds_val)\n",
        "    return score"
      ],
      "metadata": {
        "id": "c9tZTwDUSs4Y"
      },
      "execution_count": 20,
      "outputs": []
    },
    {
      "cell_type": "code",
      "source": [
        "study = optuna.create_study(direction=\"maximize\")\n",
        "study.optimize(run, n_trials=100)"
      ],
      "metadata": {
        "colab": {
          "base_uri": "https://localhost:8080/"
        },
        "id": "2oPWxijzSwPn",
        "outputId": "1d46accd-eb3f-4a8a-a557-6af1be95674c"
      },
      "execution_count": 21,
      "outputs": [
        {
          "output_type": "stream",
          "name": "stderr",
          "text": [
            "\u001b[32m[I 2022-04-13 03:33:11,477]\u001b[0m A new study created in memory with name: no-name-9a32d5ed-297a-4120-a5f7-57584bdea400\u001b[0m\n",
            "\u001b[32m[I 2022-04-13 03:33:12,107]\u001b[0m Trial 0 finished with value: 0.9547738693467336 and parameters: {'max_depth': 8, 'n_estimators': 134, 'max_leaf_nodes': 9, 'min_samples_split': 13}. Best is trial 0 with value: 0.9547738693467336.\u001b[0m\n",
            "\u001b[32m[I 2022-04-13 03:33:14,840]\u001b[0m Trial 1 finished with value: 0.9447236180904524 and parameters: {'max_depth': 7, 'n_estimators': 487, 'max_leaf_nodes': 18, 'min_samples_split': 24}. Best is trial 0 with value: 0.9547738693467336.\u001b[0m\n",
            "\u001b[32m[I 2022-04-13 03:33:15,446]\u001b[0m Trial 2 finished with value: 0.9447236180904524 and parameters: {'max_depth': 10, 'n_estimators': 143, 'max_leaf_nodes': 9, 'min_samples_split': 44}. Best is trial 0 with value: 0.9547738693467336.\u001b[0m\n",
            "\u001b[32m[I 2022-04-13 03:33:15,908]\u001b[0m Trial 3 finished with value: 0.9082125603864734 and parameters: {'max_depth': 2, 'n_estimators': 119, 'max_leaf_nodes': 16, 'min_samples_split': 9}. Best is trial 0 with value: 0.9547738693467336.\u001b[0m\n",
            "\u001b[32m[I 2022-04-13 03:33:17,461]\u001b[0m Trial 4 finished with value: 0.9082125603864734 and parameters: {'max_depth': 3, 'n_estimators': 297, 'max_leaf_nodes': 28, 'min_samples_split': 44}. Best is trial 0 with value: 0.9547738693467336.\u001b[0m\n",
            "\u001b[32m[I 2022-04-13 03:33:18,519]\u001b[0m Trial 5 finished with value: 0.8533333333333333 and parameters: {'max_depth': 1, 'n_estimators': 401, 'max_leaf_nodes': 14, 'min_samples_split': 10}. Best is trial 0 with value: 0.9547738693467336.\u001b[0m\n",
            "\u001b[32m[I 2022-04-13 03:33:19,354]\u001b[0m Trial 6 finished with value: 0.7804878048780487 and parameters: {'max_depth': 1, 'n_estimators': 255, 'max_leaf_nodes': 27, 'min_samples_split': 35}. Best is trial 0 with value: 0.9547738693467336.\u001b[0m\n",
            "\u001b[32m[I 2022-04-13 03:33:19,938]\u001b[0m Trial 7 finished with value: 0.945273631840796 and parameters: {'max_depth': 4, 'n_estimators': 103, 'max_leaf_nodes': 19, 'min_samples_split': 6}. Best is trial 0 with value: 0.9547738693467336.\u001b[0m\n",
            "\u001b[32m[I 2022-04-13 03:33:20,552]\u001b[0m Trial 8 finished with value: 0.9047619047619048 and parameters: {'max_depth': 2, 'n_estimators': 199, 'max_leaf_nodes': 10, 'min_samples_split': 19}. Best is trial 0 with value: 0.9547738693467336.\u001b[0m\n",
            "\u001b[32m[I 2022-04-13 03:33:23,664]\u001b[0m Trial 9 finished with value: 0.9447236180904524 and parameters: {'max_depth': 7, 'n_estimators': 486, 'max_leaf_nodes': 25, 'min_samples_split': 45}. Best is trial 0 with value: 0.9547738693467336.\u001b[0m\n",
            "\u001b[32m[I 2022-04-13 03:33:24,567]\u001b[0m Trial 10 finished with value: 0.9400000000000001 and parameters: {'max_depth': 10, 'n_estimators': 365, 'max_leaf_nodes': 2, 'min_samples_split': 18}. Best is trial 0 with value: 0.9547738693467336.\u001b[0m\n",
            "\u001b[32m[I 2022-04-13 03:33:25,703]\u001b[0m Trial 11 finished with value: 0.95 and parameters: {'max_depth': 5, 'n_estimators': 182, 'max_leaf_nodes': 21, 'min_samples_split': 2}. Best is trial 0 with value: 0.9547738693467336.\u001b[0m\n",
            "\u001b[32m[I 2022-04-13 03:33:27,063]\u001b[0m Trial 12 finished with value: 0.95 and parameters: {'max_depth': 6, 'n_estimators': 202, 'max_leaf_nodes': 22, 'min_samples_split': 4}. Best is trial 0 with value: 0.9547738693467336.\u001b[0m\n",
            "\u001b[32m[I 2022-04-13 03:33:28,084]\u001b[0m Trial 13 finished with value: 0.9494949494949494 and parameters: {'max_depth': 8, 'n_estimators': 189, 'max_leaf_nodes': 4, 'min_samples_split': 14}. Best is trial 0 with value: 0.9547738693467336.\u001b[0m\n",
            "\u001b[32m[I 2022-04-13 03:33:29,105]\u001b[0m Trial 14 finished with value: 0.945273631840796 and parameters: {'max_depth': 5, 'n_estimators': 253, 'max_leaf_nodes': 10, 'min_samples_split': 2}. Best is trial 0 with value: 0.9547738693467336.\u001b[0m\n",
            "\u001b[32m[I 2022-04-13 03:33:29,711]\u001b[0m Trial 15 finished with value: 0.9494949494949494 and parameters: {'max_depth': 8, 'n_estimators': 166, 'max_leaf_nodes': 6, 'min_samples_split': 31}. Best is trial 0 with value: 0.9547738693467336.\u001b[0m\n",
            "\u001b[32m[I 2022-04-13 03:33:30,789]\u001b[0m Trial 16 finished with value: 0.95 and parameters: {'max_depth': 5, 'n_estimators': 237, 'max_leaf_nodes': 13, 'min_samples_split': 14}. Best is trial 0 with value: 0.9547738693467336.\u001b[0m\n",
            "\u001b[32m[I 2022-04-13 03:33:32,840]\u001b[0m Trial 17 finished with value: 0.9447236180904524 and parameters: {'max_depth': 7, 'n_estimators': 315, 'max_leaf_nodes': 23, 'min_samples_split': 23}. Best is trial 0 with value: 0.9547738693467336.\u001b[0m\n",
            "\u001b[32m[I 2022-04-13 03:33:33,468]\u001b[0m Trial 18 finished with value: 0.9494949494949494 and parameters: {'max_depth': 9, 'n_estimators': 143, 'max_leaf_nodes': 7, 'min_samples_split': 7}. Best is trial 0 with value: 0.9547738693467336.\u001b[0m\n",
            "\u001b[32m[I 2022-04-13 03:33:34,525]\u001b[0m Trial 19 finished with value: 0.9405940594059405 and parameters: {'max_depth': 4, 'n_estimators': 243, 'max_leaf_nodes': 14, 'min_samples_split': 16}. Best is trial 0 with value: 0.9547738693467336.\u001b[0m\n",
            "\u001b[32m[I 2022-04-13 03:33:35,984]\u001b[0m Trial 20 finished with value: 0.9447236180904524 and parameters: {'max_depth': 6, 'n_estimators': 324, 'max_leaf_nodes': 13, 'min_samples_split': 30}. Best is trial 0 with value: 0.9547738693467336.\u001b[0m\n",
            "\u001b[32m[I 2022-04-13 03:33:37,234]\u001b[0m Trial 21 finished with value: 0.95 and parameters: {'max_depth': 6, 'n_estimators': 224, 'max_leaf_nodes': 17, 'min_samples_split': 12}. Best is trial 0 with value: 0.9547738693467336.\u001b[0m\n",
            "\u001b[32m[I 2022-04-13 03:33:38,687]\u001b[0m Trial 22 finished with value: 0.9447236180904524 and parameters: {'max_depth': 8, 'n_estimators': 216, 'max_leaf_nodes': 21, 'min_samples_split': 20}. Best is trial 0 with value: 0.9547738693467336.\u001b[0m\n",
            "\u001b[32m[I 2022-04-13 03:33:39,415]\u001b[0m Trial 23 finished with value: 0.95 and parameters: {'max_depth': 6, 'n_estimators': 152, 'max_leaf_nodes': 11, 'min_samples_split': 5}. Best is trial 0 with value: 0.9547738693467336.\u001b[0m\n",
            "\u001b[32m[I 2022-04-13 03:33:40,736]\u001b[0m Trial 24 finished with value: 0.9405940594059405 and parameters: {'max_depth': 4, 'n_estimators': 279, 'max_leaf_nodes': 17, 'min_samples_split': 12}. Best is trial 0 with value: 0.9547738693467336.\u001b[0m\n",
            "\u001b[32m[I 2022-04-13 03:33:41,877]\u001b[0m Trial 25 finished with value: 0.9447236180904524 and parameters: {'max_depth': 9, 'n_estimators': 224, 'max_leaf_nodes': 12, 'min_samples_split': 13}. Best is trial 0 with value: 0.9547738693467336.\u001b[0m\n",
            "\u001b[32m[I 2022-04-13 03:33:42,453]\u001b[0m Trial 26 finished with value: 0.945273631840796 and parameters: {'max_depth': 6, 'n_estimators': 151, 'max_leaf_nodes': 7, 'min_samples_split': 8}. Best is trial 0 with value: 0.9547738693467336.\u001b[0m\n",
            "\u001b[32m[I 2022-04-13 03:33:43,112]\u001b[0m Trial 27 finished with value: 0.9447236180904524 and parameters: {'max_depth': 7, 'n_estimators': 138, 'max_leaf_nodes': 11, 'min_samples_split': 27}. Best is trial 0 with value: 0.9547738693467336.\u001b[0m\n",
            "\u001b[32m[I 2022-04-13 03:33:43,690]\u001b[0m Trial 28 finished with value: 0.9400000000000001 and parameters: {'max_depth': 9, 'n_estimators': 101, 'max_leaf_nodes': 15, 'min_samples_split': 39}. Best is trial 0 with value: 0.9547738693467336.\u001b[0m\n",
            "\u001b[32m[I 2022-04-13 03:33:44,649]\u001b[0m Trial 29 finished with value: 0.9447236180904524 and parameters: {'max_depth': 6, 'n_estimators': 170, 'max_leaf_nodes': 18, 'min_samples_split': 25}. Best is trial 0 with value: 0.9547738693467336.\u001b[0m\n",
            "\u001b[32m[I 2022-04-13 03:33:45,139]\u001b[0m Trial 30 finished with value: 0.9494949494949494 and parameters: {'max_depth': 8, 'n_estimators': 125, 'max_leaf_nodes': 5, 'min_samples_split': 11}. Best is trial 0 with value: 0.9547738693467336.\u001b[0m\n",
            "\u001b[32m[I 2022-04-13 03:33:45,986]\u001b[0m Trial 31 finished with value: 0.9353233830845771 and parameters: {'max_depth': 5, 'n_estimators': 227, 'max_leaf_nodes': 8, 'min_samples_split': 15}. Best is trial 0 with value: 0.9547738693467336.\u001b[0m\n",
            "\u001b[32m[I 2022-04-13 03:33:47,221]\u001b[0m Trial 32 finished with value: 0.9447236180904524 and parameters: {'max_depth': 7, 'n_estimators': 263, 'max_leaf_nodes': 12, 'min_samples_split': 21}. Best is trial 0 with value: 0.9547738693467336.\u001b[0m\n",
            "\u001b[32m[I 2022-04-13 03:33:48,565]\u001b[0m Trial 33 finished with value: 0.95 and parameters: {'max_depth': 6, 'n_estimators': 206, 'max_leaf_nodes': 20, 'min_samples_split': 5}. Best is trial 0 with value: 0.9547738693467336.\u001b[0m\n",
            "\u001b[32m[I 2022-04-13 03:33:49,827]\u001b[0m Trial 34 finished with value: 0.95 and parameters: {'max_depth': 7, 'n_estimators': 164, 'max_leaf_nodes': 24, 'min_samples_split': 4}. Best is trial 0 with value: 0.9547738693467336.\u001b[0m\n",
            "\u001b[32m[I 2022-04-13 03:33:50,546]\u001b[0m Trial 35 finished with value: 0.95 and parameters: {'max_depth': 6, 'n_estimators': 125, 'max_leaf_nodes': 16, 'min_samples_split': 9}. Best is trial 0 with value: 0.9547738693467336.\u001b[0m\n",
            "\u001b[32m[I 2022-04-13 03:33:51,704]\u001b[0m Trial 36 finished with value: 0.9134615384615384 and parameters: {'max_depth': 3, 'n_estimators': 200, 'max_leaf_nodes': 30, 'min_samples_split': 6}. Best is trial 0 with value: 0.9547738693467336.\u001b[0m\n",
            "\u001b[32m[I 2022-04-13 03:33:52,929]\u001b[0m Trial 37 finished with value: 0.95 and parameters: {'max_depth': 7, 'n_estimators': 157, 'max_leaf_nodes': 25, 'min_samples_split': 4}. Best is trial 0 with value: 0.9547738693467336.\u001b[0m\n",
            "\u001b[32m[I 2022-04-13 03:33:53,926]\u001b[0m Trial 38 finished with value: 0.95 and parameters: {'max_depth': 10, 'n_estimators': 121, 'max_leaf_nodes': 24, 'min_samples_split': 9}. Best is trial 0 with value: 0.9547738693467336.\u001b[0m\n",
            "\u001b[32m[I 2022-04-13 03:33:54,691]\u001b[0m Trial 39 finished with value: 0.9447236180904524 and parameters: {'max_depth': 8, 'n_estimators': 125, 'max_leaf_nodes': 20, 'min_samples_split': 49}. Best is trial 0 with value: 0.9547738693467336.\u001b[0m\n",
            "\u001b[32m[I 2022-04-13 03:33:58,458]\u001b[0m Trial 40 finished with value: 0.9447236180904524 and parameters: {'max_depth': 10, 'n_estimators': 468, 'max_leaf_nodes': 27, 'min_samples_split': 17}. Best is trial 0 with value: 0.9547738693467336.\u001b[0m\n",
            "\u001b[32m[I 2022-04-13 03:33:59,183]\u001b[0m Trial 41 finished with value: 0.945273631840796 and parameters: {'max_depth': 5, 'n_estimators': 183, 'max_leaf_nodes': 9, 'min_samples_split': 2}. Best is trial 0 with value: 0.9547738693467336.\u001b[0m\n",
            "\u001b[32m[I 2022-04-13 03:34:00,056]\u001b[0m Trial 42 finished with value: 0.9547738693467336 and parameters: {'max_depth': 7, 'n_estimators': 114, 'max_leaf_nodes': 24, 'min_samples_split': 9}. Best is trial 0 with value: 0.9547738693467336.\u001b[0m\n",
            "\u001b[32m[I 2022-04-13 03:34:00,932]\u001b[0m Trial 43 finished with value: 0.95 and parameters: {'max_depth': 9, 'n_estimators': 102, 'max_leaf_nodes': 25, 'min_samples_split': 10}. Best is trial 0 with value: 0.9547738693467336.\u001b[0m\n",
            "\u001b[32m[I 2022-04-13 03:34:02,048]\u001b[0m Trial 44 finished with value: 0.95 and parameters: {'max_depth': 10, 'n_estimators': 121, 'max_leaf_nodes': 27, 'min_samples_split': 9}. Best is trial 0 with value: 0.9547738693467336.\u001b[0m\n",
            "\u001b[32m[I 2022-04-13 03:34:03,140]\u001b[0m Trial 45 finished with value: 0.945273631840796 and parameters: {'max_depth': 7, 'n_estimators': 128, 'max_leaf_nodes': 29, 'min_samples_split': 8}. Best is trial 0 with value: 0.9547738693467336.\u001b[0m\n",
            "\u001b[32m[I 2022-04-13 03:34:03,741]\u001b[0m Trial 46 finished with value: 0.945273631840796 and parameters: {'max_depth': 5, 'n_estimators': 144, 'max_leaf_nodes': 10, 'min_samples_split': 14}. Best is trial 0 with value: 0.9547738693467336.\u001b[0m\n",
            "\u001b[32m[I 2022-04-13 03:34:04,660]\u001b[0m Trial 47 finished with value: 0.9547738693467336 and parameters: {'max_depth': 10, 'n_estimators': 100, 'max_leaf_nodes': 27, 'min_samples_split': 10}. Best is trial 0 with value: 0.9547738693467336.\u001b[0m\n",
            "\u001b[32m[I 2022-04-13 03:34:05,934]\u001b[0m Trial 48 finished with value: 0.95 and parameters: {'max_depth': 8, 'n_estimators': 175, 'max_leaf_nodes': 22, 'min_samples_split': 6}. Best is trial 0 with value: 0.9547738693467336.\u001b[0m\n",
            "\u001b[32m[I 2022-04-13 03:34:06,839]\u001b[0m Trial 49 finished with value: 0.9447236180904524 and parameters: {'max_depth': 9, 'n_estimators': 104, 'max_leaf_nodes': 26, 'min_samples_split': 11}. Best is trial 0 with value: 0.9547738693467336.\u001b[0m\n",
            "\u001b[32m[I 2022-04-13 03:34:08,176]\u001b[0m Trial 50 finished with value: 0.9547738693467336 and parameters: {'max_depth': 7, 'n_estimators': 158, 'max_leaf_nodes': 28, 'min_samples_split': 3}. Best is trial 0 with value: 0.9547738693467336.\u001b[0m\n",
            "\u001b[32m[I 2022-04-13 03:34:09,167]\u001b[0m Trial 51 finished with value: 0.9547738693467336 and parameters: {'max_depth': 9, 'n_estimators': 105, 'max_leaf_nodes': 28, 'min_samples_split': 4}. Best is trial 0 with value: 0.9547738693467336.\u001b[0m\n",
            "\u001b[32m[I 2022-04-13 03:34:10,535]\u001b[0m Trial 52 finished with value: 0.95 and parameters: {'max_depth': 9, 'n_estimators': 142, 'max_leaf_nodes': 29, 'min_samples_split': 3}. Best is trial 0 with value: 0.9547738693467336.\u001b[0m\n",
            "\u001b[32m[I 2022-04-13 03:34:12,080]\u001b[0m Trial 53 finished with value: 0.95 and parameters: {'max_depth': 8, 'n_estimators': 177, 'max_leaf_nodes': 28, 'min_samples_split': 7}. Best is trial 0 with value: 0.9547738693467336.\u001b[0m\n",
            "\u001b[32m[I 2022-04-13 03:34:12,982]\u001b[0m Trial 54 finished with value: 0.95 and parameters: {'max_depth': 8, 'n_estimators': 106, 'max_leaf_nodes': 26, 'min_samples_split': 6}. Best is trial 0 with value: 0.9547738693467336.\u001b[0m\n",
            "\u001b[32m[I 2022-04-13 03:34:14,179]\u001b[0m Trial 55 finished with value: 0.9547738693467336 and parameters: {'max_depth': 10, 'n_estimators': 113, 'max_leaf_nodes': 30, 'min_samples_split': 2}. Best is trial 0 with value: 0.9547738693467336.\u001b[0m\n",
            "\u001b[32m[I 2022-04-13 03:34:18,050]\u001b[0m Trial 56 finished with value: 0.9595959595959597 and parameters: {'max_depth': 10, 'n_estimators': 402, 'max_leaf_nodes': 29, 'min_samples_split': 2}. Best is trial 56 with value: 0.9595959595959597.\u001b[0m\n",
            "\u001b[32m[I 2022-04-13 03:34:22,082]\u001b[0m Trial 57 finished with value: 0.9547738693467336 and parameters: {'max_depth': 10, 'n_estimators': 402, 'max_leaf_nodes': 30, 'min_samples_split': 2}. Best is trial 56 with value: 0.9595959595959597.\u001b[0m\n",
            "\u001b[32m[I 2022-04-13 03:34:25,625]\u001b[0m Trial 58 finished with value: 0.95 and parameters: {'max_depth': 10, 'n_estimators': 382, 'max_leaf_nodes': 28, 'min_samples_split': 4}. Best is trial 56 with value: 0.9595959595959597.\u001b[0m\n",
            "\u001b[32m[I 2022-04-13 03:34:29,793]\u001b[0m Trial 59 finished with value: 0.9547738693467336 and parameters: {'max_depth': 9, 'n_estimators': 442, 'max_leaf_nodes': 30, 'min_samples_split': 2}. Best is trial 56 with value: 0.9595959595959597.\u001b[0m\n",
            "\u001b[32m[I 2022-04-13 03:34:33,244]\u001b[0m Trial 60 finished with value: 0.9547738693467336 and parameters: {'max_depth': 10, 'n_estimators': 357, 'max_leaf_nodes': 29, 'min_samples_split': 2}. Best is trial 56 with value: 0.9595959595959597.\u001b[0m\n",
            "\u001b[32m[I 2022-04-13 03:34:37,169]\u001b[0m Trial 61 finished with value: 0.9547738693467336 and parameters: {'max_depth': 10, 'n_estimators': 412, 'max_leaf_nodes': 30, 'min_samples_split': 4}. Best is trial 56 with value: 0.9595959595959597.\u001b[0m\n",
            "\u001b[32m[I 2022-04-13 03:34:41,339]\u001b[0m Trial 62 finished with value: 0.95 and parameters: {'max_depth': 9, 'n_estimators': 439, 'max_leaf_nodes': 30, 'min_samples_split': 2}. Best is trial 56 with value: 0.9595959595959597.\u001b[0m\n",
            "\u001b[32m[I 2022-04-13 03:34:42,375]\u001b[0m Trial 63 finished with value: 0.95 and parameters: {'max_depth': 9, 'n_estimators': 112, 'max_leaf_nodes': 28, 'min_samples_split': 6}. Best is trial 56 with value: 0.9595959595959597.\u001b[0m\n",
            "\u001b[32m[I 2022-04-13 03:34:45,238]\u001b[0m Trial 64 finished with value: 0.95 and parameters: {'max_depth': 10, 'n_estimators': 339, 'max_leaf_nodes': 26, 'min_samples_split': 8}. Best is trial 56 with value: 0.9595959595959597.\u001b[0m\n",
            "\u001b[32m[I 2022-04-13 03:34:45,676]\u001b[0m Trial 65 finished with value: 0.9494949494949494 and parameters: {'max_depth': 9, 'n_estimators': 133, 'max_leaf_nodes': 3, 'min_samples_split': 11}. Best is trial 56 with value: 0.9595959595959597.\u001b[0m\n",
            "\u001b[32m[I 2022-04-13 03:34:49,087]\u001b[0m Trial 66 finished with value: 0.95 and parameters: {'max_depth': 10, 'n_estimators': 385, 'max_leaf_nodes': 27, 'min_samples_split': 7}. Best is trial 56 with value: 0.9595959595959597.\u001b[0m\n",
            "\u001b[32m[I 2022-04-13 03:34:53,166]\u001b[0m Trial 67 finished with value: 0.9547738693467336 and parameters: {'max_depth': 10, 'n_estimators': 427, 'max_leaf_nodes': 29, 'min_samples_split': 2}. Best is trial 56 with value: 0.9595959595959597.\u001b[0m\n",
            "\u001b[32m[I 2022-04-13 03:34:57,296]\u001b[0m Trial 68 finished with value: 0.9595959595959597 and parameters: {'max_depth': 10, 'n_estimators': 417, 'max_leaf_nodes': 30, 'min_samples_split': 2}. Best is trial 56 with value: 0.9595959595959597.\u001b[0m\n",
            "\u001b[32m[I 2022-04-13 03:35:01,394]\u001b[0m Trial 69 finished with value: 0.95 and parameters: {'max_depth': 10, 'n_estimators': 412, 'max_leaf_nodes': 30, 'min_samples_split': 2}. Best is trial 56 with value: 0.9595959595959597.\u001b[0m\n",
            "\u001b[32m[I 2022-04-13 03:35:05,452]\u001b[0m Trial 70 finished with value: 0.9547738693467336 and parameters: {'max_depth': 10, 'n_estimators': 456, 'max_leaf_nodes': 27, 'min_samples_split': 5}. Best is trial 56 with value: 0.9595959595959597.\u001b[0m\n",
            "\u001b[32m[I 2022-04-13 03:35:09,445]\u001b[0m Trial 71 finished with value: 0.9547738693467336 and parameters: {'max_depth': 10, 'n_estimators': 420, 'max_leaf_nodes': 29, 'min_samples_split': 3}. Best is trial 56 with value: 0.9595959595959597.\u001b[0m\n",
            "\u001b[32m[I 2022-04-13 03:35:13,530]\u001b[0m Trial 72 finished with value: 0.9547738693467336 and parameters: {'max_depth': 10, 'n_estimators': 432, 'max_leaf_nodes': 29, 'min_samples_split': 4}. Best is trial 56 with value: 0.9595959595959597.\u001b[0m\n",
            "\u001b[32m[I 2022-04-13 03:35:17,701]\u001b[0m Trial 73 finished with value: 0.95 and parameters: {'max_depth': 9, 'n_estimators': 463, 'max_leaf_nodes': 29, 'min_samples_split': 5}. Best is trial 56 with value: 0.9595959595959597.\u001b[0m\n",
            "\u001b[32m[I 2022-04-13 03:35:21,380]\u001b[0m Trial 74 finished with value: 0.945273631840796 and parameters: {'max_depth': 8, 'n_estimators': 479, 'max_leaf_nodes': 26, 'min_samples_split': 13}. Best is trial 56 with value: 0.9595959595959597.\u001b[0m\n",
            "\u001b[32m[I 2022-04-13 03:35:24,767]\u001b[0m Trial 75 finished with value: 0.95 and parameters: {'max_depth': 9, 'n_estimators': 388, 'max_leaf_nodes': 28, 'min_samples_split': 7}. Best is trial 56 with value: 0.9595959595959597.\u001b[0m\n",
            "\u001b[32m[I 2022-04-13 03:35:25,169]\u001b[0m Trial 76 finished with value: 0.7804878048780487 and parameters: {'max_depth': 1, 'n_estimators': 112, 'max_leaf_nodes': 24, 'min_samples_split': 37}. Best is trial 56 with value: 0.9595959595959597.\u001b[0m\n",
            "\u001b[32m[I 2022-04-13 03:35:26,465]\u001b[0m Trial 77 finished with value: 0.9547738693467336 and parameters: {'max_depth': 7, 'n_estimators': 159, 'max_leaf_nodes': 28, 'min_samples_split': 10}. Best is trial 56 with value: 0.9595959595959597.\u001b[0m\n",
            "\u001b[32m[I 2022-04-13 03:35:30,443]\u001b[0m Trial 78 finished with value: 0.9547738693467336 and parameters: {'max_depth': 10, 'n_estimators': 424, 'max_leaf_nodes': 29, 'min_samples_split': 4}. Best is trial 56 with value: 0.9595959595959597.\u001b[0m\n",
            "\u001b[32m[I 2022-04-13 03:35:33,404]\u001b[0m Trial 79 finished with value: 0.9447236180904524 and parameters: {'max_depth': 9, 'n_estimators': 397, 'max_leaf_nodes': 27, 'min_samples_split': 28}. Best is trial 56 with value: 0.9595959595959597.\u001b[0m\n",
            "\u001b[32m[I 2022-04-13 03:35:37,906]\u001b[0m Trial 80 finished with value: 0.9595959595959597 and parameters: {'max_depth': 10, 'n_estimators': 449, 'max_leaf_nodes': 30, 'min_samples_split': 2}. Best is trial 56 with value: 0.9595959595959597.\u001b[0m\n",
            "\u001b[32m[I 2022-04-13 03:35:41,471]\u001b[0m Trial 81 finished with value: 0.9547738693467336 and parameters: {'max_depth': 10, 'n_estimators': 366, 'max_leaf_nodes': 30, 'min_samples_split': 3}. Best is trial 56 with value: 0.9595959595959597.\u001b[0m\n",
            "\u001b[32m[I 2022-04-13 03:35:45,737]\u001b[0m Trial 82 finished with value: 0.95 and parameters: {'max_depth': 9, 'n_estimators': 446, 'max_leaf_nodes': 30, 'min_samples_split': 3}. Best is trial 56 with value: 0.9595959595959597.\u001b[0m\n",
            "\u001b[32m[I 2022-04-13 03:35:48,514]\u001b[0m Trial 83 finished with value: 0.95 and parameters: {'max_depth': 8, 'n_estimators': 327, 'max_leaf_nodes': 28, 'min_samples_split': 6}. Best is trial 56 with value: 0.9595959595959597.\u001b[0m\n",
            "\u001b[32m[I 2022-04-13 03:35:49,492]\u001b[0m Trial 84 finished with value: 0.95 and parameters: {'max_depth': 9, 'n_estimators': 115, 'max_leaf_nodes': 25, 'min_samples_split': 9}. Best is trial 56 with value: 0.9595959595959597.\u001b[0m\n",
            "\u001b[32m[I 2022-04-13 03:35:54,400]\u001b[0m Trial 85 finished with value: 0.9547738693467336 and parameters: {'max_depth': 10, 'n_estimators': 494, 'max_leaf_nodes': 30, 'min_samples_split': 2}. Best is trial 56 with value: 0.9595959595959597.\u001b[0m\n",
            "\u001b[32m[I 2022-04-13 03:35:57,849]\u001b[0m Trial 86 finished with value: 0.95 and parameters: {'max_depth': 10, 'n_estimators': 358, 'max_leaf_nodes': 30, 'min_samples_split': 5}. Best is trial 56 with value: 0.9595959595959597.\u001b[0m\n",
            "\u001b[32m[I 2022-04-13 03:36:02,156]\u001b[0m Trial 87 finished with value: 0.9547738693467336 and parameters: {'max_depth': 10, 'n_estimators': 446, 'max_leaf_nodes': 29, 'min_samples_split': 2}. Best is trial 56 with value: 0.9595959595959597.\u001b[0m\n",
            "\u001b[32m[I 2022-04-13 03:36:06,390]\u001b[0m Trial 88 finished with value: 0.9547738693467336 and parameters: {'max_depth': 9, 'n_estimators': 472, 'max_leaf_nodes': 28, 'min_samples_split': 3}. Best is trial 56 with value: 0.9595959595959597.\u001b[0m\n",
            "\u001b[32m[I 2022-04-13 03:36:07,683]\u001b[0m Trial 89 finished with value: 0.8878504672897196 and parameters: {'max_depth': 2, 'n_estimators': 303, 'max_leaf_nodes': 26, 'min_samples_split': 5}. Best is trial 56 with value: 0.9595959595959597.\u001b[0m\n",
            "\u001b[32m[I 2022-04-13 03:36:11,565]\u001b[0m Trial 90 finished with value: 0.95 and parameters: {'max_depth': 8, 'n_estimators': 481, 'max_leaf_nodes': 27, 'min_samples_split': 7}. Best is trial 56 with value: 0.9595959595959597.\u001b[0m\n",
            "\u001b[32m[I 2022-04-13 03:36:15,338]\u001b[0m Trial 91 finished with value: 0.95 and parameters: {'max_depth': 9, 'n_estimators': 407, 'max_leaf_nodes': 30, 'min_samples_split': 3}. Best is trial 56 with value: 0.9595959595959597.\u001b[0m\n",
            "\u001b[32m[I 2022-04-13 03:36:18,756]\u001b[0m Trial 92 finished with value: 0.9447236180904524 and parameters: {'max_depth': 9, 'n_estimators': 454, 'max_leaf_nodes': 28, 'min_samples_split': 33}. Best is trial 56 with value: 0.9595959595959597.\u001b[0m\n",
            "\u001b[32m[I 2022-04-13 03:36:22,646]\u001b[0m Trial 93 finished with value: 0.95 and parameters: {'max_depth': 10, 'n_estimators': 418, 'max_leaf_nodes': 29, 'min_samples_split': 5}. Best is trial 56 with value: 0.9595959595959597.\u001b[0m\n",
            "\u001b[32m[I 2022-04-13 03:36:25,967]\u001b[0m Trial 94 finished with value: 0.9447236180904524 and parameters: {'max_depth': 10, 'n_estimators': 396, 'max_leaf_nodes': 30, 'min_samples_split': 22}. Best is trial 56 with value: 0.9595959595959597.\u001b[0m\n",
            "\u001b[32m[I 2022-04-13 03:36:29,565]\u001b[0m Trial 95 finished with value: 0.9595959595959597 and parameters: {'max_depth': 10, 'n_estimators': 367, 'max_leaf_nodes': 30, 'min_samples_split': 4}. Best is trial 56 with value: 0.9595959595959597.\u001b[0m\n",
            "\u001b[32m[I 2022-04-13 03:36:33,113]\u001b[0m Trial 96 finished with value: 0.9595959595959597 and parameters: {'max_depth': 10, 'n_estimators': 370, 'max_leaf_nodes': 30, 'min_samples_split': 4}. Best is trial 56 with value: 0.9595959595959597.\u001b[0m\n",
            "\u001b[32m[I 2022-04-13 03:36:37,719]\u001b[0m Trial 97 finished with value: 0.9547738693467336 and parameters: {'max_depth': 10, 'n_estimators': 492, 'max_leaf_nodes': 28, 'min_samples_split': 3}. Best is trial 56 with value: 0.9595959595959597.\u001b[0m\n",
            "\u001b[32m[I 2022-04-13 03:36:40,552]\u001b[0m Trial 98 finished with value: 0.9447236180904524 and parameters: {'max_depth': 10, 'n_estimators': 375, 'max_leaf_nodes': 30, 'min_samples_split': 42}. Best is trial 56 with value: 0.9595959595959597.\u001b[0m\n",
            "\u001b[32m[I 2022-04-13 03:36:44,449]\u001b[0m Trial 99 finished with value: 0.945273631840796 and parameters: {'max_depth': 10, 'n_estimators': 423, 'max_leaf_nodes': 29, 'min_samples_split': 8}. Best is trial 56 with value: 0.9595959595959597.\u001b[0m\n"
          ]
        }
      ]
    },
    {
      "cell_type": "code",
      "source": [
        "'''\n",
        "0.9595959595959597\n",
        "{'max_depth': 9,\n",
        " 'max_leaf_nodes': 11,\n",
        " 'min_samples_split': 10,\n",
        " 'n_estimators': 219}\n",
        "\n",
        "'''\n",
        "study.best_params"
      ],
      "metadata": {
        "colab": {
          "base_uri": "https://localhost:8080/"
        },
        "id": "A9FhVZE9Sx7A",
        "outputId": "6ee59be4-a81f-40ec-da1f-8dba68a6c383"
      },
      "execution_count": 22,
      "outputs": [
        {
          "output_type": "execute_result",
          "data": {
            "text/plain": [
              "{'max_depth': 10,\n",
              " 'max_leaf_nodes': 29,\n",
              " 'min_samples_split': 2,\n",
              " 'n_estimators': 402}"
            ]
          },
          "metadata": {},
          "execution_count": 22
        }
      ]
    },
    {
      "cell_type": "code",
      "source": [
        "best_params = study.best_params\n",
        "model = RandomForestClassifier(\n",
        "        random_state=42,        \n",
        "        **best_params\n",
        "    )\n",
        "pipeline = Pipeline(steps=[('sampling', oversample),\n",
        "                    ('classifier', model)])\n",
        "\n",
        "pipeline.fit(x_train_tf, y_train)\n",
        "preds_test = model.predict(x_test_tf)\n",
        "f1score = f1_score(y_test, preds_test)\n",
        "from sklearn.metrics import classification_report\n",
        "print(classification_report(y_test, preds_test))"
      ],
      "metadata": {
        "colab": {
          "base_uri": "https://localhost:8080/"
        },
        "id": "Xrf0SjQ28K4t",
        "outputId": "e8b8baba-e5f6-4507-fb84-e21c8b60aa69"
      },
      "execution_count": 25,
      "outputs": [
        {
          "output_type": "stream",
          "name": "stdout",
          "text": [
            "              precision    recall  f1-score   support\n",
            "\n",
            "           0       1.00      0.98      0.99       225\n",
            "           1       0.96      0.99      0.97       113\n",
            "\n",
            "    accuracy                           0.98       338\n",
            "   macro avg       0.98      0.98      0.98       338\n",
            "weighted avg       0.98      0.98      0.98       338\n",
            "\n"
          ]
        }
      ]
    },
    {
      "cell_type": "code",
      "source": [
        ""
      ],
      "metadata": {
        "id": "tptnLG5LAcR5"
      },
      "execution_count": null,
      "outputs": []
    }
  ]
}