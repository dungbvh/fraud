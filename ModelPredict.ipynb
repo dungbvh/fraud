{
  "nbformat": 4,
  "nbformat_minor": 0,
  "metadata": {
    "colab": {
      "name": "ModelPredict.ipynb",
      "provenance": [],
      "collapsed_sections": [
        "FxOkAP2dupw0",
        "oG6vGh1-umaE",
        "mx0mkqXOueTp"
      ]
    },
    "kernelspec": {
      "name": "python3",
      "display_name": "Python 3"
    },
    "language_info": {
      "name": "python"
    }
  },
  "cells": [
    {
      "cell_type": "markdown",
      "metadata": {
        "id": "FxOkAP2dupw0"
      },
      "source": [
        "# Install Lib"
      ]
    },
    {
      "cell_type": "code",
      "metadata": {
        "id": "scxm2V9wNNbh"
      },
      "source": [
        "from IPython.core.interactiveshell import InteractiveShell\n",
        "InteractiveShell.ast_node_interactivity = \"all\""
      ],
      "execution_count": null,
      "outputs": []
    },
    {
      "cell_type": "code",
      "metadata": {
        "id": "gn8Ohf22NVHB"
      },
      "source": [
        "import numpy as np\n",
        "import pandas as pd\n",
        "import matplotlib.pyplot as plt\n",
        "import seaborn as sns\n",
        "import scipy.stats as stats\n",
        "import pickle\n",
        "import random \n",
        "import joblib\n",
        "\n",
        "sns.set_style(\"darkgrid\")\n",
        "\n",
        "%load_ext autoreload\n",
        "%autoreload 2\n",
        "%matplotlib inline"
      ],
      "execution_count": null,
      "outputs": []
    },
    {
      "cell_type": "code",
      "metadata": {
        "id": "zbfeJnC8NYFO"
      },
      "source": [
        "%%capture\n",
        "from imblearn.over_sampling import RandomOverSampler\n",
        "from imblearn.over_sampling import SMOTE, ADASYN\n",
        "from imblearn.under_sampling import RandomUnderSampler\n",
        "from imblearn.pipeline import Pipeline \n",
        "\n",
        "from sklearn.model_selection import train_test_split\n",
        "from sklearn.compose import ColumnTransformer, make_column_selector\n",
        "from sklearn.impute import SimpleImputer\n",
        "\n",
        "from sklearn.linear_model import LogisticRegression\n",
        "from sklearn.tree import DecisionTreeClassifier\n",
        "from sklearn.decomposition import PCA\n",
        "from sklearn.dummy import DummyClassifier\n",
        "from sklearn.ensemble import RandomForestClassifier\n",
        "\n",
        "from collections import Counter\n",
        "\n",
        "\n",
        "from sklearn.metrics import accuracy_score\n",
        "from sklearn.metrics import confusion_matrix\n",
        "from sklearn.metrics import accuracy_score\n",
        "from sklearn.metrics import f1_score\n",
        "from sklearn.metrics import recall_score\n",
        "from sklearn.metrics import precision_score\n",
        "from sklearn.metrics import classification_report\n",
        "from sklearn.utils import resample\n",
        "\n",
        "# from scikitplot.metrics import plot_roc\n",
        "# from scikitplot.metrics import plot_precision_recall\n",
        "# from scikitplot.metrics import plot_cumulative_gain\n",
        "# from scikitplot.metrics import plot_lift_curve\n",
        "import warnings\n",
        "warnings.filterwarnings('ignore')"
      ],
      "execution_count": null,
      "outputs": []
    },
    {
      "cell_type": "code",
      "metadata": {
        "colab": {
          "base_uri": "https://localhost:8080/"
        },
        "id": "KLo6w2i9NabX",
        "outputId": "5fc81876-cd45-4ae2-f329-ab66ab7a56c5"
      },
      "source": [
        "from google.colab import drive\n",
        "drive.mount(\"/content/drive\")\n",
        "!ls \"/content/drive/My Drive/\""
      ],
      "execution_count": null,
      "outputs": [
        {
          "output_type": "stream",
          "name": "stdout",
          "text": [
            "Mounted at /content/drive\n",
            " ALL.gdoc  'Colab Notebooks'   handson-ml2-master   Torrent\n",
            " BIDV\t   'COMPUTER VISION'   KAGGLE\n",
            " BOOK\t    FASTAI\t      'Mo ta bang.gsheet'\n"
          ]
        }
      ]
    },
    {
      "cell_type": "markdown",
      "metadata": {
        "id": "oG6vGh1-umaE"
      },
      "source": [
        "# Check predict"
      ]
    },
    {
      "cell_type": "code",
      "metadata": {
        "id": "hzlkFGcuNeRo"
      },
      "source": [
        "def process_data_type(df):\n",
        "    #xy ly kieu du lieu la date\n",
        "    df[\"DAY_OPEN\"]=pd.to_datetime(df[\"DAY_OPEN\"])\n",
        "    df[\"DAY_CLOSE\"]=pd.to_datetime(df[\"DAY_CLOSE\"])\n",
        "    df[\"DAY_START\"] = pd.to_datetime(df[\"DAY_START\"])\n",
        "    df[\"DAY_SUBM\"] = pd.to_datetime(df[\"DAY_SUBM\"])\n",
        "\n",
        "    df[\"DAY_OPEN_YEAR\"]=df[\"DAY_OPEN\"].dt.year\n",
        "    df[\"DAY_OPEN_MONTH\"] = df[\"DAY_OPEN\"].dt.month\n",
        "    df[\"DAY_OPEN_DAY\"] = df[\"DAY_OPEN\"].dt.day\n",
        "\n",
        "    df[\"DAY_CLOSE_YEAR\"] = df[\"DAY_CLOSE\"].dt.year\n",
        "    df[\"DAY_CLOSE_MONTH\"] = df[\"DAY_CLOSE\"].dt.month\n",
        "    df[\"DAY_CLOSE_DAY\"] = df[\"DAY_CLOSE\"].dt.day\n",
        "\n",
        "    df[\"DAY_START_YEAR\"] = df[\"DAY_START\"].dt.year\n",
        "    df[\"DAY_START_MONTH\"] = df[\"DAY_START\"].dt.month\n",
        "    df[\"DAY_START_DAY\"] = df[\"DAY_START\"].dt.day\n",
        "\n",
        "    df[\"DAY_SUBM_YEAR\"] = df[\"DAY_SUBM\"].dt.year\n",
        "    df[\"DAY_SUBM_MONTH\"] = df[\"DAY_SUBM\"].dt.month\n",
        "    df[\"DAY_SUBM_DAY\"] = df[\"DAY_SUBM\"].dt.day\n",
        "\n",
        "\n",
        "\n",
        "    df = df.drop(\"DAY_CLOSE\",1)\n",
        "    df = df.drop(\"DAY_OPEN\",1)\n",
        "    df = df.drop(\"DAY_START\", 1)\n",
        "    df = df.drop(\"DAY_SUBM\", 1)\n",
        "\n",
        "    return df"
      ],
      "execution_count": null,
      "outputs": []
    },
    {
      "cell_type": "code",
      "metadata": {
        "id": "P1R9sBiAQcV-"
      },
      "source": [
        "loaded_model = joblib.load(r\"/content/drive/MyDrive/BIDV/CARD_FRAUD/model/finalized_model_06_20210716-101219.sav\")"
      ],
      "execution_count": null,
      "outputs": []
    },
    {
      "cell_type": "code",
      "metadata": {
        "id": "Rqniy-ZqO05c"
      },
      "source": [
        "# test du lieu 01/7-12/07\n",
        "#fraud_mids=pd.read_csv(r\"/content/drive/MyDrive/BIDV/CARD_FRAUD/data/test_real_data/FRAUD_07.csv\", error_bad_lines=False)\n",
        "#fraud_data=pd.read_csv(r\"/content/drive/MyDrive/BIDV/CARD_FRAUD/data/test_real_data/data_1207.csv\", error_bad_lines=False)\n",
        "\n",
        "# test du lieu 12/07-29/07\n",
        "fraud_mids=pd.read_csv(r\"/content/drive/MyDrive/BIDV/CARD_FRAUD/data/fraud_cf.csv\", error_bad_lines=False)\n",
        "\n",
        "features = pd.read_csv(r\"/content/drive/MyDrive/BIDV/CARD_FRAUD/data/trainning/feature_model_06_20210716-101219.csv\")\n",
        "num_features = pd.read_csv(r\"/content/drive/MyDrive/BIDV/CARD_FRAUD/data/trainning/num_feature_model_06_20210716-101219.csv\")"
      ],
      "execution_count": null,
      "outputs": []
    },
    {
      "cell_type": "code",
      "metadata": {
        "id": "LS4iEYIJGvhd",
        "colab": {
          "base_uri": "https://localhost:8080/"
        },
        "outputId": "0f5d4a13-a4df-4407-ab2a-c8b2a9c02e6e"
      },
      "source": [
        "# fraud_data=pd.read_csv(r\"/content/drive/MyDrive/BIDV/CARD_FRAUD/data_run/test_real_data/data_2807.csv\", error_bad_lines=False)\n",
        "fraud_data=pd.read_csv(r\"/content/drive/MyDrive/BIDV/CARD_FRAUD/data_run/data_2021_11_07.csv\", error_bad_lines=False)\n",
        "\n",
        "index_fraud_mids = fraud_data['MERCHANT'].isin(fraud_mids['MID'])\n",
        "index_fraud_mids.value_counts()\n",
        "df_check = fraud_data[index_fraud_mids]\n",
        "df_check['MERCH_FR'] = 1\n",
        "\n",
        "# df_test = process_data_type(df_check)\n",
        "df_test = process_data_type(fraud_data)\n",
        "# y_test = df_test['MERCH_FR']\n",
        "x_test = df_test[features.feature].copy()\n",
        "results = loaded_model.predict(x_test)\n",
        "sum(results)"
      ],
      "execution_count": null,
      "outputs": [
        {
          "output_type": "execute_result",
          "data": {
            "text/plain": [
              "False    58419\n",
              "True       938\n",
              "Name: MERCHANT, dtype: int64"
            ]
          },
          "metadata": {},
          "execution_count": 24
        },
        {
          "output_type": "execute_result",
          "data": {
            "text/plain": [
              "2671"
            ]
          },
          "metadata": {},
          "execution_count": 24
        }
      ]
    },
    {
      "cell_type": "code",
      "metadata": {
        "id": "jsX8oYaXWI52",
        "colab": {
          "base_uri": "https://localhost:8080/"
        },
        "outputId": "9ef6d40e-e701-473d-c6b5-65a24d9d8df9"
      },
      "source": [
        "fraud_data['MERCHANT_FR'] = results\n",
        "predict_fraud = fraud_data[fraud_data['MERCHANT_FR']==1]\n",
        "predict_fraud.shape"
      ],
      "execution_count": null,
      "outputs": [
        {
          "output_type": "execute_result",
          "data": {
            "text/plain": [
              "(2671, 400)"
            ]
          },
          "metadata": {},
          "execution_count": 25
        }
      ]
    },
    {
      "cell_type": "code",
      "metadata": {
        "colab": {
          "base_uri": "https://localhost:8080/"
        },
        "id": "qM0PH7gnXmWs",
        "outputId": "3441c557-2c7f-4535-8306-0a69325cfa92"
      },
      "source": [
        "index_fraud_mids = predict_fraud['MERCHANT'].isin(fraud_mids['MID'])\n",
        "index_fraud_mids.value_counts()"
      ],
      "execution_count": null,
      "outputs": [
        {
          "output_type": "execute_result",
          "data": {
            "text/plain": [
              "False    1745\n",
              "True      926\n",
              "Name: MERCHANT, dtype: int64"
            ]
          },
          "metadata": {},
          "execution_count": 26
        }
      ]
    },
    {
      "cell_type": "code",
      "metadata": {
        "id": "7sKEIGefXrK-"
      },
      "source": [
        "df_remove_old = predict_fraud[index_fraud_mids==False]\n",
        "df_export = df_remove_old[(df_remove_old['DS_HNAY'] > 150000000) | (df_remove_old['GTGDTB_HNAY'] > 10000000)]\n",
        "\n",
        "output = pd.DataFrame({'Merchant': df_export.MERCHANT, \n",
        "                       'SLGD_HNAY': df_export.SLGD_HNAY,\n",
        "                       'DS_HNAY': df_export.DS_HNAY,\n",
        "                       'GTGDTB_HNAY': df_export.GTGDTB_HNAY,\n",
        "                       'FRAUD': df_export.MERCHANT_FR})\n",
        "output.to_csv('/content/drive/MyDrive/BIDV/CARD_FRAUD/output_run/results_0711.csv', index=False)"
      ],
      "execution_count": null,
      "outputs": []
    },
    {
      "cell_type": "code",
      "metadata": {
        "colab": {
          "base_uri": "https://localhost:8080/"
        },
        "id": "78Lmepilqk_b",
        "outputId": "3b31add3-178f-4002-9fff-b1e6bb034b82"
      },
      "source": [
        "df_export.shape"
      ],
      "execution_count": null,
      "outputs": [
        {
          "output_type": "execute_result",
          "data": {
            "text/plain": [
              "(266, 400)"
            ]
          },
          "metadata": {},
          "execution_count": 16
        }
      ]
    },
    {
      "cell_type": "code",
      "metadata": {
        "id": "3cYtPO9X2GdV"
      },
      "source": [
        "fraud_data_rule = fraud_data[fraud_data['DS_HNAY'] > 150000000 and fraud_data['DS_HNAY'] > 150000000]"
      ],
      "execution_count": null,
      "outputs": []
    },
    {
      "cell_type": "code",
      "metadata": {
        "colab": {
          "base_uri": "https://localhost:8080/"
        },
        "id": "e6licmLyUSGl",
        "outputId": "59e93c9f-b8b3-437b-d021-ea707eebf667"
      },
      "source": [
        "df_remove_old.CST_TOT_CST_CR_AMT_TDY_LCY"
      ],
      "execution_count": null,
      "outputs": [
        {
          "output_type": "execute_result",
          "data": {
            "text/plain": [
              "2               0.0\n",
              "117             0.0\n",
              "163      83175000.0\n",
              "185             0.0\n",
              "274             0.0\n",
              "            ...    \n",
              "58707           0.0\n",
              "58720    29000000.0\n",
              "58758    50000000.0\n",
              "58808           0.0\n",
              "58842           0.0\n",
              "Name: CST_TOT_CST_CR_AMT_TDY_LCY, Length: 2286, dtype: float64"
            ]
          },
          "metadata": {},
          "execution_count": 26
        }
      ]
    },
    {
      "cell_type": "code",
      "metadata": {
        "colab": {
          "base_uri": "https://localhost:8080/"
        },
        "collapsed": true,
        "id": "OsMW53MnUK7p",
        "outputId": "c9e56561-bf37-4d89-fb0f-01797af4da62"
      },
      "source": [
        "print(classification_report(y_test, results))"
      ],
      "execution_count": null,
      "outputs": [
        {
          "output_type": "stream",
          "text": [
            "              precision    recall  f1-score   support\n",
            "\n",
            "           0       0.00      0.00      0.00         0\n",
            "           1       1.00      0.94      0.97       216\n",
            "\n",
            "    accuracy                           0.94       216\n",
            "   macro avg       0.50      0.47      0.48       216\n",
            "weighted avg       1.00      0.94      0.97       216\n",
            "\n"
          ],
          "name": "stdout"
        }
      ]
    },
    {
      "cell_type": "code",
      "metadata": {
        "colab": {
          "base_uri": "https://localhost:8080/",
          "height": 252
        },
        "id": "o0iGelupUK6e",
        "outputId": "59eea61c-98d4-4e3d-fa44-a18664bf15ce"
      },
      "source": [
        "x_test.head()"
      ],
      "execution_count": null,
      "outputs": [
        {
          "output_type": "execute_result",
          "data": {
            "text/html": [
              "<div>\n",
              "<style scoped>\n",
              "    .dataframe tbody tr th:only-of-type {\n",
              "        vertical-align: middle;\n",
              "    }\n",
              "\n",
              "    .dataframe tbody tr th {\n",
              "        vertical-align: top;\n",
              "    }\n",
              "\n",
              "    .dataframe thead th {\n",
              "        text-align: right;\n",
              "    }\n",
              "</style>\n",
              "<table border=\"1\" class=\"dataframe\">\n",
              "  <thead>\n",
              "    <tr style=\"text-align: right;\">\n",
              "      <th></th>\n",
              "      <th>MER_TYPE</th>\n",
              "      <th>BRANCH</th>\n",
              "      <th>CURR_NUM</th>\n",
              "      <th>DAY_REINSTATED</th>\n",
              "      <th>DAYS_AVGE</th>\n",
              "      <th>FL_LIM1</th>\n",
              "      <th>FL_LIM2</th>\n",
              "      <th>FL_LIM3</th>\n",
              "      <th>FL_LIM4</th>\n",
              "      <th>GROSS_SALE</th>\n",
              "      <th>HO_RATE</th>\n",
              "      <th>LAST_V_DAY</th>\n",
              "      <th>LAST_VOUCH</th>\n",
              "      <th>LST_COM_DY</th>\n",
              "      <th>LST_DEP_DY</th>\n",
              "      <th>LST_PAY_DY</th>\n",
              "      <th>MP_IND</th>\n",
              "      <th>PAY_METHOD</th>\n",
              "      <th>PAYMT_DAYS</th>\n",
              "      <th>PRV_DEP_DY</th>\n",
              "      <th>TERM_FEE</th>\n",
              "      <th>TRAN_AVGE</th>\n",
              "      <th>VOUCH_USED</th>\n",
              "      <th>WEEK_COUNT</th>\n",
              "      <th>WEEKLY_DAY</th>\n",
              "      <th>NUM_OF_TERM</th>\n",
              "      <th>AVG_LBY_BAL_AMT_2YR_AGO</th>\n",
              "      <th>AVG_LBY_BAL_AMT_3YR_AGO</th>\n",
              "      <th>AVG_LBY_BAL_AMT_LAST_YR</th>\n",
              "      <th>TOT_NET_INCM_2YR_AGO</th>\n",
              "      <th>TOT_NET_INCM_3YR_AGO</th>\n",
              "      <th>TOT_NET_INCM_LAST_YR</th>\n",
              "      <th>MRCH_FCT_NBR_OF_TXN_YTD</th>\n",
              "      <th>MRCH_FCT_TXN_CR_AMT_YTD_LCY</th>\n",
              "      <th>MRCH_FCT_TXN_DB_AMT_YTD_LCY</th>\n",
              "      <th>MRCH_FCT_AGRT_BAL_AMT_YTD_FCY</th>\n",
              "      <th>MRCH_FCT_NBR_OF_DYS_YTD</th>\n",
              "      <th>MRCH_FCT_NBR_OF_NEW_POS_YTD</th>\n",
              "      <th>MRCH_FCT_NBR_OF_CLS_POS_YTD</th>\n",
              "      <th>MRCH_FCT_NBR_OF_ACTV_POS</th>\n",
              "      <th>...</th>\n",
              "      <th>CST_TOT_LBY_ACR_PNY_INT_LTD_LCY</th>\n",
              "      <th>CST_AGRT_LBY_CLS_BAL_AMT_LYR_LCY</th>\n",
              "      <th>CST_NBR_OF_DAY_CIF</th>\n",
              "      <th>MSS_S</th>\n",
              "      <th>MSS_F</th>\n",
              "      <th>AVG_AMT</th>\n",
              "      <th>BIDV_ACCT_DEB</th>\n",
              "      <th>BIDV_ACCT_CRE</th>\n",
              "      <th>ISSUER_OTHER_TXN_NBR</th>\n",
              "      <th>HAS_TXN_LESS_15S</th>\n",
              "      <th>DAY_OPEN_YEAR</th>\n",
              "      <th>DAY_OPEN_MONTH</th>\n",
              "      <th>DAY_OPEN_DAY</th>\n",
              "      <th>DAY_CLOSE_YEAR</th>\n",
              "      <th>DAY_CLOSE_MONTH</th>\n",
              "      <th>DAY_CLOSE_DAY</th>\n",
              "      <th>DAY_START_YEAR</th>\n",
              "      <th>DAY_START_MONTH</th>\n",
              "      <th>DAY_START_DAY</th>\n",
              "      <th>DAY_SUBM_YEAR</th>\n",
              "      <th>DAY_SUBM_MONTH</th>\n",
              "      <th>DAY_SUBM_DAY</th>\n",
              "      <th>CLOSE_RSN</th>\n",
              "      <th>CHIP_YN</th>\n",
              "      <th>COMM_FREQ</th>\n",
              "      <th>ELEC_IND</th>\n",
              "      <th>HO_MMSFCD</th>\n",
              "      <th>LINK_TYPE</th>\n",
              "      <th>MERCH_GRP</th>\n",
              "      <th>REC_TYPE</th>\n",
              "      <th>IS_MERGE_CIF</th>\n",
              "      <th>CST_MKT_SEG</th>\n",
              "      <th>GND</th>\n",
              "      <th>CST_NATIONALITY</th>\n",
              "      <th>CST_TP</th>\n",
              "      <th>CST_DIMMAR_ST</th>\n",
              "      <th>INR_CR_RTG</th>\n",
              "      <th>CST_PERF_ST</th>\n",
              "      <th>IS_CST_FCT_MERG</th>\n",
              "      <th>LABEL_PREDICT</th>\n",
              "    </tr>\n",
              "  </thead>\n",
              "  <tbody>\n",
              "    <tr>\n",
              "      <th>86</th>\n",
              "      <td>5411</td>\n",
              "      <td>126</td>\n",
              "      <td>704</td>\n",
              "      <td>0</td>\n",
              "      <td>1</td>\n",
              "      <td>150</td>\n",
              "      <td>150</td>\n",
              "      <td>0</td>\n",
              "      <td>5000</td>\n",
              "      <td>3.321940e+08</td>\n",
              "      <td>0.0</td>\n",
              "      <td>0</td>\n",
              "      <td>0</td>\n",
              "      <td>23549</td>\n",
              "      <td>23549</td>\n",
              "      <td>23561</td>\n",
              "      <td>0</td>\n",
              "      <td>1</td>\n",
              "      <td>12</td>\n",
              "      <td>23549</td>\n",
              "      <td>0.0</td>\n",
              "      <td>15818762.0</td>\n",
              "      <td>526</td>\n",
              "      <td>4</td>\n",
              "      <td>23567</td>\n",
              "      <td>1.0</td>\n",
              "      <td>0.0</td>\n",
              "      <td>0.0</td>\n",
              "      <td>0.0</td>\n",
              "      <td>0.0</td>\n",
              "      <td>0.0</td>\n",
              "      <td>0.0</td>\n",
              "      <td>526</td>\n",
              "      <td>0.0</td>\n",
              "      <td>9.353809e+09</td>\n",
              "      <td>1.738526e+09</td>\n",
              "      <td>193</td>\n",
              "      <td>1</td>\n",
              "      <td>0</td>\n",
              "      <td>1</td>\n",
              "      <td>...</td>\n",
              "      <td>0.0</td>\n",
              "      <td>0.000000e+00</td>\n",
              "      <td>214</td>\n",
              "      <td>25578</td>\n",
              "      <td>2646</td>\n",
              "      <td>1.582909e+07</td>\n",
              "      <td>0</td>\n",
              "      <td>0</td>\n",
              "      <td>64</td>\n",
              "      <td>0</td>\n",
              "      <td>2021</td>\n",
              "      <td>3</td>\n",
              "      <td>4</td>\n",
              "      <td>2099</td>\n",
              "      <td>12</td>\n",
              "      <td>31</td>\n",
              "      <td>1970</td>\n",
              "      <td>1</td>\n",
              "      <td>1</td>\n",
              "      <td>1970</td>\n",
              "      <td>1</td>\n",
              "      <td>1</td>\n",
              "      <td>ACTIVE</td>\n",
              "      <td>1</td>\n",
              "      <td>D</td>\n",
              "      <td>1</td>\n",
              "      <td></td>\n",
              "      <td></td>\n",
              "      <td></td>\n",
              "      <td>I</td>\n",
              "      <td>Y</td>\n",
              "      <td>UNKNOWN</td>\n",
              "      <td>UNKNOWN</td>\n",
              "      <td>UNKNOWN</td>\n",
              "      <td>RB</td>\n",
              "      <td>UNKNOWN</td>\n",
              "      <td>UNKNOWN</td>\n",
              "      <td>UNKNOWN</td>\n",
              "      <td>Y</td>\n",
              "      <td>1</td>\n",
              "    </tr>\n",
              "    <tr>\n",
              "      <th>366</th>\n",
              "      <td>5411</td>\n",
              "      <td>216</td>\n",
              "      <td>704</td>\n",
              "      <td>0</td>\n",
              "      <td>1</td>\n",
              "      <td>150</td>\n",
              "      <td>150</td>\n",
              "      <td>0</td>\n",
              "      <td>5000</td>\n",
              "      <td>5.489039e+08</td>\n",
              "      <td>0.0</td>\n",
              "      <td>0</td>\n",
              "      <td>0</td>\n",
              "      <td>23569</td>\n",
              "      <td>23569</td>\n",
              "      <td>23569</td>\n",
              "      <td>0</td>\n",
              "      <td>1</td>\n",
              "      <td>0</td>\n",
              "      <td>23569</td>\n",
              "      <td>0.0</td>\n",
              "      <td>12618481.0</td>\n",
              "      <td>654</td>\n",
              "      <td>4</td>\n",
              "      <td>23567</td>\n",
              "      <td>1.0</td>\n",
              "      <td>0.0</td>\n",
              "      <td>0.0</td>\n",
              "      <td>0.0</td>\n",
              "      <td>0.0</td>\n",
              "      <td>0.0</td>\n",
              "      <td>0.0</td>\n",
              "      <td>650</td>\n",
              "      <td>0.0</td>\n",
              "      <td>9.945902e+09</td>\n",
              "      <td>1.582772e+08</td>\n",
              "      <td>193</td>\n",
              "      <td>1</td>\n",
              "      <td>0</td>\n",
              "      <td>1</td>\n",
              "      <td>...</td>\n",
              "      <td>0.0</td>\n",
              "      <td>0.000000e+00</td>\n",
              "      <td>118</td>\n",
              "      <td>69678</td>\n",
              "      <td>8379</td>\n",
              "      <td>1.452808e+07</td>\n",
              "      <td>0</td>\n",
              "      <td>3</td>\n",
              "      <td>174</td>\n",
              "      <td>0</td>\n",
              "      <td>2021</td>\n",
              "      <td>3</td>\n",
              "      <td>18</td>\n",
              "      <td>2099</td>\n",
              "      <td>12</td>\n",
              "      <td>31</td>\n",
              "      <td>1970</td>\n",
              "      <td>1</td>\n",
              "      <td>1</td>\n",
              "      <td>1970</td>\n",
              "      <td>1</td>\n",
              "      <td>1</td>\n",
              "      <td>ACTIVE</td>\n",
              "      <td>1</td>\n",
              "      <td>D</td>\n",
              "      <td>1</td>\n",
              "      <td></td>\n",
              "      <td></td>\n",
              "      <td></td>\n",
              "      <td>I</td>\n",
              "      <td>Y</td>\n",
              "      <td>UNKNOWN</td>\n",
              "      <td>UNKNOWN</td>\n",
              "      <td>UNKNOWN</td>\n",
              "      <td>RB</td>\n",
              "      <td>UNKNOWN</td>\n",
              "      <td>UNKNOWN</td>\n",
              "      <td>UNKNOWN</td>\n",
              "      <td>Y</td>\n",
              "      <td>1</td>\n",
              "    </tr>\n",
              "    <tr>\n",
              "      <th>436</th>\n",
              "      <td>5411</td>\n",
              "      <td>129</td>\n",
              "      <td>704</td>\n",
              "      <td>0</td>\n",
              "      <td>1</td>\n",
              "      <td>300</td>\n",
              "      <td>300</td>\n",
              "      <td>0</td>\n",
              "      <td>5000</td>\n",
              "      <td>2.443778e+08</td>\n",
              "      <td>0.0</td>\n",
              "      <td>0</td>\n",
              "      <td>0</td>\n",
              "      <td>23569</td>\n",
              "      <td>23569</td>\n",
              "      <td>23569</td>\n",
              "      <td>0</td>\n",
              "      <td>1</td>\n",
              "      <td>0</td>\n",
              "      <td>23569</td>\n",
              "      <td>0.0</td>\n",
              "      <td>18798288.0</td>\n",
              "      <td>1471</td>\n",
              "      <td>4</td>\n",
              "      <td>23567</td>\n",
              "      <td>1.0</td>\n",
              "      <td>0.0</td>\n",
              "      <td>0.0</td>\n",
              "      <td>0.0</td>\n",
              "      <td>0.0</td>\n",
              "      <td>0.0</td>\n",
              "      <td>0.0</td>\n",
              "      <td>582</td>\n",
              "      <td>0.0</td>\n",
              "      <td>1.119607e+10</td>\n",
              "      <td>9.009981e+08</td>\n",
              "      <td>193</td>\n",
              "      <td>0</td>\n",
              "      <td>0</td>\n",
              "      <td>1</td>\n",
              "      <td>...</td>\n",
              "      <td>0.0</td>\n",
              "      <td>1.276875e+10</td>\n",
              "      <td>474</td>\n",
              "      <td>31311</td>\n",
              "      <td>13671</td>\n",
              "      <td>2.235963e+07</td>\n",
              "      <td>0</td>\n",
              "      <td>0</td>\n",
              "      <td>102</td>\n",
              "      <td>0</td>\n",
              "      <td>2020</td>\n",
              "      <td>3</td>\n",
              "      <td>30</td>\n",
              "      <td>2099</td>\n",
              "      <td>12</td>\n",
              "      <td>31</td>\n",
              "      <td>1970</td>\n",
              "      <td>1</td>\n",
              "      <td>1</td>\n",
              "      <td>1970</td>\n",
              "      <td>1</td>\n",
              "      <td>1</td>\n",
              "      <td>ACTIVE</td>\n",
              "      <td>1</td>\n",
              "      <td>D</td>\n",
              "      <td>1</td>\n",
              "      <td></td>\n",
              "      <td></td>\n",
              "      <td></td>\n",
              "      <td>I</td>\n",
              "      <td>Y</td>\n",
              "      <td>UNKNOWN</td>\n",
              "      <td>UNKNOWN</td>\n",
              "      <td>UNKNOWN</td>\n",
              "      <td>RB</td>\n",
              "      <td>UNKNOWN</td>\n",
              "      <td>UNKNOWN</td>\n",
              "      <td>UNKNOWN</td>\n",
              "      <td>Y</td>\n",
              "      <td>1</td>\n",
              "    </tr>\n",
              "    <tr>\n",
              "      <th>521</th>\n",
              "      <td>5411</td>\n",
              "      <td>124</td>\n",
              "      <td>704</td>\n",
              "      <td>0</td>\n",
              "      <td>1</td>\n",
              "      <td>150</td>\n",
              "      <td>150</td>\n",
              "      <td>0</td>\n",
              "      <td>5000</td>\n",
              "      <td>5.000000e+03</td>\n",
              "      <td>0.0</td>\n",
              "      <td>0</td>\n",
              "      <td>0</td>\n",
              "      <td>23534</td>\n",
              "      <td>23534</td>\n",
              "      <td>23546</td>\n",
              "      <td>0</td>\n",
              "      <td>1</td>\n",
              "      <td>12</td>\n",
              "      <td>23534</td>\n",
              "      <td>0.0</td>\n",
              "      <td>20000.0</td>\n",
              "      <td>184</td>\n",
              "      <td>4</td>\n",
              "      <td>23567</td>\n",
              "      <td>3.0</td>\n",
              "      <td>0.0</td>\n",
              "      <td>0.0</td>\n",
              "      <td>0.0</td>\n",
              "      <td>0.0</td>\n",
              "      <td>0.0</td>\n",
              "      <td>0.0</td>\n",
              "      <td>184</td>\n",
              "      <td>0.0</td>\n",
              "      <td>5.998368e+09</td>\n",
              "      <td>3.183371e+08</td>\n",
              "      <td>193</td>\n",
              "      <td>3</td>\n",
              "      <td>3</td>\n",
              "      <td>0</td>\n",
              "      <td>...</td>\n",
              "      <td>0.0</td>\n",
              "      <td>0.000000e+00</td>\n",
              "      <td>160</td>\n",
              "      <td>0</td>\n",
              "      <td>0</td>\n",
              "      <td>0.000000e+00</td>\n",
              "      <td>0</td>\n",
              "      <td>0</td>\n",
              "      <td>0</td>\n",
              "      <td>0</td>\n",
              "      <td>2021</td>\n",
              "      <td>2</td>\n",
              "      <td>5</td>\n",
              "      <td>2021</td>\n",
              "      <td>6</td>\n",
              "      <td>23</td>\n",
              "      <td>1970</td>\n",
              "      <td>1</td>\n",
              "      <td>1</td>\n",
              "      <td>1970</td>\n",
              "      <td>1</td>\n",
              "      <td>1</td>\n",
              "      <td>S</td>\n",
              "      <td>1</td>\n",
              "      <td>D</td>\n",
              "      <td>1</td>\n",
              "      <td></td>\n",
              "      <td></td>\n",
              "      <td></td>\n",
              "      <td>I</td>\n",
              "      <td>Y</td>\n",
              "      <td>Phổ thông 1</td>\n",
              "      <td>Male</td>\n",
              "      <td>VIETNAM</td>\n",
              "      <td>RB</td>\n",
              "      <td>UNKNOWN</td>\n",
              "      <td>UNKNOWN</td>\n",
              "      <td>UNKNOWN</td>\n",
              "      <td>Y</td>\n",
              "      <td>1</td>\n",
              "    </tr>\n",
              "    <tr>\n",
              "      <th>1029</th>\n",
              "      <td>5411</td>\n",
              "      <td>126</td>\n",
              "      <td>704</td>\n",
              "      <td>0</td>\n",
              "      <td>1</td>\n",
              "      <td>5000</td>\n",
              "      <td>5000</td>\n",
              "      <td>0</td>\n",
              "      <td>5000</td>\n",
              "      <td>5.368574e+08</td>\n",
              "      <td>0.0</td>\n",
              "      <td>0</td>\n",
              "      <td>0</td>\n",
              "      <td>23569</td>\n",
              "      <td>23569</td>\n",
              "      <td>23569</td>\n",
              "      <td>0</td>\n",
              "      <td>1</td>\n",
              "      <td>0</td>\n",
              "      <td>23569</td>\n",
              "      <td>0.0</td>\n",
              "      <td>16392592.0</td>\n",
              "      <td>1472</td>\n",
              "      <td>4</td>\n",
              "      <td>23567</td>\n",
              "      <td>1.0</td>\n",
              "      <td>0.0</td>\n",
              "      <td>0.0</td>\n",
              "      <td>0.0</td>\n",
              "      <td>0.0</td>\n",
              "      <td>0.0</td>\n",
              "      <td>0.0</td>\n",
              "      <td>830</td>\n",
              "      <td>0.0</td>\n",
              "      <td>1.145022e+10</td>\n",
              "      <td>3.956510e+08</td>\n",
              "      <td>193</td>\n",
              "      <td>0</td>\n",
              "      <td>0</td>\n",
              "      <td>1</td>\n",
              "      <td>...</td>\n",
              "      <td>0.0</td>\n",
              "      <td>2.461007e+08</td>\n",
              "      <td>318</td>\n",
              "      <td>65268</td>\n",
              "      <td>4851</td>\n",
              "      <td>1.544893e+07</td>\n",
              "      <td>0</td>\n",
              "      <td>0</td>\n",
              "      <td>159</td>\n",
              "      <td>0</td>\n",
              "      <td>2020</td>\n",
              "      <td>8</td>\n",
              "      <td>31</td>\n",
              "      <td>2099</td>\n",
              "      <td>12</td>\n",
              "      <td>31</td>\n",
              "      <td>1970</td>\n",
              "      <td>1</td>\n",
              "      <td>1</td>\n",
              "      <td>1970</td>\n",
              "      <td>1</td>\n",
              "      <td>1</td>\n",
              "      <td>ACTIVE</td>\n",
              "      <td>1</td>\n",
              "      <td>D</td>\n",
              "      <td>1</td>\n",
              "      <td></td>\n",
              "      <td></td>\n",
              "      <td></td>\n",
              "      <td>I</td>\n",
              "      <td>Y</td>\n",
              "      <td>UNKNOWN</td>\n",
              "      <td>UNKNOWN</td>\n",
              "      <td>UNKNOWN</td>\n",
              "      <td>RB</td>\n",
              "      <td>UNKNOWN</td>\n",
              "      <td>UNKNOWN</td>\n",
              "      <td>UNKNOWN</td>\n",
              "      <td>Y</td>\n",
              "      <td>1</td>\n",
              "    </tr>\n",
              "  </tbody>\n",
              "</table>\n",
              "<p>5 rows × 286 columns</p>\n",
              "</div>"
            ],
            "text/plain": [
              "      MER_TYPE  BRANCH  CURR_NUM  ...  CST_PERF_ST  IS_CST_FCT_MERG  LABEL_PREDICT\n",
              "86        5411     126       704  ...      UNKNOWN                Y              1\n",
              "366       5411     216       704  ...      UNKNOWN                Y              1\n",
              "436       5411     129       704  ...      UNKNOWN                Y              1\n",
              "521       5411     124       704  ...      UNKNOWN                Y              1\n",
              "1029      5411     126       704  ...      UNKNOWN                Y              1\n",
              "\n",
              "[5 rows x 286 columns]"
            ]
          },
          "metadata": {
            "tags": []
          },
          "execution_count": 29
        }
      ]
    },
    {
      "cell_type": "code",
      "metadata": {
        "id": "h2etQP96U1M1"
      },
      "source": [
        "x_test['LABEL_PREDICT'] = results"
      ],
      "execution_count": null,
      "outputs": []
    },
    {
      "cell_type": "code",
      "metadata": {
        "id": "POarRVluXdaH"
      },
      "source": [
        "x_test.to_csv(r'/content/drive/MyDrive/BIDV/CARD_FRAUD/data/test_real_data/result_1207.csv')"
      ],
      "execution_count": null,
      "outputs": []
    },
    {
      "cell_type": "markdown",
      "metadata": {
        "id": "mx0mkqXOueTp"
      },
      "source": [
        "# Features Important"
      ]
    },
    {
      "cell_type": "code",
      "metadata": {
        "colab": {
          "base_uri": "https://localhost:8080/"
        },
        "collapsed": true,
        "id": "alFjBv_xbwHy",
        "outputId": "5424fee5-67a9-448c-b391-b7c904d2e457"
      },
      "source": [
        "loaded_model"
      ],
      "execution_count": null,
      "outputs": [
        {
          "output_type": "execute_result",
          "data": {
            "text/plain": [
              "Pipeline(memory=None,\n",
              "         steps=[('preprocessor',\n",
              "                 ColumnTransformer(n_jobs=None, remainder='drop',\n",
              "                                   sparse_threshold=0.3,\n",
              "                                   transformer_weights=None,\n",
              "                                   transformers=[('num',\n",
              "                                                  Pipeline(memory=None,\n",
              "                                                           steps=[('imputer',\n",
              "                                                                   SimpleImputer(add_indicator=False,\n",
              "                                                                                 copy=True,\n",
              "                                                                                 fill_value=None,\n",
              "                                                                                 missing_values=nan,\n",
              "                                                                                 strategy='constant',\n",
              "                                                                                 verbose=0)),\n",
              "                                                                  ('scaler',\n",
              "                                                                   StandardScaler(copy=True,\n",
              "                                                                                  with_me...\n",
              "                 RandomForestClassifier(bootstrap=False, ccp_alpha=0.0,\n",
              "                                        class_weight=None, criterion='gini',\n",
              "                                        max_depth=20, max_features='auto',\n",
              "                                        max_leaf_nodes=None, max_samples=None,\n",
              "                                        min_impurity_decrease=0.0,\n",
              "                                        min_impurity_split=None,\n",
              "                                        min_samples_leaf=2,\n",
              "                                        min_samples_split=10,\n",
              "                                        min_weight_fraction_leaf=0.0,\n",
              "                                        n_estimators=400, n_jobs=None,\n",
              "                                        oob_score=False, random_state=None,\n",
              "                                        verbose=0, warm_start=False))],\n",
              "         verbose=False)"
            ]
          },
          "metadata": {
            "tags": []
          },
          "execution_count": 13
        }
      ]
    },
    {
      "cell_type": "code",
      "metadata": {
        "id": "ta0H5wskb0Vp"
      },
      "source": [
        "model = loaded_model['classifier']\n",
        "importances = model.feature_importances_\n",
        "std = np.std([tree.feature_importances_ for tree in model.estimators_], axis=0)"
      ],
      "execution_count": null,
      "outputs": []
    },
    {
      "cell_type": "code",
      "metadata": {
        "colab": {
          "base_uri": "https://localhost:8080/"
        },
        "id": "TN0oSdD_h-yf",
        "outputId": "6950f184-89d5-4129-adb1-c6947aaabd96"
      },
      "source": [
        "len(features.feature) # = 285\n",
        "len(importances)  #= 268\n",
        "len(num_features.num_feature) #= 268"
      ],
      "execution_count": null,
      "outputs": [
        {
          "output_type": "execute_result",
          "data": {
            "text/plain": [
              "285"
            ]
          },
          "metadata": {
            "tags": []
          },
          "execution_count": 15
        },
        {
          "output_type": "execute_result",
          "data": {
            "text/plain": [
              "268"
            ]
          },
          "metadata": {
            "tags": []
          },
          "execution_count": 15
        },
        {
          "output_type": "execute_result",
          "data": {
            "text/plain": [
              "268"
            ]
          },
          "metadata": {
            "tags": []
          },
          "execution_count": 15
        }
      ]
    },
    {
      "cell_type": "code",
      "metadata": {
        "colab": {
          "base_uri": "https://localhost:8080/",
          "height": 282
        },
        "id": "TCeIvuOwh8Fs",
        "outputId": "1ae2af18-64ad-43e3-e3ae-8b46db02e6cb"
      },
      "source": [
        "sorted_idx = importances.argsort()\n",
        "plt.barh(num_features.num_feature[sorted_idx[-50:-1]], importances[sorted_idx[-50:-1]])"
      ],
      "execution_count": null,
      "outputs": [
        {
          "output_type": "execute_result",
          "data": {
            "text/plain": [
              "<BarContainer object of 49 artists>"
            ]
          },
          "metadata": {
            "tags": []
          },
          "execution_count": 16
        },
        {
          "output_type": "display_data",
          "data": {
            "image/png": "[encoded data removed]",
            "text/plain": [
              "<Figure size 432x288 with 1 Axes>"
            ]
          },
          "metadata": {
            "tags": [],
            "needs_background": "light"
          }
        }
      ]
    },
    {
      "cell_type": "code",
      "metadata": {
        "colab": {
          "base_uri": "https://localhost:8080/",
          "height": 354
        },
        "id": "XOTSe7bfhyr8",
        "outputId": "1904bc45-bcb7-4ecb-a131-415dcb053dd3"
      },
      "source": [
        "forest_importances = pd.Series(importances[sorted_idx[-25:-1]], index=num_features.num_feature[sorted_idx[-25:-1]])\n",
        "\n",
        "fig, ax = plt.subplots()\n",
        "forest_importances.plot.bar(yerr=std[sorted_idx[-25:-1]], ax=ax)\n",
        "ax.set_title(\"Feature importances using MDI\")\n",
        "ax.set_ylabel(\"Mean decrease in impurity\")\n",
        "fig.tight_layout()"
      ],
      "execution_count": null,
      "outputs": [
        {
          "output_type": "execute_result",
          "data": {
            "text/plain": [
              "<matplotlib.axes._subplots.AxesSubplot at 0x7fefd9bd6cd0>"
            ]
          },
          "metadata": {
            "tags": []
          },
          "execution_count": 17
        },
        {
          "output_type": "execute_result",
          "data": {
            "text/plain": [
              "Text(0.5, 1.0, 'Feature importances using MDI')"
            ]
          },
          "metadata": {
            "tags": []
          },
          "execution_count": 17
        },
        {
          "output_type": "execute_result",
          "data": {
            "text/plain": [
              "Text(0, 0.5, 'Mean decrease in impurity')"
            ]
          },
          "metadata": {
            "tags": []
          },
          "execution_count": 17
        },
        {
          "output_type": "display_data",
          "data": {
            "image/png": "[encoded data removed]",
            "text/plain": [
              "<Figure size 432x288 with 1 Axes>"
            ]
          },
          "metadata": {
            "tags": [],
            "needs_background": "light"
          }
        }
      ]
    },
    {
      "cell_type": "code",
      "metadata": {
        "id": "mqLbFVMLl7JP"
      },
      "source": [
        "list_75_important_features = num_features.num_feature[sorted_idx[-75:-1]]\n",
        "list_100_important_features = num_features.num_feature[sorted_idx[-100:-1]]\n",
        "list_120_important_features = num_features.num_feature[sorted_idx[-120:-1]]\n",
        "list_150_important_features = num_features.num_feature[sorted_idx[-150:-1]]"
      ],
      "execution_count": null,
      "outputs": []
    },
    {
      "cell_type": "code",
      "metadata": {
        "id": "xNRcBXEBmHd6"
      },
      "source": [
        "list_75_important_features.to_csv(r'/content/drive/MyDrive/BIDV/CARD_FRAUD/model/75_imp_feature_model_06_20210716-101219.csv', index=False)\n",
        "list_100_important_features.to_csv(r'/content/drive/MyDrive/BIDV/CARD_FRAUD/model/100_imp_feature_model_06_20210716-101219.csv', index=False)\n",
        "list_120_important_features.to_csv(r'/content/drive/MyDrive/BIDV/CARD_FRAUD/model/120_imp_feature_model_06_20210716-101219.csv', index=False)\n",
        "list_150_important_features.to_csv(r'/content/drive/MyDrive/BIDV/CARD_FRAUD/model/150_imp_feature_model_06_20210716-101219.csv', index=False)"
      ],
      "execution_count": null,
      "outputs": []
    },
    {
      "cell_type": "code",
      "metadata": {
        "colab": {
          "base_uri": "https://localhost:8080/",
          "height": 204
        },
        "id": "ZNVZYPiLrW3O",
        "outputId": "571be161-09a6-4b7a-b4a3-83804f9a6f0a"
      },
      "source": [
        "x = pd.read_csv(r'/content/drive/MyDrive/BIDV/CARD_FRAUD/model/50_imp_feature_model_06_20210716-101219.sav')\n",
        "x.head()"
      ],
      "execution_count": null,
      "outputs": [
        {
          "output_type": "execute_result",
          "data": {
            "text/html": [
              "<div>\n",
              "<style scoped>\n",
              "    .dataframe tbody tr th:only-of-type {\n",
              "        vertical-align: middle;\n",
              "    }\n",
              "\n",
              "    .dataframe tbody tr th {\n",
              "        vertical-align: top;\n",
              "    }\n",
              "\n",
              "    .dataframe thead th {\n",
              "        text-align: right;\n",
              "    }\n",
              "</style>\n",
              "<table border=\"1\" class=\"dataframe\">\n",
              "  <thead>\n",
              "    <tr style=\"text-align: right;\">\n",
              "      <th></th>\n",
              "      <th>num_feature</th>\n",
              "    </tr>\n",
              "  </thead>\n",
              "  <tbody>\n",
              "    <tr>\n",
              "      <th>0</th>\n",
              "      <td>CST_TOT_CA_CLS_BAL_AMT_YTD_LCY</td>\n",
              "    </tr>\n",
              "    <tr>\n",
              "      <th>1</th>\n",
              "      <td>CST_TOT_PASSIVE_TXN_DB_AMT_YTD_LCY</td>\n",
              "    </tr>\n",
              "    <tr>\n",
              "      <th>2</th>\n",
              "      <td>CST_AV_LBY_BAL_AMT_HTD_LCY</td>\n",
              "    </tr>\n",
              "    <tr>\n",
              "      <th>3</th>\n",
              "      <td>CST_AV_LBY_BAL_AMT_YTD_LCY</td>\n",
              "    </tr>\n",
              "    <tr>\n",
              "      <th>4</th>\n",
              "      <td>CST_TOT_INT_INCM_AMT_LTD_LCY</td>\n",
              "    </tr>\n",
              "  </tbody>\n",
              "</table>\n",
              "</div>"
            ],
            "text/plain": [
              "                          num_feature\n",
              "0      CST_TOT_CA_CLS_BAL_AMT_YTD_LCY\n",
              "1  CST_TOT_PASSIVE_TXN_DB_AMT_YTD_LCY\n",
              "2          CST_AV_LBY_BAL_AMT_HTD_LCY\n",
              "3          CST_AV_LBY_BAL_AMT_YTD_LCY\n",
              "4        CST_TOT_INT_INCM_AMT_LTD_LCY"
            ]
          },
          "metadata": {
            "tags": []
          },
          "execution_count": 20
        }
      ]
    },
    {
      "cell_type": "code",
      "metadata": {
        "id": "YjvlBlH5s1Nl"
      },
      "source": [
        ""
      ],
      "execution_count": null,
      "outputs": []
    }
  ]
}