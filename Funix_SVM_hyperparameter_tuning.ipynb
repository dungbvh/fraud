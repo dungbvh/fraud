{
  "cells": [
    {
      "cell_type": "code",
      "execution_count": 1,
      "metadata": {
        "colab": {
          "base_uri": "https://localhost:8080/"
        },
        "id": "uZe-v3UwPR7j",
        "outputId": "68a13aa6-f0ba-4e1e-9348-d387c1ef873a"
      },
      "outputs": [
        {
          "output_type": "stream",
          "name": "stdout",
          "text": [
            "Collecting optuna\n",
            "  Downloading optuna-2.10.0-py3-none-any.whl (308 kB)\n",
            "\u001b[K     |████████████████████████████████| 308 kB 5.2 MB/s \n",
            "\u001b[?25hCollecting catboost\n",
            "  Downloading catboost-1.0.5-cp37-none-manylinux1_x86_64.whl (76.6 MB)\n",
            "\u001b[K     |████████████████████████████████| 76.6 MB 46 kB/s \n",
            "\u001b[?25hCollecting colorlog\n",
            "  Downloading colorlog-6.6.0-py2.py3-none-any.whl (11 kB)\n",
            "Requirement already satisfied: packaging>=20.0 in /usr/local/lib/python3.7/dist-packages (from optuna) (21.3)\n",
            "Collecting alembic\n",
            "  Downloading alembic-1.7.7-py3-none-any.whl (210 kB)\n",
            "\u001b[K     |████████████████████████████████| 210 kB 36.7 MB/s \n",
            "\u001b[?25hCollecting cmaes>=0.8.2\n",
            "  Downloading cmaes-0.8.2-py3-none-any.whl (15 kB)\n",
            "Requirement already satisfied: PyYAML in /usr/local/lib/python3.7/dist-packages (from optuna) (3.13)\n",
            "Requirement already satisfied: tqdm in /usr/local/lib/python3.7/dist-packages (from optuna) (4.63.0)\n",
            "Requirement already satisfied: scipy!=1.4.0 in /usr/local/lib/python3.7/dist-packages (from optuna) (1.4.1)\n",
            "Requirement already satisfied: sqlalchemy>=1.1.0 in /usr/local/lib/python3.7/dist-packages (from optuna) (1.4.32)\n",
            "Requirement already satisfied: numpy in /usr/local/lib/python3.7/dist-packages (from optuna) (1.21.5)\n",
            "Collecting cliff\n",
            "  Downloading cliff-3.10.1-py3-none-any.whl (81 kB)\n",
            "\u001b[K     |████████████████████████████████| 81 kB 7.5 MB/s \n",
            "\u001b[?25hRequirement already satisfied: pyparsing!=3.0.5,>=2.0.2 in /usr/local/lib/python3.7/dist-packages (from packaging>=20.0->optuna) (3.0.7)\n",
            "Requirement already satisfied: importlib-metadata in /usr/local/lib/python3.7/dist-packages (from sqlalchemy>=1.1.0->optuna) (4.11.3)\n",
            "Requirement already satisfied: greenlet!=0.4.17 in /usr/local/lib/python3.7/dist-packages (from sqlalchemy>=1.1.0->optuna) (1.1.2)\n",
            "Requirement already satisfied: plotly in /usr/local/lib/python3.7/dist-packages (from catboost) (5.5.0)\n",
            "Requirement already satisfied: pandas>=0.24.0 in /usr/local/lib/python3.7/dist-packages (from catboost) (1.3.5)\n",
            "Requirement already satisfied: graphviz in /usr/local/lib/python3.7/dist-packages (from catboost) (0.10.1)\n",
            "Requirement already satisfied: six in /usr/local/lib/python3.7/dist-packages (from catboost) (1.15.0)\n",
            "Requirement already satisfied: matplotlib in /usr/local/lib/python3.7/dist-packages (from catboost) (3.2.2)\n",
            "Requirement already satisfied: python-dateutil>=2.7.3 in /usr/local/lib/python3.7/dist-packages (from pandas>=0.24.0->catboost) (2.8.2)\n",
            "Requirement already satisfied: pytz>=2017.3 in /usr/local/lib/python3.7/dist-packages (from pandas>=0.24.0->catboost) (2018.9)\n",
            "Requirement already satisfied: importlib-resources in /usr/local/lib/python3.7/dist-packages (from alembic->optuna) (5.4.0)\n",
            "Collecting Mako\n",
            "  Downloading Mako-1.2.0-py3-none-any.whl (78 kB)\n",
            "\u001b[K     |████████████████████████████████| 78 kB 5.6 MB/s \n",
            "\u001b[?25hCollecting cmd2>=1.0.0\n",
            "  Downloading cmd2-2.4.0-py3-none-any.whl (150 kB)\n",
            "\u001b[K     |████████████████████████████████| 150 kB 34.9 MB/s \n",
            "\u001b[?25hCollecting autopage>=0.4.0\n",
            "  Downloading autopage-0.5.0-py3-none-any.whl (29 kB)\n",
            "Collecting pbr!=2.1.0,>=2.0.0\n",
            "  Downloading pbr-5.8.1-py2.py3-none-any.whl (113 kB)\n",
            "\u001b[K     |████████████████████████████████| 113 kB 39.3 MB/s \n",
            "\u001b[?25hCollecting stevedore>=2.0.1\n",
            "  Downloading stevedore-3.5.0-py3-none-any.whl (49 kB)\n",
            "\u001b[K     |████████████████████████████████| 49 kB 4.2 MB/s \n",
            "\u001b[?25hRequirement already satisfied: PrettyTable>=0.7.2 in /usr/local/lib/python3.7/dist-packages (from cliff->optuna) (3.2.0)\n",
            "Requirement already satisfied: attrs>=16.3.0 in /usr/local/lib/python3.7/dist-packages (from cmd2>=1.0.0->cliff->optuna) (21.4.0)\n",
            "Requirement already satisfied: typing-extensions in /usr/local/lib/python3.7/dist-packages (from cmd2>=1.0.0->cliff->optuna) (3.10.0.2)\n",
            "Requirement already satisfied: wcwidth>=0.1.7 in /usr/local/lib/python3.7/dist-packages (from cmd2>=1.0.0->cliff->optuna) (0.2.5)\n",
            "Collecting pyperclip>=1.6\n",
            "  Downloading pyperclip-1.8.2.tar.gz (20 kB)\n",
            "Requirement already satisfied: zipp>=0.5 in /usr/local/lib/python3.7/dist-packages (from importlib-metadata->sqlalchemy>=1.1.0->optuna) (3.7.0)\n",
            "Requirement already satisfied: MarkupSafe>=0.9.2 in /usr/local/lib/python3.7/dist-packages (from Mako->alembic->optuna) (2.0.1)\n",
            "Requirement already satisfied: kiwisolver>=1.0.1 in /usr/local/lib/python3.7/dist-packages (from matplotlib->catboost) (1.4.0)\n",
            "Requirement already satisfied: cycler>=0.10 in /usr/local/lib/python3.7/dist-packages (from matplotlib->catboost) (0.11.0)\n",
            "Requirement already satisfied: tenacity>=6.2.0 in /usr/local/lib/python3.7/dist-packages (from plotly->catboost) (8.0.1)\n",
            "Building wheels for collected packages: pyperclip\n",
            "  Building wheel for pyperclip (setup.py) ... \u001b[?25l\u001b[?25hdone\n",
            "  Created wheel for pyperclip: filename=pyperclip-1.8.2-py3-none-any.whl size=11137 sha256=261317da1e315f429bcfe91ce0e27e4d94e9687874a377f9a6d11fd1b7737bd1\n",
            "  Stored in directory: /root/.cache/pip/wheels/9f/18/84/8f69f8b08169c7bae2dde6bd7daf0c19fca8c8e500ee620a28\n",
            "Successfully built pyperclip\n",
            "Installing collected packages: pyperclip, pbr, stevedore, Mako, cmd2, autopage, colorlog, cmaes, cliff, alembic, optuna, catboost\n",
            "Successfully installed Mako-1.2.0 alembic-1.7.7 autopage-0.5.0 catboost-1.0.5 cliff-3.10.1 cmaes-0.8.2 cmd2-2.4.0 colorlog-6.6.0 optuna-2.10.0 pbr-5.8.1 pyperclip-1.8.2 stevedore-3.5.0\n"
          ]
        }
      ],
      "source": [
        "!pip install optuna catboost"
      ]
    },
    {
      "cell_type": "code",
      "execution_count": 2,
      "metadata": {
        "id": "rqcxEf_3PbIQ"
      },
      "outputs": [],
      "source": [
        "import pandas as pd\n",
        "import numpy as np\n",
        "from sklearn import preprocessing\n",
        "import warnings\n",
        "from imblearn.over_sampling import RandomOverSampler\n",
        "from imblearn.over_sampling import SMOTE, ADASYN\n",
        "from imblearn.under_sampling import RandomUnderSampler\n",
        "from imblearn.pipeline import Pipeline \n",
        "\n",
        "from sklearn.model_selection import train_test_split\n",
        "from sklearn.compose import ColumnTransformer, make_column_selector\n",
        "from sklearn.impute import SimpleImputer\n",
        "\n",
        "from sklearn.tree import DecisionTreeClassifier\n",
        "from sklearn.decomposition import PCA\n",
        "from sklearn.ensemble import RandomForestClassifier\n",
        "\n",
        "from collections import Counter\n",
        "import sklearn\n",
        "from sklearn.metrics import accuracy_score\n",
        "from sklearn.metrics import confusion_matrix\n",
        "from sklearn.metrics import accuracy_score\n",
        "from sklearn.metrics import f1_score\n",
        "from sklearn.metrics import recall_score\n",
        "from sklearn.metrics import precision_score\n",
        "from sklearn.metrics import classification_report\n",
        "from sklearn.utils import resample\n",
        "from xgboost import XGBClassifier\n",
        "from catboost import CatBoostClassifier\n",
        "from sklearn.svm import SVC\n",
        "import optuna"
      ]
    },
    {
      "cell_type": "code",
      "execution_count": 3,
      "metadata": {
        "colab": {
          "base_uri": "https://localhost:8080/"
        },
        "id": "JD1kqutqPvJc",
        "outputId": "a2a0596a-7952-4622-93f6-25725cb1669b"
      },
      "outputs": [
        {
          "output_type": "stream",
          "name": "stdout",
          "text": [
            "Mounted at /content/drive\n"
          ]
        }
      ],
      "source": [
        "from google.colab import drive\n",
        "drive.mount(\"/content/drive\")"
      ]
    },
    {
      "cell_type": "code",
      "execution_count": 9,
      "metadata": {
        "id": "tCMm2FszP318"
      },
      "outputs": [],
      "source": [
        "train=pd.read_csv(r\"/content/drive/MyDrive/BIDV/CARD_FRAUD/data/trainning/funix_train.csv\")\n",
        "val=pd.read_csv(r\"/content/drive/MyDrive/BIDV/CARD_FRAUD/data/trainning/funix_val.csv\")\n",
        "test=pd.read_csv(r\"/content/drive/MyDrive/BIDV/CARD_FRAUD/data/trainning/funix_test.csv\")"
      ]
    },
    {
      "cell_type": "code",
      "execution_count": 10,
      "metadata": {
        "id": "A-BxeNo4XwBx"
      },
      "outputs": [],
      "source": [
        "MERCHANT_COLUMNS_PROPERTIES=pd.read_excel(r\"/content/drive/MyDrive/BIDV/CARD_FRAUD/data/column_description.xlsx\")\n",
        "def get_list_cat_columns():\n",
        "    feature_cad = MERCHANT_COLUMNS_PROPERTIES.copy()\n",
        "    feature_cad = feature_cad[(feature_cad[\"ORG_SOURCE\"].isin([\"CAD\", \"MIS_MRCH_DIM\", \"MIS_MR_CST_DIM\",\"MIS_CST_FCT\",\"MIS_MRCH_FCT\",\"EXT\"]))& (feature_cad[\"COLUMN_TP\"] == \"CAT\")\n",
        "    ]\n",
        "    return feature_cad[\"COLUMN_NAME\"].tolist()"
      ]
    },
    {
      "cell_type": "code",
      "execution_count": 11,
      "metadata": {
        "id": "bAS6UVd8Z7lW"
      },
      "outputs": [],
      "source": [
        "def reduce_memory_usage(df):   \n",
        "    start_memory = df.memory_usage().sum() / 1024**2\n",
        "    print(f\"Memory usage of dataframe is {start_memory} MB\")\n",
        "    \n",
        "    for col in df.columns:\n",
        "        col_type = df[col].dtype\n",
        "        \n",
        "        if col_type != 'object':\n",
        "            c_min = df[col].min()\n",
        "            c_max = df[col].max()\n",
        "            \n",
        "            if str(col_type)[:3] == 'int':\n",
        "                if c_min > np.iinfo(np.int8).min and c_max < np.iinfo(np.int8).max:\n",
        "                    df[col] = df[col].astype(np.int8)\n",
        "                elif c_min > np.iinfo(np.int16).min and c_max < np.iinfo(np.int16).max:\n",
        "                    df[col] = df[col].astype(np.int16)\n",
        "                elif c_min > np.iinfo(np.int32).min and c_max < np.iinfo(np.int32).max:\n",
        "                    df[col] = df[col].astype(np.int32)\n",
        "                elif c_min > np.iinfo(np.int64).min and c_max < np.iinfo(np.int64).max:\n",
        "                    df[col] = df[col].astype(np.int64)\n",
        "                    \n",
        "            else:\n",
        "                if c_min > np.finfo(np.float16).min and c_max < np.finfo(np.float16).max:\n",
        "                    df[col] = df[col].astype(np.float16)\n",
        "                elif c_min > np.finfo(np.float32).min and c_max < np.finfo(np.float32).max:\n",
        "                    df[col] = df[col].astype(np.float32)\n",
        "                else:\n",
        "                    pass\n",
        "        else:\n",
        "            df[col] = df[col].astype('category')\n",
        "    \n",
        "    end_memory = df.memory_usage().sum() / 1024**2\n",
        "    print(f\"Memory usage of dataframe after reduction {end_memory} MB\")\n",
        "    print(f\"Reduced by {100 * (start_memory - end_memory) / start_memory} % \")\n",
        "    return df"
      ]
    },
    {
      "cell_type": "code",
      "execution_count": 12,
      "metadata": {
        "id": "ZSI0ytD67zPv"
      },
      "outputs": [],
      "source": [
        "\n",
        "def get_feature_names(column_transformer):\n",
        "    \"\"\"Get feature names from all transformers.\n",
        "    Returns\n",
        "    -------\n",
        "    feature_names : list of strings\n",
        "        Names of the features produced by transform.\n",
        "    \"\"\"\n",
        "    # Remove the internal helper function\n",
        "    #check_is_fitted(column_transformer)\n",
        "    \n",
        "    # Turn loopkup into function for better handling with pipeline later\n",
        "    def get_names(trans):\n",
        "        # >> Original get_feature_names() method\n",
        "        if trans == 'drop' or (\n",
        "                hasattr(column, '__len__') and not len(column)):\n",
        "            return []\n",
        "        if trans == 'passthrough':\n",
        "            if hasattr(column_transformer, '_df_columns'):\n",
        "                if ((not isinstance(column, slice))\n",
        "                        and all(isinstance(col, str) for col in column)):\n",
        "                    return column\n",
        "                else:\n",
        "                    return column_transformer._df_columns[column]\n",
        "            else:\n",
        "                indices = np.arange(column_transformer._n_features)\n",
        "                return ['x%d' % i for i in indices[column]]\n",
        "        if not hasattr(trans, 'get_feature_names'):\n",
        "        # >>> Change: Return input column names if no method avaiable\n",
        "            # Turn error into a warning\n",
        "            warnings.warn(\"Transformer %s (type %s) does not \"\n",
        "                                 \"provide get_feature_names. \"\n",
        "                                 \"Will return input column names if available\"\n",
        "                                 % (str(name), type(trans).__name__))\n",
        "            # For transformers without a get_features_names method, use the input\n",
        "            # names to the column transformer\n",
        "            if column is None:\n",
        "                return []\n",
        "            else:\n",
        "                return [name + \"__\" + f for f in column]\n",
        "\n",
        "        return [name + \"__\" + f for f in trans.get_feature_names()]\n",
        "    \n",
        "    ### Start of processing\n",
        "    feature_names = []\n",
        "    \n",
        "    # Allow transformers to be pipelines. Pipeline steps are named differently, so preprocessing is needed\n",
        "    if type(column_transformer) == sklearn.pipeline.Pipeline:\n",
        "        l_transformers = [(name, trans, None, None) for step, name, trans in column_transformer._iter()]\n",
        "    else:\n",
        "        # For column transformers, follow the original method\n",
        "        l_transformers = list(column_transformer._iter(fitted=True))    \n",
        "    \n",
        "    for name, trans, column, _ in l_transformers: \n",
        "        if type(trans) == sklearn.pipeline.Pipeline:\n",
        "            # Recursive call on pipeline\n",
        "            _names = get_feature_names(trans)\n",
        "            # if pipeline has no transformer that returns names\n",
        "            if len(_names)==0:\n",
        "                _names = [name + \"__\" + f for f in column]\n",
        "            feature_names.extend(_names)\n",
        "        else:\n",
        "            feature_names.extend(get_names(trans))\n",
        "    \n",
        "    return feature_names"
      ]
    },
    {
      "cell_type": "code",
      "execution_count": 13,
      "metadata": {
        "colab": {
          "base_uri": "https://localhost:8080/"
        },
        "id": "qI8vZVv6Z9oD",
        "outputId": "eab4122c-d528-4534-ff4a-daeae9aca570"
      },
      "outputs": [
        {
          "output_type": "stream",
          "name": "stdout",
          "text": [
            "Memory usage of dataframe is 1.166229248046875 MB\n",
            "Memory usage of dataframe after reduction 0.3381690979003906 MB\n",
            "Reduced by 71.00320554755986 % \n",
            "Memory usage of dataframe is 0.2066650390625 MB\n",
            "Memory usage of dataframe after reduction 0.058624267578125 MB\n",
            "Reduced by 71.63319551092735 % \n",
            "Memory usage of dataframe is 0.242523193359375 MB\n",
            "Memory usage of dataframe after reduction 0.06910324096679688 MB\n",
            "Reduced by 71.50654334969171 % \n"
          ]
        }
      ],
      "source": [
        "train = reduce_memory_usage(train)\n",
        "val = reduce_memory_usage(val)\n",
        "test = reduce_memory_usage(test)"
      ]
    },
    {
      "cell_type": "code",
      "execution_count": 14,
      "metadata": {
        "colab": {
          "base_uri": "https://localhost:8080/",
          "height": 300
        },
        "id": "nv4oMuYv5mss",
        "outputId": "a4f4eda2-e5d4-4e92-dcd4-ffde90f9cd40"
      },
      "outputs": [
        {
          "output_type": "execute_result",
          "data": {
            "text/plain": [
              "     ID  MER_TYPE  BRANCH  CURR_NUM  DAY_REINSTATED  DAYS_AVGE  FL_LIM1  \\\n",
              "0  2208      5411     126       704               0          1      150   \n",
              "1    53      7011     753       704               0          2      150   \n",
              "2    52      5411     128       704               0          2      150   \n",
              "3   163      5977     741       704               0          3      150   \n",
              "4   657      5411     721       704               0          1      150   \n",
              "\n",
              "   FL_LIM3  FL_LIM4   GROSS_SALE  ...  DAY_CLOSE_YEAR  DAY_CLOSE_MONTH  \\\n",
              "0        0     5000  671981120.0  ...            2099               12   \n",
              "1        0        0          0.0  ...            2016               11   \n",
              "2        0     5000  204670160.0  ...            2099               12   \n",
              "3        0        0          0.0  ...            2016               10   \n",
              "4        0     5000          0.0  ...            2020                7   \n",
              "\n",
              "   DAY_CLOSE_DAY  DAY_START_YEAR  DAY_START_MONTH  DAY_START_DAY  \\\n",
              "0             31            1970                1              1   \n",
              "1             14            1970                1              1   \n",
              "2             31            1970                1              1   \n",
              "3              3            1970                1              1   \n",
              "4             24            1970                1              1   \n",
              "\n",
              "   DAY_SUBM_YEAR  DAY_SUBM_MONTH  DAY_SUBM_DAY  MERCH_FR  \n",
              "0           1970               1             1         1  \n",
              "1           1970               1             1         0  \n",
              "2           1970               1             1         0  \n",
              "3           1970               1             1         0  \n",
              "4           1970               1             1         0  \n",
              "\n",
              "[5 rows x 94 columns]"
            ],
            "text/html": [
              "\n",
              "  <div id=\"df-9e83ead7-e2c4-4750-b7f7-ef552b6667d2\">\n",
              "    <div class=\"colab-df-container\">\n",
              "      <div>\n",
              "<style scoped>\n",
              "    .dataframe tbody tr th:only-of-type {\n",
              "        vertical-align: middle;\n",
              "    }\n",
              "\n",
              "    .dataframe tbody tr th {\n",
              "        vertical-align: top;\n",
              "    }\n",
              "\n",
              "    .dataframe thead th {\n",
              "        text-align: right;\n",
              "    }\n",
              "</style>\n",
              "<table border=\"1\" class=\"dataframe\">\n",
              "  <thead>\n",
              "    <tr style=\"text-align: right;\">\n",
              "      <th></th>\n",
              "      <th>ID</th>\n",
              "      <th>MER_TYPE</th>\n",
              "      <th>BRANCH</th>\n",
              "      <th>CURR_NUM</th>\n",
              "      <th>DAY_REINSTATED</th>\n",
              "      <th>DAYS_AVGE</th>\n",
              "      <th>FL_LIM1</th>\n",
              "      <th>FL_LIM3</th>\n",
              "      <th>FL_LIM4</th>\n",
              "      <th>GROSS_SALE</th>\n",
              "      <th>...</th>\n",
              "      <th>DAY_CLOSE_YEAR</th>\n",
              "      <th>DAY_CLOSE_MONTH</th>\n",
              "      <th>DAY_CLOSE_DAY</th>\n",
              "      <th>DAY_START_YEAR</th>\n",
              "      <th>DAY_START_MONTH</th>\n",
              "      <th>DAY_START_DAY</th>\n",
              "      <th>DAY_SUBM_YEAR</th>\n",
              "      <th>DAY_SUBM_MONTH</th>\n",
              "      <th>DAY_SUBM_DAY</th>\n",
              "      <th>MERCH_FR</th>\n",
              "    </tr>\n",
              "  </thead>\n",
              "  <tbody>\n",
              "    <tr>\n",
              "      <th>0</th>\n",
              "      <td>2208</td>\n",
              "      <td>5411</td>\n",
              "      <td>126</td>\n",
              "      <td>704</td>\n",
              "      <td>0</td>\n",
              "      <td>1</td>\n",
              "      <td>150</td>\n",
              "      <td>0</td>\n",
              "      <td>5000</td>\n",
              "      <td>671981120.0</td>\n",
              "      <td>...</td>\n",
              "      <td>2099</td>\n",
              "      <td>12</td>\n",
              "      <td>31</td>\n",
              "      <td>1970</td>\n",
              "      <td>1</td>\n",
              "      <td>1</td>\n",
              "      <td>1970</td>\n",
              "      <td>1</td>\n",
              "      <td>1</td>\n",
              "      <td>1</td>\n",
              "    </tr>\n",
              "    <tr>\n",
              "      <th>1</th>\n",
              "      <td>53</td>\n",
              "      <td>7011</td>\n",
              "      <td>753</td>\n",
              "      <td>704</td>\n",
              "      <td>0</td>\n",
              "      <td>2</td>\n",
              "      <td>150</td>\n",
              "      <td>0</td>\n",
              "      <td>0</td>\n",
              "      <td>0.0</td>\n",
              "      <td>...</td>\n",
              "      <td>2016</td>\n",
              "      <td>11</td>\n",
              "      <td>14</td>\n",
              "      <td>1970</td>\n",
              "      <td>1</td>\n",
              "      <td>1</td>\n",
              "      <td>1970</td>\n",
              "      <td>1</td>\n",
              "      <td>1</td>\n",
              "      <td>0</td>\n",
              "    </tr>\n",
              "    <tr>\n",
              "      <th>2</th>\n",
              "      <td>52</td>\n",
              "      <td>5411</td>\n",
              "      <td>128</td>\n",
              "      <td>704</td>\n",
              "      <td>0</td>\n",
              "      <td>2</td>\n",
              "      <td>150</td>\n",
              "      <td>0</td>\n",
              "      <td>5000</td>\n",
              "      <td>204670160.0</td>\n",
              "      <td>...</td>\n",
              "      <td>2099</td>\n",
              "      <td>12</td>\n",
              "      <td>31</td>\n",
              "      <td>1970</td>\n",
              "      <td>1</td>\n",
              "      <td>1</td>\n",
              "      <td>1970</td>\n",
              "      <td>1</td>\n",
              "      <td>1</td>\n",
              "      <td>0</td>\n",
              "    </tr>\n",
              "    <tr>\n",
              "      <th>3</th>\n",
              "      <td>163</td>\n",
              "      <td>5977</td>\n",
              "      <td>741</td>\n",
              "      <td>704</td>\n",
              "      <td>0</td>\n",
              "      <td>3</td>\n",
              "      <td>150</td>\n",
              "      <td>0</td>\n",
              "      <td>0</td>\n",
              "      <td>0.0</td>\n",
              "      <td>...</td>\n",
              "      <td>2016</td>\n",
              "      <td>10</td>\n",
              "      <td>3</td>\n",
              "      <td>1970</td>\n",
              "      <td>1</td>\n",
              "      <td>1</td>\n",
              "      <td>1970</td>\n",
              "      <td>1</td>\n",
              "      <td>1</td>\n",
              "      <td>0</td>\n",
              "    </tr>\n",
              "    <tr>\n",
              "      <th>4</th>\n",
              "      <td>657</td>\n",
              "      <td>5411</td>\n",
              "      <td>721</td>\n",
              "      <td>704</td>\n",
              "      <td>0</td>\n",
              "      <td>1</td>\n",
              "      <td>150</td>\n",
              "      <td>0</td>\n",
              "      <td>5000</td>\n",
              "      <td>0.0</td>\n",
              "      <td>...</td>\n",
              "      <td>2020</td>\n",
              "      <td>7</td>\n",
              "      <td>24</td>\n",
              "      <td>1970</td>\n",
              "      <td>1</td>\n",
              "      <td>1</td>\n",
              "      <td>1970</td>\n",
              "      <td>1</td>\n",
              "      <td>1</td>\n",
              "      <td>0</td>\n",
              "    </tr>\n",
              "  </tbody>\n",
              "</table>\n",
              "<p>5 rows × 94 columns</p>\n",
              "</div>\n",
              "      <button class=\"colab-df-convert\" onclick=\"convertToInteractive('df-9e83ead7-e2c4-4750-b7f7-ef552b6667d2')\"\n",
              "              title=\"Convert this dataframe to an interactive table.\"\n",
              "              style=\"display:none;\">\n",
              "        \n",
              "  <svg xmlns=\"http://www.w3.org/2000/svg\" height=\"24px\"viewBox=\"0 0 24 24\"\n",
              "       width=\"24px\">\n",
              "    <path d=\"M0 0h24v24H0V0z\" fill=\"none\"/>\n",
              "    <path d=\"M18.56 5.44l.94 2.06.94-2.06 2.06-.94-2.06-.94-.94-2.06-.94 2.06-2.06.94zm-11 1L8.5 8.5l.94-2.06 2.06-.94-2.06-.94L8.5 2.5l-.94 2.06-2.06.94zm10 10l.94 2.06.94-2.06 2.06-.94-2.06-.94-.94-2.06-.94 2.06-2.06.94z\"/><path d=\"M17.41 7.96l-1.37-1.37c-.4-.4-.92-.59-1.43-.59-.52 0-1.04.2-1.43.59L10.3 9.45l-7.72 7.72c-.78.78-.78 2.05 0 2.83L4 21.41c.39.39.9.59 1.41.59.51 0 1.02-.2 1.41-.59l7.78-7.78 2.81-2.81c.8-.78.8-2.07 0-2.86zM5.41 20L4 18.59l7.72-7.72 1.47 1.35L5.41 20z\"/>\n",
              "  </svg>\n",
              "      </button>\n",
              "      \n",
              "  <style>\n",
              "    .colab-df-container {\n",
              "      display:flex;\n",
              "      flex-wrap:wrap;\n",
              "      gap: 12px;\n",
              "    }\n",
              "\n",
              "    .colab-df-convert {\n",
              "      background-color: #E8F0FE;\n",
              "      border: none;\n",
              "      border-radius: 50%;\n",
              "      cursor: pointer;\n",
              "      display: none;\n",
              "      fill: #1967D2;\n",
              "      height: 32px;\n",
              "      padding: 0 0 0 0;\n",
              "      width: 32px;\n",
              "    }\n",
              "\n",
              "    .colab-df-convert:hover {\n",
              "      background-color: #E2EBFA;\n",
              "      box-shadow: 0px 1px 2px rgba(60, 64, 67, 0.3), 0px 1px 3px 1px rgba(60, 64, 67, 0.15);\n",
              "      fill: #174EA6;\n",
              "    }\n",
              "\n",
              "    [theme=dark] .colab-df-convert {\n",
              "      background-color: #3B4455;\n",
              "      fill: #D2E3FC;\n",
              "    }\n",
              "\n",
              "    [theme=dark] .colab-df-convert:hover {\n",
              "      background-color: #434B5C;\n",
              "      box-shadow: 0px 1px 3px 1px rgba(0, 0, 0, 0.15);\n",
              "      filter: drop-shadow(0px 1px 2px rgba(0, 0, 0, 0.3));\n",
              "      fill: #FFFFFF;\n",
              "    }\n",
              "  </style>\n",
              "\n",
              "      <script>\n",
              "        const buttonEl =\n",
              "          document.querySelector('#df-9e83ead7-e2c4-4750-b7f7-ef552b6667d2 button.colab-df-convert');\n",
              "        buttonEl.style.display =\n",
              "          google.colab.kernel.accessAllowed ? 'block' : 'none';\n",
              "\n",
              "        async function convertToInteractive(key) {\n",
              "          const element = document.querySelector('#df-9e83ead7-e2c4-4750-b7f7-ef552b6667d2');\n",
              "          const dataTable =\n",
              "            await google.colab.kernel.invokeFunction('convertToInteractive',\n",
              "                                                     [key], {});\n",
              "          if (!dataTable) return;\n",
              "\n",
              "          const docLinkHtml = 'Like what you see? Visit the ' +\n",
              "            '<a target=\"_blank\" href=https://colab.research.google.com/notebooks/data_table.ipynb>data table notebook</a>'\n",
              "            + ' to learn more about interactive tables.';\n",
              "          element.innerHTML = '';\n",
              "          dataTable['output_type'] = 'display_data';\n",
              "          await google.colab.output.renderOutput(dataTable, element);\n",
              "          const docLink = document.createElement('div');\n",
              "          docLink.innerHTML = docLinkHtml;\n",
              "          element.appendChild(docLink);\n",
              "        }\n",
              "      </script>\n",
              "    </div>\n",
              "  </div>\n",
              "  "
            ]
          },
          "metadata": {},
          "execution_count": 14
        }
      ],
      "source": [
        "train.head()"
      ]
    },
    {
      "cell_type": "code",
      "execution_count": 15,
      "metadata": {
        "id": "D6gZbaryQJ6-"
      },
      "outputs": [],
      "source": [
        "useful_features = [c for c in train.columns if ((c not in ['ID', 'MERCH_FR', 'BRANCH']) and (\"DAY_\" not in c))] \n",
        "# list_cat_org = get_list_cat_columns() \n",
        "# object_cols = [c for c in useful_features if c in list_cat_org]\n",
        "object_cols = ['CURR_NUM', 'MP_IND', 'PAY_METHOD', 'HAS_TXN_LESS_15S']\n",
        "num_cols = [c for c in useful_features if c not in object_cols]\n",
        "# df_test = val[useful_features]"
      ]
    },
    {
      "cell_type": "code",
      "execution_count": 16,
      "metadata": {
        "id": "r6nTwHMeLcoJ"
      },
      "outputs": [],
      "source": [
        "x_train = train[useful_features]\n",
        "x_val = val[useful_features]\n",
        "x_test = test[useful_features]\n",
        "y_train = train[\"MERCH_FR\"]\n",
        "y_val = val[\"MERCH_FR\"]\n",
        "y_test = test[\"MERCH_FR\"]"
      ]
    },
    {
      "cell_type": "code",
      "execution_count": 17,
      "metadata": {
        "id": "9WWwe6rlUm8O"
      },
      "outputs": [],
      "source": [
        "from sklearn.preprocessing import MinMaxScaler, OrdinalEncoder, StandardScaler, OneHotEncoder\n",
        "from imblearn.pipeline import make_pipeline, Pipeline\n",
        "\n",
        "from sklearn.model_selection import cross_val_score\n",
        "from sklearn.model_selection import RepeatedStratifiedKFold\n",
        "from numpy import mean\n",
        "\n",
        "numeric_transformer = Pipeline(steps=[\n",
        "    ('imputer', SimpleImputer(strategy='mean')),\n",
        "    ('scaler', StandardScaler() # ('scaler', MinMaxScaler()    \n",
        "    )])\n",
        "\n",
        "# cat_label_cols = ['CST_PERF_ST', 'CST_MKT_SEG']\n",
        "cat_ordinal_transformer = Pipeline(steps=[\n",
        "    ('imputer', SimpleImputer(strategy='constant', fill_value='missing_val')),\n",
        "    ('encoder', OrdinalEncoder() \n",
        "    )])\n",
        "\n",
        "# cat_onehot_cols = [f for f in cat_cols if f not in cat_label_cols]\n",
        "cat_onehot_transformer = Pipeline(steps=[\n",
        "    ('imputer', SimpleImputer(strategy='constant', fill_value='missing_val')),\n",
        "    ('encoder', OneHotEncoder(handle_unknown = 'ignore', sparse=False) \n",
        "    )])\n",
        "\n",
        "# over sampling \n",
        "oversample = SMOTE() # ADASYN()\n",
        "preprocessor = ColumnTransformer(\n",
        "    transformers=[\n",
        "                  ('num', numeric_transformer, num_cols), \n",
        "                  #('cat_label', cat_ordinal_transformer, cat_label_cols)\n",
        "                  #('cat_onehot', cat_onehot_transformer, ['CLOSE_RSN','CHIP_YN']) # ['CLOSE_RSN', 'COMM_FREQ']\n",
        "                 ], remainder='drop')"
      ]
    },
    {
      "cell_type": "code",
      "execution_count": 18,
      "metadata": {
        "colab": {
          "base_uri": "https://localhost:8080/"
        },
        "id": "m9yG34qzZn_i",
        "outputId": "8ff4e14a-39ad-4c7b-8da6-a252c415859d"
      },
      "outputs": [
        {
          "output_type": "stream",
          "name": "stderr",
          "text": [
            "/usr/local/lib/python3.7/dist-packages/ipykernel_launcher.py:34: UserWarning: Transformer num (type Pipeline) does not provide get_feature_names. Will return input column names if available\n",
            "/usr/local/lib/python3.7/dist-packages/ipykernel_launcher.py:34: UserWarning: Transformer num (type Pipeline) does not provide get_feature_names. Will return input column names if available\n",
            "/usr/local/lib/python3.7/dist-packages/ipykernel_launcher.py:34: UserWarning: Transformer num (type Pipeline) does not provide get_feature_names. Will return input column names if available\n"
          ]
        }
      ],
      "source": [
        "# preprocessor.fit(train[useful_features])\n",
        "preprocessor.fit(x_train)\n",
        "\n",
        "x_train_tf = pd.DataFrame(preprocessor.transform(x_train), columns = get_feature_names(preprocessor)) \n",
        "x_val_tf = pd.DataFrame(preprocessor.transform(x_val), columns = get_feature_names(preprocessor)) \n",
        "x_test_tf = pd.DataFrame(preprocessor.transform(x_test), columns = get_feature_names(preprocessor)) "
      ]
    },
    {
      "cell_type": "code",
      "execution_count": 19,
      "metadata": {
        "id": "O2qmXycKWojd",
        "colab": {
          "base_uri": "https://localhost:8080/"
        },
        "outputId": "e722e5a7-7c30-4d62-e01f-1d041e538849"
      },
      "outputs": [
        {
          "output_type": "stream",
          "name": "stdout",
          "text": [
            "Fitting 5 folds for each of 25 candidates, totalling 125 fits\n",
            "[CV 1/5] END ........C=0.1, gamma=1, kernel=rbf;, score=0.684 total time=   0.2s\n",
            "[CV 2/5] END ........C=0.1, gamma=1, kernel=rbf;, score=0.692 total time=   0.2s\n",
            "[CV 3/5] END ........C=0.1, gamma=1, kernel=rbf;, score=0.702 total time=   0.2s\n",
            "[CV 4/5] END ........C=0.1, gamma=1, kernel=rbf;, score=0.689 total time=   0.2s\n",
            "[CV 5/5] END ........C=0.1, gamma=1, kernel=rbf;, score=0.689 total time=   0.2s\n",
            "[CV 1/5] END ......C=0.1, gamma=0.1, kernel=rbf;, score=0.859 total time=   0.1s\n",
            "[CV 2/5] END ......C=0.1, gamma=0.1, kernel=rbf;, score=0.905 total time=   0.1s\n",
            "[CV 3/5] END ......C=0.1, gamma=0.1, kernel=rbf;, score=0.843 total time=   0.1s\n",
            "[CV 4/5] END ......C=0.1, gamma=0.1, kernel=rbf;, score=0.880 total time=   0.1s\n",
            "[CV 5/5] END ......C=0.1, gamma=0.1, kernel=rbf;, score=0.858 total time=   0.1s\n",
            "[CV 1/5] END .....C=0.1, gamma=0.01, kernel=rbf;, score=0.917 total time=   0.1s\n",
            "[CV 2/5] END .....C=0.1, gamma=0.01, kernel=rbf;, score=0.886 total time=   0.1s\n",
            "[CV 3/5] END .....C=0.1, gamma=0.01, kernel=rbf;, score=0.877 total time=   0.1s\n",
            "[CV 4/5] END .....C=0.1, gamma=0.01, kernel=rbf;, score=0.895 total time=   0.1s\n",
            "[CV 5/5] END .....C=0.1, gamma=0.01, kernel=rbf;, score=0.880 total time=   0.1s\n",
            "[CV 1/5] END ....C=0.1, gamma=0.001, kernel=rbf;, score=0.681 total time=   0.2s\n",
            "[CV 2/5] END ....C=0.1, gamma=0.001, kernel=rbf;, score=0.677 total time=   0.2s\n",
            "[CV 3/5] END ....C=0.1, gamma=0.001, kernel=rbf;, score=0.671 total time=   0.2s\n",
            "[CV 4/5] END ....C=0.1, gamma=0.001, kernel=rbf;, score=0.680 total time=   0.2s\n",
            "[CV 5/5] END ....C=0.1, gamma=0.001, kernel=rbf;, score=0.680 total time=   0.2s\n",
            "[CV 1/5] END ...C=0.1, gamma=0.0001, kernel=rbf;, score=0.666 total time=   0.2s\n",
            "[CV 2/5] END ...C=0.1, gamma=0.0001, kernel=rbf;, score=0.665 total time=   0.2s\n",
            "[CV 3/5] END ...C=0.1, gamma=0.0001, kernel=rbf;, score=0.665 total time=   0.1s\n",
            "[CV 4/5] END ...C=0.1, gamma=0.0001, kernel=rbf;, score=0.668 total time=   0.2s\n",
            "[CV 5/5] END ...C=0.1, gamma=0.0001, kernel=rbf;, score=0.668 total time=   0.1s\n",
            "[CV 1/5] END ..........C=1, gamma=1, kernel=rbf;, score=0.853 total time=   0.2s\n",
            "[CV 2/5] END ..........C=1, gamma=1, kernel=rbf;, score=0.880 total time=   0.2s\n",
            "[CV 3/5] END ..........C=1, gamma=1, kernel=rbf;, score=0.852 total time=   0.2s\n",
            "[CV 4/5] END ..........C=1, gamma=1, kernel=rbf;, score=0.880 total time=   0.2s\n",
            "[CV 5/5] END ..........C=1, gamma=1, kernel=rbf;, score=0.874 total time=   0.2s\n",
            "[CV 1/5] END ........C=1, gamma=0.1, kernel=rbf;, score=0.896 total time=   0.1s\n",
            "[CV 2/5] END ........C=1, gamma=0.1, kernel=rbf;, score=0.914 total time=   0.1s\n",
            "[CV 3/5] END ........C=1, gamma=0.1, kernel=rbf;, score=0.914 total time=   0.1s\n",
            "[CV 4/5] END ........C=1, gamma=0.1, kernel=rbf;, score=0.923 total time=   0.1s\n",
            "[CV 5/5] END ........C=1, gamma=0.1, kernel=rbf;, score=0.914 total time=   0.1s\n",
            "[CV 1/5] END .......C=1, gamma=0.01, kernel=rbf;, score=0.920 total time=   0.1s\n",
            "[CV 2/5] END .......C=1, gamma=0.01, kernel=rbf;, score=0.908 total time=   0.1s\n",
            "[CV 3/5] END .......C=1, gamma=0.01, kernel=rbf;, score=0.883 total time=   0.1s\n",
            "[CV 4/5] END .......C=1, gamma=0.01, kernel=rbf;, score=0.926 total time=   0.1s\n",
            "[CV 5/5] END .......C=1, gamma=0.01, kernel=rbf;, score=0.895 total time=   0.1s\n",
            "[CV 1/5] END ......C=1, gamma=0.001, kernel=rbf;, score=0.920 total time=   0.1s\n",
            "[CV 2/5] END ......C=1, gamma=0.001, kernel=rbf;, score=0.886 total time=   0.1s\n",
            "[CV 3/5] END ......C=1, gamma=0.001, kernel=rbf;, score=0.877 total time=   0.1s\n",
            "[CV 4/5] END ......C=1, gamma=0.001, kernel=rbf;, score=0.908 total time=   0.1s\n",
            "[CV 5/5] END ......C=1, gamma=0.001, kernel=rbf;, score=0.874 total time=   0.1s\n",
            "[CV 1/5] END .....C=1, gamma=0.0001, kernel=rbf;, score=0.690 total time=   0.2s\n",
            "[CV 2/5] END .....C=1, gamma=0.0001, kernel=rbf;, score=0.695 total time=   0.2s\n",
            "[CV 3/5] END .....C=1, gamma=0.0001, kernel=rbf;, score=0.680 total time=   0.2s\n",
            "[CV 4/5] END .....C=1, gamma=0.0001, kernel=rbf;, score=0.692 total time=   0.2s\n",
            "[CV 5/5] END .....C=1, gamma=0.0001, kernel=rbf;, score=0.698 total time=   0.2s\n",
            "[CV 1/5] END .........C=10, gamma=1, kernel=rbf;, score=0.868 total time=   0.3s\n",
            "[CV 2/5] END .........C=10, gamma=1, kernel=rbf;, score=0.874 total time=   0.2s\n",
            "[CV 3/5] END .........C=10, gamma=1, kernel=rbf;, score=0.862 total time=   0.2s\n",
            "[CV 4/5] END .........C=10, gamma=1, kernel=rbf;, score=0.886 total time=   0.2s\n",
            "[CV 5/5] END .........C=10, gamma=1, kernel=rbf;, score=0.877 total time=   0.2s\n",
            "[CV 1/5] END .......C=10, gamma=0.1, kernel=rbf;, score=0.923 total time=   0.1s\n",
            "[CV 2/5] END .......C=10, gamma=0.1, kernel=rbf;, score=0.938 total time=   0.1s\n",
            "[CV 3/5] END .......C=10, gamma=0.1, kernel=rbf;, score=0.929 total time=   0.1s\n",
            "[CV 4/5] END .......C=10, gamma=0.1, kernel=rbf;, score=0.932 total time=   0.1s\n",
            "[CV 5/5] END .......C=10, gamma=0.1, kernel=rbf;, score=0.932 total time=   0.1s\n",
            "[CV 1/5] END ......C=10, gamma=0.01, kernel=rbf;, score=0.923 total time=   0.1s\n",
            "[CV 2/5] END ......C=10, gamma=0.01, kernel=rbf;, score=0.938 total time=   0.1s\n",
            "[CV 3/5] END ......C=10, gamma=0.01, kernel=rbf;, score=0.914 total time=   0.1s\n",
            "[CV 4/5] END ......C=10, gamma=0.01, kernel=rbf;, score=0.945 total time=   0.1s\n",
            "[CV 5/5] END ......C=10, gamma=0.01, kernel=rbf;, score=0.942 total time=   0.1s\n",
            "[CV 1/5] END .....C=10, gamma=0.001, kernel=rbf;, score=0.920 total time=   0.1s\n",
            "[CV 2/5] END .....C=10, gamma=0.001, kernel=rbf;, score=0.911 total time=   0.1s\n",
            "[CV 3/5] END .....C=10, gamma=0.001, kernel=rbf;, score=0.889 total time=   0.1s\n",
            "[CV 4/5] END .....C=10, gamma=0.001, kernel=rbf;, score=0.920 total time=   0.1s\n",
            "[CV 5/5] END .....C=10, gamma=0.001, kernel=rbf;, score=0.898 total time=   0.1s\n",
            "[CV 1/5] END ....C=10, gamma=0.0001, kernel=rbf;, score=0.920 total time=   0.1s\n",
            "[CV 2/5] END ....C=10, gamma=0.0001, kernel=rbf;, score=0.883 total time=   0.1s\n",
            "[CV 3/5] END ....C=10, gamma=0.0001, kernel=rbf;, score=0.877 total time=   0.1s\n",
            "[CV 4/5] END ....C=10, gamma=0.0001, kernel=rbf;, score=0.902 total time=   0.1s\n",
            "[CV 5/5] END ....C=10, gamma=0.0001, kernel=rbf;, score=0.871 total time=   0.1s\n",
            "[CV 1/5] END ........C=100, gamma=1, kernel=rbf;, score=0.862 total time=   0.2s\n",
            "[CV 2/5] END ........C=100, gamma=1, kernel=rbf;, score=0.877 total time=   0.2s\n",
            "[CV 3/5] END ........C=100, gamma=1, kernel=rbf;, score=0.868 total time=   0.2s\n",
            "[CV 4/5] END ........C=100, gamma=1, kernel=rbf;, score=0.889 total time=   0.2s\n",
            "[CV 5/5] END ........C=100, gamma=1, kernel=rbf;, score=0.874 total time=   0.2s\n",
            "[CV 1/5] END ......C=100, gamma=0.1, kernel=rbf;, score=0.929 total time=   0.1s\n",
            "[CV 2/5] END ......C=100, gamma=0.1, kernel=rbf;, score=0.926 total time=   0.1s\n",
            "[CV 3/5] END ......C=100, gamma=0.1, kernel=rbf;, score=0.923 total time=   0.1s\n",
            "[CV 4/5] END ......C=100, gamma=0.1, kernel=rbf;, score=0.926 total time=   0.1s\n",
            "[CV 5/5] END ......C=100, gamma=0.1, kernel=rbf;, score=0.923 total time=   0.1s\n",
            "[CV 1/5] END .....C=100, gamma=0.01, kernel=rbf;, score=0.923 total time=   0.1s\n",
            "[CV 2/5] END .....C=100, gamma=0.01, kernel=rbf;, score=0.948 total time=   0.1s\n",
            "[CV 3/5] END .....C=100, gamma=0.01, kernel=rbf;, score=0.935 total time=   0.1s\n",
            "[CV 4/5] END .....C=100, gamma=0.01, kernel=rbf;, score=0.942 total time=   0.1s\n",
            "[CV 5/5] END .....C=100, gamma=0.01, kernel=rbf;, score=0.948 total time=   0.1s\n",
            "[CV 1/5] END ....C=100, gamma=0.001, kernel=rbf;, score=0.920 total time=   0.1s\n",
            "[CV 2/5] END ....C=100, gamma=0.001, kernel=rbf;, score=0.932 total time=   0.1s\n",
            "[CV 3/5] END ....C=100, gamma=0.001, kernel=rbf;, score=0.920 total time=   0.1s\n",
            "[CV 4/5] END ....C=100, gamma=0.001, kernel=rbf;, score=0.942 total time=   0.1s\n",
            "[CV 5/5] END ....C=100, gamma=0.001, kernel=rbf;, score=0.938 total time=   0.1s\n",
            "[CV 1/5] END ...C=100, gamma=0.0001, kernel=rbf;, score=0.920 total time=   0.1s\n",
            "[CV 2/5] END ...C=100, gamma=0.0001, kernel=rbf;, score=0.920 total time=   0.1s\n",
            "[CV 3/5] END ...C=100, gamma=0.0001, kernel=rbf;, score=0.886 total time=   0.1s\n",
            "[CV 4/5] END ...C=100, gamma=0.0001, kernel=rbf;, score=0.923 total time=   0.1s\n",
            "[CV 5/5] END ...C=100, gamma=0.0001, kernel=rbf;, score=0.892 total time=   0.1s\n",
            "[CV 1/5] END .......C=1000, gamma=1, kernel=rbf;, score=0.862 total time=   0.2s\n",
            "[CV 2/5] END .......C=1000, gamma=1, kernel=rbf;, score=0.877 total time=   0.3s\n",
            "[CV 3/5] END .......C=1000, gamma=1, kernel=rbf;, score=0.868 total time=   0.2s\n",
            "[CV 4/5] END .......C=1000, gamma=1, kernel=rbf;, score=0.889 total time=   0.2s\n",
            "[CV 5/5] END .......C=1000, gamma=1, kernel=rbf;, score=0.874 total time=   0.2s\n",
            "[CV 1/5] END .....C=1000, gamma=0.1, kernel=rbf;, score=0.926 total time=   0.1s\n",
            "[CV 2/5] END .....C=1000, gamma=0.1, kernel=rbf;, score=0.914 total time=   0.1s\n",
            "[CV 3/5] END .....C=1000, gamma=0.1, kernel=rbf;, score=0.932 total time=   0.1s\n",
            "[CV 4/5] END .....C=1000, gamma=0.1, kernel=rbf;, score=0.929 total time=   0.1s\n",
            "[CV 5/5] END .....C=1000, gamma=0.1, kernel=rbf;, score=0.932 total time=   0.1s\n",
            "[CV 1/5] END ....C=1000, gamma=0.01, kernel=rbf;, score=0.945 total time=   0.1s\n",
            "[CV 2/5] END ....C=1000, gamma=0.01, kernel=rbf;, score=0.926 total time=   0.1s\n",
            "[CV 3/5] END ....C=1000, gamma=0.01, kernel=rbf;, score=0.954 total time=   0.1s\n",
            "[CV 4/5] END ....C=1000, gamma=0.01, kernel=rbf;, score=0.926 total time=   0.1s\n",
            "[CV 5/5] END ....C=1000, gamma=0.01, kernel=rbf;, score=0.948 total time=   0.1s\n",
            "[CV 1/5] END ...C=1000, gamma=0.001, kernel=rbf;, score=0.923 total time=   0.1s\n",
            "[CV 2/5] END ...C=1000, gamma=0.001, kernel=rbf;, score=0.938 total time=   0.1s\n",
            "[CV 3/5] END ...C=1000, gamma=0.001, kernel=rbf;, score=0.932 total time=   0.1s\n",
            "[CV 4/5] END ...C=1000, gamma=0.001, kernel=rbf;, score=0.942 total time=   0.1s\n",
            "[CV 5/5] END ...C=1000, gamma=0.001, kernel=rbf;, score=0.954 total time=   0.1s\n",
            "[CV 1/5] END ..C=1000, gamma=0.0001, kernel=rbf;, score=0.920 total time=   0.1s\n",
            "[CV 2/5] END ..C=1000, gamma=0.0001, kernel=rbf;, score=0.926 total time=   0.1s\n",
            "[CV 3/5] END ..C=1000, gamma=0.0001, kernel=rbf;, score=0.917 total time=   0.1s\n",
            "[CV 4/5] END ..C=1000, gamma=0.0001, kernel=rbf;, score=0.938 total time=   0.1s\n",
            "[CV 5/5] END ..C=1000, gamma=0.0001, kernel=rbf;, score=0.938 total time=   0.1s\n"
          ]
        }
      ],
      "source": [
        "from sklearn.model_selection import GridSearchCV\n",
        " \n",
        "# defining parameter range\n",
        "param_grid = {'C': [0.1, 1, 10, 100, 1000],\n",
        "              'gamma': [1, 0.1, 0.01, 0.001, 0.0001],\n",
        "              'kernel': ['rbf']}\n",
        " \n",
        "grid = GridSearchCV(SVC(), param_grid, refit = True, verbose = 3)\n",
        " \n",
        "# fitting the model for grid search\n",
        "grid.fit(x_train_tf, y_train)\n",
        "preds_val = grid.best_estimator_.predict(x_val_tf)\n",
        "score = f1_score(y_val, preds_val)\n"
      ]
    },
    {
      "cell_type": "code",
      "source": [
        "score"
      ],
      "metadata": {
        "colab": {
          "base_uri": "https://localhost:8080/"
        },
        "id": "2uKyd4DzRIs9",
        "outputId": "5353c35c-5daf-4f5f-8d18-289cfc7a8633"
      },
      "execution_count": 20,
      "outputs": [
        {
          "output_type": "execute_result",
          "data": {
            "text/plain": [
              "0.8601036269430052"
            ]
          },
          "metadata": {},
          "execution_count": 20
        }
      ]
    },
    {
      "cell_type": "code",
      "source": [
        "grid.best_params_"
      ],
      "metadata": {
        "colab": {
          "base_uri": "https://localhost:8080/"
        },
        "id": "kTGcP_3qRPE8",
        "outputId": "3073ed07-21a5-4fec-fad3-bb282a8f1800"
      },
      "execution_count": 21,
      "outputs": [
        {
          "output_type": "execute_result",
          "data": {
            "text/plain": [
              "{'C': 1000, 'gamma': 0.01, 'kernel': 'rbf'}"
            ]
          },
          "metadata": {},
          "execution_count": 21
        }
      ]
    },
    {
      "cell_type": "code",
      "source": [
        "best_params = grid.best_params_\n",
        "model = SVC(        \n",
        "        **best_params\n",
        "    )\n",
        "pipeline = Pipeline(steps=[('sampling', oversample),\n",
        "                    ('classifier', model)])\n",
        "\n",
        "pipeline.fit(x_train_tf, y_train)\n",
        "preds_test = model.predict(x_test_tf)\n",
        "f1score = f1_score(y_test, preds_test)\n",
        "from sklearn.metrics import classification_report\n",
        "print(classification_report(y_test, preds_test))"
      ],
      "metadata": {
        "colab": {
          "base_uri": "https://localhost:8080/"
        },
        "id": "FAExLkkavyTj",
        "outputId": "9d557504-616a-4948-b6c1-c49c08e01c8b"
      },
      "execution_count": 22,
      "outputs": [
        {
          "output_type": "stream",
          "name": "stdout",
          "text": [
            "              precision    recall  f1-score   support\n",
            "\n",
            "           0       0.96      0.96      0.96       225\n",
            "           1       0.93      0.91      0.92       113\n",
            "\n",
            "    accuracy                           0.95       338\n",
            "   macro avg       0.94      0.94      0.94       338\n",
            "weighted avg       0.95      0.95      0.95       338\n",
            "\n"
          ]
        }
      ]
    },
    {
      "cell_type": "markdown",
      "source": [
        "# Pipeline 2, handle category data"
      ],
      "metadata": {
        "id": "DixuZmFZv-SL"
      }
    },
    {
      "cell_type": "code",
      "source": [
        "# cat_label_cols = ['CST_PERF_ST', 'CST_MKT_SEG']\n",
        "cat_ordinal_transformer = Pipeline(steps=[\n",
        "    ('imputer', SimpleImputer(strategy='constant', fill_value=0)),\n",
        "    ('encoder', OrdinalEncoder() \n",
        "    )])\n",
        "\n",
        "# cat_onehot_cols = [f for f in cat_cols if f not in cat_label_cols]\n",
        "cat_onehot_transformer = Pipeline(steps=[\n",
        "    ('imputer', SimpleImputer(strategy='constant', fill_value='missing_val')),\n",
        "    ('encoder', OneHotEncoder(handle_unknown = 'ignore', sparse=False) \n",
        "    )])\n",
        "\n",
        "preprocessor = ColumnTransformer(\n",
        "    transformers=[\n",
        "                  ('num', numeric_transformer, num_cols), \n",
        "                  ('cat_label', cat_ordinal_transformer, object_cols)\n",
        "                  #('cat_onehot', cat_onehot_transformer, ['CLOSE_RSN','CHIP_YN']) # ['CLOSE_RSN', 'COMM_FREQ']\n",
        "                 ], remainder='drop')"
      ],
      "metadata": {
        "id": "ilSBtlRlv99U"
      },
      "execution_count": 23,
      "outputs": []
    },
    {
      "cell_type": "code",
      "source": [
        "preprocessor.fit(x_train)\n",
        "\n",
        "x_train_tf = pd.DataFrame(preprocessor.transform(x_train), columns = get_feature_names(preprocessor)) \n",
        "x_val_tf = pd.DataFrame(preprocessor.transform(x_val), columns = get_feature_names(preprocessor)) \n",
        "x_test_tf = pd.DataFrame(preprocessor.transform(x_test), columns = get_feature_names(preprocessor)) "
      ],
      "metadata": {
        "colab": {
          "base_uri": "https://localhost:8080/"
        },
        "id": "cQtXygHowF1H",
        "outputId": "614a8b30-6ae8-4966-b599-7352c17092e9"
      },
      "execution_count": 24,
      "outputs": [
        {
          "output_type": "stream",
          "name": "stderr",
          "text": [
            "/usr/local/lib/python3.7/dist-packages/ipykernel_launcher.py:34: UserWarning: Transformer num (type Pipeline) does not provide get_feature_names. Will return input column names if available\n",
            "/usr/local/lib/python3.7/dist-packages/ipykernel_launcher.py:34: UserWarning: Transformer cat_label (type Pipeline) does not provide get_feature_names. Will return input column names if available\n",
            "/usr/local/lib/python3.7/dist-packages/ipykernel_launcher.py:34: UserWarning: Transformer num (type Pipeline) does not provide get_feature_names. Will return input column names if available\n",
            "/usr/local/lib/python3.7/dist-packages/ipykernel_launcher.py:34: UserWarning: Transformer cat_label (type Pipeline) does not provide get_feature_names. Will return input column names if available\n",
            "/usr/local/lib/python3.7/dist-packages/ipykernel_launcher.py:34: UserWarning: Transformer num (type Pipeline) does not provide get_feature_names. Will return input column names if available\n",
            "/usr/local/lib/python3.7/dist-packages/ipykernel_launcher.py:34: UserWarning: Transformer cat_label (type Pipeline) does not provide get_feature_names. Will return input column names if available\n"
          ]
        }
      ]
    },
    {
      "cell_type": "code",
      "source": [
        "# defining parameter range\n",
        "param_grid = {'C': [0.1, 1, 10, 100, 1000],\n",
        "              'gamma': [1, 0.1, 0.01, 0.001, 0.0001],\n",
        "              'kernel': ['rbf']}\n",
        " \n",
        "grid = GridSearchCV(SVC(), param_grid, refit = True, verbose = 3)\n",
        " \n",
        "# fitting the model for grid search\n",
        "grid.fit(x_train_tf, y_train)\n",
        "preds_val = grid.best_estimator_.predict(x_val_tf)\n",
        "score = f1_score(y_val, preds_val)\n",
        "score"
      ],
      "metadata": {
        "colab": {
          "base_uri": "https://localhost:8080/"
        },
        "id": "nieAe3QGxeN-",
        "outputId": "71838060-d3b1-4e58-dc79-d2756a33890c"
      },
      "execution_count": 26,
      "outputs": [
        {
          "output_type": "stream",
          "name": "stdout",
          "text": [
            "Fitting 5 folds for each of 25 candidates, totalling 125 fits\n",
            "[CV 1/5] END ........C=0.1, gamma=1, kernel=rbf;, score=0.678 total time=   0.2s\n",
            "[CV 2/5] END ........C=0.1, gamma=1, kernel=rbf;, score=0.683 total time=   0.2s\n",
            "[CV 3/5] END ........C=0.1, gamma=1, kernel=rbf;, score=0.692 total time=   0.2s\n",
            "[CV 4/5] END ........C=0.1, gamma=1, kernel=rbf;, score=0.686 total time=   0.2s\n",
            "[CV 5/5] END ........C=0.1, gamma=1, kernel=rbf;, score=0.680 total time=   0.2s\n",
            "[CV 1/5] END ......C=0.1, gamma=0.1, kernel=rbf;, score=0.859 total time=   0.1s\n",
            "[CV 2/5] END ......C=0.1, gamma=0.1, kernel=rbf;, score=0.898 total time=   0.1s\n",
            "[CV 3/5] END ......C=0.1, gamma=0.1, kernel=rbf;, score=0.843 total time=   0.1s\n",
            "[CV 4/5] END ......C=0.1, gamma=0.1, kernel=rbf;, score=0.868 total time=   0.1s\n",
            "[CV 5/5] END ......C=0.1, gamma=0.1, kernel=rbf;, score=0.855 total time=   0.1s\n",
            "[CV 1/5] END .....C=0.1, gamma=0.01, kernel=rbf;, score=0.920 total time=   0.1s\n",
            "[CV 2/5] END .....C=0.1, gamma=0.01, kernel=rbf;, score=0.892 total time=   0.1s\n",
            "[CV 3/5] END .....C=0.1, gamma=0.01, kernel=rbf;, score=0.877 total time=   0.1s\n",
            "[CV 4/5] END .....C=0.1, gamma=0.01, kernel=rbf;, score=0.895 total time=   0.1s\n",
            "[CV 5/5] END .....C=0.1, gamma=0.01, kernel=rbf;, score=0.877 total time=   0.1s\n",
            "[CV 1/5] END ....C=0.1, gamma=0.001, kernel=rbf;, score=0.684 total time=   0.2s\n",
            "[CV 2/5] END ....C=0.1, gamma=0.001, kernel=rbf;, score=0.686 total time=   0.2s\n",
            "[CV 3/5] END ....C=0.1, gamma=0.001, kernel=rbf;, score=0.677 total time=   0.2s\n",
            "[CV 4/5] END ....C=0.1, gamma=0.001, kernel=rbf;, score=0.683 total time=   0.2s\n",
            "[CV 5/5] END ....C=0.1, gamma=0.001, kernel=rbf;, score=0.689 total time=   0.2s\n",
            "[CV 1/5] END ...C=0.1, gamma=0.0001, kernel=rbf;, score=0.666 total time=   0.2s\n",
            "[CV 2/5] END ...C=0.1, gamma=0.0001, kernel=rbf;, score=0.665 total time=   0.2s\n",
            "[CV 3/5] END ...C=0.1, gamma=0.0001, kernel=rbf;, score=0.665 total time=   0.2s\n",
            "[CV 4/5] END ...C=0.1, gamma=0.0001, kernel=rbf;, score=0.668 total time=   0.2s\n",
            "[CV 5/5] END ...C=0.1, gamma=0.0001, kernel=rbf;, score=0.668 total time=   0.2s\n",
            "[CV 1/5] END ..........C=1, gamma=1, kernel=rbf;, score=0.837 total time=   0.2s\n",
            "[CV 2/5] END ..........C=1, gamma=1, kernel=rbf;, score=0.858 total time=   0.2s\n",
            "[CV 3/5] END ..........C=1, gamma=1, kernel=rbf;, score=0.849 total time=   0.2s\n",
            "[CV 4/5] END ..........C=1, gamma=1, kernel=rbf;, score=0.877 total time=   0.2s\n",
            "[CV 5/5] END ..........C=1, gamma=1, kernel=rbf;, score=0.852 total time=   0.2s\n",
            "[CV 1/5] END ........C=1, gamma=0.1, kernel=rbf;, score=0.899 total time=   0.1s\n",
            "[CV 2/5] END ........C=1, gamma=0.1, kernel=rbf;, score=0.908 total time=   0.1s\n",
            "[CV 3/5] END ........C=1, gamma=0.1, kernel=rbf;, score=0.914 total time=   0.1s\n",
            "[CV 4/5] END ........C=1, gamma=0.1, kernel=rbf;, score=0.926 total time=   0.1s\n",
            "[CV 5/5] END ........C=1, gamma=0.1, kernel=rbf;, score=0.911 total time=   0.1s\n",
            "[CV 1/5] END .......C=1, gamma=0.01, kernel=rbf;, score=0.917 total time=   0.1s\n",
            "[CV 2/5] END .......C=1, gamma=0.01, kernel=rbf;, score=0.914 total time=   0.1s\n",
            "[CV 3/5] END .......C=1, gamma=0.01, kernel=rbf;, score=0.889 total time=   0.1s\n",
            "[CV 4/5] END .......C=1, gamma=0.01, kernel=rbf;, score=0.923 total time=   0.1s\n",
            "[CV 5/5] END .......C=1, gamma=0.01, kernel=rbf;, score=0.902 total time=   0.1s\n",
            "[CV 1/5] END ......C=1, gamma=0.001, kernel=rbf;, score=0.923 total time=   0.1s\n",
            "[CV 2/5] END ......C=1, gamma=0.001, kernel=rbf;, score=0.892 total time=   0.1s\n",
            "[CV 3/5] END ......C=1, gamma=0.001, kernel=rbf;, score=0.886 total time=   0.1s\n",
            "[CV 4/5] END ......C=1, gamma=0.001, kernel=rbf;, score=0.902 total time=   0.1s\n",
            "[CV 5/5] END ......C=1, gamma=0.001, kernel=rbf;, score=0.877 total time=   0.1s\n",
            "[CV 1/5] END .....C=1, gamma=0.0001, kernel=rbf;, score=0.690 total time=   0.2s\n",
            "[CV 2/5] END .....C=1, gamma=0.0001, kernel=rbf;, score=0.702 total time=   0.2s\n",
            "[CV 3/5] END .....C=1, gamma=0.0001, kernel=rbf;, score=0.683 total time=   0.2s\n",
            "[CV 4/5] END .....C=1, gamma=0.0001, kernel=rbf;, score=0.692 total time=   0.2s\n",
            "[CV 5/5] END .....C=1, gamma=0.0001, kernel=rbf;, score=0.698 total time=   0.2s\n",
            "[CV 1/5] END .........C=10, gamma=1, kernel=rbf;, score=0.856 total time=   0.3s\n",
            "[CV 2/5] END .........C=10, gamma=1, kernel=rbf;, score=0.874 total time=   0.3s\n",
            "[CV 3/5] END .........C=10, gamma=1, kernel=rbf;, score=0.862 total time=   0.3s\n",
            "[CV 4/5] END .........C=10, gamma=1, kernel=rbf;, score=0.883 total time=   0.3s\n",
            "[CV 5/5] END .........C=10, gamma=1, kernel=rbf;, score=0.865 total time=   0.3s\n",
            "[CV 1/5] END .......C=10, gamma=0.1, kernel=rbf;, score=0.923 total time=   0.1s\n",
            "[CV 2/5] END .......C=10, gamma=0.1, kernel=rbf;, score=0.929 total time=   0.1s\n",
            "[CV 3/5] END .......C=10, gamma=0.1, kernel=rbf;, score=0.932 total time=   0.1s\n",
            "[CV 4/5] END .......C=10, gamma=0.1, kernel=rbf;, score=0.932 total time=   0.1s\n",
            "[CV 5/5] END .......C=10, gamma=0.1, kernel=rbf;, score=0.920 total time=   0.1s\n",
            "[CV 1/5] END ......C=10, gamma=0.01, kernel=rbf;, score=0.926 total time=   0.1s\n",
            "[CV 2/5] END ......C=10, gamma=0.01, kernel=rbf;, score=0.935 total time=   0.1s\n",
            "[CV 3/5] END ......C=10, gamma=0.01, kernel=rbf;, score=0.914 total time=   0.1s\n",
            "[CV 4/5] END ......C=10, gamma=0.01, kernel=rbf;, score=0.945 total time=   0.1s\n",
            "[CV 5/5] END ......C=10, gamma=0.01, kernel=rbf;, score=0.938 total time=   0.1s\n",
            "[CV 1/5] END .....C=10, gamma=0.001, kernel=rbf;, score=0.926 total time=   0.1s\n",
            "[CV 2/5] END .....C=10, gamma=0.001, kernel=rbf;, score=0.914 total time=   0.1s\n",
            "[CV 3/5] END .....C=10, gamma=0.001, kernel=rbf;, score=0.895 total time=   0.1s\n",
            "[CV 4/5] END .....C=10, gamma=0.001, kernel=rbf;, score=0.917 total time=   0.1s\n",
            "[CV 5/5] END .....C=10, gamma=0.001, kernel=rbf;, score=0.914 total time=   0.1s\n",
            "[CV 1/5] END ....C=10, gamma=0.0001, kernel=rbf;, score=0.920 total time=   0.1s\n",
            "[CV 2/5] END ....C=10, gamma=0.0001, kernel=rbf;, score=0.892 total time=   0.1s\n",
            "[CV 3/5] END ....C=10, gamma=0.0001, kernel=rbf;, score=0.886 total time=   0.1s\n",
            "[CV 4/5] END ....C=10, gamma=0.0001, kernel=rbf;, score=0.905 total time=   0.1s\n",
            "[CV 5/5] END ....C=10, gamma=0.0001, kernel=rbf;, score=0.877 total time=   0.1s\n",
            "[CV 1/5] END ........C=100, gamma=1, kernel=rbf;, score=0.850 total time=   0.3s\n",
            "[CV 2/5] END ........C=100, gamma=1, kernel=rbf;, score=0.877 total time=   0.3s\n",
            "[CV 3/5] END ........C=100, gamma=1, kernel=rbf;, score=0.858 total time=   0.3s\n",
            "[CV 4/5] END ........C=100, gamma=1, kernel=rbf;, score=0.889 total time=   0.3s\n",
            "[CV 5/5] END ........C=100, gamma=1, kernel=rbf;, score=0.858 total time=   0.3s\n",
            "[CV 1/5] END ......C=100, gamma=0.1, kernel=rbf;, score=0.933 total time=   0.1s\n",
            "[CV 2/5] END ......C=100, gamma=0.1, kernel=rbf;, score=0.923 total time=   0.1s\n",
            "[CV 3/5] END ......C=100, gamma=0.1, kernel=rbf;, score=0.923 total time=   0.1s\n",
            "[CV 4/5] END ......C=100, gamma=0.1, kernel=rbf;, score=0.938 total time=   0.1s\n",
            "[CV 5/5] END ......C=100, gamma=0.1, kernel=rbf;, score=0.923 total time=   0.1s\n",
            "[CV 1/5] END .....C=100, gamma=0.01, kernel=rbf;, score=0.920 total time=   0.1s\n",
            "[CV 2/5] END .....C=100, gamma=0.01, kernel=rbf;, score=0.948 total time=   0.1s\n",
            "[CV 3/5] END .....C=100, gamma=0.01, kernel=rbf;, score=0.923 total time=   0.1s\n",
            "[CV 4/5] END .....C=100, gamma=0.01, kernel=rbf;, score=0.945 total time=   0.1s\n",
            "[CV 5/5] END .....C=100, gamma=0.01, kernel=rbf;, score=0.948 total time=   0.1s\n",
            "[CV 1/5] END ....C=100, gamma=0.001, kernel=rbf;, score=0.920 total time=   0.1s\n",
            "[CV 2/5] END ....C=100, gamma=0.001, kernel=rbf;, score=0.932 total time=   0.1s\n",
            "[CV 3/5] END ....C=100, gamma=0.001, kernel=rbf;, score=0.914 total time=   0.1s\n",
            "[CV 4/5] END ....C=100, gamma=0.001, kernel=rbf;, score=0.945 total time=   0.1s\n",
            "[CV 5/5] END ....C=100, gamma=0.001, kernel=rbf;, score=0.932 total time=   0.1s\n",
            "[CV 1/5] END ...C=100, gamma=0.0001, kernel=rbf;, score=0.917 total time=   0.1s\n",
            "[CV 2/5] END ...C=100, gamma=0.0001, kernel=rbf;, score=0.917 total time=   0.1s\n",
            "[CV 3/5] END ...C=100, gamma=0.0001, kernel=rbf;, score=0.886 total time=   0.1s\n",
            "[CV 4/5] END ...C=100, gamma=0.0001, kernel=rbf;, score=0.920 total time=   0.1s\n",
            "[CV 5/5] END ...C=100, gamma=0.0001, kernel=rbf;, score=0.902 total time=   0.1s\n",
            "[CV 1/5] END .......C=1000, gamma=1, kernel=rbf;, score=0.850 total time=   0.3s\n",
            "[CV 2/5] END .......C=1000, gamma=1, kernel=rbf;, score=0.877 total time=   0.3s\n",
            "[CV 3/5] END .......C=1000, gamma=1, kernel=rbf;, score=0.858 total time=   0.3s\n",
            "[CV 4/5] END .......C=1000, gamma=1, kernel=rbf;, score=0.889 total time=   0.3s\n",
            "[CV 5/5] END .......C=1000, gamma=1, kernel=rbf;, score=0.858 total time=   0.3s\n",
            "[CV 1/5] END .....C=1000, gamma=0.1, kernel=rbf;, score=0.920 total time=   0.1s\n",
            "[CV 2/5] END .....C=1000, gamma=0.1, kernel=rbf;, score=0.914 total time=   0.1s\n",
            "[CV 3/5] END .....C=1000, gamma=0.1, kernel=rbf;, score=0.920 total time=   0.1s\n",
            "[CV 4/5] END .....C=1000, gamma=0.1, kernel=rbf;, score=0.935 total time=   0.1s\n",
            "[CV 5/5] END .....C=1000, gamma=0.1, kernel=rbf;, score=0.926 total time=   0.1s\n",
            "[CV 1/5] END ....C=1000, gamma=0.01, kernel=rbf;, score=0.948 total time=   0.1s\n",
            "[CV 2/5] END ....C=1000, gamma=0.01, kernel=rbf;, score=0.926 total time=   0.1s\n",
            "[CV 3/5] END ....C=1000, gamma=0.01, kernel=rbf;, score=0.938 total time=   0.1s\n",
            "[CV 4/5] END ....C=1000, gamma=0.01, kernel=rbf;, score=0.929 total time=   0.1s\n",
            "[CV 5/5] END ....C=1000, gamma=0.01, kernel=rbf;, score=0.945 total time=   0.1s\n",
            "[CV 1/5] END ...C=1000, gamma=0.001, kernel=rbf;, score=0.926 total time=   0.1s\n",
            "[CV 2/5] END ...C=1000, gamma=0.001, kernel=rbf;, score=0.926 total time=   0.1s\n",
            "[CV 3/5] END ...C=1000, gamma=0.001, kernel=rbf;, score=0.926 total time=   0.1s\n",
            "[CV 4/5] END ...C=1000, gamma=0.001, kernel=rbf;, score=0.935 total time=   0.1s\n",
            "[CV 5/5] END ...C=1000, gamma=0.001, kernel=rbf;, score=0.954 total time=   0.1s\n",
            "[CV 1/5] END ..C=1000, gamma=0.0001, kernel=rbf;, score=0.923 total time=   0.1s\n",
            "[CV 2/5] END ..C=1000, gamma=0.0001, kernel=rbf;, score=0.926 total time=   0.1s\n",
            "[CV 3/5] END ..C=1000, gamma=0.0001, kernel=rbf;, score=0.908 total time=   0.1s\n",
            "[CV 4/5] END ..C=1000, gamma=0.0001, kernel=rbf;, score=0.935 total time=   0.1s\n",
            "[CV 5/5] END ..C=1000, gamma=0.0001, kernel=rbf;, score=0.926 total time=   0.1s\n"
          ]
        },
        {
          "output_type": "execute_result",
          "data": {
            "text/plain": [
              "0.8969072164948454"
            ]
          },
          "metadata": {},
          "execution_count": 26
        }
      ]
    },
    {
      "cell_type": "code",
      "source": [
        "best_params = grid.best_params_\n",
        "best_params"
      ],
      "metadata": {
        "colab": {
          "base_uri": "https://localhost:8080/"
        },
        "id": "FEVJ-IHp1RJS",
        "outputId": "bbadf126-ae2c-4a55-f4a4-91ca54e1092a"
      },
      "execution_count": 30,
      "outputs": [
        {
          "output_type": "execute_result",
          "data": {
            "text/plain": [
              "{'C': 1000, 'gamma': 0.01, 'kernel': 'rbf'}"
            ]
          },
          "metadata": {},
          "execution_count": 30
        }
      ]
    },
    {
      "cell_type": "code",
      "source": [
        "best_params = grid.best_params_\n",
        "model = SVC(         \n",
        "        **best_params\n",
        "    )\n",
        "pipeline = Pipeline(steps=[('sampling', oversample),\n",
        "                    ('classifier', model)])\n",
        "\n",
        "pipeline.fit(x_train_tf, y_train)\n",
        "preds_test = model.predict(x_test_tf)\n",
        "f1score = f1_score(y_test, preds_test)\n",
        "from sklearn.metrics import classification_report\n",
        "print(classification_report(y_test, preds_test))"
      ],
      "metadata": {
        "colab": {
          "base_uri": "https://localhost:8080/"
        },
        "id": "tmePHIiBwLLX",
        "outputId": "2e83b4a3-d61b-4310-87ca-7893fea78dec"
      },
      "execution_count": 28,
      "outputs": [
        {
          "output_type": "stream",
          "name": "stdout",
          "text": [
            "              precision    recall  f1-score   support\n",
            "\n",
            "           0       0.97      0.96      0.96       225\n",
            "           1       0.91      0.94      0.93       113\n",
            "\n",
            "    accuracy                           0.95       338\n",
            "   macro avg       0.94      0.95      0.94       338\n",
            "weighted avg       0.95      0.95      0.95       338\n",
            "\n"
          ]
        }
      ]
    },
    {
      "cell_type": "code",
      "source": [
        ""
      ],
      "metadata": {
        "id": "A9m5gfiaxouo"
      },
      "execution_count": null,
      "outputs": []
    }
  ],
  "metadata": {
    "colab": {
      "collapsed_sections": [],
      "name": "Funix SVM hyperparameter tuning.ipynb",
      "provenance": []
    },
    "kernelspec": {
      "display_name": "Python 3",
      "name": "python3"
    },
    "language_info": {
      "name": "python"
    },
    "accelerator": "GPU"
  },
  "nbformat": 4,
  "nbformat_minor": 0
}